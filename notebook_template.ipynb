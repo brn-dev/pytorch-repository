{
 "cells": [
  {
   "cell_type": "code",
   "execution_count": 4,
   "id": "4de06880-6b03-4d58-9afc-5bd1d6263d6c",
   "metadata": {
    "tags": [],
    "ExecuteTime": {
     "end_time": "2024-03-15T14:40:46.043005Z",
     "start_time": "2024-03-15T14:40:45.983598Z"
    }
   },
   "outputs": [
    {
     "name": "stdout",
     "output_type": "stream",
     "text": [
      "The autoreload extension is already loaded. To reload it, use:\n",
      "  %reload_ext autoreload\n"
     ]
    }
   ],
   "source": [
    "%load_ext autoreload\n",
    "%autoreload 2\n",
    "\n",
    "import numpy as np\n",
    "\n",
    "import torch\n",
    "from torch import nn"
   ]
  },
  {
   "cell_type": "code",
   "execution_count": 33,
   "id": "4c2f3051-d357-447d-87b5-a4cdd1caa627",
   "metadata": {
    "ExecuteTime": {
     "end_time": "2024-03-15T14:57:51.361360Z",
     "start_time": "2024-03-15T14:57:50.873834Z"
    }
   },
   "outputs": [
    {
     "name": "stdout",
     "output_type": "stream",
     "text": [
      "7503\n",
      "AdditiveSkipNet(\n",
      "  (layers): NetList(\n",
      "    (0-3): 4 x TorchNet(\n",
      "      (torch_module): Sequential(\n",
      "        (0): Linear(in_features=41, out_features=41, bias=True)\n",
      "        (1): CELU(alpha=1.0)\n",
      "      )\n",
      "    )\n",
      "  )\n",
      ")\n"
     ]
    },
    {
     "data": {
      "text/plain": "torch.Size([128, 128, 16, 41])"
     },
     "execution_count": 33,
     "metadata": {},
     "output_type": "execute_result"
    }
   ],
   "source": [
    "from src.network_analysis import count_parameters\n",
    "from src.networks.skip_nets.dense_skip_net import DenseSkipNet\n",
    "from src.networks.core.torch_net import TorchNet\n",
    "from src.networks.core.layer_connections import LayerConnections\n",
    "from src.networks.skip_nets.additive_skip_net import AdditiveSkipNet\n",
    "\n",
    "def create_layer(i, last, in_features, out_features):\n",
    "    l = nn.Linear(in_features, out_features)\n",
    "    l.weight.data[:] = 1.0\n",
    "    l.bias.data[:] = 0.0\n",
    "    return nn.Sequential(\n",
    "        l,\n",
    "        nn.CELU(),\n",
    "        # nn.Linear(out_features, out_features),\n",
    "        # nn.CELU(),\n",
    "        # nn.Linear(out_features, out_features),\n",
    "        # nn.CELU(),\n",
    "    )\n",
    "\n",
    "num_features=41\n",
    "net = AdditiveSkipNet.from_layer_provider(\n",
    "    layer_provider=create_layer,\n",
    "    num_layers=4,\n",
    "    num_features=num_features,\n",
    "    layer_connections='full',\n",
    "    initial_direct_connection_weight=1.0,\n",
    "    initial_skip_connection_weight=0.01,\n",
    "    return_dense=False,\n",
    "    weights_trainable=False,\n",
    ")\n",
    "# net = DenseSkipNet.from_layer_provider(\n",
    "#     layer_provider=create_layer,\n",
    "#     num_layers=16,\n",
    "#     num_features=num_features,\n",
    "#     layer_connections='full'\n",
    "# )\n",
    "print(count_parameters(net))\n",
    "print(net)\n",
    "\n",
    "net(torch.ones(128, 128, 16, num_features)).shape\n"
   ]
  },
  {
   "cell_type": "code",
   "execution_count": 34,
   "outputs": [
    {
     "data": {
      "text/plain": "19.44"
     },
     "execution_count": 34,
     "metadata": {},
     "output_type": "execute_result"
    }
   ],
   "source": [
    "2 * 9 + 0.1 * 2 * (4.2 + 2 + 1)"
   ],
   "metadata": {
    "collapsed": false,
    "ExecuteTime": {
     "end_time": "2024-03-15T00:18:38.856849Z",
     "start_time": "2024-03-15T00:18:38.797773Z"
    }
   },
   "id": "c5a5e3e1d339c766"
  }
 ],
 "metadata": {
  "autoscrollcelloutput": false,
  "kernelspec": {
   "display_name": "Python 3 (ipykernel)",
   "language": "python",
   "name": "python3"
  },
  "language_info": {
   "codemirror_mode": {
    "name": "ipython",
    "version": 3
   },
   "file_extension": ".py",
   "mimetype": "text/x-python",
   "name": "python",
   "nbconvert_exporter": "python",
   "pygments_lexer": "ipython3",
   "version": "3.11.1"
  }
 },
 "nbformat": 4,
 "nbformat_minor": 5
}
