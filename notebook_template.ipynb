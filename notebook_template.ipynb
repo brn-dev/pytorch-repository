{
 "cells": [
  {
   "cell_type": "code",
   "execution_count": 1,
   "id": "4de06880-6b03-4d58-9afc-5bd1d6263d6c",
   "metadata": {
    "tags": [],
    "ExecuteTime": {
     "end_time": "2024-04-05T18:00:52.214230Z",
     "start_time": "2024-04-05T18:00:50.421039Z"
    }
   },
   "outputs": [],
   "source": [
    "%load_ext autoreload\n",
    "%autoreload 2\n",
    "\n",
    "import numpy as np\n",
    "\n",
    "import torch\n",
    "from torch import nn"
   ]
  },
  {
   "cell_type": "code",
   "execution_count": 5,
   "id": "4c2f3051-d357-447d-87b5-a4cdd1caa627",
   "metadata": {
    "ExecuteTime": {
     "end_time": "2024-03-28T17:33:31.624055Z",
     "start_time": "2024-03-28T17:33:31.537695Z"
    }
   },
   "outputs": [
    {
     "name": "stdout",
     "output_type": "stream",
     "text": [
      "1390\n",
      "ModulatedDenseSkipNet(\n",
      "  (layers): NetList(\n",
      "    (0): TorchNet(\n",
      "      (torch_module): Sequential(\n",
      "        (0): Linear(in_features=3, out_features=11, bias=True)\n",
      "        (1): CELU(alpha=1.0)\n",
      "      )\n",
      "    )\n",
      "    (1): TorchNet(\n",
      "      (torch_module): Sequential(\n",
      "        (0): Linear(in_features=13, out_features=23, bias=True)\n",
      "        (1): CELU(alpha=1.0)\n",
      "      )\n",
      "    )\n",
      "    (2): TorchNet(\n",
      "      (torch_module): Sequential(\n",
      "        (0): Linear(in_features=27, out_features=17, bias=True)\n",
      "        (1): CELU(alpha=1.0)\n",
      "      )\n",
      "    )\n",
      "    (3): TorchNet(\n",
      "      (torch_module): Sequential(\n",
      "        (0): Linear(in_features=23, out_features=13, bias=True)\n",
      "        (1): Identity()\n",
      "      )\n",
      "    )\n",
      "  )\n",
      "  (connection_modulators[0][0]): TorchNet(\n",
      "    (torch_module): Identity()\n",
      "  )\n",
      "  (connection_modulators[1][0]): TorchNet(\n",
      "    (torch_module): Linear(in_features=3, out_features=2, bias=True)\n",
      "  )\n",
      "  (connection_modulators[1][1]): TorchNet(\n",
      "    (torch_module): Identity()\n",
      "  )\n",
      "  (connection_modulators[2][0]): TorchNet(\n",
      "    (torch_module): Linear(in_features=3, out_features=2, bias=True)\n",
      "  )\n",
      "  (connection_modulators[2][1]): TorchNet(\n",
      "    (torch_module): Linear(in_features=11, out_features=2, bias=True)\n",
      "  )\n",
      "  (connection_modulators[2][2]): TorchNet(\n",
      "    (torch_module): Identity()\n",
      "  )\n",
      "  (connection_modulators[3][0]): TorchNet(\n",
      "    (torch_module): Linear(in_features=3, out_features=2, bias=True)\n",
      "  )\n",
      "  (connection_modulators[3][1]): TorchNet(\n",
      "    (torch_module): Linear(in_features=11, out_features=2, bias=True)\n",
      "  )\n",
      "  (connection_modulators[3][2]): TorchNet(\n",
      "    (torch_module): Linear(in_features=23, out_features=2, bias=True)\n",
      "  )\n",
      "  (connection_modulators[3][3]): TorchNet(\n",
      "    (torch_module): Identity()\n",
      "  )\n",
      "  (connection_modulators[4][0]): TorchNet(\n",
      "    (torch_module): Linear(in_features=3, out_features=2, bias=True)\n",
      "  )\n",
      "  (connection_modulators[4][1]): TorchNet(\n",
      "    (torch_module): Linear(in_features=11, out_features=2, bias=True)\n",
      "  )\n",
      "  (connection_modulators[4][2]): TorchNet(\n",
      "    (torch_module): Linear(in_features=23, out_features=2, bias=True)\n",
      "  )\n",
      "  (connection_modulators[4][3]): TorchNet(\n",
      "    (torch_module): Linear(in_features=17, out_features=2, bias=True)\n",
      "  )\n",
      "  (connection_modulators[4][4]): TorchNet(\n",
      "    (torch_module): Identity()\n",
      "  )\n",
      ")\n",
      "torch.Size([111, 5, 19, 21])\n"
     ]
    }
   ],
   "source": [
    "from src.networks.core.tensor_shape import TensorShape\n",
    "from src.networks.skip_nets.modulated_additive_skip_net import ModulatedAdditiveSkipNet\n",
    "from src.networks.core.net import Net\n",
    "from src.networks.skip_nets.modulated_dense_skip_net import ModulatedDenseSkipNet\n",
    "from src.networks.core.parallel_net import ParallelNet\n",
    "from src.module_analysis import count_parameters\n",
    "from src.networks.skip_nets.dense_skip_net import DenseSkipNet\n",
    "from src.networks.core.layer_connections import LayerConnections\n",
    "from src.networks.skip_nets.additive_skip_net import AdditiveSkipNet\n",
    "\n",
    "def create_mod_dense(from_idx: int, to_idx: int, num_f: int):\n",
    "    if from_idx != to_idx:\n",
    "        return Net.as_net(create_ones_linear(num_f, 2))\n",
    "    else:\n",
    "        return Net.as_net(nn.Identity())\n",
    "\n",
    "def create_mod_additive(from_idx: int, to_idx: int, num_f: int):\n",
    "    if from_idx != to_idx:\n",
    "        return Net.as_net(create_ones_linear(num_f, num_f))\n",
    "    else:\n",
    "        return Net.as_net(nn.Identity())\n",
    "\n",
    "def create_ones_linear(in_features, out_features):\n",
    "    l = nn.Linear(in_features, out_features)\n",
    "    l.weight.data[:] = 1.0\n",
    "    l.bias.data[:] = 0.0\n",
    "    return l\n",
    "\n",
    "def create_layer(i, is_last, in_features, out_features):\n",
    "    return nn.Sequential(\n",
    "        create_ones_linear(in_features, out_features),\n",
    "        nn.CELU() if not is_last else nn.Identity(),\n",
    "    )\n",
    "\n",
    "num_features=3\n",
    "# net = AdditiveSkipNet.from_layer_provider(\n",
    "#     layer_provider=create_layer,\n",
    "#     num_layers=4,\n",
    "#     num_features=num_features,\n",
    "#     layer_connections='full',\n",
    "#     initial_direct_connection_weight=1.0,\n",
    "#     initial_skip_connection_weight=0.01,\n",
    "#     return_dense=False,\n",
    "#     weights_trainable=False,\n",
    "# )\n",
    "# net = DenseSkipNet.from_layer_provider(\n",
    "#     layer_provider=create_layer,\n",
    "#     num_layers=10,\n",
    "#     num_features=num_features,\n",
    "#     layer_connections='full'\n",
    "# )\n",
    "# net = ParallelNet.from_layer_provider(create_layer, in_size=num_features, out_sizes=[5, 7, 11, 13])\n",
    "net = ModulatedDenseSkipNet.from_layer_provider(\n",
    "    layer_provider=create_layer,\n",
    "    modulator_provider=create_mod_dense,\n",
    "    in_size=num_features,\n",
    "    layer_out_sizes=[11, 23, 17, 13],\n",
    ")\n",
    "# net = ModulatedAdditiveSkipNet.from_layer_provider(\n",
    "#     layer_provider=create_layer,\n",
    "#     modulator_provider=create_mod_additive,\n",
    "#     num_features=num_features,\n",
    "#     num_layers=4,\n",
    "#     # return_dense=True,\n",
    "# )\n",
    "print(net.count_parameters())\n",
    "print(net)\n",
    "\n",
    "out = net(torch.ones(111, 5, 19, num_features))\n",
    "print(out.shape)\n",
    "# print(out)\n",
    "# print(net.forward_shape(TensorShape(features=num_features, s_0=111, s_1=5)))"
   ]
  },
  {
   "cell_type": "code",
   "execution_count": 6,
   "id": "c5a5e3e1d339c766",
   "metadata": {
    "collapsed": false,
    "ExecuteTime": {
     "end_time": "2024-03-28T17:33:31.692766Z",
     "start_time": "2024-03-28T17:33:31.625045Z"
    }
   },
   "outputs": [
    {
     "data": {
      "text/plain": "468"
     },
     "execution_count": 6,
     "metadata": {},
     "output_type": "execute_result"
    }
   ],
   "source": [
    "90 * 3 + 3 * 3 * 18 + 3 * 3 * 3 + 3 * 3 * 1"
   ]
  },
  {
   "cell_type": "code",
   "execution_count": 7,
   "id": "33dd5e90",
   "metadata": {
    "collapsed": false,
    "ExecuteTime": {
     "end_time": "2024-03-28T17:33:31.766826Z",
     "start_time": "2024-03-28T17:33:31.693749Z"
    }
   },
   "outputs": [
    {
     "data": {
      "text/plain": "804"
     },
     "execution_count": 7,
     "metadata": {},
     "output_type": "execute_result"
    }
   ],
   "source": [
    "3 * (90 + 18 + 3 + 1) + 468"
   ]
  },
  {
   "cell_type": "code",
   "execution_count": 8,
   "id": "2c8e263e",
   "metadata": {
    "collapsed": false,
    "ExecuteTime": {
     "end_time": "2024-03-28T17:33:31.842571Z",
     "start_time": "2024-03-28T17:33:31.767820Z"
    }
   },
   "outputs": [
    {
     "data": {
      "text/plain": "804"
     },
     "execution_count": 8,
     "metadata": {},
     "output_type": "execute_result"
    }
   ],
   "source": [
    "804"
   ]
  },
  {
   "cell_type": "code",
   "execution_count": 9,
   "id": "77e0603b",
   "metadata": {
    "collapsed": false,
    "ExecuteTime": {
     "end_time": "2024-03-28T17:33:31.912911Z",
     "start_time": "2024-03-28T17:33:31.843567Z"
    }
   },
   "outputs": [
    {
     "data": {
      "text/plain": "Conv2dNet(2, 3, kernel_size=(4, 4), stride=(1, 1), padding=same)"
     },
     "execution_count": 9,
     "metadata": {},
     "output_type": "execute_result"
    }
   ],
   "source": [
    "from src.networks.core.torch_wrappers.conv_net import Conv2dNet\n",
    "\n",
    "conv = Conv2dNet(2, 3, 4, padding='same')\n",
    "conv"
   ]
  },
  {
   "cell_type": "code",
   "execution_count": 10,
   "id": "db8955ea",
   "metadata": {
    "collapsed": false,
    "ExecuteTime": {
     "end_time": "2024-03-28T17:33:31.984662Z",
     "start_time": "2024-03-28T17:33:31.913906Z"
    }
   },
   "outputs": [
    {
     "data": {
      "text/plain": "tensor([ 0.4794, -0.7732, -0.1890], grad_fn=<ViewBackward0>)"
     },
     "execution_count": 10,
     "metadata": {},
     "output_type": "execute_result"
    }
   ],
   "source": [
    "from src.networks.core.torch_wrappers.linear_net import LinearNet\n",
    "\n",
    "lin = LinearNet(2, 3)\n",
    "lin(torch.ones(2))"
   ]
  },
  {
   "cell_type": "code",
   "execution_count": 11,
   "id": "96091cdd",
   "metadata": {
    "collapsed": false,
    "ExecuteTime": {
     "end_time": "2024-03-28T17:33:32.055886Z",
     "start_time": "2024-03-28T17:33:31.985660Z"
    }
   },
   "outputs": [
    {
     "data": {
      "text/plain": "tensor([[[ 0.1577, -0.4909, -0.1444,  ...,  0.1137, -0.1642,  0.0041],\n         [ 0.1577, -0.4909, -0.1444,  ...,  0.1137, -0.1642,  0.0041],\n         [ 0.1577, -0.4909, -0.1444,  ...,  0.1137, -0.1642,  0.0041],\n         ...,\n         [ 0.1577, -0.4909, -0.1444,  ...,  0.1137, -0.1642,  0.0041],\n         [ 0.1577, -0.4909, -0.1444,  ...,  0.1137, -0.1642,  0.0041],\n         [ 0.1577, -0.4909, -0.1444,  ...,  0.1137, -0.1642,  0.0041]],\n\n        [[ 0.1577, -0.4909, -0.1444,  ...,  0.1137, -0.1642,  0.0041],\n         [ 0.1577, -0.4909, -0.1444,  ...,  0.1137, -0.1642,  0.0041],\n         [ 0.1577, -0.4909, -0.1444,  ...,  0.1137, -0.1642,  0.0041],\n         ...,\n         [ 0.1577, -0.4909, -0.1444,  ...,  0.1137, -0.1642,  0.0041],\n         [ 0.1577, -0.4909, -0.1444,  ...,  0.1137, -0.1642,  0.0041],\n         [ 0.1577, -0.4909, -0.1444,  ...,  0.1137, -0.1642,  0.0041]],\n\n        [[ 0.1577, -0.4909, -0.1444,  ...,  0.1137, -0.1642,  0.0041],\n         [ 0.1577, -0.4909, -0.1444,  ...,  0.1137, -0.1642,  0.0041],\n         [ 0.1577, -0.4909, -0.1444,  ...,  0.1137, -0.1642,  0.0041],\n         ...,\n         [ 0.1577, -0.4909, -0.1444,  ...,  0.1137, -0.1642,  0.0041],\n         [ 0.1577, -0.4909, -0.1444,  ...,  0.1137, -0.1642,  0.0041],\n         [ 0.1577, -0.4909, -0.1444,  ...,  0.1137, -0.1642,  0.0041]],\n\n        ...,\n\n        [[ 0.1577, -0.4909, -0.1444,  ...,  0.1137, -0.1642,  0.0041],\n         [ 0.1577, -0.4909, -0.1444,  ...,  0.1137, -0.1642,  0.0041],\n         [ 0.1577, -0.4909, -0.1444,  ...,  0.1137, -0.1642,  0.0041],\n         ...,\n         [ 0.1577, -0.4909, -0.1444,  ...,  0.1137, -0.1642,  0.0041],\n         [ 0.1577, -0.4909, -0.1444,  ...,  0.1137, -0.1642,  0.0041],\n         [ 0.1577, -0.4909, -0.1444,  ...,  0.1137, -0.1642,  0.0041]],\n\n        [[ 0.1577, -0.4909, -0.1444,  ...,  0.1137, -0.1642,  0.0041],\n         [ 0.1577, -0.4909, -0.1444,  ...,  0.1137, -0.1642,  0.0041],\n         [ 0.1577, -0.4909, -0.1444,  ...,  0.1137, -0.1642,  0.0041],\n         ...,\n         [ 0.1577, -0.4909, -0.1444,  ...,  0.1137, -0.1642,  0.0041],\n         [ 0.1577, -0.4909, -0.1444,  ...,  0.1137, -0.1642,  0.0041],\n         [ 0.1577, -0.4909, -0.1444,  ...,  0.1137, -0.1642,  0.0041]],\n\n        [[ 0.1577, -0.4909, -0.1444,  ...,  0.1137, -0.1642,  0.0041],\n         [ 0.1577, -0.4909, -0.1444,  ...,  0.1137, -0.1642,  0.0041],\n         [ 0.1577, -0.4909, -0.1444,  ...,  0.1137, -0.1642,  0.0041],\n         ...,\n         [ 0.1577, -0.4909, -0.1444,  ...,  0.1137, -0.1642,  0.0041],\n         [ 0.1577, -0.4909, -0.1444,  ...,  0.1137, -0.1642,  0.0041],\n         [ 0.1577, -0.4909, -0.1444,  ...,  0.1137, -0.1642,  0.0041]]],\n       grad_fn=<ViewBackward0>)"
     },
     "execution_count": 11,
     "metadata": {},
     "output_type": "execute_result"
    }
   ],
   "source": [
    "from src.networks.multihead_self_attention import MultiheadSelfAttention\n",
    "\n",
    "mhsa = MultiheadSelfAttention(10, 5)\n",
    "mhsa.forward_shape(TensorShape(features=10, s_0=None))\n",
    "mhsa(torch.ones(123, 9, 10))"
   ]
  },
  {
   "cell_type": "code",
   "execution_count": 12,
   "id": "ccaa81c5-426a-443d-bb96-696abbdd298d",
   "metadata": {
    "tags": [],
    "ExecuteTime": {
     "end_time": "2024-03-28T17:33:32.131054Z",
     "start_time": "2024-03-28T17:33:32.056844Z"
    }
   },
   "outputs": [
    {
     "data": {
      "text/plain": "array([[ 0,  0],\n       [ 0, 12],\n       [ 1,  1],\n       [ 1,  2],\n       [ 1,  3],\n       [ 1,  4],\n       [ 1,  5],\n       [ 1,  6],\n       [ 1,  7],\n       [ 1,  8],\n       [ 1,  9],\n       [ 1, 10],\n       [ 1, 11],\n       [ 1, 12],\n       [ 2,  2],\n       [ 2,  3],\n       [ 2,  4],\n       [ 2,  5],\n       [ 2,  6],\n       [ 2,  7],\n       [ 2,  8],\n       [ 2,  9],\n       [ 2, 10],\n       [ 2, 11],\n       [ 2, 12],\n       [ 3,  3],\n       [ 3, 12],\n       [ 4,  4],\n       [ 4, 12],\n       [ 5,  5],\n       [ 5, 12],\n       [ 6,  6],\n       [ 6,  7],\n       [ 6,  8],\n       [ 6,  9],\n       [ 6, 10],\n       [ 6, 11],\n       [ 6, 12],\n       [ 7,  7],\n       [ 7, 12],\n       [ 8,  8],\n       [ 8, 12],\n       [ 9,  9],\n       [ 9, 12],\n       [10, 10],\n       [10, 12],\n       [11, 11],\n       [11, 12],\n       [12, 12]], dtype=int32)"
     },
     "execution_count": 12,
     "metadata": {},
     "output_type": "execute_result"
    }
   ],
   "source": [
    "from src.networks.core.layer_connections import *\n",
    "from src.integer_sequences import *\n",
    "\n",
    "(LayerConnectionsBuilder(12)\n",
    "    .sequential()\n",
    "    .every_step_receives(factorial).every_step_to_output().to_np())"
   ]
  },
  {
   "cell_type": "code",
   "execution_count": 1,
   "id": "2d842097-67d7-41d2-ad5c-ab3c75eef202",
   "metadata": {
    "ExecuteTime": {
     "end_time": "2024-04-07T16:13:14.070587Z",
     "start_time": "2024-04-07T16:12:12.705507Z"
    }
   },
   "outputs": [
    {
     "name": "stdout",
     "output_type": "stream",
     "text": [
      "using device cuda:0\n",
      "   0:    -94.8,     98\n",
      "   1:    -95.9,     69\n",
      "   2:    -96.2,     60\n",
      "   3:    -97.0,     68\n",
      "   4:    -97.9,     83\n",
      "   5:    -96.4,     83\n",
      "   6:    -94.1,    149\n",
      "   7:    -95.0,     71\n",
      "   8:   -117.8,     73\n",
      "   9:   -117.2,     69\n",
      "  10:    -95.2,     67\n",
      "  11:    -96.5,     81\n",
      "  12:    -95.6,     77\n",
      "  13:   -119.5,     96\n",
      "  14:    -95.7,     66\n",
      "  15:    -95.8,     77\n",
      "  16:    -97.1,     83\n",
      "  17:    -96.1,     99\n",
      "  18:    -97.4,     71\n",
      "  19:    -94.9,     84\n",
      "  20:    -95.2,     86\n",
      "  21:    -95.2,     76\n",
      "  22:    -96.2,     63\n",
      "  23:    -95.8,     68\n",
      "  24:    -96.3,     77\n",
      "  25:   -119.4,    109\n",
      "  26:    -94.1,     80\n",
      "  27:    -95.6,     87\n",
      "  28:    -93.7,    102\n",
      "  29:    -97.2,     92\n",
      "  30:    -94.6,     97\n",
      "  31:    -96.4,     62\n",
      "  32:    -97.0,     62\n",
      "  33:    -93.7,    106\n",
      "  34:   -120.8,    162\n",
      "  35:    -94.2,    171\n",
      "  36:    -95.5,    225\n",
      "  37:    -95.0,     89\n",
      "  38:    -94.7,     89\n",
      "  39:    -93.9,     94\n",
      "  40:    -94.6,     81\n",
      "  41:    -95.3,     71\n",
      "  42:    -93.6,    139\n",
      "  43:   -120.0,    130\n",
      "  44:    -96.2,     66\n",
      "  45:    -94.2,    115\n",
      "  46:    -96.1,     83\n",
      "  47:    -95.7,     67\n",
      "  48:    -94.2,    104\n",
      "  49:    -93.9,    120\n",
      "  50:    -94.2,     93\n",
      "  51:    -94.5,    166\n",
      "  52:    -94.1,     91\n",
      "  53:    -94.5,     76\n",
      "  54:    -97.3,     77\n",
      "  55:    -95.3,     74\n",
      "  56:    -95.3,     81\n",
      "  57:    -93.9,    164\n",
      "  58:    -94.6,     93\n",
      "  59:    -95.7,     71\n",
      "  60:    -98.9,    121\n",
      "  61:    -95.1,     76\n",
      "  62:    -93.6,    102\n",
      "  63:    -95.2,     69\n",
      "  64:    -94.5,     71\n",
      "  65:    -94.1,    101\n",
      "  66:    -97.4,     96\n",
      "  67:    -95.8,     95\n",
      "  68:    -95.2,     66\n",
      "  69:    -96.1,     85\n",
      "  70:   -124.3,    328\n",
      "  71:    -93.8,     89\n",
      "  72:    -93.9,     96\n",
      "  73:    -93.5,    112\n",
      "  74:    -94.2,     76\n",
      "  75:    -95.7,     92\n",
      "  76:    -96.6,     78\n",
      "  77:    -96.0,     93\n",
      "  78:    -95.7,     88\n",
      "  79:    -96.5,     90\n",
      "  80:   -118.3,     91\n",
      "  81:    -95.5,     74\n",
      "  82:    -95.6,     77\n",
      "  83:    -94.2,    111\n",
      "  84:    -97.0,     81\n",
      "  85:    -95.3,     89\n",
      "  86:   -120.3,    119\n",
      "  87:    -94.9,     74\n",
      "  88:    -96.4,     77\n",
      "  89:    -96.9,     62\n",
      "  90:    -97.4,     58\n",
      "  91:    -95.8,     73\n",
      "  92:    -96.8,     65\n",
      "  93:    -96.7,     63\n",
      "  94:    -94.0,    141\n",
      "  95:    -94.3,    157\n",
      "  96:    -95.5,     75\n",
      "  97:    -94.4,    111\n",
      "  98:    -97.0,     58\n",
      "  99:    -96.2,     83\n",
      " 100:    -95.8,     66\n",
      " 101:    -95.6,     67\n",
      " 102:    -97.0,     55\n",
      " 103:    -96.1,     62\n",
      " 104:    -97.3,     72\n",
      " 105:    -97.2,     61\n",
      " 106:    -95.8,     66\n",
      " 107:    -94.4,    134\n",
      " 108:    -95.8,     70\n",
      " 109:    -95.3,     81\n",
      " 110:    -94.5,     86\n",
      " 111:    -95.9,     71\n",
      " 112:    -97.7,     54\n",
      " 113:    -95.7,     66\n",
      " 114:    -98.1,     59\n",
      " 115:    -96.5,     61\n",
      " 116:    -96.7,     78\n",
      " 117:    -95.9,     74\n",
      " 118:    -96.7,     61\n"
     ]
    },
    {
     "name": "stderr",
     "output_type": "stream",
     "text": [
      "\n",
      "KeyboardInterrupt\n",
      "\n"
     ]
    }
   ],
   "source": [
    "from src.torch_device import set_default_torch_device\n",
    "from torch.distributions import Normal\n",
    "%load_ext autoreload\n",
    "%autoreload 2\n",
    "\n",
    "import numpy as np\n",
    "import torch\n",
    "from torch.distributions import Categorical\n",
    "from torch import optim, nn\n",
    "from src.reinforcement_learning.a2c.episodic.a2c import A2C\n",
    "from src.networks.core.seq_net import SeqNet\n",
    "import gymnasium as gym\n",
    "\n",
    "device = set_default_torch_device(\"cuda:0\")\n",
    "print(f'using device {device}')\n",
    "\n",
    "env = gym.make(\"BipedalWalker-v3\")\n",
    "\n",
    "def init_network(out_size: int, is_actor: bool):\n",
    "    return SeqNet.from_layer_provider(\n",
    "        layer_provider=lambda layer_nr, is_last_layer, in_features, out_features: nn.Sequential(\n",
    "            nn.Linear(in_features, out_features),\n",
    "            nn.CELU() if not is_last_layer else (nn.Tanh() if is_actor else nn.Identity())\n",
    "        ),\n",
    "        in_size=24,\n",
    "        out_sizes=[32, 32, 32, out_size]\n",
    "    )\n",
    "\n",
    "def select_action(logits: torch.Tensor):\n",
    "    dist = Normal(loc=logits, scale=0.15)\n",
    "    \n",
    "    action = dist.sample()\n",
    "    \n",
    "    return action.detach().cpu().numpy(), dist.log_prob(action)\n",
    "\n",
    "actor = init_network(4, True)\n",
    "critic = init_network(1, False)\n",
    "\n",
    "A2C(\n",
    "    env=env,\n",
    "    actor_network=actor,\n",
    "    actor_network_optimizer=optim.Adam(actor.parameters()),\n",
    "    critic_network=critic,\n",
    "    critic_network_optimizer=optim.Adam(critic.parameters()),\n",
    "    critic_loss=nn.MSELoss(),\n",
    "    select_action=select_action,\n",
    "    gamma=0.9,\n",
    "    on_episode_done=lambda a2c, i_episode, is_best_episode, reward, end_timestep: print(f'{i_episode:>4}: {reward:> 8.1f}, {end_timestep:>6}'),\n",
    ").find_optimal_policy(1000)"
   ]
  },
  {
   "cell_type": "code",
   "outputs": [],
   "source": [],
   "metadata": {
    "collapsed": false,
    "ExecuteTime": {
     "end_time": "2024-04-06T19:21:52.946209Z",
     "start_time": "2024-04-06T19:21:52.943234Z"
    }
   },
   "id": "59d060a3b01355a7",
   "execution_count": 5
  },
  {
   "cell_type": "code",
   "outputs": [],
   "source": [
    "nn.Conv2d"
   ],
   "metadata": {
    "collapsed": false
   },
   "id": "7c593851a4f4f6a4"
  }
 ],
 "metadata": {
  "autoscrollcelloutput": false,
  "kernelspec": {
   "display_name": "Python 3 (ipykernel)",
   "language": "python",
   "name": "python3"
  },
  "language_info": {
   "codemirror_mode": {
    "name": "ipython",
    "version": 3
   },
   "file_extension": ".py",
   "mimetype": "text/x-python",
   "name": "python",
   "nbconvert_exporter": "python",
   "pygments_lexer": "ipython3",
   "version": "3.11.1"
  }
 },
 "nbformat": 4,
 "nbformat_minor": 5
}
