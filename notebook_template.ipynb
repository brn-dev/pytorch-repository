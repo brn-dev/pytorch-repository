{
 "cells": [
  {
   "cell_type": "code",
   "execution_count": 1,
   "id": "4de06880-6b03-4d58-9afc-5bd1d6263d6c",
   "metadata": {},
   "outputs": [],
   "source": [
    "%load_ext autoreload\n",
    "%autoreload 2\n",
    "\n",
    "import dataclasses\n",
    "\n",
    "import torch\n",
    "from torch import nn"
   ]
  },
  {
   "cell_type": "code",
   "execution_count": 2,
   "id": "45c5f3ad-5eff-4b0d-8771-1d938ab9d7e0",
   "metadata": {},
   "outputs": [
    {
     "name": "stdout",
     "output_type": "stream",
     "text": [
      "any same\n"
     ]
    },
    {
     "data": {
      "text/plain": [
       "SeqNet(\n",
       "  (layers): NetList(\n",
       "    (0): TorchNet(\n",
       "      (torch_module): Sequential(\n",
       "        (0): ReLU()\n",
       "        (1): ReLU()\n",
       "      )\n",
       "    )\n",
       "  )\n",
       ")"
      ]
     },
     "execution_count": 2,
     "metadata": {},
     "output_type": "execute_result"
    }
   ],
   "source": [
    "from src.networks.seq_net import SeqNet\n",
    "from src.networks.torch_net import TorchNet\n",
    "net = SeqNet([TorchNet(nn.Sequential(\n",
    "    nn.ReLU(),\n",
    "    nn.ReLU(),\n",
    "))])\n",
    "print(net.in_features, net.out_features)\n",
    "net\n"
   ]
  },
  {
   "cell_type": "code",
   "execution_count": null,
   "id": "1c025239-b7d7-47c5-97be-d00d26e30cc4",
   "metadata": {},
   "outputs": [],
   "source": []
  },
  {
   "cell_type": "code",
   "execution_count": 41,
   "id": "11e15925-2568-4ce2-a7f0-b75e46dfcef4",
   "metadata": {},
   "outputs": [
    {
     "data": {
      "text/plain": [
       "128"
      ]
     },
     "execution_count": 41,
     "metadata": {},
     "output_type": "execute_result"
    }
   ],
   "source": [
    "from src.networks.dense_layer_stack import AdditiveDenseLayerStack, ConcatDenseLayerStack\n",
    "dense_layer_stack = AdditiveDenseLayerStack(\n",
    "    lambda _1, _2, _3, _4: nn.Identity(), \n",
    "    num_layers=3, \n",
    "    num_features=8,\n",
    "    initial_direct_connection_weight = 3,\n",
    "    initial_skip_connection_weight = 2,\n",
    "    connections = 'dense',\n",
    "    weights_trainable=True,\n",
    ")\n",
    "count_parameters(dense_layer_stack)\n",
    "# dense_layer_stack = ConcatDenseLayerStack(\n",
    "#     lambda i, is_final_layer, in_size, out_size: nn.Sequential(\n",
    "#         nn.Linear(in_size, out_size)\n",
    "#     ),\n",
    "#     layers_sizes=[5, 3, 7, 2],\n",
    "#     connections='dense'\n",
    "# )\n",
    "# print(dense_layer_stack)\n",
    "# dense_layer_stack(torch.Tensor([11] * 5), return_dense=True)"
   ]
  },
  {
   "cell_type": "code",
   "execution_count": 2,
   "id": "496a3013-a0cc-49ad-994d-44b5e20166e1",
   "metadata": {},
   "outputs": [
    {
     "ename": "SyntaxError",
     "evalue": "positional argument follows keyword argument (2220535212.py, line 4)",
     "output_type": "error",
     "traceback": [
      "\u001b[1;36m  Cell \u001b[1;32mIn[2], line 4\u001b[1;36m\u001b[0m\n\u001b[1;33m    layers_in_out_sizes: list[tuple[int, int]] = None,\u001b[0m\n\u001b[1;37m                       ^\u001b[0m\n\u001b[1;31mSyntaxError\u001b[0m\u001b[1;31m:\u001b[0m positional argument follows keyword argument\n"
     ]
    }
   ],
   "source": [
    "from src.networks.forward_net import ForwardNet\n",
    "ForwardNet(\n",
    "    layer_provider=lambda i, last, in_f, out_f: nn.Sequential(nn.Linear(in_f, out_f), nn.ReLU()),\n",
    "    layers_in_out_sizes: list[tuple[int, int]] = None,\n",
    "    layers_sizes: list[int] = None,\n",
    "    num_layers: int = None,\n",
    "    num_features: int = None,\n",
    "    \n",
    ")"
   ]
  },
  {
   "cell_type": "code",
   "execution_count": 12,
   "id": "812f4418-6490-4695-878d-451cdde78e2a",
   "metadata": {},
   "outputs": [
    {
     "data": {
      "text/plain": [
       "ForwardNet(\n",
       "  (layers): Sequential(\n",
       "    (0): Identity()\n",
       "    (1): Identity()\n",
       "  )\n",
       ")"
      ]
     },
     "execution_count": 12,
     "metadata": {},
     "output_type": "execute_result"
    }
   ],
   "source": [
    "from src.networks.forward_net import ForwardNet\n",
    "ForwardNet(layer_provider=lambda _1, _2, _3, _4: nn.Identity(), in_size=1, out_sizes=[2, 3])"
   ]
  },
  {
   "cell_type": "code",
   "execution_count": 14,
   "id": "dc4566e4-457f-468a-9784-593a4262a7df",
   "metadata": {},
   "outputs": [
    {
     "data": {
      "text/plain": [
       "FNN(\n",
       "  (layers): Sequential(\n",
       "    (0): Sequential(\n",
       "      (0): Linear(in_features=1, out_features=2, bias=True)\n",
       "      (1): SELU()\n",
       "    )\n",
       "    (1): Sequential(\n",
       "      (0): Linear(in_features=2, out_features=3, bias=True)\n",
       "    )\n",
       "  )\n",
       ")"
      ]
     },
     "execution_count": 14,
     "metadata": {},
     "output_type": "execute_result"
    }
   ],
   "source": [
    "from src.networks.fnn import FNN\n",
    "FNN.self_normalizing(in_size=1, out_sizes=[2, 3])"
   ]
  },
  {
   "cell_type": "code",
   "execution_count": 45,
   "id": "502c56bd-40e5-46aa-81a0-2355c2e12c5a",
   "metadata": {
    "scrolled": true
   },
   "outputs": [
    {
     "data": {
      "text/plain": [
       "array([1, 3, 6])"
      ]
     },
     "execution_count": 45,
     "metadata": {},
     "output_type": "execute_result"
    }
   ],
   "source": [
    "np.cumsum([1, 2, 3])"
   ]
  },
  {
   "cell_type": "code",
   "execution_count": 19,
   "id": "edbcc876-2ddc-4911-a5f9-c18c1f8eaa50",
   "metadata": {
    "scrolled": true
   },
   "outputs": [
    {
     "data": {
      "text/plain": [
       "FNN(\n",
       "  (fnn): Sequential(\n",
       "    (0): Linear(in_features=1, out_features=2, bias=True)\n",
       "    (1): SELU()\n",
       "    (2): Linear(in_features=2, out_features=5, bias=True)\n",
       "    (3): SELU()\n",
       "    (4): Linear(in_features=5, out_features=3, bias=True)\n",
       "    (5): SELU()\n",
       "  )\n",
       ")"
      ]
     },
     "execution_count": 19,
     "metadata": {},
     "output_type": "execute_result"
    }
   ],
   "source": [
    "FNN.self_normalizing(\n",
    "    1, \n",
    "    [2, 5], \n",
    "    3, \n",
    "    activate_last_layer=True, \n",
    "    # dropout_p=0.1, \n",
    "    # dropout_last_layer=True\n",
    ")"
   ]
  },
  {
   "cell_type": "code",
   "execution_count": 35,
   "id": "334db459-c9a0-488c-945e-24a86417f4e1",
   "metadata": {},
   "outputs": [
    {
     "name": "stdout",
     "output_type": "stream",
     "text": [
      "168704\n"
     ]
    }
   ],
   "source": [
    "transformer = TransformerEncoder(\n",
    "    num_layers=8,\n",
    "    num_features=32,\n",
    "    attention_num_heads=4,\n",
    "    feedforward_provider=lambda num_features: FNN(\n",
    "        input_size=num_features, hidden_sizes=[256], output_size=num_features\n",
    "    ),\n",
    "    residual_connection_weight_affine=True,\n",
    ")\n",
    "print(count_parameters(transformer))\n",
    "\n",
    "# nn_transformer = nn.TransformerEncoder(\n",
    "#     nn.TransformerEncoderLayer(\n",
    "#         d_model=512,\n",
    "#         nhead=8,\n",
    "#     ),\n",
    "#     num_layers=6\n",
    "# )\n",
    "# print(count_parameters(nn_transformer))\n",
    "\n",
    "# count_parameters(transformer) / count_parameters(nn_transformer)"
   ]
  },
  {
   "cell_type": "code",
   "execution_count": 28,
   "id": "585999ab-50c8-442b-9037-055307788171",
   "metadata": {},
   "outputs": [
    {
     "data": {
      "text/plain": [
       "18914304"
      ]
     },
     "execution_count": 28,
     "metadata": {},
     "output_type": "execute_result"
    }
   ],
   "source": []
  },
  {
   "cell_type": "code",
   "execution_count": 29,
   "id": "29ea2e77-3235-49dc-af2c-eb9832def713",
   "metadata": {},
   "outputs": [
    {
     "data": {
      "text/plain": [
       "1.0"
      ]
     },
     "execution_count": 29,
     "metadata": {},
     "output_type": "execute_result"
    }
   ],
   "source": []
  },
  {
   "cell_type": "code",
   "execution_count": null,
   "id": "56b7cd0a-5517-4f98-b74b-9f8f72a5d29e",
   "metadata": {},
   "outputs": [],
   "source": []
  },
  {
   "cell_type": "code",
   "execution_count": null,
   "id": "e6b3fe69-0a74-4495-9e45-8569dffd6b60",
   "metadata": {},
   "outputs": [],
   "source": []
  }
 ],
 "metadata": {
  "kernelspec": {
   "display_name": "Python 3 (ipykernel)",
   "language": "python",
   "name": "python3"
  },
  "language_info": {
   "codemirror_mode": {
    "name": "ipython",
    "version": 3
   },
   "file_extension": ".py",
   "mimetype": "text/x-python",
   "name": "python",
   "nbconvert_exporter": "python",
   "pygments_lexer": "ipython3",
   "version": "3.11.7"
  }
 },
 "nbformat": 4,
 "nbformat_minor": 5
}
