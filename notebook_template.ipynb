{
 "cells": [
  {
   "cell_type": "code",
   "execution_count": 5,
   "id": "4de06880-6b03-4d58-9afc-5bd1d6263d6c",
   "metadata": {
    "tags": []
   },
   "outputs": [],
   "source": [
    "%load_ext autoreload\n",
    "%autoreload 2\n",
    "\n",
    "import dataclasses\n",
    "\n",
    "import torch\n",
    "from torch import nn"
   ]
  },
  {
   "cell_type": "code",
   "execution_count": 2,
   "id": "45c5f3ad-5eff-4b0d-8771-1d938ab9d7e0",
   "metadata": {},
   "outputs": [
    {
     "name": "stdout",
     "output_type": "stream",
     "text": [
      "any same\n"
     ]
    },
    {
     "data": {
      "text/plain": [
       "SeqNet(\n",
       "  (layers): NetList(\n",
       "    (0): TorchNet(\n",
       "      (torch_module): Sequential(\n",
       "        (0): ReLU()\n",
       "        (1): ReLU()\n",
       "      )\n",
       "    )\n",
       "  )\n",
       ")"
      ]
     },
     "execution_count": 2,
     "metadata": {},
     "output_type": "execute_result"
    }
   ],
   "source": [
    "from src.networks.seq_net import SeqNet\n",
    "from src.networks.torch_net import TorchNet\n",
    "net = SeqNet([TorchNet(nn.Sequential(\n",
    "    nn.ReLU(),\n",
    "    nn.ReLU(),\n",
    "))])\n",
    "print(net.in_features, net.out_features)\n",
    "net\n"
   ]
  },
  {
   "cell_type": "code",
   "execution_count": null,
   "id": "1c025239-b7d7-47c5-97be-d00d26e30cc4",
   "metadata": {},
   "outputs": [],
   "source": []
  },
  {
   "cell_type": "code",
   "execution_count": 41,
   "id": "11e15925-2568-4ce2-a7f0-b75e46dfcef4",
   "metadata": {},
   "outputs": [
    {
     "data": {
      "text/plain": [
       "128"
      ]
     },
     "execution_count": 41,
     "metadata": {},
     "output_type": "execute_result"
    }
   ],
   "source": [
    "from src.networks.dense_layer_stack import AdditiveDenseLayerStack, ConcatDenseLayerStack\n",
    "dense_layer_stack = AdditiveDenseLayerStack(\n",
    "    lambda _1, _2, _3, _4: nn.Identity(), \n",
    "    num_layers=3, \n",
    "    num_features=8,\n",
    "    initial_direct_connection_weight = 3,\n",
    "    initial_skip_connection_weight = 2,\n",
    "    connections = 'dense',\n",
    "    weights_trainable=True,\n",
    ")\n",
    "count_parameters(dense_layer_stack)\n",
    "# dense_layer_stack = ConcatDenseLayerStack(\n",
    "#     lambda i, is_final_layer, in_size, out_size: nn.Sequential(\n",
    "#         nn.Linear(in_size, out_size)\n",
    "#     ),\n",
    "#     layers_sizes=[5, 3, 7, 2],\n",
    "#     connections='dense'\n",
    "# )\n",
    "# print(dense_layer_stack)\n",
    "# dense_layer_stack(torch.Tensor([11] * 5), return_dense=True)"
   ]
  },
  {
   "cell_type": "code",
   "execution_count": 2,
   "id": "496a3013-a0cc-49ad-994d-44b5e20166e1",
   "metadata": {},
   "outputs": [
    {
     "ename": "SyntaxError",
     "evalue": "positional argument follows keyword argument (2220535212.py, line 4)",
     "output_type": "error",
     "traceback": [
      "\u001b[1;36m  Cell \u001b[1;32mIn[2], line 4\u001b[1;36m\u001b[0m\n\u001b[1;33m    layers_in_out_sizes: list[tuple[int, int]] = None,\u001b[0m\n\u001b[1;37m                       ^\u001b[0m\n\u001b[1;31mSyntaxError\u001b[0m\u001b[1;31m:\u001b[0m positional argument follows keyword argument\n"
     ]
    }
   ],
   "source": [
    "from src.networks.forward_net import ForwardNet\n",
    "ForwardNet(\n",
    "    layer_provider=lambda i, last, in_f, out_f: nn.Sequential(nn.Linear(in_f, out_f), nn.ReLU()),\n",
    "    layers_in_out_sizes: list[tuple[int, int]] = None,\n",
    "    layers_sizes: list[int] = None,\n",
    "    num_layers: int = None,\n",
    "    num_features: int = None,\n",
    "    \n",
    ")"
   ]
  },
  {
   "cell_type": "code",
   "execution_count": 12,
   "id": "812f4418-6490-4695-878d-451cdde78e2a",
   "metadata": {},
   "outputs": [
    {
     "data": {
      "text/plain": [
       "ForwardNet(\n",
       "  (layers): Sequential(\n",
       "    (0): Identity()\n",
       "    (1): Identity()\n",
       "  )\n",
       ")"
      ]
     },
     "execution_count": 12,
     "metadata": {},
     "output_type": "execute_result"
    }
   ],
   "source": [
    "from src.networks.forward_net import ForwardNet\n",
    "ForwardNet(layer_provider=lambda _1, _2, _3, _4: nn.Identity(), in_size=1, out_sizes=[2, 3])"
   ]
  },
  {
   "cell_type": "code",
   "execution_count": 14,
   "id": "dc4566e4-457f-468a-9784-593a4262a7df",
   "metadata": {},
   "outputs": [
    {
     "data": {
      "text/plain": [
       "FNN(\n",
       "  (layers): Sequential(\n",
       "    (0): Sequential(\n",
       "      (0): Linear(in_features=1, out_features=2, bias=True)\n",
       "      (1): SELU()\n",
       "    )\n",
       "    (1): Sequential(\n",
       "      (0): Linear(in_features=2, out_features=3, bias=True)\n",
       "    )\n",
       "  )\n",
       ")"
      ]
     },
     "execution_count": 14,
     "metadata": {},
     "output_type": "execute_result"
    }
   ],
   "source": [
    "from src.networks.fnn import FNN\n",
    "FNN.self_normalizing(in_size=1, out_sizes=[2, 3])"
   ]
  },
  {
   "cell_type": "code",
   "execution_count": 45,
   "id": "502c56bd-40e5-46aa-81a0-2355c2e12c5a",
   "metadata": {
    "scrolled": true
   },
   "outputs": [
    {
     "data": {
      "text/plain": [
       "array([1, 3, 6])"
      ]
     },
     "execution_count": 45,
     "metadata": {},
     "output_type": "execute_result"
    }
   ],
   "source": [
    "np.cumsum([1, 2, 3])"
   ]
  },
  {
   "cell_type": "code",
   "execution_count": 19,
   "id": "edbcc876-2ddc-4911-a5f9-c18c1f8eaa50",
   "metadata": {
    "scrolled": true
   },
   "outputs": [
    {
     "data": {
      "text/plain": [
       "FNN(\n",
       "  (fnn): Sequential(\n",
       "    (0): Linear(in_features=1, out_features=2, bias=True)\n",
       "    (1): SELU()\n",
       "    (2): Linear(in_features=2, out_features=5, bias=True)\n",
       "    (3): SELU()\n",
       "    (4): Linear(in_features=5, out_features=3, bias=True)\n",
       "    (5): SELU()\n",
       "  )\n",
       ")"
      ]
     },
     "execution_count": 19,
     "metadata": {},
     "output_type": "execute_result"
    }
   ],
   "source": [
    "FNN.self_normalizing(\n",
    "    1, \n",
    "    [2, 5], \n",
    "    3, \n",
    "    activate_last_layer=True, \n",
    "    # dropout_p=0.1, \n",
    "    # dropout_last_layer=True\n",
    ")"
   ]
  },
  {
   "cell_type": "code",
   "execution_count": 35,
   "id": "334db459-c9a0-488c-945e-24a86417f4e1",
   "metadata": {},
   "outputs": [
    {
     "name": "stdout",
     "output_type": "stream",
     "text": [
      "168704\n"
     ]
    }
   ],
   "source": [
    "transformer = TransformerEncoder(\n",
    "    num_layers=8,\n",
    "    num_features=32,\n",
    "    attention_num_heads=4,\n",
    "    feedforward_provider=lambda num_features: FNN(\n",
    "        input_size=num_features, hidden_sizes=[256], output_size=num_features\n",
    "    ),\n",
    "    residual_connection_weight_affine=True,\n",
    ")\n",
    "print(count_parameters(transformer))\n",
    "\n",
    "# nn_transformer = nn.TransformerEncoder(\n",
    "#     nn.TransformerEncoderLayer(\n",
    "#         d_model=512,\n",
    "#         nhead=8,\n",
    "#     ),\n",
    "#     num_layers=6\n",
    "# )\n",
    "# print(count_parameters(nn_transformer))\n",
    "\n",
    "# count_parameters(transformer) / count_parameters(nn_transformer)"
   ]
  },
  {
   "cell_type": "code",
   "execution_count": 28,
   "id": "585999ab-50c8-442b-9037-055307788171",
   "metadata": {},
   "outputs": [
    {
     "data": {
      "text/plain": [
       "18914304"
      ]
     },
     "execution_count": 28,
     "metadata": {},
     "output_type": "execute_result"
    }
   ],
   "source": []
  },
  {
   "cell_type": "code",
   "execution_count": 29,
   "id": "29ea2e77-3235-49dc-af2c-eb9832def713",
   "metadata": {},
   "outputs": [
    {
     "data": {
      "text/plain": [
       "1.0"
      ]
     },
     "execution_count": 29,
     "metadata": {},
     "output_type": "execute_result"
    }
   ],
   "source": []
  },
  {
   "cell_type": "code",
   "execution_count": 5,
   "id": "56b7cd0a-5517-4f98-b74b-9f8f72a5d29e",
   "metadata": {
    "tags": []
   },
   "outputs": [],
   "source": [
    "import sympy as sp"
   ]
  },
  {
   "cell_type": "code",
   "execution_count": 6,
   "id": "e6b3fe69-0a74-4495-9e45-8569dffd6b60",
   "metadata": {
    "tags": []
   },
   "outputs": [
    {
     "name": "stdout",
     "output_type": "stream",
     "text": [
      "log(inv/96)/(2*log(2))\n"
     ]
    },
    {
     "data": {
      "text/latex": [
       "$\\displaystyle 11.0$"
      ],
      "text/plain": [
       "11.0000000000000"
      ]
     },
     "execution_count": 6,
     "metadata": {},
     "output_type": "execute_result"
    }
   ],
   "source": [
    "a, inv = sp.symbols('a inv')\n",
    "\n",
    "expr = 1 * a\n",
    "expr = 2 * expr + 5\n",
    "expr = 2 ** expr\n",
    "expr = 3 * expr\n",
    "\n",
    "inversed = sp.solve(expr - inv, a)[0]\n",
    "print(inversed)\n",
    "\n",
    "result = expr.subs(a, 11)\n",
    "\n",
    "inversed.evalf(subs={inv: result})"
   ]
  },
  {
   "cell_type": "code",
   "execution_count": 15,
   "id": "2ac5a6ef-01fb-41b7-bee8-984d7657e266",
   "metadata": {
    "tags": []
   },
   "outputs": [
    {
     "name": "stdout",
     "output_type": "stream",
     "text": [
      "The autoreload extension is already loaded. To reload it, use:\n",
      "  %reload_ext autoreload\n",
      "(True, 3)\n"
     ]
    },
    {
     "data": {
      "text/plain": [
       "<torch.jit.ScriptFunction at 0x25a0382db50>"
      ]
     },
     "execution_count": 15,
     "metadata": {},
     "output_type": "execute_result"
    }
   ],
   "source": [
    "%load_ext autoreload\n",
    "%autoreload 2\n",
    "import torch\n",
    "import sympy as sp\n",
    "from torch import nn\n",
    "from src.networks.tensor_shape import TensorShape\n",
    "from src.networks.net import Net\n",
    "\n",
    "class Tmp(Net):\n",
    "    \n",
    "    def __init__(self):\n",
    "        super().__init__(1, 1)\n",
    "        self.shape = TensorShape(\n",
    "            features=sp.sympify(3),\n",
    "            batch=None,\n",
    "        )\n",
    "        features_defined, features = tmp.shape.features_defined\n",
    "        if features_defined:\n",
    "        \n",
    "            self.seq = nn.Sequential(\n",
    "                *[nn.Linear(3, 3) for _ in range(features)]\n",
    "            )\n",
    "        else:\n",
    "            raise ValueError\n",
    "    \n",
    "    def forward(self, x):\n",
    "        return self.seq(x)\n",
    "            \n",
    "        \n",
    "        \n",
    "tmp = Tmp()\n",
    "\n",
    "print(tmp.shape.features_defined)\n",
    "float(sp.N(tmp.shape.features))\n",
    "\n",
    "tmp(torch.FloatTensor([1, 2, 3]))\n",
    "\n",
    "def forward_wrapper(x: torch.Tensor):\n",
    "    return tmp(x)\n",
    "\n",
    "torch.jit.script(forward_wrapper)"
   ]
  },
  {
   "cell_type": "code",
   "execution_count": 62,
   "id": "fff79ad6-8f37-467d-a377-7e3c84076407",
   "metadata": {
    "tags": []
   },
   "outputs": [
    {
     "name": "stdout",
     "output_type": "stream",
     "text": [
      "The autoreload extension is already loaded. To reload it, use:\n",
      "  %reload_ext autoreload\n",
      "6.00000000000000\n"
     ]
    }
   ],
   "source": [
    "%load_ext autoreload\n",
    "%autoreload 2\n",
    "import torch\n",
    "import sympy as sp\n",
    "from torch import nn\n",
    "from src.networks.tensor_shape import TensorShape\n",
    "from src.networks.net import Net\n",
    "\n",
    "out_features = sp.symbols('out_features', integer=True)\n",
    "\n",
    "shape = TensorShape()\n",
    "shape.features = shape.features * 2 + 1\n",
    "shape.features = shape.features * 2\n",
    "\n",
    "\n",
    "in_features = sp.solve(shape.features - out_features, shape.FEATURES_SYMBOL)\n",
    "for f in in_features:\n",
    "    print(f.evalf(subs={out_features: int(shape.features.evalf(subs={shape.FEATURES_SYMBOL: sp.Integer(6)}))}))\n",
    "\n"
   ]
  },
  {
   "cell_type": "code",
   "execution_count": 92,
   "id": "78ef9cf5-ead1-4342-93cd-4a43f24dd059",
   "metadata": {
    "tags": []
   },
   "outputs": [
    {
     "data": {
      "text/plain": [
       "False"
      ]
     },
     "execution_count": 92,
     "metadata": {},
     "output_type": "execute_result"
    }
   ],
   "source": [
    "shape = TensorShape(3.3)\n",
    "shape.features *= 2\n",
    "shape.features % 1 == 0"
   ]
  },
  {
   "cell_type": "code",
   "execution_count": 12,
   "id": "7986807d-ea08-4987-ae72-b637ebcc1c96",
   "metadata": {
    "tags": []
   },
   "outputs": [
    {
     "ename": "SyntaxError",
     "evalue": "invalid syntax (3232634994.py, line 9)",
     "output_type": "error",
     "traceback": [
      "\u001b[1;36m  Cell \u001b[1;32mIn[12], line 9\u001b[1;36m\u001b[0m\n\u001b[1;33m    features: sp.core.Expr\u001b[0m\n\u001b[1;37m    ^\u001b[0m\n\u001b[1;31mSyntaxError\u001b[0m\u001b[1;31m:\u001b[0m invalid syntax\n"
     ]
    }
   ],
   "source": [
    "import torch\n",
    "import torch.nn as nn\n",
    "import sympy as sp\n",
    "from typing import Optional\n",
    "\n",
    "class MyModule(nn.Module):\n",
    "    \n",
    "    @torch.jit.ignore\n",
    "    features: sp.core.Expr\n",
    "    \n",
    "    def __init__(\n",
    "        self,\n",
    "        features: sp.core.Expr,\n",
    "        batch: sp.core.Expr,\n",
    "        # **additional_dimensions: sp.core.Expr,\n",
    "    ):\n",
    "        super().__init__()\n",
    "        self.features = sp.sympify(features)\n",
    "        self.batch = sp.sympify(batch)\n",
    "        # self.additional_dimensions = additional_dimensions\n",
    "\n",
    "    @property\n",
    "    def features_defined(self) -> tuple[bool, Optional[int]]:\n",
    "        is_defined = not self.features.free_symbols\n",
    "        if is_defined:\n",
    "            features = float(self.features.evalf())\n",
    "        else:\n",
    "            features = None\n",
    "        return is_defined, features\n",
    "        \n",
    "    def forward(self, x):\n",
    "        # Example forward method using the computed initialization value\n",
    "        return self.coefficient * x\n",
    "\n",
    "# Example usage\n",
    "module = MyModule(123, None)\n",
    "# Since sympy is only used in __init__, this module is compatible with torch.jit.script\n",
    "scripted_module = torch.jit.script(module)"
   ]
  },
  {
   "cell_type": "code",
   "execution_count": 36,
   "id": "5c6b3df1-50bc-498e-a9e8-26b817208b77",
   "metadata": {
    "tags": []
   },
   "outputs": [
    {
     "data": {
      "text/plain": [
       "{a, b}"
      ]
     },
     "execution_count": 36,
     "metadata": {},
     "output_type": "execute_result"
    }
   ],
   "source": [
    "import sympy as sp\n",
    "\n",
    "f = sp.symbols('f')\n",
    "\n",
    "expr = f * 3\n",
    "\n",
    "expr.evalf(subs={sp.symbols('f'): 2})\n",
    "\n",
    "a, b = sp.symbols('a b')\n",
    "\n",
    "expr = 2 * (a + 32) ** b\n",
    "expr.free_symbols"
   ]
  },
  {
   "cell_type": "code",
   "execution_count": 2,
   "id": "3173a5cc-2461-4a32-993a-b3713fa3fb1b",
   "metadata": {
    "tags": []
   },
   "outputs": [],
   "source": [
    "%load_ext autoreload\n",
    "%autoreload 2\n",
    "from src.networks.tensor_shape import TensorShape"
   ]
  },
  {
   "cell_type": "code",
   "execution_count": 19,
   "id": "2f2eeffb-13fa-4724-bb94-1f3b83b2790a",
   "metadata": {
    "tags": []
   },
   "outputs": [
    {
     "name": "stdout",
     "output_type": "stream",
     "text": [
      "{'features': TensorShape.DimensionInfo(symbol=features, size=5*features), 'batch': TensorShape.DimensionInfo(symbol=batch, size=batch)}\n",
      "{'features': TensorShape.DimensionInfo(symbol=features, size=features + 2), 'batch': TensorShape.DimensionInfo(symbol=batch, size=batch)}\n"
     ]
    },
    {
     "data": {
      "text/plain": [
       "{'features': TensorShape.DimensionInfo(symbol=features, size=135.000000000000),\n",
       " 'batch': TensorShape.DimensionInfo(symbol=batch, size=batch)}"
      ]
     },
     "execution_count": 19,
     "metadata": {},
     "output_type": "execute_result"
    }
   ],
   "source": [
    "shape = TensorShape(features=None)#, width=None)\n",
    "# shape['features'] *= shape['width']\n",
    "shape['features'] *= 5\n",
    "# shape = shape.rename_dims({'width': 'length'})\n",
    "\n",
    "shape2 = TensorShape()\n",
    "shape2['features'] += 2\n",
    "\n",
    "print(shape.dimensions)\n",
    "print(shape2.dimensions)\n",
    "\n",
    "#shape2.evaluate_forward(shape.evaluate_forward(TensorShape(features=10, length=11))).dimensions\n",
    "shape.evaluate_forward(shape2).evaluate_forward(TensorShape(features=25)).dimensions"
   ]
  },
  {
   "cell_type": "code",
   "execution_count": null,
   "id": "d4e54b55-75da-4b45-a098-7db4b50eab9c",
   "metadata": {
    "tags": []
   },
   "outputs": [],
   "source": []
  },
  {
   "cell_type": "code",
   "execution_count": 105,
   "id": "2c18c753-9bd9-406b-9bf7-8ee00856a903",
   "metadata": {
    "tags": []
   },
   "outputs": [
    {
     "data": {
      "text/latex": [
       "$\\displaystyle a$"
      ],
      "text/plain": [
       "a"
      ]
     },
     "execution_count": 105,
     "metadata": {},
     "output_type": "execute_result"
    }
   ],
   "source": [
    "a.subs({a: a})"
   ]
  },
  {
   "cell_type": "code",
   "execution_count": 1,
   "id": "67de1b0d-43b0-42f9-ad9c-4514cdd6ef98",
   "metadata": {
    "tags": []
   },
   "outputs": [
    {
     "name": "stdout",
     "output_type": "stream",
     "text": [
      "TensorShape(features = 2.00000000000000, batch = batch)\n",
      "TensorShape(s_0 = s_0 - 8.0, features = 8.00000000000000, batch = batch, s_2 = s_2 - 8.0, s_1 = s_1 - 8.0)\n",
      "TensorShape(s_0 = 2.00000000000000, features = 8.00000000000000, batch = batch, s_2 = 22.0000000000000, s_1 = 12.0000000000000)\n"
     ]
    }
   ],
   "source": [
    "%load_ext autoreload\n",
    "%autoreload 2\n",
    "from src.networks.core.tensor_shape import TensorShape\n",
    "from src.networks.core.net import Net\n",
    "from src.networks.seq_net import SeqNet\n",
    "from torch import nn\n",
    "net = SeqNet(nn.Sequential(\n",
    "    nn.ReLU(),\n",
    "    nn.ReLU(),\n",
    "    nn.Dropout(),\n",
    "    nn.ReLU(),\n",
    "    nn.Dropout(),\n",
    "    nn.ReLU(),\n",
    "    nn.Dropout(),\n",
    "    nn.Linear(2, 3),\n",
    "    nn.ReLU(),\n",
    "    nn.Dropout(),\n",
    "    nn.ReLU(),\n",
    "    nn.Dropout(),\n",
    "    nn.ReLU(),\n",
    "    nn.Dropout(),\n",
    "    nn.ReLU(),\n",
    "    nn.Linear(3, 5),\n",
    "    nn.ReLU(),\n",
    "    nn.Dropout(),\n",
    "    nn.ReLU(),\n",
    "    nn.Dropout(),\n",
    "    nn.ReLU(),\n",
    "    nn.Dropout(),\n",
    "    nn.ReLU(),\n",
    "    nn.Dropout(),\n",
    "    nn.LayerNorm(5),\n",
    "    nn.Linear(5, 7),\n",
    "    nn.ReLU(),\n",
    "    nn.Conv3d(7, 8, 3),\n",
    "    nn.Conv3d(8, 8, 3),\n",
    "    nn.Conv3d(8, 8, 3, dilation=2),\n",
    "    nn.ReLU(),\n",
    "    nn.Dropout(),\n",
    "    nn.ReLU(),\n",
    "    nn.Dropout(),\n",
    "    nn.ReLU(),\n",
    "    nn.Dropout(),\n",
    "    nn.ReLU(),\n",
    "    nn.Dropout(),\n",
    "))\n",
    "print(net.in_shape)\n",
    "print(net.out_shape)\n",
    "print(net.out_shape.evaluate_forward(TensorShape(features=1, s_0=10, s_1=20, s_2=30)))"
   ]
  },
  {
   "cell_type": "code",
   "execution_count": 4,
   "id": "29a765ae-8d97-4fe7-ac03-732ecb6eb1d1",
   "metadata": {
    "tags": []
   },
   "outputs": [
    {
     "data": {
      "text/plain": [
       "(0, 0)"
      ]
     },
     "execution_count": 4,
     "metadata": {},
     "output_type": "execute_result"
    }
   ],
   "source": [
    "from torch import nn\n",
    "\n",
    "nn.Conv2d(8, 2, 3).padding"
   ]
  },
  {
   "cell_type": "code",
   "execution_count": 11,
   "id": "a4f220e5-9db2-4175-9aa6-d57d756d46d4",
   "metadata": {
    "tags": []
   },
   "outputs": [
    {
     "data": {
      "text/plain": [
       "tensor([ 1.0794e+00, -1.9781e+00,  2.1193e-01,  1.3730e+00, -1.6453e-03,\n",
       "        -2.3417e+00,  6.2371e-01, -3.9108e-01, -1.1929e+00,  7.2638e-01,\n",
       "        -1.8894e-01,  3.0077e-01,  1.9245e-01,  8.0759e-01],\n",
       "       grad_fn=<CatBackward0>)"
      ]
     },
     "execution_count": 11,
     "metadata": {},
     "output_type": "execute_result"
    }
   ],
   "source": [
    "from src.networks.parallel_net import ParallelNet\n",
    "import torch\n",
    "from torch import nn\n",
    "\n",
    "ParallelNet.from_layer_provider(\n",
    "    lambda i, l, in_f, out_f: nn.Linear(in_f, out_f),\n",
    "    in_size=3,\n",
    "    out_sizes=[2, 5, 7],\n",
    ").forward(torch.FloatTensor([1, 2, 3]))"
   ]
  },
  {
   "cell_type": "code",
   "execution_count": null,
   "id": "47ac4dae-7ef0-4d4b-ae66-fe4048564f3e",
   "metadata": {},
   "outputs": [],
   "source": []
  }
 ],
 "metadata": {
  "autoscrollcelloutput": false,
  "kernelspec": {
   "display_name": "Python 3 (ipykernel)",
   "language": "python",
   "name": "python3"
  },
  "language_info": {
   "codemirror_mode": {
    "name": "ipython",
    "version": 3
   },
   "file_extension": ".py",
   "mimetype": "text/x-python",
   "name": "python",
   "nbconvert_exporter": "python",
   "pygments_lexer": "ipython3",
   "version": "3.11.1"
  }
 },
 "nbformat": 4,
 "nbformat_minor": 5
}
