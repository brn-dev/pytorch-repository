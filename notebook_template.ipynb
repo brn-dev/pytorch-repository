{
 "cells": [
  {
   "cell_type": "code",
   "execution_count": 1,
   "id": "4de06880-6b03-4d58-9afc-5bd1d6263d6c",
   "metadata": {
    "tags": [],
    "ExecuteTime": {
     "end_time": "2024-04-05T18:00:52.214230Z",
     "start_time": "2024-04-05T18:00:50.421039Z"
    }
   },
   "outputs": [],
   "source": [
    "%load_ext autoreload\n",
    "%autoreload 2\n",
    "\n",
    "import numpy as np\n",
    "\n",
    "import torch\n",
    "from torch import nn"
   ]
  },
  {
   "cell_type": "code",
   "execution_count": 5,
   "id": "4c2f3051-d357-447d-87b5-a4cdd1caa627",
   "metadata": {
    "ExecuteTime": {
     "end_time": "2024-03-28T17:33:31.624055Z",
     "start_time": "2024-03-28T17:33:31.537695Z"
    }
   },
   "outputs": [
    {
     "name": "stdout",
     "output_type": "stream",
     "text": [
      "1390\n",
      "ModulatedDenseSkipNet(\n",
      "  (layers): NetList(\n",
      "    (0): TorchNet(\n",
      "      (torch_module): Sequential(\n",
      "        (0): Linear(in_features=3, out_features=11, bias=True)\n",
      "        (1): CELU(alpha=1.0)\n",
      "      )\n",
      "    )\n",
      "    (1): TorchNet(\n",
      "      (torch_module): Sequential(\n",
      "        (0): Linear(in_features=13, out_features=23, bias=True)\n",
      "        (1): CELU(alpha=1.0)\n",
      "      )\n",
      "    )\n",
      "    (2): TorchNet(\n",
      "      (torch_module): Sequential(\n",
      "        (0): Linear(in_features=27, out_features=17, bias=True)\n",
      "        (1): CELU(alpha=1.0)\n",
      "      )\n",
      "    )\n",
      "    (3): TorchNet(\n",
      "      (torch_module): Sequential(\n",
      "        (0): Linear(in_features=23, out_features=13, bias=True)\n",
      "        (1): Identity()\n",
      "      )\n",
      "    )\n",
      "  )\n",
      "  (connection_modulators[0][0]): TorchNet(\n",
      "    (torch_module): Identity()\n",
      "  )\n",
      "  (connection_modulators[1][0]): TorchNet(\n",
      "    (torch_module): Linear(in_features=3, out_features=2, bias=True)\n",
      "  )\n",
      "  (connection_modulators[1][1]): TorchNet(\n",
      "    (torch_module): Identity()\n",
      "  )\n",
      "  (connection_modulators[2][0]): TorchNet(\n",
      "    (torch_module): Linear(in_features=3, out_features=2, bias=True)\n",
      "  )\n",
      "  (connection_modulators[2][1]): TorchNet(\n",
      "    (torch_module): Linear(in_features=11, out_features=2, bias=True)\n",
      "  )\n",
      "  (connection_modulators[2][2]): TorchNet(\n",
      "    (torch_module): Identity()\n",
      "  )\n",
      "  (connection_modulators[3][0]): TorchNet(\n",
      "    (torch_module): Linear(in_features=3, out_features=2, bias=True)\n",
      "  )\n",
      "  (connection_modulators[3][1]): TorchNet(\n",
      "    (torch_module): Linear(in_features=11, out_features=2, bias=True)\n",
      "  )\n",
      "  (connection_modulators[3][2]): TorchNet(\n",
      "    (torch_module): Linear(in_features=23, out_features=2, bias=True)\n",
      "  )\n",
      "  (connection_modulators[3][3]): TorchNet(\n",
      "    (torch_module): Identity()\n",
      "  )\n",
      "  (connection_modulators[4][0]): TorchNet(\n",
      "    (torch_module): Linear(in_features=3, out_features=2, bias=True)\n",
      "  )\n",
      "  (connection_modulators[4][1]): TorchNet(\n",
      "    (torch_module): Linear(in_features=11, out_features=2, bias=True)\n",
      "  )\n",
      "  (connection_modulators[4][2]): TorchNet(\n",
      "    (torch_module): Linear(in_features=23, out_features=2, bias=True)\n",
      "  )\n",
      "  (connection_modulators[4][3]): TorchNet(\n",
      "    (torch_module): Linear(in_features=17, out_features=2, bias=True)\n",
      "  )\n",
      "  (connection_modulators[4][4]): TorchNet(\n",
      "    (torch_module): Identity()\n",
      "  )\n",
      ")\n",
      "torch.Size([111, 5, 19, 21])\n"
     ]
    }
   ],
   "source": [
    "from src.networks.core.tensor_shape import TensorShape\n",
    "from src.networks.skip_nets.modulated_additive_skip_net import ModulatedAdditiveSkipNet\n",
    "from src.networks.core.net import Net\n",
    "from src.networks.skip_nets.modulated_dense_skip_net import ModulatedDenseSkipNet\n",
    "from src.networks.core.parallel_net import ParallelNet\n",
    "from src.module_analysis import count_parameters\n",
    "from src.networks.skip_nets.dense_skip_net import DenseSkipNet\n",
    "from src.networks.core.layer_connections import LayerConnections\n",
    "from src.networks.skip_nets.additive_skip_net import AdditiveSkipNet\n",
    "\n",
    "def create_mod_dense(from_idx: int, to_idx: int, num_f: int):\n",
    "    if from_idx != to_idx:\n",
    "        return Net.as_net(create_ones_linear(num_f, 2))\n",
    "    else:\n",
    "        return Net.as_net(nn.Identity())\n",
    "\n",
    "def create_mod_additive(from_idx: int, to_idx: int, num_f: int):\n",
    "    if from_idx != to_idx:\n",
    "        return Net.as_net(create_ones_linear(num_f, num_f))\n",
    "    else:\n",
    "        return Net.as_net(nn.Identity())\n",
    "\n",
    "def create_ones_linear(in_features, out_features):\n",
    "    l = nn.Linear(in_features, out_features)\n",
    "    l.weight.data[:] = 1.0\n",
    "    l.bias.data[:] = 0.0\n",
    "    return l\n",
    "\n",
    "def create_layer(i, is_last, in_features, out_features):\n",
    "    return nn.Sequential(\n",
    "        create_ones_linear(in_features, out_features),\n",
    "        nn.CELU() if not is_last else nn.Identity(),\n",
    "    )\n",
    "\n",
    "num_features=3\n",
    "# net = AdditiveSkipNet.from_layer_provider(\n",
    "#     layer_provider=create_layer,\n",
    "#     num_layers=4,\n",
    "#     num_features=num_features,\n",
    "#     layer_connections='full',\n",
    "#     initial_direct_connection_weight=1.0,\n",
    "#     initial_skip_connection_weight=0.01,\n",
    "#     return_dense=False,\n",
    "#     weights_trainable=False,\n",
    "# )\n",
    "# net = DenseSkipNet.from_layer_provider(\n",
    "#     layer_provider=create_layer,\n",
    "#     num_layers=10,\n",
    "#     num_features=num_features,\n",
    "#     layer_connections='full'\n",
    "# )\n",
    "# net = ParallelNet.from_layer_provider(create_layer, in_size=num_features, out_sizes=[5, 7, 11, 13])\n",
    "net = ModulatedDenseSkipNet.from_layer_provider(\n",
    "    layer_provider=create_layer,\n",
    "    modulator_provider=create_mod_dense,\n",
    "    in_size=num_features,\n",
    "    layer_out_sizes=[11, 23, 17, 13],\n",
    ")\n",
    "# net = ModulatedAdditiveSkipNet.from_layer_provider(\n",
    "#     layer_provider=create_layer,\n",
    "#     modulator_provider=create_mod_additive,\n",
    "#     num_features=num_features,\n",
    "#     num_layers=4,\n",
    "#     # return_dense=True,\n",
    "# )\n",
    "print(net.count_parameters())\n",
    "print(net)\n",
    "\n",
    "out = net(torch.ones(111, 5, 19, num_features))\n",
    "print(out.shape)\n",
    "# print(out)\n",
    "# print(net.forward_shape(TensorShape(features=num_features, s_0=111, s_1=5)))"
   ]
  },
  {
   "cell_type": "code",
   "execution_count": 6,
   "id": "c5a5e3e1d339c766",
   "metadata": {
    "collapsed": false,
    "ExecuteTime": {
     "end_time": "2024-03-28T17:33:31.692766Z",
     "start_time": "2024-03-28T17:33:31.625045Z"
    }
   },
   "outputs": [
    {
     "data": {
      "text/plain": "468"
     },
     "execution_count": 6,
     "metadata": {},
     "output_type": "execute_result"
    }
   ],
   "source": [
    "90 * 3 + 3 * 3 * 18 + 3 * 3 * 3 + 3 * 3 * 1"
   ]
  },
  {
   "cell_type": "code",
   "execution_count": 7,
   "id": "33dd5e90",
   "metadata": {
    "collapsed": false,
    "ExecuteTime": {
     "end_time": "2024-03-28T17:33:31.766826Z",
     "start_time": "2024-03-28T17:33:31.693749Z"
    }
   },
   "outputs": [
    {
     "data": {
      "text/plain": "804"
     },
     "execution_count": 7,
     "metadata": {},
     "output_type": "execute_result"
    }
   ],
   "source": [
    "3 * (90 + 18 + 3 + 1) + 468"
   ]
  },
  {
   "cell_type": "code",
   "execution_count": 8,
   "id": "2c8e263e",
   "metadata": {
    "collapsed": false,
    "ExecuteTime": {
     "end_time": "2024-03-28T17:33:31.842571Z",
     "start_time": "2024-03-28T17:33:31.767820Z"
    }
   },
   "outputs": [
    {
     "data": {
      "text/plain": "804"
     },
     "execution_count": 8,
     "metadata": {},
     "output_type": "execute_result"
    }
   ],
   "source": [
    "804"
   ]
  },
  {
   "cell_type": "code",
   "execution_count": 9,
   "id": "77e0603b",
   "metadata": {
    "collapsed": false,
    "ExecuteTime": {
     "end_time": "2024-03-28T17:33:31.912911Z",
     "start_time": "2024-03-28T17:33:31.843567Z"
    }
   },
   "outputs": [
    {
     "data": {
      "text/plain": "Conv2dNet(2, 3, kernel_size=(4, 4), stride=(1, 1), padding=same)"
     },
     "execution_count": 9,
     "metadata": {},
     "output_type": "execute_result"
    }
   ],
   "source": [
    "from src.networks.core.torch_wrappers.conv_net import Conv2dNet\n",
    "\n",
    "conv = Conv2dNet(2, 3, 4, padding='same')\n",
    "conv"
   ]
  },
  {
   "cell_type": "code",
   "execution_count": 10,
   "id": "db8955ea",
   "metadata": {
    "collapsed": false,
    "ExecuteTime": {
     "end_time": "2024-03-28T17:33:31.984662Z",
     "start_time": "2024-03-28T17:33:31.913906Z"
    }
   },
   "outputs": [
    {
     "data": {
      "text/plain": "tensor([ 0.4794, -0.7732, -0.1890], grad_fn=<ViewBackward0>)"
     },
     "execution_count": 10,
     "metadata": {},
     "output_type": "execute_result"
    }
   ],
   "source": [
    "from src.networks.core.torch_wrappers.linear_net import LinearNet\n",
    "\n",
    "lin = LinearNet(2, 3)\n",
    "lin(torch.ones(2))"
   ]
  },
  {
   "cell_type": "code",
   "execution_count": 11,
   "id": "96091cdd",
   "metadata": {
    "collapsed": false,
    "ExecuteTime": {
     "end_time": "2024-03-28T17:33:32.055886Z",
     "start_time": "2024-03-28T17:33:31.985660Z"
    }
   },
   "outputs": [
    {
     "data": {
      "text/plain": "tensor([[[ 0.1577, -0.4909, -0.1444,  ...,  0.1137, -0.1642,  0.0041],\n         [ 0.1577, -0.4909, -0.1444,  ...,  0.1137, -0.1642,  0.0041],\n         [ 0.1577, -0.4909, -0.1444,  ...,  0.1137, -0.1642,  0.0041],\n         ...,\n         [ 0.1577, -0.4909, -0.1444,  ...,  0.1137, -0.1642,  0.0041],\n         [ 0.1577, -0.4909, -0.1444,  ...,  0.1137, -0.1642,  0.0041],\n         [ 0.1577, -0.4909, -0.1444,  ...,  0.1137, -0.1642,  0.0041]],\n\n        [[ 0.1577, -0.4909, -0.1444,  ...,  0.1137, -0.1642,  0.0041],\n         [ 0.1577, -0.4909, -0.1444,  ...,  0.1137, -0.1642,  0.0041],\n         [ 0.1577, -0.4909, -0.1444,  ...,  0.1137, -0.1642,  0.0041],\n         ...,\n         [ 0.1577, -0.4909, -0.1444,  ...,  0.1137, -0.1642,  0.0041],\n         [ 0.1577, -0.4909, -0.1444,  ...,  0.1137, -0.1642,  0.0041],\n         [ 0.1577, -0.4909, -0.1444,  ...,  0.1137, -0.1642,  0.0041]],\n\n        [[ 0.1577, -0.4909, -0.1444,  ...,  0.1137, -0.1642,  0.0041],\n         [ 0.1577, -0.4909, -0.1444,  ...,  0.1137, -0.1642,  0.0041],\n         [ 0.1577, -0.4909, -0.1444,  ...,  0.1137, -0.1642,  0.0041],\n         ...,\n         [ 0.1577, -0.4909, -0.1444,  ...,  0.1137, -0.1642,  0.0041],\n         [ 0.1577, -0.4909, -0.1444,  ...,  0.1137, -0.1642,  0.0041],\n         [ 0.1577, -0.4909, -0.1444,  ...,  0.1137, -0.1642,  0.0041]],\n\n        ...,\n\n        [[ 0.1577, -0.4909, -0.1444,  ...,  0.1137, -0.1642,  0.0041],\n         [ 0.1577, -0.4909, -0.1444,  ...,  0.1137, -0.1642,  0.0041],\n         [ 0.1577, -0.4909, -0.1444,  ...,  0.1137, -0.1642,  0.0041],\n         ...,\n         [ 0.1577, -0.4909, -0.1444,  ...,  0.1137, -0.1642,  0.0041],\n         [ 0.1577, -0.4909, -0.1444,  ...,  0.1137, -0.1642,  0.0041],\n         [ 0.1577, -0.4909, -0.1444,  ...,  0.1137, -0.1642,  0.0041]],\n\n        [[ 0.1577, -0.4909, -0.1444,  ...,  0.1137, -0.1642,  0.0041],\n         [ 0.1577, -0.4909, -0.1444,  ...,  0.1137, -0.1642,  0.0041],\n         [ 0.1577, -0.4909, -0.1444,  ...,  0.1137, -0.1642,  0.0041],\n         ...,\n         [ 0.1577, -0.4909, -0.1444,  ...,  0.1137, -0.1642,  0.0041],\n         [ 0.1577, -0.4909, -0.1444,  ...,  0.1137, -0.1642,  0.0041],\n         [ 0.1577, -0.4909, -0.1444,  ...,  0.1137, -0.1642,  0.0041]],\n\n        [[ 0.1577, -0.4909, -0.1444,  ...,  0.1137, -0.1642,  0.0041],\n         [ 0.1577, -0.4909, -0.1444,  ...,  0.1137, -0.1642,  0.0041],\n         [ 0.1577, -0.4909, -0.1444,  ...,  0.1137, -0.1642,  0.0041],\n         ...,\n         [ 0.1577, -0.4909, -0.1444,  ...,  0.1137, -0.1642,  0.0041],\n         [ 0.1577, -0.4909, -0.1444,  ...,  0.1137, -0.1642,  0.0041],\n         [ 0.1577, -0.4909, -0.1444,  ...,  0.1137, -0.1642,  0.0041]]],\n       grad_fn=<ViewBackward0>)"
     },
     "execution_count": 11,
     "metadata": {},
     "output_type": "execute_result"
    }
   ],
   "source": [
    "from src.networks.multihead_self_attention import MultiheadSelfAttention\n",
    "\n",
    "mhsa = MultiheadSelfAttention(10, 5)\n",
    "mhsa.forward_shape(TensorShape(features=10, s_0=None))\n",
    "mhsa(torch.ones(123, 9, 10))"
   ]
  },
  {
   "cell_type": "code",
   "execution_count": 12,
   "id": "ccaa81c5-426a-443d-bb96-696abbdd298d",
   "metadata": {
    "tags": [],
    "ExecuteTime": {
     "end_time": "2024-03-28T17:33:32.131054Z",
     "start_time": "2024-03-28T17:33:32.056844Z"
    }
   },
   "outputs": [
    {
     "data": {
      "text/plain": "array([[ 0,  0],\n       [ 0, 12],\n       [ 1,  1],\n       [ 1,  2],\n       [ 1,  3],\n       [ 1,  4],\n       [ 1,  5],\n       [ 1,  6],\n       [ 1,  7],\n       [ 1,  8],\n       [ 1,  9],\n       [ 1, 10],\n       [ 1, 11],\n       [ 1, 12],\n       [ 2,  2],\n       [ 2,  3],\n       [ 2,  4],\n       [ 2,  5],\n       [ 2,  6],\n       [ 2,  7],\n       [ 2,  8],\n       [ 2,  9],\n       [ 2, 10],\n       [ 2, 11],\n       [ 2, 12],\n       [ 3,  3],\n       [ 3, 12],\n       [ 4,  4],\n       [ 4, 12],\n       [ 5,  5],\n       [ 5, 12],\n       [ 6,  6],\n       [ 6,  7],\n       [ 6,  8],\n       [ 6,  9],\n       [ 6, 10],\n       [ 6, 11],\n       [ 6, 12],\n       [ 7,  7],\n       [ 7, 12],\n       [ 8,  8],\n       [ 8, 12],\n       [ 9,  9],\n       [ 9, 12],\n       [10, 10],\n       [10, 12],\n       [11, 11],\n       [11, 12],\n       [12, 12]], dtype=int32)"
     },
     "execution_count": 12,
     "metadata": {},
     "output_type": "execute_result"
    }
   ],
   "source": [
    "from src.networks.core.layer_connections import *\n",
    "from src.integer_sequences import *\n",
    "\n",
    "(LayerConnectionsBuilder(12)\n",
    "    .sequential()\n",
    "    .every_step_receives(factorial).every_step_to_output().to_np())"
   ]
  },
  {
   "cell_type": "code",
   "execution_count": 1,
   "id": "2d842097-67d7-41d2-ad5c-ab3c75eef202",
   "metadata": {
    "ExecuteTime": {
     "end_time": "2024-04-07T16:58:55.887391Z",
     "start_time": "2024-04-07T16:52:21.808127Z"
    }
   },
   "outputs": [
    {
     "name": "stdout",
     "output_type": "stream",
     "text": [
      "using device cuda:0\n",
      "<TimeLimit<OrderEnforcing<PassiveEnvChecker<BipedalWalker<BipedalWalker-v3>>>>>\n",
      "   0:   -113.6,    81\n",
      "   0:   -102.6,   159\n",
      "   0:   -114.7,   180\n",
      "   0:   -110.8,    64\n",
      "   0:   -114.8,   269\n",
      "   0:   -111.4,    98\n",
      "   0:   -101.5,   111\n",
      "   0:   -113.1,   104\n",
      "   0:    -38.2,  3000\n",
      "   0:    -99.1,   118\n",
      "   0:   -113.5,   124\n",
      "   0:   -111.5,    73\n",
      "   0:    -36.3,  3000\n",
      "   0:   -112.7,    90\n",
      "   0:   -102.8,    67\n",
      "   0:    -41.3,  3000\n",
      "   0:   -110.0,    54\n",
      "   0:    -46.1,  3000\n",
      "   0:   -111.0,    65\n",
      "   0:   -112.4,    83\n",
      "   0:   -106.6,   345\n",
      "   0:   -110.5,    66\n",
      "   0:   -109.7,    50\n",
      "   0:   -110.9,    79\n",
      "   0:   -112.4,    93\n",
      "   0:   -111.3,    77\n",
      "   0:   -110.3,    58\n",
      "   0:   -110.4,    59\n",
      "   0:   -111.6,    70\n",
      "   0:   -110.1,    76\n",
      "   0:   -112.0,    69\n",
      "   0:   -114.0,   111\n",
      "   0:    -56.0,  3000\n",
      "   0:    -60.2,  3000\n",
      "   0:    -56.0,  3000\n",
      "   0:   -112.0,    53\n",
      "   0:    -60.1,  3000\n",
      "   0:   -113.6,    76\n",
      "   0:   -111.3,    54\n",
      "   0:    -62.6,  3000\n",
      "   0:    -59.6,  3000\n",
      "   0:    -69.3,  3000\n",
      "   0:    -66.5,  3000\n",
      "   0:    -71.3,  3000\n",
      "   0:    -70.6,  3000\n",
      "   0:    -71.0,  3000\n",
      "   0:    -74.5,  3000\n",
      "   0:    -77.0,  3000\n",
      "   0:    -72.9,  3000\n",
      "   0:    -81.7,  3000\n",
      "   0:    -74.9,  3000\n",
      "   0:    -75.3,  3000\n",
      "   0:    -68.7,  3000\n",
      "   0:    -77.6,  3000\n",
      "   0:    -76.0,  3000\n",
      "   0:    -74.7,  3000\n",
      "   0:    -74.4,  3000\n",
      "   0:    -79.2,  3000\n",
      "   0:    -77.3,  3000\n",
      "   0:    -72.3,  3000\n",
      "   0:    -78.3,  3000\n",
      "   0:    -77.4,  3000\n",
      "   0:    -76.3,  3000\n",
      "   0:    -79.8,  3000\n",
      "   0:    -79.1,  3000\n",
      "   0:    -79.8,  3000\n",
      "   0:    -73.0,  3000\n",
      "   0:    -77.2,  3000\n",
      "   0:   -106.7,   116\n",
      "   0:    -79.7,  3000\n",
      "   0:    -78.7,  3000\n",
      "   0:    -76.9,  3000\n",
      "   0:    -86.9,  3000\n",
      "   0:    -70.5,  3000\n"
     ]
    },
    {
     "ename": "KeyboardInterrupt",
     "evalue": "",
     "output_type": "error",
     "traceback": [
      "\u001B[1;31m---------------------------------------------------------------------------\u001B[0m",
      "\u001B[1;31mKeyboardInterrupt\u001B[0m                         Traceback (most recent call last)",
      "Cell \u001B[1;32mIn[1], line 52\u001B[0m\n\u001B[0;32m     39\u001B[0m actor \u001B[38;5;241m=\u001B[39m init_network(\u001B[38;5;241m4\u001B[39m, \u001B[38;5;28;01mTrue\u001B[39;00m)\n\u001B[0;32m     40\u001B[0m critic \u001B[38;5;241m=\u001B[39m init_network(\u001B[38;5;241m1\u001B[39m, \u001B[38;5;28;01mFalse\u001B[39;00m)\n\u001B[0;32m     42\u001B[0m \u001B[43mA2C\u001B[49m\u001B[43m(\u001B[49m\n\u001B[0;32m     43\u001B[0m \u001B[43m    \u001B[49m\u001B[43menv\u001B[49m\u001B[38;5;241;43m=\u001B[39;49m\u001B[43menv\u001B[49m\u001B[43m,\u001B[49m\n\u001B[0;32m     44\u001B[0m \u001B[43m    \u001B[49m\u001B[43mactor_network\u001B[49m\u001B[38;5;241;43m=\u001B[39;49m\u001B[43mactor\u001B[49m\u001B[43m,\u001B[49m\n\u001B[0;32m     45\u001B[0m \u001B[43m    \u001B[49m\u001B[43mactor_network_optimizer\u001B[49m\u001B[38;5;241;43m=\u001B[39;49m\u001B[43moptim\u001B[49m\u001B[38;5;241;43m.\u001B[39;49m\u001B[43mAdam\u001B[49m\u001B[43m(\u001B[49m\u001B[43mactor\u001B[49m\u001B[38;5;241;43m.\u001B[39;49m\u001B[43mparameters\u001B[49m\u001B[43m(\u001B[49m\u001B[43m)\u001B[49m\u001B[43m)\u001B[49m\u001B[43m,\u001B[49m\n\u001B[0;32m     46\u001B[0m \u001B[43m    \u001B[49m\u001B[43mcritic_network\u001B[49m\u001B[38;5;241;43m=\u001B[39;49m\u001B[43mcritic\u001B[49m\u001B[43m,\u001B[49m\n\u001B[0;32m     47\u001B[0m \u001B[43m    \u001B[49m\u001B[43mcritic_network_optimizer\u001B[49m\u001B[38;5;241;43m=\u001B[39;49m\u001B[43moptim\u001B[49m\u001B[38;5;241;43m.\u001B[39;49m\u001B[43mAdam\u001B[49m\u001B[43m(\u001B[49m\u001B[43mcritic\u001B[49m\u001B[38;5;241;43m.\u001B[39;49m\u001B[43mparameters\u001B[49m\u001B[43m(\u001B[49m\u001B[43m)\u001B[49m\u001B[43m)\u001B[49m\u001B[43m,\u001B[49m\n\u001B[0;32m     48\u001B[0m \u001B[43m    \u001B[49m\u001B[43mcritic_loss\u001B[49m\u001B[38;5;241;43m=\u001B[39;49m\u001B[43mnn\u001B[49m\u001B[38;5;241;43m.\u001B[39;49m\u001B[43mMSELoss\u001B[49m\u001B[43m(\u001B[49m\u001B[43m)\u001B[49m\u001B[43m,\u001B[49m\n\u001B[0;32m     49\u001B[0m \u001B[43m    \u001B[49m\u001B[43mselect_action\u001B[49m\u001B[38;5;241;43m=\u001B[39;49m\u001B[43mselect_action\u001B[49m\u001B[43m,\u001B[49m\n\u001B[0;32m     50\u001B[0m \u001B[43m    \u001B[49m\u001B[43mgamma\u001B[49m\u001B[38;5;241;43m=\u001B[39;49m\u001B[38;5;241;43m0.9\u001B[39;49m\u001B[43m,\u001B[49m\n\u001B[0;32m     51\u001B[0m \u001B[43m    \u001B[49m\u001B[43mon_episode_done\u001B[49m\u001B[38;5;241;43m=\u001B[39;49m\u001B[38;5;28;43;01mlambda\u001B[39;49;00m\u001B[43m \u001B[49m\u001B[43ma2c\u001B[49m\u001B[43m,\u001B[49m\u001B[43m \u001B[49m\u001B[43minfo\u001B[49m\u001B[43m:\u001B[49m\u001B[43m \u001B[49m\u001B[38;5;28;43mprint\u001B[39;49m\u001B[43m(\u001B[49m\u001B[38;5;124;43mf\u001B[39;49m\u001B[38;5;124;43m'\u001B[39;49m\u001B[38;5;132;43;01m{\u001B[39;49;00m\u001B[43minfo\u001B[49m\u001B[43m[\u001B[49m\u001B[38;5;124;43m\"\u001B[39;49m\u001B[38;5;124;43mi_episode\u001B[39;49m\u001B[38;5;124;43m\"\u001B[39;49m\u001B[43m]\u001B[49m\u001B[38;5;132;43;01m:\u001B[39;49;00m\u001B[38;5;124;43m>4\u001B[39;49m\u001B[38;5;132;43;01m}\u001B[39;49;00m\u001B[38;5;124;43m: \u001B[39;49m\u001B[38;5;132;43;01m{\u001B[39;49;00m\u001B[43minfo\u001B[49m\u001B[43m[\u001B[49m\u001B[38;5;124;43m\"\u001B[39;49m\u001B[38;5;124;43mepisode_cumulative_reward\u001B[39;49m\u001B[38;5;124;43m\"\u001B[39;49m\u001B[43m]\u001B[49m\u001B[38;5;132;43;01m:\u001B[39;49;00m\u001B[38;5;124;43m> 8.1f\u001B[39;49m\u001B[38;5;132;43;01m}\u001B[39;49;00m\u001B[38;5;124;43m, \u001B[39;49m\u001B[38;5;132;43;01m{\u001B[39;49;00m\u001B[43minfo\u001B[49m\u001B[43m[\u001B[49m\u001B[38;5;124;43m\"\u001B[39;49m\u001B[38;5;124;43mend_timestep\u001B[39;49m\u001B[38;5;124;43m\"\u001B[39;49m\u001B[43m]\u001B[49m\u001B[38;5;132;43;01m:\u001B[39;49;00m\u001B[38;5;124;43m>5\u001B[39;49m\u001B[38;5;132;43;01m}\u001B[39;49;00m\u001B[38;5;124;43m'\u001B[39;49m\u001B[43m)\u001B[49m\u001B[43m,\u001B[49m\n\u001B[1;32m---> 52\u001B[0m \u001B[43m)\u001B[49m\u001B[38;5;241;43m.\u001B[39;49m\u001B[43mfind_optimal_policy\u001B[49m\u001B[43m(\u001B[49m\u001B[38;5;241;43m1000\u001B[39;49m\u001B[43m)\u001B[49m\n",
      "File \u001B[1;32m~\\Git\\pytorch-starter\\src\\reinforcement_learning\\core\\episodic_rl_base.py:86\u001B[0m, in \u001B[0;36mEpisodicRLBase.find_optimal_policy\u001B[1;34m(self, num_episodes, *args, **kwargs)\u001B[0m\n\u001B[0;32m     79\u001B[0m info[\u001B[38;5;124m'\u001B[39m\u001B[38;5;124mend_timestep\u001B[39m\u001B[38;5;124m'\u001B[39m] \u001B[38;5;241m=\u001B[39m timestep\n\u001B[0;32m     81\u001B[0m \u001B[38;5;28mself\u001B[39m\u001B[38;5;241m.\u001B[39mon_episode_done(\n\u001B[0;32m     82\u001B[0m     \u001B[38;5;28mself\u001B[39m,\n\u001B[0;32m     83\u001B[0m     info\n\u001B[0;32m     84\u001B[0m )\n\u001B[1;32m---> 86\u001B[0m \u001B[38;5;28;43mself\u001B[39;49m\u001B[38;5;241;43m.\u001B[39;49m\u001B[43moptimize_using_episode\u001B[49m\u001B[43m(\u001B[49m\u001B[43m)\u001B[49m\n\u001B[0;32m     88\u001B[0m \u001B[38;5;28mself\u001B[39m\u001B[38;5;241m.\u001B[39mon_optimization_done(\n\u001B[0;32m     89\u001B[0m     \u001B[38;5;28mself\u001B[39m,\n\u001B[0;32m     90\u001B[0m     info\n\u001B[0;32m     91\u001B[0m )\n\u001B[0;32m     93\u001B[0m \u001B[38;5;28mself\u001B[39m\u001B[38;5;241m.\u001B[39mmemory\u001B[38;5;241m.\u001B[39mreset()\n",
      "File \u001B[1;32m~\\Git\\pytorch-starter\\src\\reinforcement_learning\\a2c\\episodic\\a2c.py:73\u001B[0m, in \u001B[0;36mA2C.optimize_using_episode\u001B[1;34m(self)\u001B[0m\n\u001B[0;32m     70\u001B[0m \u001B[38;5;28mself\u001B[39m\u001B[38;5;241m.\u001B[39mactor_network_optimizer\u001B[38;5;241m.\u001B[39mzero_grad()\n\u001B[0;32m     71\u001B[0m \u001B[38;5;28mself\u001B[39m\u001B[38;5;241m.\u001B[39mcritic_network_optimizer\u001B[38;5;241m.\u001B[39mzero_grad()\n\u001B[1;32m---> 73\u001B[0m \u001B[43mactor_objective\u001B[49m\u001B[38;5;241;43m.\u001B[39;49m\u001B[43mbackward\u001B[49m\u001B[43m(\u001B[49m\u001B[43m)\u001B[49m\n\u001B[0;32m     74\u001B[0m critic_objective\u001B[38;5;241m.\u001B[39mbackward()\n\u001B[0;32m     76\u001B[0m \u001B[38;5;28mself\u001B[39m\u001B[38;5;241m.\u001B[39mactor_network_optimizer\u001B[38;5;241m.\u001B[39mstep()\n",
      "File \u001B[1;32mC:\\Program Files\\Python311\\Lib\\site-packages\\torch\\_tensor.py:483\u001B[0m, in \u001B[0;36mTensor.backward\u001B[1;34m(self, gradient, retain_graph, create_graph, inputs)\u001B[0m\n\u001B[0;32m    436\u001B[0m \u001B[38;5;250m\u001B[39m\u001B[38;5;124mr\u001B[39m\u001B[38;5;124;03m\"\"\"Computes the gradient of current tensor wrt graph leaves.\u001B[39;00m\n\u001B[0;32m    437\u001B[0m \n\u001B[0;32m    438\u001B[0m \u001B[38;5;124;03mThe graph is differentiated using the chain rule. If the tensor is\u001B[39;00m\n\u001B[1;32m   (...)\u001B[0m\n\u001B[0;32m    480\u001B[0m \u001B[38;5;124;03m        used to compute the attr::tensors.\u001B[39;00m\n\u001B[0;32m    481\u001B[0m \u001B[38;5;124;03m\"\"\"\u001B[39;00m\n\u001B[0;32m    482\u001B[0m \u001B[38;5;28;01mif\u001B[39;00m has_torch_function_unary(\u001B[38;5;28mself\u001B[39m):\n\u001B[1;32m--> 483\u001B[0m     \u001B[38;5;28;01mreturn\u001B[39;00m \u001B[43mhandle_torch_function\u001B[49m\u001B[43m(\u001B[49m\n\u001B[0;32m    484\u001B[0m \u001B[43m        \u001B[49m\u001B[43mTensor\u001B[49m\u001B[38;5;241;43m.\u001B[39;49m\u001B[43mbackward\u001B[49m\u001B[43m,\u001B[49m\n\u001B[0;32m    485\u001B[0m \u001B[43m        \u001B[49m\u001B[43m(\u001B[49m\u001B[38;5;28;43mself\u001B[39;49m\u001B[43m,\u001B[49m\u001B[43m)\u001B[49m\u001B[43m,\u001B[49m\n\u001B[0;32m    486\u001B[0m \u001B[43m        \u001B[49m\u001B[38;5;28;43mself\u001B[39;49m\u001B[43m,\u001B[49m\n\u001B[0;32m    487\u001B[0m \u001B[43m        \u001B[49m\u001B[43mgradient\u001B[49m\u001B[38;5;241;43m=\u001B[39;49m\u001B[43mgradient\u001B[49m\u001B[43m,\u001B[49m\n\u001B[0;32m    488\u001B[0m \u001B[43m        \u001B[49m\u001B[43mretain_graph\u001B[49m\u001B[38;5;241;43m=\u001B[39;49m\u001B[43mretain_graph\u001B[49m\u001B[43m,\u001B[49m\n\u001B[0;32m    489\u001B[0m \u001B[43m        \u001B[49m\u001B[43mcreate_graph\u001B[49m\u001B[38;5;241;43m=\u001B[39;49m\u001B[43mcreate_graph\u001B[49m\u001B[43m,\u001B[49m\n\u001B[0;32m    490\u001B[0m \u001B[43m        \u001B[49m\u001B[43minputs\u001B[49m\u001B[38;5;241;43m=\u001B[39;49m\u001B[43minputs\u001B[49m\u001B[43m,\u001B[49m\n\u001B[0;32m    491\u001B[0m \u001B[43m    \u001B[49m\u001B[43m)\u001B[49m\n\u001B[0;32m    492\u001B[0m torch\u001B[38;5;241m.\u001B[39mautograd\u001B[38;5;241m.\u001B[39mbackward(\n\u001B[0;32m    493\u001B[0m     \u001B[38;5;28mself\u001B[39m, gradient, retain_graph, create_graph, inputs\u001B[38;5;241m=\u001B[39minputs\n\u001B[0;32m    494\u001B[0m )\n",
      "File \u001B[1;32mC:\\Program Files\\Python311\\Lib\\site-packages\\torch\\overrides.py:1560\u001B[0m, in \u001B[0;36mhandle_torch_function\u001B[1;34m(public_api, relevant_args, *args, **kwargs)\u001B[0m\n\u001B[0;32m   1556\u001B[0m \u001B[38;5;28;01mif\u001B[39;00m _is_torch_function_mode_enabled():\n\u001B[0;32m   1557\u001B[0m     \u001B[38;5;66;03m# if we're here, the mode must be set to a TorchFunctionStackMode\u001B[39;00m\n\u001B[0;32m   1558\u001B[0m     \u001B[38;5;66;03m# this unsets it and calls directly into TorchFunctionStackMode's torch function\u001B[39;00m\n\u001B[0;32m   1559\u001B[0m     \u001B[38;5;28;01mwith\u001B[39;00m _pop_mode_temporarily() \u001B[38;5;28;01mas\u001B[39;00m mode:\n\u001B[1;32m-> 1560\u001B[0m         result \u001B[38;5;241m=\u001B[39m \u001B[43mmode\u001B[49m\u001B[38;5;241;43m.\u001B[39;49m\u001B[43m__torch_function__\u001B[49m\u001B[43m(\u001B[49m\u001B[43mpublic_api\u001B[49m\u001B[43m,\u001B[49m\u001B[43m \u001B[49m\u001B[43mtypes\u001B[49m\u001B[43m,\u001B[49m\u001B[43m \u001B[49m\u001B[43margs\u001B[49m\u001B[43m,\u001B[49m\u001B[43m \u001B[49m\u001B[43mkwargs\u001B[49m\u001B[43m)\u001B[49m\n\u001B[0;32m   1561\u001B[0m     \u001B[38;5;28;01mif\u001B[39;00m result \u001B[38;5;129;01mis\u001B[39;00m \u001B[38;5;129;01mnot\u001B[39;00m \u001B[38;5;28mNotImplemented\u001B[39m:\n\u001B[0;32m   1562\u001B[0m         \u001B[38;5;28;01mreturn\u001B[39;00m result\n",
      "File \u001B[1;32mC:\\Program Files\\Python311\\Lib\\site-packages\\torch\\utils\\_device.py:77\u001B[0m, in \u001B[0;36mDeviceContext.__torch_function__\u001B[1;34m(self, func, types, args, kwargs)\u001B[0m\n\u001B[0;32m     75\u001B[0m \u001B[38;5;28;01mif\u001B[39;00m func \u001B[38;5;129;01min\u001B[39;00m _device_constructors() \u001B[38;5;129;01mand\u001B[39;00m kwargs\u001B[38;5;241m.\u001B[39mget(\u001B[38;5;124m'\u001B[39m\u001B[38;5;124mdevice\u001B[39m\u001B[38;5;124m'\u001B[39m) \u001B[38;5;129;01mis\u001B[39;00m \u001B[38;5;28;01mNone\u001B[39;00m:\n\u001B[0;32m     76\u001B[0m     kwargs[\u001B[38;5;124m'\u001B[39m\u001B[38;5;124mdevice\u001B[39m\u001B[38;5;124m'\u001B[39m] \u001B[38;5;241m=\u001B[39m \u001B[38;5;28mself\u001B[39m\u001B[38;5;241m.\u001B[39mdevice\n\u001B[1;32m---> 77\u001B[0m \u001B[38;5;28;01mreturn\u001B[39;00m \u001B[43mfunc\u001B[49m\u001B[43m(\u001B[49m\u001B[38;5;241;43m*\u001B[39;49m\u001B[43margs\u001B[49m\u001B[43m,\u001B[49m\u001B[43m \u001B[49m\u001B[38;5;241;43m*\u001B[39;49m\u001B[38;5;241;43m*\u001B[39;49m\u001B[43mkwargs\u001B[49m\u001B[43m)\u001B[49m\n",
      "File \u001B[1;32mC:\\Program Files\\Python311\\Lib\\site-packages\\torch\\_tensor.py:492\u001B[0m, in \u001B[0;36mTensor.backward\u001B[1;34m(self, gradient, retain_graph, create_graph, inputs)\u001B[0m\n\u001B[0;32m    482\u001B[0m \u001B[38;5;28;01mif\u001B[39;00m has_torch_function_unary(\u001B[38;5;28mself\u001B[39m):\n\u001B[0;32m    483\u001B[0m     \u001B[38;5;28;01mreturn\u001B[39;00m handle_torch_function(\n\u001B[0;32m    484\u001B[0m         Tensor\u001B[38;5;241m.\u001B[39mbackward,\n\u001B[0;32m    485\u001B[0m         (\u001B[38;5;28mself\u001B[39m,),\n\u001B[1;32m   (...)\u001B[0m\n\u001B[0;32m    490\u001B[0m         inputs\u001B[38;5;241m=\u001B[39minputs,\n\u001B[0;32m    491\u001B[0m     )\n\u001B[1;32m--> 492\u001B[0m \u001B[43mtorch\u001B[49m\u001B[38;5;241;43m.\u001B[39;49m\u001B[43mautograd\u001B[49m\u001B[38;5;241;43m.\u001B[39;49m\u001B[43mbackward\u001B[49m\u001B[43m(\u001B[49m\n\u001B[0;32m    493\u001B[0m \u001B[43m    \u001B[49m\u001B[38;5;28;43mself\u001B[39;49m\u001B[43m,\u001B[49m\u001B[43m \u001B[49m\u001B[43mgradient\u001B[49m\u001B[43m,\u001B[49m\u001B[43m \u001B[49m\u001B[43mretain_graph\u001B[49m\u001B[43m,\u001B[49m\u001B[43m \u001B[49m\u001B[43mcreate_graph\u001B[49m\u001B[43m,\u001B[49m\u001B[43m \u001B[49m\u001B[43minputs\u001B[49m\u001B[38;5;241;43m=\u001B[39;49m\u001B[43minputs\u001B[49m\n\u001B[0;32m    494\u001B[0m \u001B[43m\u001B[49m\u001B[43m)\u001B[49m\n",
      "File \u001B[1;32mC:\\Program Files\\Python311\\Lib\\site-packages\\torch\\autograd\\__init__.py:251\u001B[0m, in \u001B[0;36mbackward\u001B[1;34m(tensors, grad_tensors, retain_graph, create_graph, grad_variables, inputs)\u001B[0m\n\u001B[0;32m    246\u001B[0m     retain_graph \u001B[38;5;241m=\u001B[39m create_graph\n\u001B[0;32m    248\u001B[0m \u001B[38;5;66;03m# The reason we repeat the same comment below is that\u001B[39;00m\n\u001B[0;32m    249\u001B[0m \u001B[38;5;66;03m# some Python versions print out the first line of a multi-line function\u001B[39;00m\n\u001B[0;32m    250\u001B[0m \u001B[38;5;66;03m# calls in the traceback and some print out the last line\u001B[39;00m\n\u001B[1;32m--> 251\u001B[0m \u001B[43mVariable\u001B[49m\u001B[38;5;241;43m.\u001B[39;49m\u001B[43m_execution_engine\u001B[49m\u001B[38;5;241;43m.\u001B[39;49m\u001B[43mrun_backward\u001B[49m\u001B[43m(\u001B[49m\u001B[43m  \u001B[49m\u001B[38;5;66;43;03m# Calls into the C++ engine to run the backward pass\u001B[39;49;00m\n\u001B[0;32m    252\u001B[0m \u001B[43m    \u001B[49m\u001B[43mtensors\u001B[49m\u001B[43m,\u001B[49m\n\u001B[0;32m    253\u001B[0m \u001B[43m    \u001B[49m\u001B[43mgrad_tensors_\u001B[49m\u001B[43m,\u001B[49m\n\u001B[0;32m    254\u001B[0m \u001B[43m    \u001B[49m\u001B[43mretain_graph\u001B[49m\u001B[43m,\u001B[49m\n\u001B[0;32m    255\u001B[0m \u001B[43m    \u001B[49m\u001B[43mcreate_graph\u001B[49m\u001B[43m,\u001B[49m\n\u001B[0;32m    256\u001B[0m \u001B[43m    \u001B[49m\u001B[43minputs\u001B[49m\u001B[43m,\u001B[49m\n\u001B[0;32m    257\u001B[0m \u001B[43m    \u001B[49m\u001B[43mallow_unreachable\u001B[49m\u001B[38;5;241;43m=\u001B[39;49m\u001B[38;5;28;43;01mTrue\u001B[39;49;00m\u001B[43m,\u001B[49m\n\u001B[0;32m    258\u001B[0m \u001B[43m    \u001B[49m\u001B[43maccumulate_grad\u001B[49m\u001B[38;5;241;43m=\u001B[39;49m\u001B[38;5;28;43;01mTrue\u001B[39;49;00m\u001B[43m,\u001B[49m\n\u001B[0;32m    259\u001B[0m \u001B[43m\u001B[49m\u001B[43m)\u001B[49m\n",
      "\u001B[1;31mKeyboardInterrupt\u001B[0m: "
     ]
    }
   ],
   "source": [
    "from gymnasium.wrappers import TimeLimit\n",
    "from src.torch_device import set_default_torch_device\n",
    "from torch.distributions import Normal\n",
    "%load_ext autoreload\n",
    "%autoreload 2\n",
    "\n",
    "import numpy as np\n",
    "import torch\n",
    "from torch.distributions import Categorical\n",
    "from torch import optim, nn\n",
    "from src.reinforcement_learning.a2c.episodic.a2c import A2C\n",
    "from src.networks.core.seq_net import SeqNet\n",
    "import gymnasium as gym\n",
    "\n",
    "device = set_default_torch_device(\"cuda:0\")\n",
    "print(f'using device {device}')\n",
    "\n",
    "env = gym.make(\"BipedalWalker-v3\", max_episode_steps=3000)\n",
    "\n",
    "print(env)\n",
    "\n",
    "def init_network(out_size: int, is_actor: bool):\n",
    "    return SeqNet.from_layer_provider(\n",
    "        layer_provider=lambda layer_nr, is_last_layer, in_features, out_features: nn.Sequential(\n",
    "            nn.Linear(in_features, out_features),\n",
    "            nn.CELU() if not is_last_layer else (nn.Tanh() if is_actor else nn.Identity())\n",
    "        ),\n",
    "        in_size=24,\n",
    "        out_sizes=[32, 32, 32, out_size]\n",
    "    )\n",
    "\n",
    "def select_action(logits: torch.Tensor):\n",
    "    dist = Normal(loc=logits, scale=0.15)\n",
    "    \n",
    "    action = dist.sample()\n",
    "    \n",
    "    return action.detach().cpu().numpy(), dist.log_prob(action)\n",
    "\n",
    "actor = init_network(4, True)\n",
    "critic = init_network(1, False)\n",
    "\n",
    "A2C(\n",
    "    env=env,\n",
    "    actor_network=actor,\n",
    "    actor_network_optimizer=optim.Adam(actor.parameters()),\n",
    "    critic_network=critic,\n",
    "    critic_network_optimizer=optim.Adam(critic.parameters()),\n",
    "    critic_loss=nn.MSELoss(),\n",
    "    select_action=select_action,\n",
    "    gamma=0.9,\n",
    "    on_episode_done=lambda a2c, info: print(f'{info[\"i_episode\"]:>4}: {info[\"episode_cumulative_reward\"]:> 8.1f}, {info[\"end_timestep\"]:>5}'),\n",
    ").find_optimal_policy(1000)"
   ]
  },
  {
   "cell_type": "code",
   "outputs": [],
   "source": [],
   "metadata": {
    "collapsed": false,
    "ExecuteTime": {
     "end_time": "2024-04-06T19:21:52.946209Z",
     "start_time": "2024-04-06T19:21:52.943234Z"
    }
   },
   "id": "59d060a3b01355a7",
   "execution_count": 5
  },
  {
   "cell_type": "code",
   "outputs": [],
   "source": [
    "nn.Conv2d"
   ],
   "metadata": {
    "collapsed": false
   },
   "id": "7c593851a4f4f6a4"
  }
 ],
 "metadata": {
  "autoscrollcelloutput": false,
  "kernelspec": {
   "display_name": "Python 3 (ipykernel)",
   "language": "python",
   "name": "python3"
  },
  "language_info": {
   "codemirror_mode": {
    "name": "ipython",
    "version": 3
   },
   "file_extension": ".py",
   "mimetype": "text/x-python",
   "name": "python",
   "nbconvert_exporter": "python",
   "pygments_lexer": "ipython3",
   "version": "3.11.1"
  }
 },
 "nbformat": 4,
 "nbformat_minor": 5
}
