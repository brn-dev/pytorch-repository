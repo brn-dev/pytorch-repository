{
 "cells": [
  {
   "cell_type": "code",
   "execution_count": 1,
   "id": "4de06880-6b03-4d58-9afc-5bd1d6263d6c",
   "metadata": {},
   "outputs": [
    {
     "ename": "ImportError",
     "evalue": "cannot import name 'SkipConnection' from 'src.networks.skip_connection' (C:\\Users\\domin\\Git\\pytorch-starter\\src\\networks\\skip_connection.py)",
     "output_type": "error",
     "traceback": [
      "\u001b[1;31m---------------------------------------------------------------------------\u001b[0m",
      "\u001b[1;31mImportError\u001b[0m                               Traceback (most recent call last)",
      "Cell \u001b[1;32mIn[1], line 11\u001b[0m\n\u001b[0;32m      9\u001b[0m \u001b[38;5;28;01mfrom\u001b[39;00m \u001b[38;5;21;01msrc\u001b[39;00m\u001b[38;5;21;01m.\u001b[39;00m\u001b[38;5;21;01mnetwork_analysis\u001b[39;00m \u001b[38;5;28;01mimport\u001b[39;00m count_parameters\n\u001b[0;32m     10\u001b[0m \u001b[38;5;28;01mfrom\u001b[39;00m \u001b[38;5;21;01msrc\u001b[39;00m\u001b[38;5;21;01m.\u001b[39;00m\u001b[38;5;21;01mnetworks\u001b[39;00m\u001b[38;5;21;01m.\u001b[39;00m\u001b[38;5;21;01mfnn\u001b[39;00m \u001b[38;5;28;01mimport\u001b[39;00m \u001b[38;5;241m*\u001b[39m\n\u001b[1;32m---> 11\u001b[0m \u001b[38;5;28;01mfrom\u001b[39;00m \u001b[38;5;21;01msrc\u001b[39;00m\u001b[38;5;21;01m.\u001b[39;00m\u001b[38;5;21;01mnetworks\u001b[39;00m\u001b[38;5;21;01m.\u001b[39;00m\u001b[38;5;21;01mtransformer_encoder\u001b[39;00m \u001b[38;5;28;01mimport\u001b[39;00m \u001b[38;5;241m*\u001b[39m\n\u001b[0;32m     12\u001b[0m \u001b[38;5;28;01mfrom\u001b[39;00m \u001b[38;5;21;01msrc\u001b[39;00m\u001b[38;5;21;01m.\u001b[39;00m\u001b[38;5;21;01mnetworks\u001b[39;00m\u001b[38;5;21;01m.\u001b[39;00m\u001b[38;5;21;01mskip_connection\u001b[39;00m \u001b[38;5;28;01mimport\u001b[39;00m \u001b[38;5;241m*\u001b[39m\n",
      "File \u001b[1;32m~\\Git\\pytorch-starter\\src\\networks\\transformer_encoder.py:9\u001b[0m\n\u001b[0;32m      7\u001b[0m \u001b[38;5;28;01mfrom\u001b[39;00m \u001b[38;5;21;01msrc\u001b[39;00m\u001b[38;5;21;01m.\u001b[39;00m\u001b[38;5;21;01mnetworks\u001b[39;00m\u001b[38;5;21;01m.\u001b[39;00m\u001b[38;5;21;01mmultihead_self_attention\u001b[39;00m \u001b[38;5;28;01mimport\u001b[39;00m MultiheadSelfAttention\n\u001b[0;32m      8\u001b[0m \u001b[38;5;28;01mfrom\u001b[39;00m \u001b[38;5;21;01msrc\u001b[39;00m\u001b[38;5;21;01m.\u001b[39;00m\u001b[38;5;21;01mnetworks\u001b[39;00m\u001b[38;5;21;01m.\u001b[39;00m\u001b[38;5;21;01mnn_base\u001b[39;00m \u001b[38;5;28;01mimport\u001b[39;00m NNBase\n\u001b[1;32m----> 9\u001b[0m \u001b[38;5;28;01mfrom\u001b[39;00m \u001b[38;5;21;01msrc\u001b[39;00m\u001b[38;5;21;01m.\u001b[39;00m\u001b[38;5;21;01mnetworks\u001b[39;00m\u001b[38;5;21;01m.\u001b[39;00m\u001b[38;5;21;01mskip_connection\u001b[39;00m \u001b[38;5;28;01mimport\u001b[39;00m SkipConnection\n\u001b[0;32m     10\u001b[0m \u001b[38;5;28;01mfrom\u001b[39;00m \u001b[38;5;21;01msrc\u001b[39;00m\u001b[38;5;21;01m.\u001b[39;00m\u001b[38;5;21;01mnetworks\u001b[39;00m\u001b[38;5;21;01m.\u001b[39;00m\u001b[38;5;21;01mweighing\u001b[39;00m \u001b[38;5;28;01mimport\u001b[39;00m WeighingTypes, WeighingTrainableChoices\n\u001b[0;32m     13\u001b[0m \u001b[38;5;28;01mclass\u001b[39;00m \u001b[38;5;21;01mTransformerEncoder\u001b[39;00m(NNBase):\n",
      "\u001b[1;31mImportError\u001b[0m: cannot import name 'SkipConnection' from 'src.networks.skip_connection' (C:\\Users\\domin\\Git\\pytorch-starter\\src\\networks\\skip_connection.py)"
     ]
    }
   ],
   "source": [
    "%load_ext autoreload\n",
    "%autoreload 2\n",
    "\n",
    "import dataclasses\n",
    "\n",
    "import torch\n",
    "from torch import nn\n",
    "\n",
    "from src.network_analysis import count_parameters\n",
    "from src.networks.fnn import *\n",
    "from src.networks.transformer_encoder import *\n",
    "from src.networks.skip_connection import *"
   ]
  },
  {
   "cell_type": "code",
   "execution_count": 37,
   "id": "11e15925-2568-4ce2-a7f0-b75e46dfcef4",
   "metadata": {},
   "outputs": [
    {
     "data": {
      "text/plain": [
       "tensor([  0.,  33.,  66.,  99., 132., 165., 198., 231.])"
      ]
     },
     "execution_count": 37,
     "metadata": {},
     "output_type": "execute_result"
    }
   ],
   "source": [
    "from src.networks.dense_layer_stack import AdditiveDenseLayerStack\n",
    "dense_layer_stack = AdditiveDenseLayerStack(\n",
    "    lambda _1, _2, _3: nn.Identity(), \n",
    "    num_layers=3, \n",
    "    num_features=8,\n",
    "    initial_direct_connection_weight = 3,\n",
    "    initial_skip_connection_weight = 2,\n",
    "    connections = np.array([\n",
    "        [0, 0],\n",
    "        [0, 1],\n",
    "        [1, 1],\n",
    "        [2, 2],\n",
    "        [3, 3],\n",
    "    ]),\n",
    ")\n",
    "dense_layer_stack(torch.arange(8))\n"
   ]
  },
  {
   "cell_type": "code",
   "execution_count": 19,
   "id": "edbcc876-2ddc-4911-a5f9-c18c1f8eaa50",
   "metadata": {
    "scrolled": true
   },
   "outputs": [
    {
     "data": {
      "text/plain": [
       "FNN(\n",
       "  (fnn): Sequential(\n",
       "    (0): Linear(in_features=1, out_features=2, bias=True)\n",
       "    (1): SELU()\n",
       "    (2): Linear(in_features=2, out_features=5, bias=True)\n",
       "    (3): SELU()\n",
       "    (4): Linear(in_features=5, out_features=3, bias=True)\n",
       "    (5): SELU()\n",
       "  )\n",
       ")"
      ]
     },
     "execution_count": 19,
     "metadata": {},
     "output_type": "execute_result"
    }
   ],
   "source": [
    "FNN.self_normalizing(\n",
    "    1, \n",
    "    [2, 5], \n",
    "    3, \n",
    "    activate_last_layer=True, \n",
    "    # dropout_p=0.1, \n",
    "    # dropout_last_layer=True\n",
    ")"
   ]
  },
  {
   "cell_type": "code",
   "execution_count": 35,
   "id": "334db459-c9a0-488c-945e-24a86417f4e1",
   "metadata": {},
   "outputs": [
    {
     "name": "stdout",
     "output_type": "stream",
     "text": [
      "168704\n"
     ]
    }
   ],
   "source": [
    "transformer = TransformerEncoder(\n",
    "    num_layers=8,\n",
    "    num_features=32,\n",
    "    attention_num_heads=4,\n",
    "    feedforward_provider=lambda num_features: FNN(\n",
    "        input_size=num_features, hidden_sizes=[256], output_size=num_features\n",
    "    ),\n",
    "    residual_connection_weight_affine=True,\n",
    ")\n",
    "print(count_parameters(transformer))\n",
    "\n",
    "# nn_transformer = nn.TransformerEncoder(\n",
    "#     nn.TransformerEncoderLayer(\n",
    "#         d_model=512,\n",
    "#         nhead=8,\n",
    "#     ),\n",
    "#     num_layers=6\n",
    "# )\n",
    "# print(count_parameters(nn_transformer))\n",
    "\n",
    "# count_parameters(transformer) / count_parameters(nn_transformer)"
   ]
  },
  {
   "cell_type": "code",
   "execution_count": 28,
   "id": "585999ab-50c8-442b-9037-055307788171",
   "metadata": {},
   "outputs": [
    {
     "data": {
      "text/plain": [
       "18914304"
      ]
     },
     "execution_count": 28,
     "metadata": {},
     "output_type": "execute_result"
    }
   ],
   "source": []
  },
  {
   "cell_type": "code",
   "execution_count": 29,
   "id": "29ea2e77-3235-49dc-af2c-eb9832def713",
   "metadata": {},
   "outputs": [
    {
     "data": {
      "text/plain": [
       "1.0"
      ]
     },
     "execution_count": 29,
     "metadata": {},
     "output_type": "execute_result"
    }
   ],
   "source": []
  },
  {
   "cell_type": "code",
   "execution_count": null,
   "id": "56b7cd0a-5517-4f98-b74b-9f8f72a5d29e",
   "metadata": {},
   "outputs": [],
   "source": []
  },
  {
   "cell_type": "code",
   "execution_count": null,
   "id": "e6b3fe69-0a74-4495-9e45-8569dffd6b60",
   "metadata": {},
   "outputs": [],
   "source": []
  }
 ],
 "metadata": {
  "kernelspec": {
   "display_name": "Python 3 (ipykernel)",
   "language": "python",
   "name": "python3"
  },
  "language_info": {
   "codemirror_mode": {
    "name": "ipython",
    "version": 3
   },
   "file_extension": ".py",
   "mimetype": "text/x-python",
   "name": "python",
   "nbconvert_exporter": "python",
   "pygments_lexer": "ipython3",
   "version": "3.11.7"
  }
 },
 "nbformat": 4,
 "nbformat_minor": 5
}
