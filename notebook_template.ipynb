{
 "cells": [
  {
   "cell_type": "code",
   "execution_count": 3,
   "id": "4de06880-6b03-4d58-9afc-5bd1d6263d6c",
   "metadata": {},
   "outputs": [
    {
     "name": "stdout",
     "output_type": "stream",
     "text": [
      "The autoreload extension is already loaded. To reload it, use:\n",
      "  %reload_ext autoreload\n"
     ]
    }
   ],
   "source": [
    "%load_ext autoreload\n",
    "%autoreload 2\n",
    "\n",
    "import dataclasses\n",
    "\n",
    "from src.networks.fnn import *\n",
    "from src.networks.self_normalizing_fnn import *"
   ]
  },
  {
   "cell_type": "code",
   "execution_count": 7,
   "id": "edbcc876-2ddc-4911-a5f9-c18c1f8eaa50",
   "metadata": {},
   "outputs": [
    {
     "data": {
      "text/plain": [
       "FNN(\n",
       "  (fnn): Sequential(\n",
       "    (0): Linear(in_features=1, out_features=2, bias=True)\n",
       "    (1): SELU()\n",
       "    (2): Linear(in_features=2, out_features=3, bias=True)\n",
       "    (3): SELU()\n",
       "  )\n",
       ")"
      ]
     },
     "execution_count": 7,
     "metadata": {},
     "output_type": "execute_result"
    }
   ],
   "source": [
    "FNN.from_hyper_parameters(SelfNormalizingFNNHyperParameters(1, [2], 3, activate_last_layer=True))"
   ]
  },
  {
   "cell_type": "code",
   "execution_count": null,
   "id": "334db459-c9a0-488c-945e-24a86417f4e1",
   "metadata": {},
   "outputs": [],
   "source": []
  },
  {
   "cell_type": "code",
   "execution_count": null,
   "id": "585999ab-50c8-442b-9037-055307788171",
   "metadata": {},
   "outputs": [],
   "source": []
  },
  {
   "cell_type": "code",
   "execution_count": null,
   "id": "29ea2e77-3235-49dc-af2c-eb9832def713",
   "metadata": {},
   "outputs": [],
   "source": []
  },
  {
   "cell_type": "code",
   "execution_count": null,
   "id": "56b7cd0a-5517-4f98-b74b-9f8f72a5d29e",
   "metadata": {},
   "outputs": [],
   "source": []
  },
  {
   "cell_type": "code",
   "execution_count": null,
   "id": "e6b3fe69-0a74-4495-9e45-8569dffd6b60",
   "metadata": {},
   "outputs": [],
   "source": []
  }
 ],
 "metadata": {
  "kernelspec": {
   "display_name": "Python 3 (ipykernel)",
   "language": "python",
   "name": "python3"
  },
  "language_info": {
   "codemirror_mode": {
    "name": "ipython",
    "version": 3
   },
   "file_extension": ".py",
   "mimetype": "text/x-python",
   "name": "python",
   "nbconvert_exporter": "python",
   "pygments_lexer": "ipython3",
   "version": "3.11.7"
  }
 },
 "nbformat": 4,
 "nbformat_minor": 5
}
