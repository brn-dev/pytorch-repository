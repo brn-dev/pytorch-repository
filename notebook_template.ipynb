{
 "cells": [
  {
   "cell_type": "code",
   "source": [
    "import inspect\n",
    "import os\n",
    "import time\n",
    "from pathlib import Path\n",
    "\n",
    "from gymnasium import Env\n",
    "\n",
    "from src.datetime import get_current_timestamp\n",
    "from src.model_db import ModelDB, DummyModelDB\n",
    "from src.module_analysis import count_parameters, get_gradients_per_parameter\n",
    "from src.moving_averages import ExponentialMovingAverage\n",
    "from src.networks.core.tensor_shape import TensorShape\n",
    "from src.networks.core.torch_wrappers.torch_net import TorchNet\n",
    "from src.reinforcement_learning.core.generalized_advantage_estimate import compute_gae_and_returns\n",
    "from src.reinforcement_learning.core.objectives import ObjectiveLoggingConfig\n",
    "from src.reinforcement_learning.core.policies.base_policy import BasePolicy\n",
    "from src.reinforcement_learning.gym.envs.normalize_reward_wrapper import NormalizeRewardWrapper\n",
    "from src.stopwatch import Stopwatch\n",
    "from src.summary_statistics import format_summary_statics\n",
    "from src.reinforcement_learning.core.policies.actor_critic_policy import ActorCriticPolicy\n",
    "from typing import Any, SupportsFloat, Optional\n",
    "from gymnasium.wrappers import RecordVideo, AutoResetWrapper, NormalizeReward, TransformReward, TransformObservation, \\\n",
    "    RescaleAction, ClipAction\n",
    "from src.reinforcement_learning.core.callback import Callback\n",
    "from src.reinforcement_learning.a2c.a2c import A2C\n",
    "from src.reinforcement_learning.ppo.ppo import PPO, PPOLoggingConfig\n",
    "from src.reinforcement_learning.core.normalization import NormalizationType\n",
    "from src.reinforcement_learning.gym.envs.step_skip_wrapper import StepSkipWrapper\n",
    "from src.reinforcement_learning.core.rl_base import RLBase\n",
    "from src.torch_device import set_default_torch_device\n",
    "from src.reinforcement_learning.gym.envs.parallelize_env import parallelize_env_async\n",
    "from torch.distributions import Normal, Categorical\n",
    "\n",
    "import torch\n",
    "from torch import optim, nn\n",
    "import torch.distributions as dist\n",
    "from src.networks.core.seq_net import SeqNet\n",
    "import gymnasium as gym\n",
    "import numpy as np\n",
    "\n",
    "%load_ext autoreload\n",
    "%autoreload 2"
   ],
   "metadata": {
    "collapsed": false,
    "ExecuteTime": {
     "end_time": "2024-04-29T20:55:29.295732Z",
     "start_time": "2024-04-29T20:55:24.043498Z"
    }
   },
   "id": "ba8c59a3eba2f172",
   "outputs": [],
   "execution_count": 1
  },
  {
   "cell_type": "code",
   "source": [
    "policy_id: str\n",
    "policy: Optional[BasePolicy]\n",
    "def get_policy(create_new_if_exists: bool):\n",
    "    \n",
    "    global policy_id, policy\n",
    "    \n",
    "    policy_in_ram = 'policy' in globals()\n",
    "    if not policy_in_ram or create_new_if_exists:\n",
    "        if not policy_in_ram:\n",
    "            print('No policy in RAM, creating a new one')\n",
    "        \n",
    "        policy_id = get_current_timestamp()\n",
    "        policy = init_policy()\n",
    "        print(f'New policy {policy_id} created')\n",
    "    \n",
    "    if parent_policy_id is not None:\n",
    "        policy_db.load_model_state_dict(policy, parent_policy_id)\n",
    "        print(f'Loading state dict from policy {parent_policy_id}')\n",
    "    \n",
    "    return policy_id, policy\n",
    "\n",
    "def init_policy():\n",
    "    class A2CNetwork(nn.Module):\n",
    "\n",
    "        def __init__(self):\n",
    "            super().__init__()\n",
    "            \n",
    "            in_size = 376\n",
    "            shared_out_sizes = []\n",
    "            actor_out_sizes = [512, 512, 256, 256, 256, 256, 256, 256, 17]\n",
    "            critic_out_sizes = [512, 512, 256, 256, 256, 1]\n",
    "            \n",
    "            hidden_activation_function = nn.ELU()\n",
    "            actor_out_activation_function = nn.Tanh()\n",
    "            critic_out_activation_function = nn.Identity()\n",
    "            \n",
    "            self.has_shared = len(shared_out_sizes) > 0\n",
    "            \n",
    "            if self.has_shared:\n",
    "                self.shared = SeqNet.from_layer_provider(\n",
    "                    layer_provider=lambda layer_nr, is_last_layer, in_features, out_features: nn.Sequential(\n",
    "                        nn.Linear(in_features, out_features),\n",
    "                        hidden_activation_function\n",
    "                    ),\n",
    "                    in_size=in_size,\n",
    "                    out_sizes=shared_out_sizes\n",
    "                )\n",
    "            else:\n",
    "                self.shared = TorchNet(nn.Identity(), in_shape=TensorShape(features=in_size), out_shape=TensorShape(features=in_size))\n",
    "\n",
    "            self.actor = SeqNet.from_layer_provider(\n",
    "                layer_provider=lambda layer_nr, is_last_layer, in_features, out_features: nn.Sequential(\n",
    "                    nn.Linear(in_features, out_features),\n",
    "                    actor_out_activation_function if is_last_layer else hidden_activation_function\n",
    "                ),\n",
    "                in_size=self.shared.out_shape.get_definite_features(),\n",
    "                out_sizes=actor_out_sizes\n",
    "            )\n",
    "\n",
    "            self.critic = SeqNet.from_layer_provider(\n",
    "                layer_provider=lambda layer_nr, is_last_layer, in_features, out_features: nn.Sequential(\n",
    "                    nn.Linear(in_features, out_features),\n",
    "                    critic_out_activation_function if is_last_layer else hidden_activation_function\n",
    "                ),\n",
    "                in_size=self.shared.out_shape.get_definite_features(),\n",
    "                out_sizes=critic_out_sizes\n",
    "            )\n",
    "\n",
    "        def forward(self, x: torch.Tensor):\n",
    "            if self.has_shared:\n",
    "                shared_out = self.shared(x)\n",
    "            else:\n",
    "                shared_out = x\n",
    "\n",
    "            return self.actor(shared_out), self.critic(shared_out)\n",
    "\n",
    "    return ActorCriticPolicy(A2CNetwork(), lambda action_logits: dist.Normal(loc=action_logits, scale=policy_action_std))\n",
    "\n",
    "score_mean_ema = ExponentialMovingAverage(alpha=0.1)\n",
    "stopwatch = Stopwatch()\n",
    "best_iteration_score = -1e6\n",
    "\n",
    "def on_rollout_done(rl: PPO, step: int, info: dict[str, Any]):    \n",
    "    if 'unnormalized_rewards' in info['rollout']:\n",
    "        unnormalized_rewards = info['rollout']['unnormalized_rewards']\n",
    "        _, gamma_1_returns = compute_gae_and_returns(\n",
    "            value_estimates=np.zeros_like(rl.buffer.rewards[:len(unnormalized_rewards)]),\n",
    "            rewards=unnormalized_rewards,\n",
    "            episode_starts=rl.buffer.episode_starts[:len(unnormalized_rewards)],\n",
    "            last_values=np.zeros_like(rl.buffer.rewards[0], dtype=float),\n",
    "            last_dones=np.zeros_like(rl.buffer.episode_starts[0], dtype=bool),\n",
    "            gamma=1.0,\n",
    "            gae_lambda=1.0,\n",
    "            normalize_rewards=None,\n",
    "            normalize_advantages=None,\n",
    "        )\n",
    "    else:\n",
    "        _, gamma_1_returns = rl.buffer.compute_gae_and_returns(\n",
    "            last_values=torch.zeros_like(rl.buffer.value_estimates[0]),\n",
    "            last_dones=np.zeros_like(rl.buffer.episode_starts[0], dtype=bool),\n",
    "            gamma=1.0,\n",
    "            gae_lambda=1.0,\n",
    "            normalize_advantages=None,\n",
    "            normalize_rewards=None,\n",
    "        )\n",
    "    \n",
    "    episode_scores = gamma_1_returns[\n",
    "        rl.buffer.episode_starts[:rl.buffer.pos]\n",
    "    ]\n",
    "    \n",
    "    iteration_score = episode_scores.mean()\n",
    "    score_moving_average = score_mean_ema.update(iteration_score)\n",
    "    global best_iteration_score\n",
    "    if iteration_score >= best_iteration_score:\n",
    "        best_iteration_score = iteration_score\n",
    "        policy_db.save_model_state_dict(\n",
    "            model=policy,\n",
    "            model_id=policy_id,\n",
    "            parent_model_id=parent_policy_id,\n",
    "            model_info={'score': iteration_score.item()},\n",
    "            init_function=init_policy\n",
    "        )\n",
    "        \n",
    "    info['episode_scores'] = episode_scores\n",
    "    info['score_moving_average'] = score_moving_average\n",
    "\n",
    "def on_optimization_done(rl: PPO, step: int, info: dict[str, Any]):\n",
    "    time_taken = stopwatch.reset()\n",
    "    \n",
    "    episode_scores = info['episode_scores']\n",
    "    score_moving_average = info['score_moving_average']\n",
    "    \n",
    "    scores = format_summary_statics(\n",
    "        episode_scores, \n",
    "        mean_format=' 6.1f',\n",
    "        std_format='4.1f',\n",
    "        min_value_format=' 6.1f',\n",
    "        max_value_format='5.1f',\n",
    "    )\n",
    "    advantages = format_summary_statics(\n",
    "        info['advantages'], \n",
    "        mean_format=' 6.3f',\n",
    "        std_format='.1f',\n",
    "        min_value_format=' 7.3f',\n",
    "        max_value_format='6.3f',\n",
    "    )\n",
    "    abs_actor_obj = format_summary_statics(\n",
    "        rl.weigh_actor_objective(info['raw_actor_objective']),  \n",
    "        mean_format=' 5.3f',\n",
    "        std_format='5.3f',\n",
    "        min_value_format=None,\n",
    "        max_value_format=None,\n",
    "    )\n",
    "    critic_obj = format_summary_statics(\n",
    "        info['weighted_critic_objective'], \n",
    "        mean_format='5.3f',\n",
    "        std_format='5.3f',\n",
    "        min_value_format=None,\n",
    "        max_value_format=None,\n",
    "    )\n",
    "    resets = format_summary_statics(\n",
    "        rl.buffer.episode_starts.astype(int).sum(axis=0), \n",
    "        mean_format='.2f',\n",
    "        std_format=None,\n",
    "        min_value_format='1d',\n",
    "        max_value_format=None,\n",
    "    )\n",
    "    kl_div = format_summary_statics(\n",
    "        info['actor_kl_divergence'], \n",
    "        mean_format='6.4f',\n",
    "        std_format='7.5f',\n",
    "        min_value_format=None,\n",
    "        max_value_format='6.4f',\n",
    "    )\n",
    "    ppo_epochs = info['nr_ppo_epochs']\n",
    "    expl_var = rl.buffer.compute_critic_explained_variance(info['returns'])\n",
    "    print(f\"{step = : >7}, \"\n",
    "          f\"{scores = :s}, \"\n",
    "          f'score_ema = {score_moving_average: 6.1f}, '\n",
    "          f\"{advantages = :s}, \"\n",
    "          f\"{abs_actor_obj = :s}, \"\n",
    "          f\"{critic_obj = :s}, \"\n",
    "          f\"{expl_var = :.3f}, \"\n",
    "          f\"{resets = :s}, \"\n",
    "          f\"{kl_div = :s}, \"\n",
    "          f\"{ppo_epochs = }, \"\n",
    "          f\"time = {time_taken:4.1f}\")\n",
    "    \n",
    "    # for param_name, param_grad in get_gradients_per_parameter(rl.policy, param_type='weight'):\n",
    "    #     print(f'{param_name + \".grad\":<50}: ' + format_summary_statics(\n",
    "    #         param_grad,\n",
    "    #         mean_format=' 8.5f',\n",
    "    #         std_format='.5f',\n",
    "    #         min_value_format=' 8.5f',\n",
    "    #         max_value_format='7.5f',\n",
    "    #     ))\n",
    "    # \n",
    "    # print('\\n')\n",
    "\n",
    "device = set_default_torch_device(\"cuda:0\") if True else set_default_torch_device('cpu')\n",
    "print(f'using device {device}')\n",
    "\n",
    "def create_env(render_mode: str | None):\n",
    "    return gym.make(env_name, render_mode=render_mode, **env_kwargs)\n",
    "\n",
    "def wrap_env(_env: Env):\n",
    "    # _env = NormalizeRewardWrapper(_env, gamma=gamma)\n",
    "    # _env = TransformObservation(_env, lambda _obs: _obs / 255)\n",
    "    # _env = TransformReward(_env, lambda _reward: 0.01 * _reward) \n",
    "    _env = RescaleAction(_env, min_action=-1.0, max_action=1.0)\n",
    "    _env = ClipAction(_env)\n",
    "    return _env\n",
    "\n",
    "env_name = 'Humanoid-v4'\n",
    "env_kwargs = {'forward_reward_weight': 1.25, 'healthy_reward': 0.5, 'ctrl_cost_weight': 0.001 }\n",
    "num_envs = 16\n",
    "    \n",
    "# policy_db = ModelTinyDB(base_path=f'saved_models/rl/{env_name}')\n",
    "policy_db = DummyModelDB()\n",
    "\n",
    "parent_policy_id=None\n",
    "policy_action_std=0.15\n",
    "\n",
    "policy_id, policy = get_policy(create_new_if_exists=True)\n",
    "print(f'{count_parameters(policy) = }')\n",
    "\n",
    "gamma = 0.995\n",
    "\n",
    "env = parallelize_env_async(lambda: create_env(render_mode=None), num_envs)\n",
    "try:\n",
    "    env = wrap_env(env)\n",
    "    print(f'{env = }, {num_envs = }')\n",
    "    \n",
    "    PPO(\n",
    "        env=env,\n",
    "        policy=policy.to(device),\n",
    "        policy_optimizer=lambda pol: optim.Adam(pol.parameters(), lr=1e-5),\n",
    "        buffer_size=2500,\n",
    "        gamma=gamma,\n",
    "        gae_lambda=1.0,\n",
    "        normalize_rewards=None,\n",
    "        normalize_advantages=NormalizationType.Std,\n",
    "        weigh_actor_objective=lambda obj: 1.0 * obj,\n",
    "        weigh_critic_objective=lambda obj: 0.5 * obj,\n",
    "        ppo_max_epochs=10,\n",
    "        ppo_kl_target=0.01,\n",
    "        ppo_batch_size=500,\n",
    "        action_ratio_clip_range=0.02,\n",
    "        callback=Callback(on_rollout_done=on_rollout_done, on_optimization_done=on_optimization_done),\n",
    "        logging_config=PPOLoggingConfig(log_returns=True, log_advantages=True, \n",
    "                                        log_rollout_infos=True, log_actor_kl_divergence=True,\n",
    "                                        actor_objective=ObjectiveLoggingConfig(log_raw=True), \n",
    "                                        critic_objective=ObjectiveLoggingConfig(log_weighted=True), )\n",
    "    ).train(5_000_000)\n",
    "except KeyboardInterrupt:\n",
    "    print('keyboard interrupt')\n",
    "finally:\n",
    "    print('closing envs')\n",
    "    time.sleep(2.5)\n",
    "    env.close()\n",
    "    print('envs closed')\n",
    "    policy_db.close()\n",
    "    print('model db closed')\n",
    "\n",
    "print('done')"
   ],
   "metadata": {
    "collapsed": false,
    "ExecuteTime": {
     "end_time": "2024-04-29T21:01:17.027383Z",
     "start_time": "2024-04-29T20:58:42.096121Z"
    }
   },
   "id": "f71efe062771e81b",
   "outputs": [
    {
     "name": "stdout",
     "output_type": "stream",
     "text": [
      "using device cuda:0\n",
      "New policy 2024-04-29_22.58.42 created\n",
      "count_parameters(policy) = 1639186\n",
      "env = <ClipAction<RescaleAction<AsyncVectorEnv instance>>>, num_envs = 16\n",
      "step =    2500, scores =   16.4 ±  2.3 [   1.4,  25.4], score_ema =   16.4, advantages =  2.056 ± 1.0 [ -0.122,  5.132], abs_actor_obj = -2.098 ± 1.020, critic_obj = 49.084 ± 2.442, expl_var = -0.009, resets = 103.06 ≥ 99, kl_div = 0.0011 ± 0.00108 ≤ 0.0036, ppo_epochs = 10, time = 13.9\n",
      "step =    5000, scores =   16.2 ±  2.3 [   1.0,  24.8], score_ema =   16.4, advantages =  1.718 ± 1.0 [ -1.165,  4.614], abs_actor_obj = -1.728 ± 1.088, critic_obj = 41.879 ± 1.317, expl_var = -0.140, resets = 104.94 ≥ 102, kl_div = 0.0051 ± 0.00484 ≤ 0.0157, ppo_epochs = 6, time =  9.4\n",
      "step =    7500, scores =   16.4 ±  2.4 [   0.9,  26.8], score_ema =   16.4, advantages =  1.452 ± 1.0 [ -1.107,  4.478], abs_actor_obj = -1.322 ± 1.487, critic_obj = 39.422 ± 0.934, expl_var = -0.307, resets = 102.75 ≥ 99, kl_div = 0.0053 ± 0.00501 ≤ 0.0160, ppo_epochs = 5, time =  9.3\n",
      "step =   10000, scores =   17.9 ±  2.9 [   2.4,  30.9], score_ema =   16.6, advantages =  1.302 ± 1.0 [ -1.781,  4.518], abs_actor_obj = -0.972 ± 2.035, critic_obj = 44.204 ± 1.562, expl_var = -0.359, resets = 96.69 ≥ 93, kl_div = 0.0052 ± 0.00556 ≤ 0.0184, ppo_epochs = 4, time =  8.9\n",
      "step =   12500, scores =   21.4 ±  5.2 [   1.0,  48.2], score_ema =   17.0, advantages =  1.228 ± 1.0 [ -1.210,  5.103], abs_actor_obj = -0.881 ± 2.024, critic_obj = 63.346 ± 2.103, expl_var = -0.232, resets = 82.69 ≥ 79, kl_div = 0.0064 ± 0.00531 ≤ 0.0154, ppo_epochs = 3, time =  9.6\n",
      "step =   15000, scores =   29.9 ± 12.8 [   2.0,  78.3], score_ema =   18.3, advantages =  1.135 ± 1.0 [ -1.070,  5.008], abs_actor_obj = -0.846 ± 1.869, critic_obj = 156.557 ± 14.402, expl_var = -0.058, resets = 62.44 ≥ 52, kl_div = 0.0052 ± 0.00501 ≤ 0.0156, ppo_epochs = 3, time =  9.6\n",
      "step =   17500, scores =   45.3 ± 18.7 [   2.0,  84.7], score_ema =   21.0, advantages =  1.281 ± 1.0 [ -2.145,  3.875], abs_actor_obj = -0.935 ± 2.109, critic_obj = 304.851 ± 18.481, expl_var = -0.066, resets = 46.25 ≥ 41, kl_div = 0.0056 ± 0.00502 ≤ 0.0162, ppo_epochs = 4, time =  9.6\n",
      "step =   20000, scores =   57.4 ± 16.7 [   3.9,  84.1], score_ema =   24.7, advantages =  1.279 ± 1.0 [ -2.309,  3.642], abs_actor_obj = -0.650 ± 2.929, critic_obj = 353.057 ± 21.309, expl_var = -0.190, resets = 38.50 ≥ 35, kl_div = 0.0051 ± 0.00501 ≤ 0.0158, ppo_epochs = 3, time =  9.8\n",
      "step =   22500, scores =   59.7 ± 16.3 [   2.9,  95.8], score_ema =   28.2, advantages =  1.076 ± 1.0 [ -5.233,  3.614], abs_actor_obj =  0.070 ± 4.298, critic_obj = 330.751 ± 14.388, expl_var = -0.312, resets = 37.31 ≥ 34, kl_div = 0.0059 ± 0.00540 ≤ 0.0173, ppo_epochs = 3, time = 12.8\n",
      "step =   25000, scores =   58.6 ± 15.6 [  -0.1,  90.3], score_ema =   31.2, advantages =  0.762 ± 1.0 [ -5.677,  3.233], abs_actor_obj =  1.266 ± 6.158, critic_obj = 290.870 ± 8.991, expl_var = -0.535, resets = 37.19 ≥ 35, kl_div = 0.0062 ± 0.00553 ≤ 0.0162, ppo_epochs = 2, time = 15.5\n",
      "step =   27500, scores =   55.4 ± 13.2 [   2.8,  82.9], score_ema =   33.6, advantages =  0.548 ± 1.0 [ -6.159,  2.922], abs_actor_obj =  2.294 ± 7.757, critic_obj = 243.779 ± 5.946, expl_var = -0.866, resets = 38.19 ≥ 37, kl_div = 0.0060 ± 0.00479 ≤ 0.0153, ppo_epochs = 3, time = 13.6\n",
      "step =   30000, scores =   60.1 ± 10.0 [   5.0,  82.3], score_ema =   36.3, advantages =  0.580 ± 1.0 [ -5.666,  2.763], abs_actor_obj =  2.173 ± 7.857, critic_obj = 256.672 ± 8.922, expl_var = -0.976, resets = 36.31 ≥ 35, kl_div = 0.0055 ± 0.00506 ≤ 0.0154, ppo_epochs = 3, time = 12.2\n",
      "step =   32500, scores =   59.4 ± 10.5 [   1.8,  82.4], score_ema =   38.6, advantages =  0.531 ± 1.0 [ -6.733,  6.766], abs_actor_obj =  2.430 ± 8.038, critic_obj = 252.729 ± 5.092, expl_var = -0.967, resets = 37.19 ≥ 35, kl_div = 0.0059 ± 0.00560 ≤ 0.0173, ppo_epochs = 3, time = 10.0\n",
      "keyboard interrupt\n",
      "closing envs\n",
      "envs closed\n",
      "model db closed\n",
      "done\n"
     ]
    }
   ],
   "execution_count": 4
  },
  {
   "cell_type": "code",
   "outputs": [
    {
     "name": "stdout",
     "output_type": "stream",
     "text": [
      "Moviepy - Building video C:\\Users\\domin\\Videos\\rl\\2024-04-28_14.27.40\\rl-video-episode-0.mp4.\n",
      "Moviepy - Writing video C:\\Users\\domin\\Videos\\rl\\2024-04-28_14.27.40\\rl-video-episode-0.mp4\n"
     ]
    },
    {
     "name": "stderr",
     "output_type": "stream",
     "text": [
      "                                                             \r"
     ]
    },
    {
     "name": "stdout",
     "output_type": "stream",
     "text": [
      "Moviepy - Done !\n",
      "Moviepy - video ready C:\\Users\\domin\\Videos\\rl\\2024-04-28_14.27.40\\rl-video-episode-0.mp4\n",
      "Moviepy - Building video C:\\Users\\domin\\Videos\\rl\\2024-04-28_14.27.40\\rl-video-episode-1.mp4.\n",
      "Moviepy - Writing video C:\\Users\\domin\\Videos\\rl\\2024-04-28_14.27.40\\rl-video-episode-1.mp4\n"
     ]
    },
    {
     "name": "stderr",
     "output_type": "stream",
     "text": [
      "                                                             \r"
     ]
    },
    {
     "name": "stdout",
     "output_type": "stream",
     "text": [
      "Moviepy - Done !\n",
      "Moviepy - video ready C:\\Users\\domin\\Videos\\rl\\2024-04-28_14.27.40\\rl-video-episode-1.mp4\n",
      "Moviepy - Building video C:\\Users\\domin\\Videos\\rl\\2024-04-28_14.27.40\\rl-video-episode-2.mp4.\n",
      "Moviepy - Writing video C:\\Users\\domin\\Videos\\rl\\2024-04-28_14.27.40\\rl-video-episode-2.mp4\n"
     ]
    },
    {
     "name": "stderr",
     "output_type": "stream",
     "text": [
      "                                                             \r"
     ]
    },
    {
     "name": "stdout",
     "output_type": "stream",
     "text": [
      "Moviepy - Done !\n",
      "Moviepy - video ready C:\\Users\\domin\\Videos\\rl\\2024-04-28_14.27.40\\rl-video-episode-2.mp4\n",
      "Moviepy - Building video C:\\Users\\domin\\Videos\\rl\\2024-04-28_14.27.40\\rl-video-episode-3.mp4.\n",
      "Moviepy - Writing video C:\\Users\\domin\\Videos\\rl\\2024-04-28_14.27.40\\rl-video-episode-3.mp4\n"
     ]
    },
    {
     "name": "stderr",
     "output_type": "stream",
     "text": [
      "                                                             \r"
     ]
    },
    {
     "name": "stdout",
     "output_type": "stream",
     "text": [
      "Moviepy - Done !\n",
      "Moviepy - video ready C:\\Users\\domin\\Videos\\rl\\2024-04-28_14.27.40\\rl-video-episode-3.mp4\n",
      "Moviepy - Building video C:\\Users\\domin\\Videos\\rl\\2024-04-28_14.27.40\\rl-video-episode-4.mp4.\n",
      "Moviepy - Writing video C:\\Users\\domin\\Videos\\rl\\2024-04-28_14.27.40\\rl-video-episode-4.mp4\n"
     ]
    },
    {
     "name": "stderr",
     "output_type": "stream",
     "text": [
      "                                                             \r"
     ]
    },
    {
     "name": "stdout",
     "output_type": "stream",
     "text": [
      "Moviepy - Done !\n",
      "Moviepy - video ready C:\\Users\\domin\\Videos\\rl\\2024-04-28_14.27.40\\rl-video-episode-4.mp4\n",
      "Moviepy - Building video C:\\Users\\domin\\Videos\\rl\\2024-04-28_14.27.40\\rl-video-episode-5.mp4.\n",
      "Moviepy - Writing video C:\\Users\\domin\\Videos\\rl\\2024-04-28_14.27.40\\rl-video-episode-5.mp4\n"
     ]
    },
    {
     "name": "stderr",
     "output_type": "stream",
     "text": [
      "                                                             \r"
     ]
    },
    {
     "name": "stdout",
     "output_type": "stream",
     "text": [
      "Moviepy - Done !\n",
      "Moviepy - video ready C:\\Users\\domin\\Videos\\rl\\2024-04-28_14.27.40\\rl-video-episode-5.mp4\n",
      "Moviepy - Building video C:\\Users\\domin\\Videos\\rl\\2024-04-28_14.27.40\\rl-video-episode-6.mp4.\n",
      "Moviepy - Writing video C:\\Users\\domin\\Videos\\rl\\2024-04-28_14.27.40\\rl-video-episode-6.mp4\n"
     ]
    },
    {
     "name": "stderr",
     "output_type": "stream",
     "text": [
      "                                                             \r"
     ]
    },
    {
     "name": "stdout",
     "output_type": "stream",
     "text": [
      "keyboard interrupt\n",
      "closing record_env\n",
      "Moviepy - Building video C:\\Users\\domin\\Videos\\rl\\2024-04-28_14.27.40\\rl-video-episode-6.mp4.\n",
      "Moviepy - Writing video C:\\Users\\domin\\Videos\\rl\\2024-04-28_14.27.40\\rl-video-episode-6.mp4\n"
     ]
    },
    {
     "name": "stderr",
     "output_type": "stream",
     "text": [
      "                                                             "
     ]
    },
    {
     "name": "stdout",
     "output_type": "stream",
     "text": [
      "Moviepy - Done !\n",
      "Moviepy - video ready C:\\Users\\domin\\Videos\\rl\\2024-04-28_14.27.40\\rl-video-episode-6.mp4\n",
      "record_env closed\n"
     ]
    },
    {
     "name": "stderr",
     "output_type": "stream",
     "text": [
      "\r"
     ]
    }
   ],
   "source": [
    "record_env: gym.Env = create_env(render_mode='rgb_array')\n",
    "try:\n",
    "    if 'render_fps' not in record_env.metadata:\n",
    "        record_env.metadata['render_fps'] = 30\n",
    "    record_env = wrap_env(record_env)\n",
    "    record_env = AutoResetWrapper(\n",
    "        RecordVideo(record_env, video_folder=rf'C:\\Users\\domin\\Videos\\rl\\{get_current_timestamp()}', episode_trigger=lambda ep_nr: True)\n",
    "    )\n",
    "    def record(max_steps: int):\n",
    "        obs, info = record_env.reset()\n",
    "        for step in range(max_steps):\n",
    "            actions_dist = policy.predict_actions(obs)\n",
    "            actions = actions_dist.sample().detach().cpu().numpy()\n",
    "            obs, reward, terminated, truncated, info = record_env.step(actions)\n",
    "    \n",
    "    record(10000)\n",
    "except KeyboardInterrupt:\n",
    "    print('keyboard interrupt')\n",
    "finally:\n",
    "    print('closing record_env')\n",
    "    record_env.close()\n",
    "    print('record_env closed')"
   ],
   "metadata": {
    "collapsed": false,
    "ExecuteTime": {
     "end_time": "2024-04-28T12:27:46.929424Z",
     "start_time": "2024-04-28T12:27:39.289650Z"
    }
   },
   "id": "d1ae8571d73535c6",
   "execution_count": 3
  },
  {
   "cell_type": "code",
   "outputs": [],
   "source": [
    "torch.save(policy.state_dict(), f'saved_models/rl/{env_name}/{get_current_timestamp()}---6x96_6x64-elu--state_dict.pth')"
   ],
   "metadata": {
    "collapsed": false,
    "ExecuteTime": {
     "end_time": "2024-04-27T01:34:57.846923Z",
     "start_time": "2024-04-27T01:34:57.746930Z"
    }
   },
   "id": "459d7865a53e3600",
   "execution_count": 8
  },
  {
   "cell_type": "code",
   "outputs": [],
   "source": [
    "from stable_baselines3 import A2C\n",
    "from stable_baselines3.common.env_util import make_vec_env\n",
    "import gymnasium as gym\n",
    "\n",
    "# Parallel environments\n",
    "vec_env = make_vec_env(lambda: gym.make('CartPole-v1', render_mode='rgb_array'), n_envs=4)\n",
    "\n",
    "model = A2C(\"MlpPolicy\", vec_env, verbose=2)\n",
    "model.learn(total_timesteps=25000)\n",
    "model.save(\"a2c_cartpole\")\n",
    "\n",
    "del model # remove to demonstrate saving and loading\n",
    "\n",
    "model = A2C.load(\"a2c_cartpole\")\n",
    "\n",
    "obs = vec_env.reset()\n",
    "for _ in range(100_000):\n",
    "    action, _states = model.predict(obs)\n",
    "    obs, rewards, dones, info = vec_env.step(action)\n",
    "    vec_env.render(\"human\")"
   ],
   "metadata": {
    "collapsed": false
   },
   "id": "266d91aeee84c4cd",
   "execution_count": 30
  },
  {
   "cell_type": "code",
   "outputs": [
    {
     "name": "stdout",
     "output_type": "stream",
     "text": [
      "Moviepy - Building video C:\\Users\\domin\\Videos\\rl\\2024-04-24.1\\rl-video-episode-0.mp4.\n",
      "Moviepy - Writing video C:\\Users\\domin\\Videos\\rl\\2024-04-24.1\\rl-video-episode-0.mp4\n"
     ]
    },
    {
     "name": "stderr",
     "output_type": "stream",
     "text": [
      "                                                                \r"
     ]
    },
    {
     "name": "stdout",
     "output_type": "stream",
     "text": [
      "Moviepy - Done !\n",
      "Moviepy - video ready C:\\Users\\domin\\Videos\\rl\\2024-04-24.1\\rl-video-episode-0.mp4\n",
      "closing record_env\n",
      "Moviepy - Building video C:\\Users\\domin\\Videos\\rl\\2024-04-24.1\\rl-video-episode-1.mp4.\n",
      "Moviepy - Writing video C:\\Users\\domin\\Videos\\rl\\2024-04-24.1\\rl-video-episode-1.mp4\n"
     ]
    },
    {
     "name": "stderr",
     "output_type": "stream",
     "text": [
      "                                                  "
     ]
    },
    {
     "name": "stdout",
     "output_type": "stream",
     "text": [
      "Moviepy - Done !\n",
      "Moviepy - video ready C:\\Users\\domin\\Videos\\rl\\2024-04-24.1\\rl-video-episode-1.mp4\n",
      "record_env closed\n"
     ]
    },
    {
     "name": "stderr",
     "output_type": "stream",
     "text": [
      "\r"
     ]
    }
   ],
   "source": [
    "import gymnasium\n",
    "record_env = gymnasium.make(\"ALE/Pacman-ram-v5\", render_mode='rgb_array')\n",
    "try:\n",
    "    record_env = AutoResetWrapper(\n",
    "        RecordVideo(record_env, video_folder=r'C:\\Users\\domin\\Videos\\rl\\2024-04-24.1', episode_trigger=lambda ep_nr: True)\n",
    "    )\n",
    "    def record(max_steps: int):\n",
    "        obs, info = record_env.reset()\n",
    "        for step in range(max_steps):\n",
    "            # actions_dist = policy.predict_actions(obs)\n",
    "            # actions = actions_dist.sample().detach().cpu().numpy()\n",
    "            \n",
    "            actions = 2\n",
    "            \n",
    "            obs, reward, terminated, truncated, info = record_env.step(actions)\n",
    "            \n",
    "            if terminated or truncated:\n",
    "                break\n",
    "    \n",
    "    record(10000)\n",
    "except KeyboardInterrupt:\n",
    "    print('keyboard interrupt')\n",
    "finally:\n",
    "    print('closing record_env')\n",
    "    record_env.close()\n",
    "    print('record_env closed')"
   ],
   "metadata": {
    "collapsed": false,
    "ExecuteTime": {
     "end_time": "2024-04-24T15:57:07.218154Z",
     "start_time": "2024-04-24T15:57:06.685399Z"
    }
   },
   "id": "1a6d8096efe48ca3",
   "execution_count": 11
  },
  {
   "cell_type": "code",
   "outputs": [
    {
     "name": "stdout",
     "output_type": "stream",
     "text": [
      "<OrderEnforcing<PassiveEnvChecker<AtariEnv<ALE/Pacman-ram-v5>>>>\n"
     ]
    }
   ],
   "source": [],
   "metadata": {
    "collapsed": false,
    "ExecuteTime": {
     "end_time": "2024-04-24T16:29:07.007390Z",
     "start_time": "2024-04-24T16:29:06.925013Z"
    }
   },
   "id": "bba6ab51a61dd845",
   "execution_count": 10
  }
 ],
 "metadata": {
  "autoscrollcelloutput": false,
  "kernelspec": {
   "display_name": "Python 3 (ipykernel)",
   "language": "python",
   "name": "python3"
  },
  "language_info": {
   "codemirror_mode": {
    "name": "ipython",
    "version": 3
   },
   "file_extension": ".py",
   "mimetype": "text/x-python",
   "name": "python",
   "nbconvert_exporter": "python",
   "pygments_lexer": "ipython3",
   "version": "3.11.1"
  }
 },
 "nbformat": 4,
 "nbformat_minor": 5
}
