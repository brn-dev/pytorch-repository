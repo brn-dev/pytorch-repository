{
 "cells": [
  {
   "cell_type": "code",
   "execution_count": 1,
   "id": "4de06880-6b03-4d58-9afc-5bd1d6263d6c",
   "metadata": {
    "ExecuteTime": {
     "end_time": "2024-03-15T14:40:46.043005Z",
     "start_time": "2024-03-15T14:40:45.983598Z"
    },
    "tags": []
   },
   "outputs": [],
   "source": [
    "%load_ext autoreload\n",
    "%autoreload 2\n",
    "\n",
    "import numpy as np\n",
    "\n",
    "import torch\n",
    "from torch import nn"
   ]
  },
  {
   "cell_type": "code",
   "execution_count": 7,
   "id": "4c2f3051-d357-447d-87b5-a4cdd1caa627",
   "metadata": {
    "ExecuteTime": {
     "end_time": "2024-03-15T15:53:43.856895Z",
     "start_time": "2024-03-15T15:53:43.752744Z"
    }
   },
   "outputs": [
    {
     "name": "stdout",
     "output_type": "stream",
     "text": [
      "1390\n",
      "ModulatedDenseSkipNet(\n",
      "  (layers): NetList(\n",
      "    (0): TorchNet(\n",
      "      (torch_module): Sequential(\n",
      "        (0): Linear(in_features=3, out_features=11, bias=True)\n",
      "        (1): CELU(alpha=1.0)\n",
      "      )\n",
      "    )\n",
      "    (1): TorchNet(\n",
      "      (torch_module): Sequential(\n",
      "        (0): Linear(in_features=13, out_features=23, bias=True)\n",
      "        (1): CELU(alpha=1.0)\n",
      "      )\n",
      "    )\n",
      "    (2): TorchNet(\n",
      "      (torch_module): Sequential(\n",
      "        (0): Linear(in_features=27, out_features=17, bias=True)\n",
      "        (1): CELU(alpha=1.0)\n",
      "      )\n",
      "    )\n",
      "    (3): TorchNet(\n",
      "      (torch_module): Sequential(\n",
      "        (0): Linear(in_features=23, out_features=13, bias=True)\n",
      "        (1): Identity()\n",
      "      )\n",
      "    )\n",
      "  )\n",
      "  (connection_modulators[0][0]): TorchNet(\n",
      "    (torch_module): Identity()\n",
      "  )\n",
      "  (connection_modulators[1][0]): TorchNet(\n",
      "    (torch_module): Linear(in_features=3, out_features=2, bias=True)\n",
      "  )\n",
      "  (connection_modulators[1][1]): TorchNet(\n",
      "    (torch_module): Identity()\n",
      "  )\n",
      "  (connection_modulators[2][0]): TorchNet(\n",
      "    (torch_module): Linear(in_features=3, out_features=2, bias=True)\n",
      "  )\n",
      "  (connection_modulators[2][1]): TorchNet(\n",
      "    (torch_module): Linear(in_features=11, out_features=2, bias=True)\n",
      "  )\n",
      "  (connection_modulators[2][2]): TorchNet(\n",
      "    (torch_module): Identity()\n",
      "  )\n",
      "  (connection_modulators[3][0]): TorchNet(\n",
      "    (torch_module): Linear(in_features=3, out_features=2, bias=True)\n",
      "  )\n",
      "  (connection_modulators[3][1]): TorchNet(\n",
      "    (torch_module): Linear(in_features=11, out_features=2, bias=True)\n",
      "  )\n",
      "  (connection_modulators[3][2]): TorchNet(\n",
      "    (torch_module): Linear(in_features=23, out_features=2, bias=True)\n",
      "  )\n",
      "  (connection_modulators[3][3]): TorchNet(\n",
      "    (torch_module): Identity()\n",
      "  )\n",
      "  (connection_modulators[4][0]): TorchNet(\n",
      "    (torch_module): Linear(in_features=3, out_features=2, bias=True)\n",
      "  )\n",
      "  (connection_modulators[4][1]): TorchNet(\n",
      "    (torch_module): Linear(in_features=11, out_features=2, bias=True)\n",
      "  )\n",
      "  (connection_modulators[4][2]): TorchNet(\n",
      "    (torch_module): Linear(in_features=23, out_features=2, bias=True)\n",
      "  )\n",
      "  (connection_modulators[4][3]): TorchNet(\n",
      "    (torch_module): Linear(in_features=17, out_features=2, bias=True)\n",
      "  )\n",
      "  (connection_modulators[4][4]): TorchNet(\n",
      "    (torch_module): Identity()\n",
      "  )\n",
      ")\n",
      "torch.Size([111, 5, 19, 21])\n",
      "TensorShape(s_0 = 111, s_1 = 5, batch = batch, features = 21)\n"
     ]
    }
   ],
   "source": [
    "from src.networks.core.tensor_shape import TensorShape\n",
    "from src.networks.skip_nets.modulated_additive_skip_net import ModulatedAdditiveSkipNet\n",
    "from src.networks.core.net import Net\n",
    "from src.networks.skip_nets.modulated_dense_skip_net import ModulatedDenseSkipNet\n",
    "from src.networks.core.parallel_net import ParallelNet\n",
    "from src.module_analysis import count_parameters\n",
    "from src.networks.skip_nets.dense_skip_net import DenseSkipNet\n",
    "from src.networks.core.layer_connections import LayerConnections\n",
    "from src.networks.skip_nets.additive_skip_net import AdditiveSkipNet\n",
    "\n",
    "def create_mod_dense(from_idx: int, to_idx: int, num_f: int):\n",
    "    if from_idx != to_idx:\n",
    "        return Net.as_net(create_ones_linear(num_f, 2))\n",
    "    else:\n",
    "        return Net.as_net(nn.Identity())\n",
    "\n",
    "def create_mod_additive(from_idx: int, to_idx: int, num_f: int):\n",
    "    if from_idx != to_idx:\n",
    "        return Net.as_net(create_ones_linear(num_f, num_f))\n",
    "    else:\n",
    "        return Net.as_net(nn.Identity())\n",
    "\n",
    "def create_ones_linear(in_features, out_features):\n",
    "    l = nn.Linear(in_features, out_features)\n",
    "    l.weight.data[:] = 1.0\n",
    "    l.bias.data[:] = 0.0\n",
    "    return l\n",
    "\n",
    "def create_layer(i, is_last, in_features, out_features):\n",
    "    return nn.Sequential(\n",
    "        create_ones_linear(in_features, out_features),\n",
    "        nn.CELU() if not is_last else nn.Identity(),\n",
    "    )\n",
    "\n",
    "num_features=3\n",
    "# net = AdditiveSkipNet.from_layer_provider(\n",
    "#     layer_provider=create_layer,\n",
    "#     num_layers=4,\n",
    "#     num_features=num_features,\n",
    "#     layer_connections='full',\n",
    "#     initial_direct_connection_weight=1.0,\n",
    "#     initial_skip_connection_weight=0.01,\n",
    "#     return_dense=False,\n",
    "#     weights_trainable=False,\n",
    "# )\n",
    "# net = DenseSkipNet.from_layer_provider(\n",
    "#     layer_provider=create_layer,\n",
    "#     num_layers=10,\n",
    "#     num_features=num_features,\n",
    "#     layer_connections='full'\n",
    "# )\n",
    "# net = ParallelNet.from_layer_provider(create_layer, in_size=num_features, out_sizes=[5, 7, 11, 13])\n",
    "net = ModulatedDenseSkipNet.from_layer_provider(\n",
    "    layer_provider=create_layer,\n",
    "    modulator_provider=create_mod_dense,\n",
    "    in_size=num_features,\n",
    "    layer_out_sizes=[11, 23, 17, 13],\n",
    ")\n",
    "# net = ModulatedAdditiveSkipNet.from_layer_provider(\n",
    "#     layer_provider=create_layer,\n",
    "#     modulator_provider=create_mod_additive,\n",
    "#     num_features=num_features,\n",
    "#     num_layers=4,\n",
    "#     # return_dense=True,\n",
    "# )\n",
    "print(net.count_parameters())\n",
    "print(net)\n",
    "\n",
    "out = net(torch.ones(111, 5, 19, num_features))\n",
    "print(out.shape)\n",
    "# print(out)\n",
    "# print(net.forward_shape(TensorShape(features=num_features, s_0=111, s_1=5)))"
   ]
  },
  {
   "cell_type": "code",
   "execution_count": 15,
   "id": "c5a5e3e1d339c766",
   "metadata": {
    "ExecuteTime": {
     "end_time": "2024-03-15T00:18:38.856849Z",
     "start_time": "2024-03-15T00:18:38.797773Z"
    },
    "collapsed": false,
    "jupyter": {
     "outputs_hidden": false
    }
   },
   "outputs": [
    {
     "data": {
      "text/plain": [
       "468"
      ]
     },
     "execution_count": 15,
     "metadata": {},
     "output_type": "execute_result"
    }
   ],
   "source": [
    "90 * 3 + 3 * 3 * 18 + 3 * 3 * 3 + 3 * 3 * 1"
   ]
  },
  {
   "cell_type": "code",
   "execution_count": 28,
   "id": "33dd5e90",
   "metadata": {
    "collapsed": false,
    "jupyter": {
     "outputs_hidden": false
    }
   },
   "outputs": [
    {
     "data": {
      "text/plain": [
       "804"
      ]
     },
     "execution_count": 28,
     "metadata": {},
     "output_type": "execute_result"
    }
   ],
   "source": [
    "3 * (90 + 18 + 3 + 1) + 468"
   ]
  },
  {
   "cell_type": "code",
   "execution_count": 24,
   "id": "2c8e263e",
   "metadata": {
    "collapsed": false,
    "jupyter": {
     "outputs_hidden": false
    }
   },
   "outputs": [
    {
     "data": {
      "text/plain": [
       "804"
      ]
     },
     "execution_count": 24,
     "metadata": {},
     "output_type": "execute_result"
    }
   ],
   "source": [
    "804"
   ]
  },
  {
   "cell_type": "code",
   "execution_count": 2,
   "id": "77e0603b",
   "metadata": {
    "collapsed": false,
    "jupyter": {
     "outputs_hidden": false
    }
   },
   "outputs": [
    {
     "data": {
      "text/plain": [
       "Conv2dNet(2, 3, kernel_size=(4, 4), stride=(1, 1), padding=same)"
      ]
     },
     "execution_count": 2,
     "metadata": {},
     "output_type": "execute_result"
    }
   ],
   "source": [
    "from src.networks.core.torch_wrappers.conv_net import Conv2dNet\n",
    "\n",
    "conv = Conv2dNet(2, 3, 4, padding='same')\n",
    "conv"
   ]
  },
  {
   "cell_type": "code",
   "execution_count": 3,
   "id": "db8955ea",
   "metadata": {
    "collapsed": false,
    "jupyter": {
     "outputs_hidden": false
    }
   },
   "outputs": [
    {
     "data": {
      "text/plain": [
       "tensor([-0.2231, -0.1688,  1.7347], grad_fn=<ViewBackward0>)"
      ]
     },
     "execution_count": 3,
     "metadata": {},
     "output_type": "execute_result"
    }
   ],
   "source": [
    "from src.networks.core.torch_wrappers.linear_net import LinearNet\n",
    "\n",
    "lin = LinearNet(2, 3)\n",
    "lin(torch.ones(2))"
   ]
  },
  {
   "cell_type": "code",
   "execution_count": 25,
   "id": "96091cdd",
   "metadata": {
    "collapsed": false,
    "jupyter": {
     "outputs_hidden": false
    }
   },
   "outputs": [
    {
     "data": {
      "text/plain": [
       "tensor([[[ 0.1853,  0.1317,  0.0612,  ..., -0.4114, -0.6944,  0.3212],\n",
       "         [ 0.1853,  0.1317,  0.0612,  ..., -0.4114, -0.6944,  0.3212],\n",
       "         [ 0.1853,  0.1317,  0.0612,  ..., -0.4114, -0.6944,  0.3212],\n",
       "         ...,\n",
       "         [ 0.1853,  0.1317,  0.0612,  ..., -0.4114, -0.6944,  0.3212],\n",
       "         [ 0.1853,  0.1317,  0.0612,  ..., -0.4114, -0.6944,  0.3212],\n",
       "         [ 0.1853,  0.1317,  0.0612,  ..., -0.4114, -0.6944,  0.3212]],\n",
       "\n",
       "        [[ 0.1853,  0.1317,  0.0612,  ..., -0.4114, -0.6944,  0.3212],\n",
       "         [ 0.1853,  0.1317,  0.0612,  ..., -0.4114, -0.6944,  0.3212],\n",
       "         [ 0.1853,  0.1317,  0.0612,  ..., -0.4114, -0.6944,  0.3212],\n",
       "         ...,\n",
       "         [ 0.1853,  0.1317,  0.0612,  ..., -0.4114, -0.6944,  0.3212],\n",
       "         [ 0.1853,  0.1317,  0.0612,  ..., -0.4114, -0.6944,  0.3212],\n",
       "         [ 0.1853,  0.1317,  0.0612,  ..., -0.4114, -0.6944,  0.3212]],\n",
       "\n",
       "        [[ 0.1853,  0.1317,  0.0612,  ..., -0.4114, -0.6944,  0.3212],\n",
       "         [ 0.1853,  0.1317,  0.0612,  ..., -0.4114, -0.6944,  0.3212],\n",
       "         [ 0.1853,  0.1317,  0.0612,  ..., -0.4114, -0.6944,  0.3212],\n",
       "         ...,\n",
       "         [ 0.1853,  0.1317,  0.0612,  ..., -0.4114, -0.6944,  0.3212],\n",
       "         [ 0.1853,  0.1317,  0.0612,  ..., -0.4114, -0.6944,  0.3212],\n",
       "         [ 0.1853,  0.1317,  0.0612,  ..., -0.4114, -0.6944,  0.3212]],\n",
       "\n",
       "        ...,\n",
       "\n",
       "        [[ 0.1853,  0.1317,  0.0612,  ..., -0.4114, -0.6944,  0.3212],\n",
       "         [ 0.1853,  0.1317,  0.0612,  ..., -0.4114, -0.6944,  0.3212],\n",
       "         [ 0.1853,  0.1317,  0.0612,  ..., -0.4114, -0.6944,  0.3212],\n",
       "         ...,\n",
       "         [ 0.1853,  0.1317,  0.0612,  ..., -0.4114, -0.6944,  0.3212],\n",
       "         [ 0.1853,  0.1317,  0.0612,  ..., -0.4114, -0.6944,  0.3212],\n",
       "         [ 0.1853,  0.1317,  0.0612,  ..., -0.4114, -0.6944,  0.3212]],\n",
       "\n",
       "        [[ 0.1853,  0.1317,  0.0612,  ..., -0.4114, -0.6944,  0.3212],\n",
       "         [ 0.1853,  0.1317,  0.0612,  ..., -0.4114, -0.6944,  0.3212],\n",
       "         [ 0.1853,  0.1317,  0.0612,  ..., -0.4114, -0.6944,  0.3212],\n",
       "         ...,\n",
       "         [ 0.1853,  0.1317,  0.0612,  ..., -0.4114, -0.6944,  0.3212],\n",
       "         [ 0.1853,  0.1317,  0.0612,  ..., -0.4114, -0.6944,  0.3212],\n",
       "         [ 0.1853,  0.1317,  0.0612,  ..., -0.4114, -0.6944,  0.3212]],\n",
       "\n",
       "        [[ 0.1853,  0.1317,  0.0612,  ..., -0.4114, -0.6944,  0.3212],\n",
       "         [ 0.1853,  0.1317,  0.0612,  ..., -0.4114, -0.6944,  0.3212],\n",
       "         [ 0.1853,  0.1317,  0.0612,  ..., -0.4114, -0.6944,  0.3212],\n",
       "         ...,\n",
       "         [ 0.1853,  0.1317,  0.0612,  ..., -0.4114, -0.6944,  0.3212],\n",
       "         [ 0.1853,  0.1317,  0.0612,  ..., -0.4114, -0.6944,  0.3212],\n",
       "         [ 0.1853,  0.1317,  0.0612,  ..., -0.4114, -0.6944,  0.3212]]],\n",
       "       grad_fn=<ViewBackward0>)"
      ]
     },
     "execution_count": 25,
     "metadata": {},
     "output_type": "execute_result"
    }
   ],
   "source": [
    "from src.networks.multihead_self_attention import MultiheadSelfAttention\n",
    "\n",
    "mhsa = MultiheadSelfAttention(10, 5)\n",
    "mhsa.forward_shape(TensorShape(features=10, s_0=None))\n",
    "mhsa(torch.ones(123, 9, 10))"
   ]
  },
  {
   "cell_type": "code",
   "execution_count": 4,
   "id": "ccaa81c5-426a-443d-bb96-696abbdd298d",
   "metadata": {
    "tags": []
   },
   "outputs": [
    {
     "data": {
      "text/plain": "array([[ 0,  0],\n       [ 0, 12],\n       [ 1,  1],\n       [ 1,  2],\n       [ 1,  3],\n       [ 1,  4],\n       [ 1,  5],\n       [ 1,  6],\n       [ 1,  7],\n       [ 1,  8],\n       [ 1,  9],\n       [ 1, 10],\n       [ 1, 11],\n       [ 1, 12],\n       [ 2,  2],\n       [ 2,  3],\n       [ 2,  4],\n       [ 2,  5],\n       [ 2,  6],\n       [ 2,  7],\n       [ 2,  8],\n       [ 2,  9],\n       [ 2, 10],\n       [ 2, 11],\n       [ 2, 12],\n       [ 3,  3],\n       [ 3, 12],\n       [ 4,  4],\n       [ 4, 12],\n       [ 5,  5],\n       [ 5, 12],\n       [ 6,  6],\n       [ 6,  7],\n       [ 6,  8],\n       [ 6,  9],\n       [ 6, 10],\n       [ 6, 11],\n       [ 6, 12],\n       [ 7,  7],\n       [ 7, 12],\n       [ 8,  8],\n       [ 8, 12],\n       [ 9,  9],\n       [ 9, 12],\n       [10, 10],\n       [10, 12],\n       [11, 11],\n       [11, 12],\n       [12, 12]], dtype=int32)"
     },
     "execution_count": 4,
     "metadata": {},
     "output_type": "execute_result"
    }
   ],
   "source": [
    "from src.networks.core.layer_connections import *\n",
    "from src.integer_sequences import *\n",
    "\n",
    "LayerConnectionsBuilder(12).sequential().every_step_receives(factorial).every_step_to_output().to_np()"
   ]
  },
  {
   "cell_type": "code",
   "execution_count": null,
   "id": "2d842097-67d7-41d2-ad5c-ab3c75eef202",
   "metadata": {},
   "outputs": [],
   "source": []
  }
 ],
 "metadata": {
  "autoscrollcelloutput": false,
  "kernelspec": {
   "display_name": "Python 3 (ipykernel)",
   "language": "python",
   "name": "python3"
  },
  "language_info": {
   "codemirror_mode": {
    "name": "ipython",
    "version": 3
   },
   "file_extension": ".py",
   "mimetype": "text/x-python",
   "name": "python",
   "nbconvert_exporter": "python",
   "pygments_lexer": "ipython3",
   "version": "3.11.1"
  }
 },
 "nbformat": 4,
 "nbformat_minor": 5
}
