{
 "cells": [
  {
   "cell_type": "code",
   "execution_count": 1,
   "id": "4de06880-6b03-4d58-9afc-5bd1d6263d6c",
   "metadata": {
    "tags": [],
    "ExecuteTime": {
     "end_time": "2024-04-05T18:00:52.214230Z",
     "start_time": "2024-04-05T18:00:50.421039Z"
    }
   },
   "outputs": [],
   "source": [
    "%load_ext autoreload\n",
    "%autoreload 2\n",
    "\n",
    "import torch"
   ]
  },
  {
   "cell_type": "code",
   "execution_count": 5,
   "id": "4c2f3051-d357-447d-87b5-a4cdd1caa627",
   "metadata": {
    "ExecuteTime": {
     "end_time": "2024-03-28T17:33:31.624055Z",
     "start_time": "2024-03-28T17:33:31.537695Z"
    }
   },
   "outputs": [
    {
     "name": "stdout",
     "output_type": "stream",
     "text": [
      "1390\n",
      "ModulatedDenseSkipNet(\n",
      "  (layers): NetList(\n",
      "    (0): TorchNet(\n",
      "      (torch_module): Sequential(\n",
      "        (0): Linear(in_features=3, out_features=11, bias=True)\n",
      "        (1): CELU(alpha=1.0)\n",
      "      )\n",
      "    )\n",
      "    (1): TorchNet(\n",
      "      (torch_module): Sequential(\n",
      "        (0): Linear(in_features=13, out_features=23, bias=True)\n",
      "        (1): CELU(alpha=1.0)\n",
      "      )\n",
      "    )\n",
      "    (2): TorchNet(\n",
      "      (torch_module): Sequential(\n",
      "        (0): Linear(in_features=27, out_features=17, bias=True)\n",
      "        (1): CELU(alpha=1.0)\n",
      "      )\n",
      "    )\n",
      "    (3): TorchNet(\n",
      "      (torch_module): Sequential(\n",
      "        (0): Linear(in_features=23, out_features=13, bias=True)\n",
      "        (1): Identity()\n",
      "      )\n",
      "    )\n",
      "  )\n",
      "  (connection_modulators[0][0]): TorchNet(\n",
      "    (torch_module): Identity()\n",
      "  )\n",
      "  (connection_modulators[1][0]): TorchNet(\n",
      "    (torch_module): Linear(in_features=3, out_features=2, bias=True)\n",
      "  )\n",
      "  (connection_modulators[1][1]): TorchNet(\n",
      "    (torch_module): Identity()\n",
      "  )\n",
      "  (connection_modulators[2][0]): TorchNet(\n",
      "    (torch_module): Linear(in_features=3, out_features=2, bias=True)\n",
      "  )\n",
      "  (connection_modulators[2][1]): TorchNet(\n",
      "    (torch_module): Linear(in_features=11, out_features=2, bias=True)\n",
      "  )\n",
      "  (connection_modulators[2][2]): TorchNet(\n",
      "    (torch_module): Identity()\n",
      "  )\n",
      "  (connection_modulators[3][0]): TorchNet(\n",
      "    (torch_module): Linear(in_features=3, out_features=2, bias=True)\n",
      "  )\n",
      "  (connection_modulators[3][1]): TorchNet(\n",
      "    (torch_module): Linear(in_features=11, out_features=2, bias=True)\n",
      "  )\n",
      "  (connection_modulators[3][2]): TorchNet(\n",
      "    (torch_module): Linear(in_features=23, out_features=2, bias=True)\n",
      "  )\n",
      "  (connection_modulators[3][3]): TorchNet(\n",
      "    (torch_module): Identity()\n",
      "  )\n",
      "  (connection_modulators[4][0]): TorchNet(\n",
      "    (torch_module): Linear(in_features=3, out_features=2, bias=True)\n",
      "  )\n",
      "  (connection_modulators[4][1]): TorchNet(\n",
      "    (torch_module): Linear(in_features=11, out_features=2, bias=True)\n",
      "  )\n",
      "  (connection_modulators[4][2]): TorchNet(\n",
      "    (torch_module): Linear(in_features=23, out_features=2, bias=True)\n",
      "  )\n",
      "  (connection_modulators[4][3]): TorchNet(\n",
      "    (torch_module): Linear(in_features=17, out_features=2, bias=True)\n",
      "  )\n",
      "  (connection_modulators[4][4]): TorchNet(\n",
      "    (torch_module): Identity()\n",
      "  )\n",
      ")\n",
      "torch.Size([111, 5, 19, 21])\n"
     ]
    }
   ],
   "source": [
    "from src.networks.core.tensor_shape import TensorShape\n",
    "from src.networks.core.net import Net\n",
    "from src.networks.skip_nets.modulated_dense_skip_net import ModulatedDenseSkipNet\n",
    "\n",
    "\n",
    "def create_mod_dense(from_idx: int, to_idx: int, num_f: int):\n",
    "    if from_idx != to_idx:\n",
    "        return Net.as_net(create_ones_linear(num_f, 2))\n",
    "    else:\n",
    "        return Net.as_net(nn.Identity())\n",
    "\n",
    "def create_mod_additive(from_idx: int, to_idx: int, num_f: int):\n",
    "    if from_idx != to_idx:\n",
    "        return Net.as_net(create_ones_linear(num_f, num_f))\n",
    "    else:\n",
    "        return Net.as_net(nn.Identity())\n",
    "\n",
    "def create_ones_linear(in_features, out_features):\n",
    "    l = nn.Linear(in_features, out_features)\n",
    "    l.weight.data[:] = 1.0\n",
    "    l.bias.data[:] = 0.0\n",
    "    return l\n",
    "\n",
    "def create_layer(i, is_last, in_features, out_features):\n",
    "    return nn.Sequential(\n",
    "        create_ones_linear(in_features, out_features),\n",
    "        nn.CELU() if not is_last else nn.Identity(),\n",
    "    )\n",
    "\n",
    "num_features=3\n",
    "# net = AdditiveSkipNet.from_layer_provider(\n",
    "#     layer_provider=create_layer,\n",
    "#     num_layers=4,\n",
    "#     num_features=num_features,\n",
    "#     layer_connections='full',\n",
    "#     initial_direct_connection_weight=1.0,\n",
    "#     initial_skip_connection_weight=0.01,\n",
    "#     return_dense=False,\n",
    "#     weights_trainable=False,\n",
    "# )\n",
    "# net = DenseSkipNet.from_layer_provider(\n",
    "#     layer_provider=create_layer,\n",
    "#     num_layers=10,\n",
    "#     num_features=num_features,\n",
    "#     layer_connections='full'\n",
    "# )\n",
    "# net = ParallelNet.from_layer_provider(create_layer, in_size=num_features, out_sizes=[5, 7, 11, 13])\n",
    "net = ModulatedDenseSkipNet.from_layer_provider(\n",
    "    layer_provider=create_layer,\n",
    "    modulator_provider=create_mod_dense,\n",
    "    in_size=num_features,\n",
    "    layer_out_sizes=[11, 23, 17, 13],\n",
    ")\n",
    "# net = ModulatedAdditiveSkipNet.from_layer_provider(\n",
    "#     layer_provider=create_layer,\n",
    "#     modulator_provider=create_mod_additive,\n",
    "#     num_features=num_features,\n",
    "#     num_layers=4,\n",
    "#     # return_dense=True,\n",
    "# )\n",
    "print(net.count_parameters())\n",
    "print(net)\n",
    "\n",
    "out = net(torch.ones(111, 5, 19, num_features))\n",
    "print(out.shape)\n",
    "# print(out)\n",
    "# print(net.forward_shape(TensorShape(features=num_features, s_0=111, s_1=5)))"
   ]
  },
  {
   "cell_type": "code",
   "execution_count": 6,
   "id": "c5a5e3e1d339c766",
   "metadata": {
    "collapsed": false,
    "ExecuteTime": {
     "end_time": "2024-03-28T17:33:31.692766Z",
     "start_time": "2024-03-28T17:33:31.625045Z"
    }
   },
   "outputs": [
    {
     "data": {
      "text/plain": "468"
     },
     "execution_count": 6,
     "metadata": {},
     "output_type": "execute_result"
    }
   ],
   "source": [
    "90 * 3 + 3 * 3 * 18 + 3 * 3 * 3 + 3 * 3 * 1"
   ]
  },
  {
   "cell_type": "code",
   "execution_count": 7,
   "id": "33dd5e90",
   "metadata": {
    "collapsed": false,
    "ExecuteTime": {
     "end_time": "2024-03-28T17:33:31.766826Z",
     "start_time": "2024-03-28T17:33:31.693749Z"
    }
   },
   "outputs": [
    {
     "data": {
      "text/plain": "804"
     },
     "execution_count": 7,
     "metadata": {},
     "output_type": "execute_result"
    }
   ],
   "source": [
    "3 * (90 + 18 + 3 + 1) + 468"
   ]
  },
  {
   "cell_type": "code",
   "execution_count": 8,
   "id": "2c8e263e",
   "metadata": {
    "collapsed": false,
    "ExecuteTime": {
     "end_time": "2024-03-28T17:33:31.842571Z",
     "start_time": "2024-03-28T17:33:31.767820Z"
    }
   },
   "outputs": [
    {
     "data": {
      "text/plain": "804"
     },
     "execution_count": 8,
     "metadata": {},
     "output_type": "execute_result"
    }
   ],
   "source": [
    "804"
   ]
  },
  {
   "cell_type": "code",
   "execution_count": 9,
   "id": "77e0603b",
   "metadata": {
    "collapsed": false,
    "ExecuteTime": {
     "end_time": "2024-03-28T17:33:31.912911Z",
     "start_time": "2024-03-28T17:33:31.843567Z"
    }
   },
   "outputs": [
    {
     "data": {
      "text/plain": "Conv2dNet(2, 3, kernel_size=(4, 4), stride=(1, 1), padding=same)"
     },
     "execution_count": 9,
     "metadata": {},
     "output_type": "execute_result"
    }
   ],
   "source": [
    "from src.networks.core.torch_wrappers.conv_net import Conv2dNet\n",
    "\n",
    "conv = Conv2dNet(2, 3, 4, padding='same')\n",
    "conv"
   ]
  },
  {
   "cell_type": "code",
   "execution_count": 10,
   "id": "db8955ea",
   "metadata": {
    "collapsed": false,
    "ExecuteTime": {
     "end_time": "2024-03-28T17:33:31.984662Z",
     "start_time": "2024-03-28T17:33:31.913906Z"
    }
   },
   "outputs": [
    {
     "data": {
      "text/plain": "tensor([ 0.4794, -0.7732, -0.1890], grad_fn=<ViewBackward0>)"
     },
     "execution_count": 10,
     "metadata": {},
     "output_type": "execute_result"
    }
   ],
   "source": [
    "from src.networks.core.torch_wrappers.linear_net import LinearNet\n",
    "\n",
    "lin = LinearNet(2, 3)\n",
    "lin(torch.ones(2))"
   ]
  },
  {
   "cell_type": "code",
   "execution_count": 11,
   "id": "96091cdd",
   "metadata": {
    "collapsed": false,
    "ExecuteTime": {
     "end_time": "2024-03-28T17:33:32.055886Z",
     "start_time": "2024-03-28T17:33:31.985660Z"
    }
   },
   "outputs": [
    {
     "data": {
      "text/plain": "tensor([[[ 0.1577, -0.4909, -0.1444,  ...,  0.1137, -0.1642,  0.0041],\n         [ 0.1577, -0.4909, -0.1444,  ...,  0.1137, -0.1642,  0.0041],\n         [ 0.1577, -0.4909, -0.1444,  ...,  0.1137, -0.1642,  0.0041],\n         ...,\n         [ 0.1577, -0.4909, -0.1444,  ...,  0.1137, -0.1642,  0.0041],\n         [ 0.1577, -0.4909, -0.1444,  ...,  0.1137, -0.1642,  0.0041],\n         [ 0.1577, -0.4909, -0.1444,  ...,  0.1137, -0.1642,  0.0041]],\n\n        [[ 0.1577, -0.4909, -0.1444,  ...,  0.1137, -0.1642,  0.0041],\n         [ 0.1577, -0.4909, -0.1444,  ...,  0.1137, -0.1642,  0.0041],\n         [ 0.1577, -0.4909, -0.1444,  ...,  0.1137, -0.1642,  0.0041],\n         ...,\n         [ 0.1577, -0.4909, -0.1444,  ...,  0.1137, -0.1642,  0.0041],\n         [ 0.1577, -0.4909, -0.1444,  ...,  0.1137, -0.1642,  0.0041],\n         [ 0.1577, -0.4909, -0.1444,  ...,  0.1137, -0.1642,  0.0041]],\n\n        [[ 0.1577, -0.4909, -0.1444,  ...,  0.1137, -0.1642,  0.0041],\n         [ 0.1577, -0.4909, -0.1444,  ...,  0.1137, -0.1642,  0.0041],\n         [ 0.1577, -0.4909, -0.1444,  ...,  0.1137, -0.1642,  0.0041],\n         ...,\n         [ 0.1577, -0.4909, -0.1444,  ...,  0.1137, -0.1642,  0.0041],\n         [ 0.1577, -0.4909, -0.1444,  ...,  0.1137, -0.1642,  0.0041],\n         [ 0.1577, -0.4909, -0.1444,  ...,  0.1137, -0.1642,  0.0041]],\n\n        ...,\n\n        [[ 0.1577, -0.4909, -0.1444,  ...,  0.1137, -0.1642,  0.0041],\n         [ 0.1577, -0.4909, -0.1444,  ...,  0.1137, -0.1642,  0.0041],\n         [ 0.1577, -0.4909, -0.1444,  ...,  0.1137, -0.1642,  0.0041],\n         ...,\n         [ 0.1577, -0.4909, -0.1444,  ...,  0.1137, -0.1642,  0.0041],\n         [ 0.1577, -0.4909, -0.1444,  ...,  0.1137, -0.1642,  0.0041],\n         [ 0.1577, -0.4909, -0.1444,  ...,  0.1137, -0.1642,  0.0041]],\n\n        [[ 0.1577, -0.4909, -0.1444,  ...,  0.1137, -0.1642,  0.0041],\n         [ 0.1577, -0.4909, -0.1444,  ...,  0.1137, -0.1642,  0.0041],\n         [ 0.1577, -0.4909, -0.1444,  ...,  0.1137, -0.1642,  0.0041],\n         ...,\n         [ 0.1577, -0.4909, -0.1444,  ...,  0.1137, -0.1642,  0.0041],\n         [ 0.1577, -0.4909, -0.1444,  ...,  0.1137, -0.1642,  0.0041],\n         [ 0.1577, -0.4909, -0.1444,  ...,  0.1137, -0.1642,  0.0041]],\n\n        [[ 0.1577, -0.4909, -0.1444,  ...,  0.1137, -0.1642,  0.0041],\n         [ 0.1577, -0.4909, -0.1444,  ...,  0.1137, -0.1642,  0.0041],\n         [ 0.1577, -0.4909, -0.1444,  ...,  0.1137, -0.1642,  0.0041],\n         ...,\n         [ 0.1577, -0.4909, -0.1444,  ...,  0.1137, -0.1642,  0.0041],\n         [ 0.1577, -0.4909, -0.1444,  ...,  0.1137, -0.1642,  0.0041],\n         [ 0.1577, -0.4909, -0.1444,  ...,  0.1137, -0.1642,  0.0041]]],\n       grad_fn=<ViewBackward0>)"
     },
     "execution_count": 11,
     "metadata": {},
     "output_type": "execute_result"
    }
   ],
   "source": [
    "from src.networks.multihead_self_attention import MultiheadSelfAttention\n",
    "\n",
    "mhsa = MultiheadSelfAttention(10, 5)\n",
    "mhsa.forward_shape(TensorShape(features=10, s_0=None))\n",
    "mhsa(torch.ones(123, 9, 10))"
   ]
  },
  {
   "cell_type": "code",
   "execution_count": 12,
   "id": "ccaa81c5-426a-443d-bb96-696abbdd298d",
   "metadata": {
    "tags": [],
    "ExecuteTime": {
     "end_time": "2024-03-28T17:33:32.131054Z",
     "start_time": "2024-03-28T17:33:32.056844Z"
    }
   },
   "outputs": [
    {
     "data": {
      "text/plain": "array([[ 0,  0],\n       [ 0, 12],\n       [ 1,  1],\n       [ 1,  2],\n       [ 1,  3],\n       [ 1,  4],\n       [ 1,  5],\n       [ 1,  6],\n       [ 1,  7],\n       [ 1,  8],\n       [ 1,  9],\n       [ 1, 10],\n       [ 1, 11],\n       [ 1, 12],\n       [ 2,  2],\n       [ 2,  3],\n       [ 2,  4],\n       [ 2,  5],\n       [ 2,  6],\n       [ 2,  7],\n       [ 2,  8],\n       [ 2,  9],\n       [ 2, 10],\n       [ 2, 11],\n       [ 2, 12],\n       [ 3,  3],\n       [ 3, 12],\n       [ 4,  4],\n       [ 4, 12],\n       [ 5,  5],\n       [ 5, 12],\n       [ 6,  6],\n       [ 6,  7],\n       [ 6,  8],\n       [ 6,  9],\n       [ 6, 10],\n       [ 6, 11],\n       [ 6, 12],\n       [ 7,  7],\n       [ 7, 12],\n       [ 8,  8],\n       [ 8, 12],\n       [ 9,  9],\n       [ 9, 12],\n       [10, 10],\n       [10, 12],\n       [11, 11],\n       [11, 12],\n       [12, 12]], dtype=int32)"
     },
     "execution_count": 12,
     "metadata": {},
     "output_type": "execute_result"
    }
   ],
   "source": [
    "from src.networks.core.layer_connections import *\n",
    "from src.integer_sequences import *\n",
    "\n",
    "(LayerConnectionsBuilder(12)\n",
    "    .sequential()\n",
    "    .every_step_receives(factorial).every_step_to_output().to_np())"
   ]
  },
  {
   "cell_type": "code",
   "execution_count": 2,
   "id": "2d842097-67d7-41d2-ad5c-ab3c75eef202",
   "metadata": {
    "ExecuteTime": {
     "end_time": "2024-04-07T16:58:55.887391Z",
     "start_time": "2024-04-07T16:52:21.808127Z"
    }
   },
   "outputs": [
    {
     "name": "stdout",
     "output_type": "stream",
     "text": [
      "The autoreload extension is already loaded. To reload it, use:\n",
      "  %reload_ext autoreload\n",
      "using device cuda:0\n"
     ]
    },
    {
     "ename": "ModuleNotFoundError",
     "evalue": "No module named 'imageio'",
     "output_type": "error",
     "traceback": [
      "\u001B[1;31m---------------------------------------------------------------------------\u001B[0m",
      "\u001B[1;31mModuleNotFoundError\u001B[0m                       Traceback (most recent call last)",
      "Cell \u001B[1;32mIn[2], line 19\u001B[0m\n\u001B[0;32m     16\u001B[0m \u001B[38;5;28mprint\u001B[39m(\u001B[38;5;124mf\u001B[39m\u001B[38;5;124m'\u001B[39m\u001B[38;5;124musing device \u001B[39m\u001B[38;5;132;01m{\u001B[39;00mdevice\u001B[38;5;132;01m}\u001B[39;00m\u001B[38;5;124m'\u001B[39m)\n\u001B[0;32m     18\u001B[0m \u001B[38;5;66;03m# env = gym.make(\"BipedalWalker-v3\", max_episode_steps=3000)\u001B[39;00m\n\u001B[1;32m---> 19\u001B[0m env \u001B[38;5;241m=\u001B[39m \u001B[43mgym\u001B[49m\u001B[38;5;241;43m.\u001B[39;49m\u001B[43mmake\u001B[49m\u001B[43m(\u001B[49m\u001B[38;5;124;43m\"\u001B[39;49m\u001B[38;5;124;43mAnt-v4\u001B[39;49m\u001B[38;5;124;43m\"\u001B[39;49m\u001B[43m)\u001B[49m\n\u001B[0;32m     21\u001B[0m \u001B[38;5;28mprint\u001B[39m(env)\n\u001B[0;32m     23\u001B[0m \u001B[38;5;28;01mdef\u001B[39;00m \u001B[38;5;21minit_network\u001B[39m(out_size: \u001B[38;5;28mint\u001B[39m, is_actor: \u001B[38;5;28mbool\u001B[39m):\n",
      "File \u001B[1;32m~\\AppData\\Local\\Programs\\Python\\Python311\\Lib\\site-packages\\gymnasium\\envs\\registration.py:802\u001B[0m, in \u001B[0;36mmake\u001B[1;34m(id, max_episode_steps, autoreset, apply_api_compatibility, disable_env_checker, **kwargs)\u001B[0m\n\u001B[0;32m    799\u001B[0m     render_mode \u001B[38;5;241m=\u001B[39m \u001B[38;5;28;01mNone\u001B[39;00m\n\u001B[0;32m    801\u001B[0m \u001B[38;5;28;01mtry\u001B[39;00m:\n\u001B[1;32m--> 802\u001B[0m     env \u001B[38;5;241m=\u001B[39m \u001B[43menv_creator\u001B[49m\u001B[43m(\u001B[49m\u001B[38;5;241;43m*\u001B[39;49m\u001B[38;5;241;43m*\u001B[39;49m\u001B[43menv_spec_kwargs\u001B[49m\u001B[43m)\u001B[49m\n\u001B[0;32m    803\u001B[0m \u001B[38;5;28;01mexcept\u001B[39;00m \u001B[38;5;167;01mTypeError\u001B[39;00m \u001B[38;5;28;01mas\u001B[39;00m e:\n\u001B[0;32m    804\u001B[0m     \u001B[38;5;28;01mif\u001B[39;00m (\n\u001B[0;32m    805\u001B[0m         \u001B[38;5;28mstr\u001B[39m(e)\u001B[38;5;241m.\u001B[39mfind(\u001B[38;5;124m\"\u001B[39m\u001B[38;5;124mgot an unexpected keyword argument \u001B[39m\u001B[38;5;124m'\u001B[39m\u001B[38;5;124mrender_mode\u001B[39m\u001B[38;5;124m'\u001B[39m\u001B[38;5;124m\"\u001B[39m) \u001B[38;5;241m>\u001B[39m\u001B[38;5;241m=\u001B[39m \u001B[38;5;241m0\u001B[39m\n\u001B[0;32m    806\u001B[0m         \u001B[38;5;129;01mand\u001B[39;00m apply_human_rendering\n\u001B[0;32m    807\u001B[0m     ):\n",
      "File \u001B[1;32m~\\AppData\\Local\\Programs\\Python\\Python311\\Lib\\site-packages\\gymnasium\\envs\\mujoco\\ant_v4.py:266\u001B[0m, in \u001B[0;36mAntEnv.__init__\u001B[1;34m(self, xml_file, ctrl_cost_weight, use_contact_forces, contact_cost_weight, healthy_reward, terminate_when_unhealthy, healthy_z_range, contact_force_range, reset_noise_scale, exclude_current_positions_from_observation, **kwargs)\u001B[0m\n\u001B[0;32m    260\u001B[0m     obs_shape \u001B[38;5;241m+\u001B[39m\u001B[38;5;241m=\u001B[39m \u001B[38;5;241m84\u001B[39m\n\u001B[0;32m    262\u001B[0m observation_space \u001B[38;5;241m=\u001B[39m Box(\n\u001B[0;32m    263\u001B[0m     low\u001B[38;5;241m=\u001B[39m\u001B[38;5;241m-\u001B[39mnp\u001B[38;5;241m.\u001B[39minf, high\u001B[38;5;241m=\u001B[39mnp\u001B[38;5;241m.\u001B[39minf, shape\u001B[38;5;241m=\u001B[39m(obs_shape,), dtype\u001B[38;5;241m=\u001B[39mnp\u001B[38;5;241m.\u001B[39mfloat64\n\u001B[0;32m    264\u001B[0m )\n\u001B[1;32m--> 266\u001B[0m \u001B[43mMujocoEnv\u001B[49m\u001B[38;5;241;43m.\u001B[39;49m\u001B[38;5;21;43m__init__\u001B[39;49m\u001B[43m(\u001B[49m\n\u001B[0;32m    267\u001B[0m \u001B[43m    \u001B[49m\u001B[38;5;28;43mself\u001B[39;49m\u001B[43m,\u001B[49m\n\u001B[0;32m    268\u001B[0m \u001B[43m    \u001B[49m\u001B[43mxml_file\u001B[49m\u001B[43m,\u001B[49m\n\u001B[0;32m    269\u001B[0m \u001B[43m    \u001B[49m\u001B[38;5;241;43m5\u001B[39;49m\u001B[43m,\u001B[49m\n\u001B[0;32m    270\u001B[0m \u001B[43m    \u001B[49m\u001B[43mobservation_space\u001B[49m\u001B[38;5;241;43m=\u001B[39;49m\u001B[43mobservation_space\u001B[49m\u001B[43m,\u001B[49m\n\u001B[0;32m    271\u001B[0m \u001B[43m    \u001B[49m\u001B[43mdefault_camera_config\u001B[49m\u001B[38;5;241;43m=\u001B[39;49m\u001B[43mDEFAULT_CAMERA_CONFIG\u001B[49m\u001B[43m,\u001B[49m\n\u001B[0;32m    272\u001B[0m \u001B[43m    \u001B[49m\u001B[38;5;241;43m*\u001B[39;49m\u001B[38;5;241;43m*\u001B[39;49m\u001B[43mkwargs\u001B[49m\u001B[43m,\u001B[49m\n\u001B[0;32m    273\u001B[0m \u001B[43m\u001B[49m\u001B[43m)\u001B[49m\n",
      "File \u001B[1;32m~\\AppData\\Local\\Programs\\Python\\Python311\\Lib\\site-packages\\gymnasium\\envs\\mujoco\\mujoco_env.py:371\u001B[0m, in \u001B[0;36mMujocoEnv.__init__\u001B[1;34m(self, model_path, frame_skip, observation_space, render_mode, width, height, camera_id, camera_name, default_camera_config)\u001B[0m\n\u001B[0;32m    355\u001B[0m     \u001B[38;5;28;01mraise\u001B[39;00m error\u001B[38;5;241m.\u001B[39mDependencyNotInstalled(\n\u001B[0;32m    356\u001B[0m         \u001B[38;5;124mf\u001B[39m\u001B[38;5;124m\"\u001B[39m\u001B[38;5;132;01m{\u001B[39;00mMUJOCO_IMPORT_ERROR\u001B[38;5;132;01m}\u001B[39;00m\u001B[38;5;124m. \u001B[39m\u001B[38;5;124m\"\u001B[39m\n\u001B[0;32m    357\u001B[0m         \u001B[38;5;124m\"\u001B[39m\u001B[38;5;124m(HINT: you need to install mujoco, run `pip install gymnasium[mujoco]`.)\u001B[39m\u001B[38;5;124m\"\u001B[39m\n\u001B[0;32m    358\u001B[0m     )\n\u001B[0;32m    360\u001B[0m \u001B[38;5;28msuper\u001B[39m()\u001B[38;5;241m.\u001B[39m\u001B[38;5;21m__init__\u001B[39m(\n\u001B[0;32m    361\u001B[0m     model_path,\n\u001B[0;32m    362\u001B[0m     frame_skip,\n\u001B[1;32m   (...)\u001B[0m\n\u001B[0;32m    368\u001B[0m     camera_name,\n\u001B[0;32m    369\u001B[0m )\n\u001B[1;32m--> 371\u001B[0m \u001B[38;5;28;01mfrom\u001B[39;00m \u001B[38;5;21;01mgymnasium\u001B[39;00m\u001B[38;5;21;01m.\u001B[39;00m\u001B[38;5;21;01menvs\u001B[39;00m\u001B[38;5;21;01m.\u001B[39;00m\u001B[38;5;21;01mmujoco\u001B[39;00m\u001B[38;5;21;01m.\u001B[39;00m\u001B[38;5;21;01mmujoco_rendering\u001B[39;00m \u001B[38;5;28;01mimport\u001B[39;00m MujocoRenderer\n\u001B[0;32m    373\u001B[0m \u001B[38;5;28mself\u001B[39m\u001B[38;5;241m.\u001B[39mmujoco_renderer \u001B[38;5;241m=\u001B[39m MujocoRenderer(\n\u001B[0;32m    374\u001B[0m     \u001B[38;5;28mself\u001B[39m\u001B[38;5;241m.\u001B[39mmodel, \u001B[38;5;28mself\u001B[39m\u001B[38;5;241m.\u001B[39mdata, default_camera_config\n\u001B[0;32m    375\u001B[0m )\n",
      "File \u001B[1;32m~\\AppData\\Local\\Programs\\Python\\Python311\\Lib\\site-packages\\gymnasium\\envs\\mujoco\\mujoco_rendering.py:7\u001B[0m\n\u001B[0;32m      4\u001B[0m \u001B[38;5;28;01mfrom\u001B[39;00m \u001B[38;5;21;01mtyping\u001B[39;00m \u001B[38;5;28;01mimport\u001B[39;00m Optional\n\u001B[0;32m      6\u001B[0m \u001B[38;5;28;01mimport\u001B[39;00m \u001B[38;5;21;01mglfw\u001B[39;00m\n\u001B[1;32m----> 7\u001B[0m \u001B[38;5;28;01mimport\u001B[39;00m \u001B[38;5;21;01mimageio\u001B[39;00m\n\u001B[0;32m      8\u001B[0m \u001B[38;5;28;01mimport\u001B[39;00m \u001B[38;5;21;01mmujoco\u001B[39;00m\n\u001B[0;32m      9\u001B[0m \u001B[38;5;28;01mimport\u001B[39;00m \u001B[38;5;21;01mnumpy\u001B[39;00m \u001B[38;5;28;01mas\u001B[39;00m \u001B[38;5;21;01mnp\u001B[39;00m\n",
      "\u001B[1;31mModuleNotFoundError\u001B[0m: No module named 'imageio'"
     ]
    }
   ],
   "source": [
    "\n",
    "from src.torch_device import set_default_torch_device\n",
    "%load_ext autoreload\n",
    "%autoreload 2\n",
    "\n",
    "import torch\n",
    "from torch import optim, nn\n",
    "from src.reinforcement_learning.a2c.episodic.a2c import A2C\n",
    "import gymnasium as gym\n",
    "\n",
    "device = set_default_torch_device(\"cuda:0\")\n",
    "print(f'using device {device}')\n",
    "\n",
    "env = gym.make(\"BipedalWalker-v3\", max_episode_steps=3000)\n",
    "\n",
    "print(env)\n",
    "\n",
    "def init_network(out_size: int, is_actor: bool):\n",
    "    return SeqNet.from_layer_provider(\n",
    "        layer_provider=lambda layer_nr, is_last_layer, in_features, out_features: nn.Sequential(\n",
    "            nn.Linear(in_features, out_features),\n",
    "            nn.CELU() if not is_last_layer else (nn.Tanh() if is_actor else nn.Identity())\n",
    "        ),\n",
    "        in_size=24,\n",
    "        out_sizes=[32, 32, 32, out_size]\n",
    "    )\n",
    "\n",
    "def select_action(logits: torch.Tensor):\n",
    "    dist = Normal(loc=logits, scale=0.15)\n",
    "    \n",
    "    action = dist.sample()\n",
    "    \n",
    "    return action.detach().cpu().numpy(), dist.log_prob(action)\n",
    "\n",
    "actor = init_network(4, True)\n",
    "critic = init_network(1, False)\n",
    "\n",
    "A2C(\n",
    "    env=env,\n",
    "    actor_network=actor,\n",
    "    actor_network_optimizer=optim.Adam(actor.parameters()),\n",
    "    critic_network=critic,\n",
    "    critic_network_optimizer=optim.Adam(critic.parameters()),\n",
    "    critic_loss=nn.MSELoss(),\n",
    "    select_action=select_action,\n",
    "    gamma=0.9,\n",
    "    on_episode_done=lambda a2c, info: print(f'{info[\"i_episode\"]:>4}: {info[\"episode_cumulative_reward\"]:> 8.1f}, {info[\"end_timestep\"]:>5}'),\n",
    ").find_optimal_policy(1000)"
   ]
  },
  {
   "cell_type": "code",
   "outputs": [
    {
     "name": "stdout",
     "output_type": "stream",
     "text": [
      "The autoreload extension is already loaded. To reload it, use:\n",
      "  %reload_ext autoreload\n",
      "<TimeLimit<OrderEnforcing<PassiveEnvChecker<BipedalWalker<BipedalWalker-v3>>>>>\n",
      "   0:    -93.7,   108,    -0.24,    -0.28,  0.019066,  106.653107,  0.0294779092\n",
      "   1:    -38.8,  3000,     0.44,    -0.23, -0.092992,  0.009907,  0.0293225437\n",
      "   2:   -101.8,   119,    -0.24,    -0.49,  0.032669,  95.855270,  0.0361484975\n",
      "   3:   -102.7,    71,    -0.32,    -0.19,  0.039376,  160.952148,  0.0365237385\n",
      "   4:   -111.0,    65,    -0.36,    -0.29,  0.086607,  178.550964,  0.0328248441\n",
      "   5:    -45.4,  3000,     5.24,    -0.50, -1.028195,  0.088283,  0.0278868973\n",
      "   6:    -54.2,  3000,     9.65,    -0.29, -1.867644,  0.130940,  0.0272380799\n",
      "   7:    -47.7,  3000,     7.10,    -0.36, -1.347626,  0.183206,  0.0265279412\n",
      "   8:    -52.7,  3000,     6.34,    -0.20, -1.226506,  0.217520,  0.0254523009\n",
      "   9:    -51.7,  3000,    10.88,    -0.22, -2.091084,  0.243411,  0.0252887845\n",
      "  10:    -56.7,  3000,     5.03,    -0.48, -0.952443,  0.255885,  0.0250203341\n",
      "  11:   -112.3,    80,    -0.29,    -0.40,  0.051747,  142.441742,  0.0308204621\n",
      "  12:    -69.8,  3000,     8.41,    -0.35, -1.557562,  0.275878,  0.0241443500\n",
      "  13:    -66.3,  3000,     5.16,    -0.42, -1.030270,  0.328110,  0.0229180425\n",
      "  14:    -60.7,  3000,     9.91,    -0.28, -1.993403,  0.345633,  0.0215754643\n",
      "  15:    -69.3,  3000,     5.92,    -0.56, -1.139144,  0.352630,  0.0200930104\n",
      "  16:    -72.9,  3000,    24.87,    -0.23, -4.721097,  0.335744,  0.0195899427\n",
      "  17:    -70.3,  3000,     5.47,    -0.20, -1.070763,  0.305725,  0.0194556043\n",
      "  18:    -68.2,  3000,     5.24,    -0.33, -1.042012,  0.262017,  0.0193409204\n",
      "  19:    -56.2,  3000,     4.99,    -0.30, -0.916322,  0.226912,  0.0193980813\n",
      "  20:    -60.2,  3000,     4.26,    -0.33, -0.848566,  0.182055,  0.0194304690\n",
      "  21:    -55.3,  3000,     5.40,    -0.29, -1.050949,  0.146049,  0.0196441621\n",
      "  22:    -46.0,  3000,     3.75,    -0.33, -0.694881,  0.123512,  0.0201165453\n",
      "  23:    -46.8,  3000,     3.78,    -0.36, -0.773382,  0.095114,  0.0198422223\n",
      "  24:    -42.4,  3000,     3.45,    -0.21, -0.636420,  0.075895,  0.0199400991\n",
      "  25:    -38.3,  3000,     2.87,    -0.11, -0.582453,  0.062553,  0.0202928171\n",
      "  26:    -41.5,  3000,     2.92,    -0.17, -0.572787,  0.043180,  0.0204981104\n",
      "  27:    -35.9,  3000,     2.16,    -0.41, -0.428426,  0.034851,  0.0207139686\n",
      "  28:    -39.5,  3000,     2.06,    -0.18, -0.416849,  0.022581,  0.0209517777\n",
      "  29:    -36.4,  3000,     1.10,    -0.15, -0.222196,  0.021721,  0.0215750739\n",
      "  30:    -37.3,  3000,     0.89,    -0.18, -0.182825,  0.013983,  0.0217093661\n",
      "  31:    -47.9,  3000,     0.88,    -0.23, -0.197053,  0.004741,  0.0220751032\n",
      "  32:   -101.5,   142,    -0.20,    -0.20,  0.058663,  79.401077,  0.0305866212\n",
      "  33:    -38.6,  3000,     0.18,    -0.23, -0.060374,  0.010591,  0.0226551250\n",
      "  34:    -41.1,  3000,     0.14,    -0.47, -0.040067,  0.008883,  0.0225490898\n",
      "  35:    -97.1,    83,    -0.27,    -0.15, -0.004282,  136.869781,  0.0209235072\n",
      "  36:    -54.9,  3000,     0.16,    -0.19, -0.041012,  0.006166,  0.0223490700\n",
      "  37:    -51.7,  3000,     0.35,    -0.33, -0.096699,  0.005871,  0.0215976730\n",
      "  38:    -44.3,  3000,     0.52,    -0.28, -0.114933,  0.008506,  0.0210143387\n",
      "  39:    -44.5,  3000,     0.47,    -0.31, -0.109197,  0.015284,  0.0210898533\n",
      "  40:    -44.6,  3000,     0.87,    -0.21, -0.191188,  0.008733,  0.0201155156\n",
      "  41:    -51.6,  3000,     0.71,    -0.25, -0.153505,  0.014768,  0.0198755011\n",
      "  42:    -52.2,  3000,     1.21,    -0.18, -0.258400,  0.006347,  0.0195566356\n",
      "  43:    -43.7,  3000,     0.70,    -0.46, -0.160502,  0.014756,  0.0193980411\n",
      "  44:    -42.8,  3000,     0.77,    -0.27, -0.169737,  0.014287,  0.0195449680\n",
      "  45:    -46.6,  3000,     0.97,    -0.37, -0.198700,  0.008094,  0.0191849381\n",
      "  46:    -49.8,  3000,     0.57,    -0.34, -0.124194,  0.012448,  0.0190980673\n",
      "  47:    -45.5,  3000,     0.71,    -0.18, -0.155455,  0.008039,  0.0191856802\n",
      "  48:    -42.1,  3000,     0.46,    -0.19, -0.089703,  0.011941,  0.0192722961\n",
      "  49:    -40.4,  3000,     0.60,    -0.22, -0.133164,  0.007705,  0.0193761885\n",
      "  50:    -47.2,  3000,     0.43,    -0.18, -0.097092,  0.005245,  0.0194278777\n",
      "  51:    -36.8,  3000,     0.37,    -0.23, -0.094521,  0.011518,  0.0191096082\n",
      "  52:    -41.0,  3000,     0.24,    -0.44, -0.055670,  0.009822,  0.0192887232\n",
      "  53:    -55.2,  3000,     0.59,    -0.25, -0.115646,  0.043365,  0.0190121323\n",
      "  54:    -41.1,  3000,    -0.01,    -0.27, -0.011296,  0.008682,  0.0199585289\n",
      "  55:    -45.3,  3000,    -0.16,    -0.32,  0.017858,  0.008866,  0.0202110484\n",
      "  56:    -42.0,  3000,    -0.30,    -0.35,  0.051400,  0.010324,  0.0205092266\n",
      "  57:    -42.5,  3000,    -0.27,    -0.21,  0.028296,  0.007630,  0.0198253825\n",
      "  58:   -107.7,    64,    -0.36,    -0.27,  0.009376,  179.818207,  0.0271135807\n",
      "  59:    -44.0,  3000,     0.64,    -0.28, -0.136030,  0.007519,  0.0171864688\n",
      "  60:    -60.9,  3000,     1.25,    -0.24, -0.218344,  0.071371,  0.0158237800\n",
      "  61:    -48.1,  3000,     1.62,    -0.26, -0.339613,  0.026638,  0.0145426571\n",
      "  62:    -44.5,  3000,     2.47,    -0.11, -0.494103,  0.034689,  0.0136969477\n",
      "  63:    -43.6,  3000,     2.75,    -0.24, -0.540327,  0.045169,  0.0128687695\n",
      "  64:    -48.8,  3000,     3.66,    -0.16, -0.726080,  0.043756,  0.0125845343\n",
      "  65:    -41.3,  3000,     2.79,    -0.21, -0.579480,  0.057105,  0.0121412784\n",
      "  66:    -41.7,  3000,     2.90,    -0.18, -0.551025,  0.058139,  0.0120360896\n",
      "  67:    -44.4,  3000,     3.42,    -0.26, -0.691646,  0.053782,  0.0119986221\n",
      "  68:    -42.8,  3000,     2.72,    -0.19, -0.567605,  0.055451,  0.0121506199\n",
      "  69:    -36.0,  3000,     2.19,    -0.24, -0.414559,  0.058779,  0.0120372206\n",
      "  70:    -38.3,  3000,     2.37,    -0.18, -0.452852,  0.050791,  0.0120449759\n",
      "  71:    -41.0,  3000,     2.74,    -0.15, -0.553187,  0.047624,  0.0118978731\n",
      "  72:   -118.0,   136,    -0.24,    -0.27,  0.089786,  85.013817,  0.0203159869\n",
      "  73:   -109.1,   254,    -0.09,    -0.21,  0.004654,  43.977711,  0.0315299720\n",
      "  74:   -113.8,   113,    -0.24,    -0.18,  0.035073,  100.875519,  0.0189946741\n",
      "  75:   -117.4,   116,    -0.25,    -0.23,  0.050808,  98.581100,  0.0202812254\n",
      "  76:    -94.5,   115,    -0.19,    -0.18,  0.072636,  97.866905,  0.0142342731\n",
      "  77:   -106.4,   140,    -0.15,    -0.55,  0.053096,  78.884117,  0.0393254220\n",
      "  78:    -65.6,  3000,    11.64,    -0.33, -2.260111,  0.854486,  0.0473185062\n",
      "  79:    -75.9,  3000,     7.21,    -0.21, -1.438027,  0.979687,  0.0509200573\n",
      "  80:    -77.4,  3000,    27.18,    -0.22, -5.098263,  0.998411,  0.0509490013\n",
      "  81:    -85.6,  3000,     8.82,    -0.30, -1.745327,  0.999894,  0.0479298621\n",
      "  82:    -83.7,  3000,     8.36,    -0.40, -1.640085,  0.900513,  0.0446650982\n",
      "  83:    -83.6,  3000,     8.14,    -0.30, -1.531617,  0.753619,  0.0395469815\n",
      "  84:    -76.6,  3000,    16.23,    -0.22, -3.013032,  0.602633,  0.0347563595\n",
      "  85:    -68.3,  3000,    11.46,    -0.36, -2.220312,  0.473229,  0.0309703201\n",
      "  86:    -68.7,  3000,    12.83,    -0.25, -2.434353,  0.357030,  0.0281125784\n",
      "  87:    -67.6,  3000,     5.24,    -0.20, -1.002674,  0.264302,  0.0257403880\n",
      "  88:    -54.7,  3000,     5.02,    -0.37, -0.996171,  0.194153,  0.0240579426\n",
      "  89:    -96.0,    83,    -0.25,    -0.26,  0.033956,  136.228439,  0.0168974191\n",
      "  90:    -52.2,  3000,     5.26,    -0.22, -1.019634,  0.111228,  0.0226816952\n",
      "  91:   -113.1,    77,    -0.32,    -0.23,  0.117680,  150.049500,  0.0161580205\n",
      "  92:    -94.0,   159,    -0.16,    -0.37,  0.045544,  71.209785,  0.0193287790\n",
      "  93:   -118.3,    99,    -0.29,    -0.23,  0.079656,  115.185913,  0.0214930370\n",
      "  94:    -95.3,   148,    -0.16,    -0.28, -0.029442,  76.795204,  0.0155872703\n",
      "  95:   -116.1,    84,    -0.31,    -0.36,  0.126004,  135.226837,  0.0201940045\n",
      "  96:    -94.4,    94,    -0.21,    -0.30,  0.029720,  119.288116,  0.0172527656\n",
      "  97:    -96.1,    74,    -0.26,    -0.30,  0.057753,  150.939896,  0.0168076202\n",
      "  98:    -95.7,    75,    -0.24,    -0.33,  0.096709,  147.996735,  0.0173167691\n",
      "  99:    -94.0,    89,    -0.19,    -0.35,  0.072938,  124.364716,  0.0202442467\n",
      " 100:    -96.2,    93,    -0.16,    -0.19, -0.019594,  117.752090,  0.0243795037\n",
      " 101:    -97.0,   102,    -0.11,    -0.53, -0.013974,  106.946678,  0.0339150667\n",
      " 102:    -94.9,    85,    -0.12,    -0.38, -0.006774,  127.079086,  0.0434730649\n",
      " 103:    -95.9,    72,    -0.12,    -0.58,  0.044814,  147.436203,  0.0608172119\n",
      " 104:   -119.5,  3000,    19.51,    -0.71, -3.889745,  7.842319,  0.0773118138\n",
      " 105:   -101.3,   127,     0.10,    -0.54, -0.022387,  86.477997,  0.0885251105\n",
      " 106:    -96.4,    99,     0.04,    -0.62, -0.064336,  108.283035,  0.0740218639\n",
      " 107:    -98.3,    98,     0.03,    -0.59, -0.010014,  108.848076,  0.0689577579\n",
      " 108:   -140.1,  3000,    12.81,    -0.57, -2.515726,  8.050032,  0.0454126418\n",
      " 109:   -100.4,    85,    -0.05,    -0.50,  0.011516,  122.648758,  0.0443556964\n",
      " 110:   -139.6,  3000,     8.77,    -0.71, -1.776831,  4.815978,  0.0213222444\n",
      " 111:   -100.4,    84,    -0.12,    -0.63, -0.006942,  122.938339,  0.0198254555\n",
      " 112:    -98.7,    82,    -0.13,    -0.53, -0.004959,  126.932358,  0.0197770089\n",
      " 113:   -122.2,  3000,     4.04,    -0.48, -0.786047,  1.893238,  0.0119147040\n",
      " 114:   -117.1,  3000,     3.06,    -0.23, -0.556849,  1.386164,  0.0120977730\n",
      " 115:    -96.0,    88,    -0.18,    -0.27,  0.094571,  117.923332,  0.0158864111\n",
      " 116:    -96.7,    87,    -0.20,    -0.36,  0.011426,  119.077797,  0.0171557546\n",
      " 117:   -103.0,    51,    -0.34,    -0.82,  0.119024,  199.692596,  0.0229337931\n",
      " 118:   -100.6,    99,    -0.20,    -0.68,  0.004375,  101.106270,  0.0257359028\n",
      " 119:    -96.0,   123,    -0.21,    -0.70,  0.050089,  78.204941,  0.0276608199\n",
      " 120:    -96.1,    85,    -0.16,    -0.66,  0.061169,  109.865898,  0.0215502948\n",
      " 121:   -103.1,    90,    -0.14,    -1.06,  0.033201,  100.300400,  0.0364123851\n",
      " 122:   -102.1,    55,    -0.13,    -0.67,  0.037220,  155.538498,  0.0395035893\n",
      " 123:   -105.5,    58,    -0.09,    -1.08,  0.040853,  137.715042,  0.0657849550\n",
      " 124:   -107.6,    38,    -0.44,    -1.16,  0.033718,  185.894974,  0.0656082571\n",
      " 125:   -128.6,   167,    -0.22,    -1.12,  0.050559,  76.425095,  0.0319217980\n",
      " 126:   -127.9,   107,    -0.66,    -1.06,  0.134254,  189.434784,  0.0673633397\n",
      " 127:   -101.9,    70,     0.40,    -0.97, -0.044976,  140.109573,  0.1348971725\n",
      " 128:   -107.9,    72,     0.47,    -0.65, -0.090801,  144.543655,  0.0983385146\n",
      " 129:   -103.8,    57,     0.27,    -0.67, -0.194961,  143.607040,  0.0663423598\n",
      " 130:   -110.3,    81,     0.27,    -0.57, -0.038122,  99.375542,  0.0360625118\n",
      " 131:   -106.8,    64,     0.01,    -0.71,  0.022698,  109.134613,  0.0309156775\n",
      " 132:   -100.3,   101,     0.11,    -0.65, -0.066780,  75.118309,  0.0242641896\n",
      " 133:    -99.8,    85,    -0.15,    -0.70,  0.045095,  82.817719,  0.0270429254\n",
      " 134:   -106.6,    74,    -0.15,    -0.64,  0.028480,  106.660591,  0.0288181514\n",
      " 135:   -101.2,    75,    -0.18,    -0.87,  0.085421,  98.722008,  0.0302804351\n",
      " 136:   -103.5,    89,    -0.33,    -0.80,  0.033694,  107.744286,  0.0318952560\n",
      " 137:    -99.2,    60,    -0.20,    -0.94,  0.060886,  124.576744,  0.0268713117\n",
      " 138:   -127.2,   120,    -0.40,    -0.79,  0.041403,  113.238846,  0.0320319176\n",
      " 139:   -106.3,   235,    -0.30,    -0.80,  0.003678,  33.991886,  0.0301636994\n",
      " 140:   -102.3,    63,    -0.37,    -0.75,  0.074843,  147.376205,  0.0318293691\n",
      " 141:   -107.1,    89,    -0.23,    -0.77,  0.030896,  82.685577,  0.0331676096\n",
      " 142:   -107.1,    63,    -0.29,    -0.76,  0.097635,  104.928009,  0.0346749485\n",
      " 143:   -100.2,    66,    -0.15,    -0.67,  0.056143,  99.800499,  0.0324860454\n",
      " 144:    -99.0,    67,    -0.10,    -0.62,  0.065646,  92.732216,  0.0354440808\n",
      " 145:   -100.2,    83,     0.05,    -0.59, -0.007904,  71.126915,  0.0388564020\n",
      " 146:    -97.1,    94,     0.05,    -0.50,  0.015974,  61.997574,  0.0365746051\n",
      " 147:    -99.8,    99,    -0.02,    -0.54,  0.026166,  49.172665,  0.0368780494\n",
      " 148:    -98.6,    90,     0.17,    -0.60, -0.094342,  65.986298,  0.0378407985\n",
      " 149:   -100.9,    65,     0.21,    -0.62, -0.026046,  77.301918,  0.0393667519\n",
      " 150:   -104.8,    57,    -0.19,    -0.63,  0.074085,  51.401951,  0.0322942555\n",
      " 151:   -104.6,    53,     0.08,    -0.76, -0.005462,  69.174599,  0.0326324403\n",
      " 152:   -102.7,   156,     0.09,    -0.69, -0.034242,  34.834324,  0.0300048560\n",
      " 153:    -99.5,    82,     0.15,    -0.91, -0.064350,  45.248466,  0.0288083464\n",
      " 154:   -104.1,    50,     0.28,    -1.08, -0.128654,  93.517464,  0.0319155693\n",
      " 155:   -103.9,    42,    -0.28,    -1.09,  0.037871,  86.188927,  0.0313534677\n",
      " 156:   -106.5,    33,    -0.29,    -1.23,  0.004205,  95.606377,  0.0259332865\n",
      " 157:   -129.5,   118,    -0.57,    -1.21,  0.132230,  162.970383,  0.0306287289\n",
      " 158:   -107.8,    53,    -0.21,    -1.22,  0.006773,  64.039856,  0.0296034873\n",
      " 159:   -107.7,    31,    -0.18,    -1.38,  0.041031,  71.078194,  0.0316590548\n",
      " 160:   -106.3,    62,    -0.15,    -1.26, -0.033491,  36.855194,  0.0329798758\n",
      " 161:   -240.3,  2935,     0.30,    -1.25, -0.062832,  19.163105,  0.0266801208\n",
      " 162:   -112.8,    36,     0.59,    -1.39, -0.065410,  227.279236,  0.0574647486\n",
      " 163:   -113.9,    35,     0.39,    -1.54, -0.087455,  125.468315,  0.0370875478\n",
      " 164:   -112.9,    35,    -0.21,    -1.50,  0.046454,  46.216148,  0.0322185218\n",
      " 165:   -114.3,    37,    -0.43,    -1.42,  0.099715,  46.069004,  0.0347623944\n",
      " 166:   -112.6,    36,    -0.81,    -1.40,  0.118683,  135.496826,  0.0373014480\n",
      " 167:   -130.9,   132,    -0.76,    -1.19,  0.131066,  134.452942,  0.0355402797\n",
      " 168:   -109.0,   101,    -0.60,    -1.39,  0.152945,  89.573868,  0.0412926137\n",
      " 169:   -121.8,    85,    -0.68,    -1.13,  0.139812,  182.554016,  0.0353232414\n",
      " 170:   -120.7,    87,    -0.62,    -1.10,  0.107611,  169.696274,  0.0347376853\n",
      " 171:   -108.8,    67,    -0.47,    -1.26,  0.093508,  86.717033,  0.0409775317\n",
      " 172:    -99.5,  3000,    -4.94,    -0.54,  0.883358,  2.484333,  0.0264669716\n",
      " 173:    -84.0,  3000,    -3.43,    -0.26,  0.631450,  1.500791,  0.0259738058\n",
      " 174:    -91.1,  3000,    -3.65,    -0.31,  0.679971,  0.645722,  0.0258075595\n",
      " 175:    -87.2,  3000,    -1.88,    -0.16,  0.373607,  0.183774,  0.0257644266\n",
      " 176:    -94.4,  3000,     0.10,    -0.60, -0.026270,  0.038268,  0.0253868341\n",
      " 177:   -102.1,  3000,     1.65,    -0.82, -0.312876,  0.156913,  0.0258344501\n",
      " 178:   -103.4,  3000,    -0.93,    -0.41,  0.169630,  0.010347,  0.0276909232\n",
      " 179:    -99.7,    59,    -0.33,    -0.70,  0.094198,  164.271957,  0.0279225796\n",
      " 180:    -98.2,    63,    -0.29,    -0.48,  0.072478,  150.129303,  0.0292991132\n",
      " 181:    -98.1,    60,    -0.29,    -0.58,  0.068426,  167.245407,  0.0276134908\n",
      " 182:    -98.9,    54,    -0.31,    -0.72,  0.160502,  157.644165,  0.0323039263\n",
      " 183:    -98.0,    65,    -0.25,    -0.78,  0.014225,  127.676506,  0.0314584166\n",
      " 184:   -100.1,    51,    -0.31,    -0.61,  0.080149,  159.854782,  0.0323798716\n",
      " 185:   -100.4,    49,    -0.32,    -0.67, -0.065583,  160.860229,  0.0319633394\n",
      " 186:    -99.3,    70,    -0.23,    -0.75,  0.083975,  99.320274,  0.0290770143\n",
      " 187:    -98.9,    89,    -0.20,    -0.67, -0.093332,  70.477623,  0.0267529935\n",
      " 188:    -99.2,    89,    -0.20,    -0.70,  0.026001,  64.279404,  0.0264299989\n",
      " 189:    -96.9,    94,    -0.20,    -0.68,  0.016537,  50.652527,  0.0280927747\n",
      " 190:   -102.5,  3000,    -3.08,    -0.85,  0.558916,  0.055247,  0.0194609120\n",
      " 191:    -98.6,  3000,    -1.63,    -0.56,  0.291622,  0.049433,  0.0207624152\n",
      " 192:    -99.8,  3000,    -1.85,    -0.49,  0.314501,  0.131621,  0.0192409471\n",
      " 193:    -96.7,  3000,    -1.09,    -0.49,  0.206463,  0.135623,  0.0182689264\n",
      " 194:    -92.8,  3000,    -0.66,    -0.41,  0.129015,  0.104490,  0.0173838168\n",
      " 195:    -95.1,  3000,    -0.49,    -0.42,  0.090503,  0.122588,  0.0171088979\n",
      " 196:    -94.6,  3000,    -0.55,    -0.49,  0.104119,  0.162249,  0.0163520411\n",
      " 197:    -91.9,  3000,    -0.33,    -0.38,  0.064082,  0.144602,  0.0159264207\n",
      " 198:    -91.4,  3000,     0.09,    -0.25, -0.015774,  0.166446,  0.0155606315\n",
      " 199:    -93.9,  3000,     0.45,    -0.36, -0.091553,  0.224140,  0.0151352987\n",
      " 200:    -99.5,  3000,     0.78,    -0.27, -0.152713,  0.377691,  0.0149463236\n",
      " 201:    -95.7,  3000,     0.83,    -0.42, -0.177842,  0.675922,  0.0150302142\n",
      " 202:   -105.1,  3000,     1.14,    -0.25, -0.206775,  0.941108,  0.0150901228\n",
      " 203:    -92.5,  3000,     0.98,    -0.21, -0.170159,  1.364924,  0.0155798778\n",
      " 204:   -101.0,  3000,     1.18,    -0.51, -0.240753,  1.672442,  0.0160691604\n",
      " 205:   -111.8,  3000,     1.36,    -0.45, -0.253277,  1.758437,  0.0168184817\n",
      " 206:   -122.3,  3000,     0.96,    -0.73, -0.184332,  1.148917,  0.0161160052\n",
      " 207:   -113.9,    51,     0.50,    -0.62, -0.075202,  146.040741,  0.0718421042\n",
      " 208:   -113.6,    50,     0.01,    -0.79, -0.139278,  30.469820,  0.0338278502\n",
      " 209:   -134.1,  3000,    -4.51,    -0.93,  0.839553,  1.858642,  0.0174353227\n",
      " 210:   -144.6,  3000,    -7.52,    -1.02,  1.392955,  2.701171,  0.0173541814\n",
      " 211:   -118.7,   282,    -0.23,    -1.18,  0.064228,  10.548822,  0.0281967103\n",
      " 212:   -136.9,  3000,   -12.13,    -0.66,  2.303179,  3.155876,  0.0176330000\n",
      " 213:   -121.7,    48,     0.53,    -0.98, -0.082203,  188.204056,  0.0916058123\n",
      " 214:   -119.0,  3000,    -4.33,    -0.70,  0.828554,  2.227371,  0.0168185055\n",
      " 215:   -121.2,  3000,    -5.51,    -0.74,  1.069686,  1.964506,  0.0168791577\n",
      " 216:   -125.3,  3000,    -6.08,    -0.44,  1.196168,  1.553489,  0.0164209947\n",
      " 217:   -116.9,  3000,    -5.96,    -0.33,  1.135796,  1.187378,  0.0164049372\n",
      " 218:   -124.3,  3000,    -3.54,    -0.47,  0.709482,  0.415213,  0.0128149927\n",
      " 219:   -121.0,  3000,    -5.69,    -0.48,  1.095276,  0.399957,  0.0154799193\n",
      " 220:   -139.5,  3000,    -4.65,    -0.32,  0.865830,  0.221104,  0.0173787221\n",
      " 221:   -116.1,  3000,    -6.06,    -0.36,  1.237326,  0.161698,  0.0198943406\n",
      " 222:   -122.1,  3000,    -3.63,    -0.27,  0.727317,  0.054088,  0.0197691604\n",
      " 223:   -103.9,  3000,    -1.27,    -0.20,  0.250187,  0.006907,  0.0198064521\n",
      " 224:   -103.2,  3000,    -0.90,    -0.19,  0.124883,  0.001276,  0.0172967389\n",
      " 225:    -99.3,  3000,     3.47,    -0.24, -0.688562,  0.012812,  0.0167262644\n",
      " 226:    -95.7,    94,    -0.21,    -0.16,  0.050550,  70.275337,  0.0155952185\n",
      " 227:   -103.6,    52,    -0.36,    -0.31,  0.004074,  198.353531,  0.0150153309\n",
      " 228:   -112.5,    57,    -0.31,    -0.38, -0.041613,  103.660652,  0.0240773916\n",
      " 229:   -100.9,    62,    -0.22,    -0.35,  0.054487,  94.592430,  0.0190586209\n",
      " 230:   -157.2,  3000,    12.73,    -0.26, -2.266434,  1.578595,  0.0177970648\n",
      " 231:   -152.5,  1099,     0.52,    -0.25, -0.092066,  8.360591,  0.0206341863\n",
      " 232:   -125.8,   505,     0.30,    -0.34, -0.054412,  16.229919,  0.0203576311\n",
      " 233:   -105.2,    88,    -0.08,    -0.29,  0.037209,  80.679909,  0.0206595898\n",
      " 234:   -179.5,  3000,    10.42,    -0.78, -2.088102,  3.266176,  0.0156122386\n",
      " 235:   -123.7,    54,     0.26,    -0.51,  0.019263,  66.197029,  0.0534213245\n"
     ]
    },
    {
     "ename": "KeyboardInterrupt",
     "evalue": "",
     "output_type": "error",
     "traceback": [
      "\u001B[1;31m---------------------------------------------------------------------------\u001B[0m",
      "\u001B[1;31mKeyboardInterrupt\u001B[0m                         Traceback (most recent call last)",
      "Cell \u001B[1;32mIn[31], line 81\u001B[0m\n\u001B[0;32m     64\u001B[0m         a2c\u001B[38;5;241m.\u001B[39mmemory\u001B[38;5;241m.\u001B[39mrewards[\u001B[38;5;241m-\u001B[39m\u001B[38;5;241m1\u001B[39m] \u001B[38;5;241m=\u001B[39m \u001B[38;5;241m-\u001B[39m\u001B[38;5;241m30\u001B[39m\n\u001B[0;32m     66\u001B[0m     \u001B[38;5;28mprint\u001B[39m(\u001B[38;5;124mf\u001B[39m\u001B[38;5;124m'\u001B[39m\u001B[38;5;132;01m{\u001B[39;00minfo[\u001B[38;5;124m\"\u001B[39m\u001B[38;5;124mi_episode\u001B[39m\u001B[38;5;124m\"\u001B[39m]\u001B[38;5;132;01m:\u001B[39;00m\u001B[38;5;124m>4\u001B[39m\u001B[38;5;132;01m}\u001B[39;00m\u001B[38;5;124m: \u001B[39m\u001B[38;5;132;01m{\u001B[39;00minfo[\u001B[38;5;124m\"\u001B[39m\u001B[38;5;124mepisode_cumulative_reward\u001B[39m\u001B[38;5;124m\"\u001B[39m]\u001B[38;5;132;01m:\u001B[39;00m\u001B[38;5;124m> 8.1f\u001B[39m\u001B[38;5;132;01m}\u001B[39;00m\u001B[38;5;124m, \u001B[39m\u001B[38;5;132;01m{\u001B[39;00minfo[\u001B[38;5;124m\"\u001B[39m\u001B[38;5;124mend_timestep\u001B[39m\u001B[38;5;124m\"\u001B[39m]\u001B[38;5;132;01m:\u001B[39;00m\u001B[38;5;124m>5\u001B[39m\u001B[38;5;132;01m}\u001B[39;00m\u001B[38;5;124m, \u001B[39m\u001B[38;5;132;01m{\u001B[39;00minfo[\u001B[38;5;124m\"\u001B[39m\u001B[38;5;124madvantages\u001B[39m\u001B[38;5;124m\"\u001B[39m]\u001B[38;5;241m.\u001B[39msqueeze()\u001B[38;5;241m.\u001B[39mmean()\u001B[38;5;132;01m:\u001B[39;00m\u001B[38;5;124m> 8.2f\u001B[39m\u001B[38;5;132;01m}\u001B[39;00m\u001B[38;5;124m, \u001B[39m\u001B[38;5;132;01m{\u001B[39;00minfo[\u001B[38;5;124m\"\u001B[39m\u001B[38;5;124mreturns\u001B[39m\u001B[38;5;124m\"\u001B[39m][\u001B[38;5;241m0\u001B[39m]\u001B[38;5;132;01m:\u001B[39;00m\u001B[38;5;124m> 8.2f\u001B[39m\u001B[38;5;132;01m}\u001B[39;00m\u001B[38;5;124m, \u001B[39m\u001B[38;5;132;01m{\u001B[39;00minfo[\u001B[38;5;124m\"\u001B[39m\u001B[38;5;124mactor_objective\u001B[39m\u001B[38;5;124m\"\u001B[39m]\u001B[38;5;132;01m:\u001B[39;00m\u001B[38;5;124m> 8.6f\u001B[39m\u001B[38;5;132;01m}\u001B[39;00m\u001B[38;5;124m, \u001B[39m\u001B[38;5;132;01m{\u001B[39;00minfo[\u001B[38;5;124m\"\u001B[39m\u001B[38;5;124mcritic_objective__weighted\u001B[39m\u001B[38;5;124m\"\u001B[39m]\u001B[38;5;132;01m:\u001B[39;00m\u001B[38;5;124m> 8.6f\u001B[39m\u001B[38;5;132;01m}\u001B[39;00m\u001B[38;5;124m, \u001B[39m\u001B[38;5;132;01m{\u001B[39;00minfo[\u001B[38;5;124m\"\u001B[39m\u001B[38;5;124mstate_transition_objective__weighted\u001B[39m\u001B[38;5;124m\"\u001B[39m]\u001B[38;5;132;01m:\u001B[39;00m\u001B[38;5;124m> 12.10f\u001B[39m\u001B[38;5;132;01m}\u001B[39;00m\u001B[38;5;124m'\u001B[39m),\n\u001B[0;32m     68\u001B[0m \u001B[43mA2CSTM\u001B[49m\u001B[43m(\u001B[49m\n\u001B[0;32m     69\u001B[0m \u001B[43m    \u001B[49m\u001B[43menv\u001B[49m\u001B[38;5;241;43m=\u001B[39;49m\u001B[43menv\u001B[49m\u001B[43m,\u001B[49m\n\u001B[0;32m     70\u001B[0m \u001B[43m    \u001B[49m\u001B[43mcombined_network\u001B[49m\u001B[38;5;241;43m=\u001B[39;49m\u001B[43mshared_network\u001B[49m\u001B[43m,\u001B[49m\n\u001B[0;32m     71\u001B[0m \u001B[43m    \u001B[49m\u001B[43mcombined_network_optimizer\u001B[49m\u001B[38;5;241;43m=\u001B[39;49m\u001B[43moptim\u001B[49m\u001B[38;5;241;43m.\u001B[39;49m\u001B[43mAdam\u001B[49m\u001B[43m(\u001B[49m\u001B[43mshared_network\u001B[49m\u001B[38;5;241;43m.\u001B[39;49m\u001B[43mparameters\u001B[49m\u001B[43m(\u001B[49m\u001B[43m)\u001B[49m\u001B[43m)\u001B[49m\u001B[43m,\u001B[49m\n\u001B[0;32m     72\u001B[0m \u001B[43m    \u001B[49m\u001B[43mcritic_loss\u001B[49m\u001B[38;5;241;43m=\u001B[39;49m\u001B[43mnn\u001B[49m\u001B[38;5;241;43m.\u001B[39;49m\u001B[43mMSELoss\u001B[49m\u001B[43m(\u001B[49m\u001B[43m)\u001B[49m\u001B[43m,\u001B[49m\n\u001B[0;32m     73\u001B[0m \u001B[43m    \u001B[49m\u001B[43mstate_transition_loss\u001B[49m\u001B[38;5;241;43m=\u001B[39;49m\u001B[43mnn\u001B[49m\u001B[38;5;241;43m.\u001B[39;49m\u001B[43mMSELoss\u001B[49m\u001B[43m(\u001B[49m\u001B[43m)\u001B[49m\u001B[43m,\u001B[49m\n\u001B[0;32m     74\u001B[0m \u001B[43m    \u001B[49m\u001B[43mselect_action\u001B[49m\u001B[38;5;241;43m=\u001B[39;49m\u001B[43mselect_action\u001B[49m\u001B[43m,\u001B[49m\n\u001B[0;32m     75\u001B[0m \u001B[43m    \u001B[49m\u001B[43mgamma\u001B[49m\u001B[38;5;241;43m=\u001B[39;49m\u001B[38;5;241;43m0.75\u001B[39;49m\u001B[43m,\u001B[49m\n\u001B[0;32m     76\u001B[0m \u001B[43m    \u001B[49m\u001B[43mnormalize_advantage_var\u001B[49m\u001B[38;5;241;43m=\u001B[39;49m\u001B[38;5;28;43;01mTrue\u001B[39;49;00m\u001B[43m,\u001B[49m\n\u001B[0;32m     77\u001B[0m \u001B[43m    \u001B[49m\u001B[43mactor_objective_weight\u001B[49m\u001B[38;5;241;43m=\u001B[39;49m\u001B[38;5;241;43m10\u001B[39;49m\u001B[43m,\u001B[49m\n\u001B[0;32m     78\u001B[0m \u001B[43m    \u001B[49m\u001B[43mcritic_objective_weight\u001B[49m\u001B[38;5;241;43m=\u001B[39;49m\u001B[38;5;241;43m0.5\u001B[39;49m\u001B[43m,\u001B[49m\n\u001B[0;32m     79\u001B[0m \u001B[43m    \u001B[49m\u001B[43mstate_transition_objective_weight\u001B[49m\u001B[38;5;241;43m=\u001B[39;49m\u001B[38;5;241;43m0.1\u001B[39;49m\u001B[43m,\u001B[49m\n\u001B[0;32m     80\u001B[0m \u001B[43m    \u001B[49m\u001B[43mon_optimization_done\u001B[49m\u001B[38;5;241;43m=\u001B[39;49m\u001B[43mon_episode_done\u001B[49m\n\u001B[1;32m---> 81\u001B[0m \u001B[43m)\u001B[49m\u001B[38;5;241;43m.\u001B[39;49m\u001B[43mfind_optimal_policy\u001B[49m\u001B[43m(\u001B[49m\u001B[38;5;241;43m1000\u001B[39;49m\u001B[43m)\u001B[49m\n",
      "File \u001B[1;32m~\\GitHub\\pytorch-starter\\src\\reinforcement_learning\\core\\episodic_rl_base.py:59\u001B[0m, in \u001B[0;36mEpisodicRLBase.find_optimal_policy\u001B[1;34m(self, num_episodes, *args, **kwargs)\u001B[0m\n\u001B[0;32m     57\u001B[0m timestep \u001B[38;5;241m=\u001B[39m \u001B[38;5;241m0\u001B[39m\n\u001B[0;32m     58\u001B[0m \u001B[38;5;28;01mfor\u001B[39;00m timestep \u001B[38;5;129;01min\u001B[39;00m \u001B[38;5;28mrange\u001B[39m(\u001B[38;5;241m1\u001B[39m, max_timestep \u001B[38;5;241m+\u001B[39m \u001B[38;5;241m1\u001B[39m):  \u001B[38;5;66;03m# Don't infinite loop while learning\u001B[39;00m\n\u001B[1;32m---> 59\u001B[0m     state, reward, terminated, truncated, info \u001B[38;5;241m=\u001B[39m \u001B[38;5;28;43mself\u001B[39;49m\u001B[38;5;241;43m.\u001B[39;49m\u001B[43mstep\u001B[49m\u001B[43m(\u001B[49m\u001B[43mstate\u001B[49m\u001B[43m)\u001B[49m\n\u001B[0;32m     61\u001B[0m     done \u001B[38;5;241m=\u001B[39m terminated \u001B[38;5;129;01mor\u001B[39;00m truncated\n\u001B[0;32m     63\u001B[0m     \u001B[38;5;28;01mif\u001B[39;00m done:\n",
      "File \u001B[1;32m~\\GitHub\\pytorch-starter\\src\\reinforcement_learning\\a2c\\episodic\\a2c_stm.py:118\u001B[0m, in \u001B[0;36mA2CSTM.step\u001B[1;34m(self, state)\u001B[0m\n\u001B[0;32m    116\u001B[0m \u001B[38;5;28;01mdef\u001B[39;00m \u001B[38;5;21mstep\u001B[39m(\u001B[38;5;28mself\u001B[39m, state: np\u001B[38;5;241m.\u001B[39mndarray) \u001B[38;5;241m-\u001B[39m\u001B[38;5;241m>\u001B[39m \u001B[38;5;28mtuple\u001B[39m[np\u001B[38;5;241m.\u001B[39mndarray, \u001B[38;5;28mfloat\u001B[39m, \u001B[38;5;28mbool\u001B[39m, \u001B[38;5;28mbool\u001B[39m, \u001B[38;5;28mdict\u001B[39m]:\n\u001B[0;32m    117\u001B[0m     action_pred, value_estimate, state_pred \u001B[38;5;241m=\u001B[39m \u001B[38;5;28mself\u001B[39m\u001B[38;5;241m.\u001B[39mcombined_network(torch\u001B[38;5;241m.\u001B[39mtensor(state)\u001B[38;5;241m.\u001B[39mfloat())\n\u001B[1;32m--> 118\u001B[0m     action, action_log_prob \u001B[38;5;241m=\u001B[39m \u001B[38;5;28;43mself\u001B[39;49m\u001B[38;5;241;43m.\u001B[39;49m\u001B[43mselect_action\u001B[49m\u001B[43m(\u001B[49m\u001B[43maction_pred\u001B[49m\u001B[43m)\u001B[49m\n\u001B[0;32m    120\u001B[0m     state, reward, done, truncated, info \u001B[38;5;241m=\u001B[39m \u001B[38;5;28mself\u001B[39m\u001B[38;5;241m.\u001B[39menv\u001B[38;5;241m.\u001B[39mstep(action)\n\u001B[0;32m    121\u001B[0m     reward \u001B[38;5;241m=\u001B[39m \u001B[38;5;28mfloat\u001B[39m(reward)\n",
      "Cell \u001B[1;32mIn[31], line 54\u001B[0m, in \u001B[0;36mselect_action\u001B[1;34m(logits)\u001B[0m\n\u001B[0;32m     53\u001B[0m \u001B[38;5;28;01mdef\u001B[39;00m \u001B[38;5;21mselect_action\u001B[39m(logits: torch\u001B[38;5;241m.\u001B[39mTensor):\n\u001B[1;32m---> 54\u001B[0m     dist \u001B[38;5;241m=\u001B[39m \u001B[43mNormal\u001B[49m\u001B[43m(\u001B[49m\u001B[43mloc\u001B[49m\u001B[38;5;241;43m=\u001B[39;49m\u001B[43mlogits\u001B[49m\u001B[43m,\u001B[49m\u001B[43m \u001B[49m\u001B[43mscale\u001B[49m\u001B[38;5;241;43m=\u001B[39;49m\u001B[38;5;241;43m0.2\u001B[39;49m\u001B[43m)\u001B[49m\n\u001B[0;32m     56\u001B[0m     action \u001B[38;5;241m=\u001B[39m dist\u001B[38;5;241m.\u001B[39msample()\n\u001B[0;32m     58\u001B[0m     \u001B[38;5;28;01mreturn\u001B[39;00m action\u001B[38;5;241m.\u001B[39mdetach()\u001B[38;5;241m.\u001B[39mcpu()\u001B[38;5;241m.\u001B[39mnumpy(), dist\u001B[38;5;241m.\u001B[39mlog_prob(action)\n",
      "File \u001B[1;32m~\\AppData\\Local\\Programs\\Python\\Python311\\Lib\\site-packages\\torch\\distributions\\normal.py:56\u001B[0m, in \u001B[0;36mNormal.__init__\u001B[1;34m(self, loc, scale, validate_args)\u001B[0m\n\u001B[0;32m     54\u001B[0m \u001B[38;5;28;01melse\u001B[39;00m:\n\u001B[0;32m     55\u001B[0m     batch_shape \u001B[38;5;241m=\u001B[39m \u001B[38;5;28mself\u001B[39m\u001B[38;5;241m.\u001B[39mloc\u001B[38;5;241m.\u001B[39msize()\n\u001B[1;32m---> 56\u001B[0m \u001B[38;5;28;43msuper\u001B[39;49m\u001B[43m(\u001B[49m\u001B[43m)\u001B[49m\u001B[38;5;241;43m.\u001B[39;49m\u001B[38;5;21;43m__init__\u001B[39;49m\u001B[43m(\u001B[49m\u001B[43mbatch_shape\u001B[49m\u001B[43m,\u001B[49m\u001B[43m \u001B[49m\u001B[43mvalidate_args\u001B[49m\u001B[38;5;241;43m=\u001B[39;49m\u001B[43mvalidate_args\u001B[49m\u001B[43m)\u001B[49m\n",
      "File \u001B[1;32m~\\AppData\\Local\\Programs\\Python\\Python311\\Lib\\site-packages\\torch\\distributions\\distribution.py:67\u001B[0m, in \u001B[0;36mDistribution.__init__\u001B[1;34m(self, batch_shape, event_shape, validate_args)\u001B[0m\n\u001B[0;32m     65\u001B[0m         value \u001B[38;5;241m=\u001B[39m \u001B[38;5;28mgetattr\u001B[39m(\u001B[38;5;28mself\u001B[39m, param)\n\u001B[0;32m     66\u001B[0m         valid \u001B[38;5;241m=\u001B[39m constraint\u001B[38;5;241m.\u001B[39mcheck(value)\n\u001B[1;32m---> 67\u001B[0m         \u001B[38;5;28;01mif\u001B[39;00m \u001B[38;5;129;01mnot\u001B[39;00m \u001B[43mvalid\u001B[49m\u001B[38;5;241;43m.\u001B[39;49m\u001B[43mall\u001B[49m\u001B[43m(\u001B[49m\u001B[43m)\u001B[49m:\n\u001B[0;32m     68\u001B[0m             \u001B[38;5;28;01mraise\u001B[39;00m \u001B[38;5;167;01mValueError\u001B[39;00m(\n\u001B[0;32m     69\u001B[0m                 \u001B[38;5;124mf\u001B[39m\u001B[38;5;124m\"\u001B[39m\u001B[38;5;124mExpected parameter \u001B[39m\u001B[38;5;132;01m{\u001B[39;00mparam\u001B[38;5;132;01m}\u001B[39;00m\u001B[38;5;124m \u001B[39m\u001B[38;5;124m\"\u001B[39m\n\u001B[0;32m     70\u001B[0m                 \u001B[38;5;124mf\u001B[39m\u001B[38;5;124m\"\u001B[39m\u001B[38;5;124m(\u001B[39m\u001B[38;5;132;01m{\u001B[39;00m\u001B[38;5;28mtype\u001B[39m(value)\u001B[38;5;241m.\u001B[39m\u001B[38;5;18m__name__\u001B[39m\u001B[38;5;132;01m}\u001B[39;00m\u001B[38;5;124m of shape \u001B[39m\u001B[38;5;132;01m{\u001B[39;00m\u001B[38;5;28mtuple\u001B[39m(value\u001B[38;5;241m.\u001B[39mshape)\u001B[38;5;132;01m}\u001B[39;00m\u001B[38;5;124m) \u001B[39m\u001B[38;5;124m\"\u001B[39m\n\u001B[1;32m   (...)\u001B[0m\n\u001B[0;32m     73\u001B[0m                 \u001B[38;5;124mf\u001B[39m\u001B[38;5;124m\"\u001B[39m\u001B[38;5;124mbut found invalid values:\u001B[39m\u001B[38;5;130;01m\\n\u001B[39;00m\u001B[38;5;132;01m{\u001B[39;00mvalue\u001B[38;5;132;01m}\u001B[39;00m\u001B[38;5;124m\"\u001B[39m\n\u001B[0;32m     74\u001B[0m             )\n\u001B[0;32m     75\u001B[0m \u001B[38;5;28msuper\u001B[39m()\u001B[38;5;241m.\u001B[39m\u001B[38;5;21m__init__\u001B[39m()\n",
      "\u001B[1;31mKeyboardInterrupt\u001B[0m: "
     ]
    }
   ],
   "source": [
    "from typing import Any\n",
    "from gymnasium.wrappers import RecordVideo\n",
    "from src.reinforcement_learning.a2c.episodic.a2c_stm import A2CSTM\n",
    "from src.torch_device import set_default_torch_device\n",
    "from torch.distributions import Normal\n",
    "%load_ext autoreload\n",
    "%autoreload 2\n",
    "\n",
    "import torch\n",
    "from torch import optim, nn\n",
    "from src.networks.core.seq_net import SeqNet\n",
    "import gymnasium as gym\n",
    "\n",
    "# device = set_default_torch_device(\"cuda:0\")\n",
    "# print(f'using device {device}')\n",
    "\n",
    "env = gym.make(\"BipedalWalker-v3\", max_episode_steps=3000, render_mode='rgb_array')\n",
    "\n",
    "# env = RecordVideo(env, video_folder=r'C:\\Users\\Brn\\Videos\\rl-gym\\run-0', episode_trigger=lambda i_ep: i_ep > 5)\n",
    "\n",
    "print(env)\n",
    "\n",
    "def init_network():\n",
    "    class ACSTMNetwork(nn.Module):\n",
    "\n",
    "        def __init__(self):\n",
    "            super().__init__()\n",
    "\n",
    "            in_size = 24\n",
    "            actor_out_size = 4\n",
    "            shared_out_sizes = [64, 128, 128, 128, 64]\n",
    "\n",
    "            self.shared = SeqNet.from_layer_provider(\n",
    "                layer_provider=lambda layer_nr, is_last_layer, in_features, out_features: nn.Sequential(\n",
    "                    nn.Linear(in_features, out_features),\n",
    "                    nn.CELU() if not is_last_layer else nn.Identity()\n",
    "                ),\n",
    "                in_size=in_size,\n",
    "                out_sizes=shared_out_sizes\n",
    "            )\n",
    "\n",
    "            self.actor = nn.Sequential(nn.Linear(shared_out_sizes[-1], actor_out_size), nn.Tanh())\n",
    "            self.critic = nn.Linear(shared_out_sizes[-1], 1)\n",
    "            self.state_transition = nn.Linear(shared_out_sizes[-1], in_size)\n",
    "\n",
    "        def forward(self, x: torch.Tensor):\n",
    "            shared_out = self.shared(x)\n",
    "\n",
    "            return self.actor(shared_out), self.critic(shared_out), self.state_transition(shared_out)\n",
    "\n",
    "    return ACSTMNetwork()\n",
    "\n",
    "def select_action(logits: torch.Tensor):\n",
    "    dist = Normal(loc=logits, scale=0.2)\n",
    "\n",
    "    action = dist.sample()\n",
    "\n",
    "    return action.detach().cpu().numpy(), dist.log_prob(action)\n",
    "\n",
    "shared_network = init_network()\n",
    "\n",
    "def on_episode_done(a2c: A2CSTM, info: dict[str, Any]):\n",
    "    if info['truncated']:\n",
    "        a2c.memory.rewards[-1] = -30\n",
    "\n",
    "    print(f'{info[\"i_episode\"]:>4}: {info[\"episode_cumulative_reward\"]:> 8.1f}, {info[\"end_timestep\"]:>5}, {info[\"advantages\"].squeeze().mean():> 8.2f}, {info[\"returns\"][0]:> 8.2f}, {info[\"actor_objective__weighted\"]:> 8.6f}, {info[\"critic_objective__weighted\"]:> 8.6f}, {info[\"state_transition_objective__weighted\"]:> 12.10f}'),\n",
    "\n",
    "A2CSTM(\n",
    "    env=env,\n",
    "    combined_network=shared_network,\n",
    "    combined_network_optimizer=optim.Adam(shared_network.parameters()),\n",
    "    critic_loss=nn.MSELoss(),\n",
    "    state_transition_loss=nn.MSELoss(),\n",
    "    select_action=select_action,\n",
    "    gamma=0.75,\n",
    "    normalize_advantage_var=True,\n",
    "    actor_objective_weight=10,\n",
    "    critic_objective_weight=0.5,\n",
    "    state_transition_objective_weight=0.1,\n",
    "    on_optimization_done=on_episode_done\n",
    ").find_optimal_policy(1000)"
   ],
   "metadata": {
    "collapsed": false,
    "ExecuteTime": {
     "end_time": "2024-04-06T19:21:52.946209Z",
     "start_time": "2024-04-06T19:21:52.943234Z"
    }
   },
   "id": "59d060a3b01355a7",
   "execution_count": 31
  },
  {
   "cell_type": "code",
   "outputs": [],
   "source": [],
   "metadata": {
    "collapsed": false
   },
   "id": "7c593851a4f4f6a4",
   "execution_count": 15
  }
 ],
 "metadata": {
  "autoscrollcelloutput": false,
  "kernelspec": {
   "display_name": "Python 3 (ipykernel)",
   "language": "python",
   "name": "python3"
  },
  "language_info": {
   "codemirror_mode": {
    "name": "ipython",
    "version": 3
   },
   "file_extension": ".py",
   "mimetype": "text/x-python",
   "name": "python",
   "nbconvert_exporter": "python",
   "pygments_lexer": "ipython3",
   "version": "3.11.1"
  }
 },
 "nbformat": 4,
 "nbformat_minor": 5
}
