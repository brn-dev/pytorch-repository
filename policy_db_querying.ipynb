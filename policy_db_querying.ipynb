{
 "cells": [
  {
   "cell_type": "code",
   "id": "initial_id",
   "metadata": {
    "collapsed": true,
    "ExecuteTime": {
     "end_time": "2024-04-30T20:09:43.797235Z",
     "start_time": "2024-04-30T20:09:42.266665Z"
    }
   },
   "source": "from src.model_db.tiny_model_db import TinyModelDB",
   "outputs": [],
   "execution_count": 1
  },
  {
   "metadata": {
    "ExecuteTime": {
     "end_time": "2024-04-30T20:09:49.598699Z",
     "start_time": "2024-04-30T20:09:49.594729Z"
    }
   },
   "cell_type": "code",
   "source": [
    "env_name = 'Humanoid-v4'    \n",
    "policy_db = TinyModelDB(base_path=f'saved_models/rl/{env_name}')"
   ],
   "id": "ae6b4e5768389f1f",
   "outputs": [],
   "execution_count": 2
  },
  {
   "metadata": {
    "ExecuteTime": {
     "end_time": "2024-04-30T21:05:31.016923Z",
     "start_time": "2024-04-30T21:05:31.013045Z"
    }
   },
   "cell_type": "code",
   "source": [
    "for policy_entry in sorted(policy_db.all_entries(), key=lambda p: p['model_info']['score'], reverse=True):\n",
    "    print(f\"id = {policy_entry['model_id']}, score = {policy_entry['model_info']['score']:6.4f}, parent_id = {str(policy_entry['parent_model_id'])}\")"
   ],
   "id": "f33b204618f4c34b",
   "outputs": [
    {
     "name": "stdout",
     "output_type": "stream",
     "text": [
      "id = 2024-04-30_22.09.28, score = 1.0121, parent_id = None\n",
      "id = 2024-04-30_22.08.06, score = 0.2851, parent_id = None\n"
     ]
    }
   ],
   "execution_count": 19
  },
  {
   "metadata": {
    "ExecuteTime": {
     "end_time": "2024-04-30T20:18:43.176094Z",
     "start_time": "2024-04-30T20:18:43.171125Z"
    }
   },
   "cell_type": "code",
   "source": [
    "model_id = '2024-04-30_22.08.06'\n",
    "\n",
    "def print_dict(d: dict):\n",
    "    for key, value in d.items():\n",
    "        if isinstance(value, dict):\n",
    "            print(f\"↓↓↓  {key:^15}  ↓↓↓\")\n",
    "            print_dict(value)\n",
    "            print(f\"↑↑↑  {key:^15}  ↑↑↑\\n\\n\")\n",
    "        else:\n",
    "            print(f\"======  {key:^15}  ======\\n{value}\\n\")\n",
    "\n",
    "print_dict(policy_db.fetch_entry(model_id))"
   ],
   "id": "2d08446d9a9c0756",
   "outputs": [
    {
     "name": "stdout",
     "output_type": "stream",
     "text": [
      "======     model_id      ======\n",
      "2024-04-30_22.08.06\n",
      "\n",
      "======  parent_model_id  ======\n",
      "None\n",
      "\n",
      "======  state_dict_path  ======\n",
      "saved_models/rl/Humanoid-v4\\2024-04-30_22.08.06--state_dict.pth\n",
      "\n",
      "↓↓↓    model_info     ↓↓↓\n",
      "======       score       ======\n",
      "0.28508483138860485\n",
      "\n",
      "======  wrap_env_function  ======\n",
      "def wrap_env(_env: Env):\n",
      "    # _env = NormalizeRewardWrapper(_env, gamma=gamma)\n",
      "    # _env = TransformObservation(_env, lambda _obs: _obs / 255)\n",
      "    _env = TransformReward(_env, lambda _reward: 0.01 * _reward) \n",
      "    _env = RescaleAction(_env, min_action=-1.0, max_action=1.0)\n",
      "    _env = ClipAction(_env)\n",
      "    return _env\n",
      "\n",
      "\n",
      "↑↑↑    model_info     ↑↑↑\n",
      "\n",
      "\n",
      "======   init_function   ======\n",
      "def init_policy():\n",
      "    class A2CNetwork(nn.Module):\n",
      "\n",
      "        def __init__(self):\n",
      "            super().__init__()\n",
      "            \n",
      "            in_size = 376\n",
      "            shared_out_sizes = []\n",
      "            actor_out_sizes = [512, 512, 256, 256, 256, 256, 256, 256, 17]\n",
      "            critic_out_sizes = [512, 512, 256, 256, 256, 1]\n",
      "            \n",
      "            hidden_activation_function = nn.ELU()\n",
      "            actor_out_activation_function = nn.Tanh()\n",
      "            critic_out_activation_function = nn.Identity()\n",
      "            \n",
      "            self.has_shared = len(shared_out_sizes) > 0\n",
      "            \n",
      "            if self.has_shared:\n",
      "                self.shared = SeqNet.from_layer_provider(\n",
      "                    layer_provider=lambda layer_nr, is_last_layer, in_features, out_features: nn.Sequential(\n",
      "                        nn.Linear(in_features, out_features),\n",
      "                        hidden_activation_function\n",
      "                    ),\n",
      "                    in_size=in_size,\n",
      "                    out_sizes=shared_out_sizes\n",
      "                )\n",
      "            else:\n",
      "                self.shared = TorchNet(nn.Identity(), in_shape=TensorShape(features=in_size), out_shape=TensorShape(features=in_size))\n",
      "\n",
      "            self.actor = SeqNet.from_layer_provider(\n",
      "                layer_provider=lambda layer_nr, is_last_layer, in_features, out_features: nn.Sequential(\n",
      "                    nn.Linear(in_features, out_features),\n",
      "                    actor_out_activation_function if is_last_layer else hidden_activation_function\n",
      "                ),\n",
      "                in_size=self.shared.out_shape.get_definite_features(),\n",
      "                out_sizes=actor_out_sizes\n",
      "            )\n",
      "\n",
      "            self.critic = SeqNet.from_layer_provider(\n",
      "                layer_provider=lambda layer_nr, is_last_layer, in_features, out_features: nn.Sequential(\n",
      "                    nn.Linear(in_features, out_features),\n",
      "                    critic_out_activation_function if is_last_layer else hidden_activation_function\n",
      "                ),\n",
      "                in_size=self.shared.out_shape.get_definite_features(),\n",
      "                out_sizes=critic_out_sizes\n",
      "            )\n",
      "\n",
      "        def forward(self, x: torch.Tensor):\n",
      "            if self.has_shared:\n",
      "                shared_out = self.shared(x)\n",
      "            else:\n",
      "                shared_out = x\n",
      "\n",
      "            return self.actor(shared_out), self.critic(shared_out)\n",
      "\n",
      "    return ActorCriticPolicy(A2CNetwork(), lambda action_logits: dist.Normal(loc=action_logits, scale=policy_action_std))\n",
      "\n",
      "\n",
      "======  last_update_time  ======\n",
      "2024-04-30 22:08:56.378810\n",
      "\n"
     ]
    }
   ],
   "execution_count": 14
  },
  {
   "metadata": {
    "ExecuteTime": {
     "end_time": "2024-04-30T20:17:38.247461Z",
     "start_time": "2024-04-30T20:17:38.245155Z"
    }
   },
   "cell_type": "code",
   "source": "",
   "id": "c801d61624b27bcf",
   "outputs": [],
   "execution_count": 12
  },
  {
   "metadata": {
    "ExecuteTime": {
     "end_time": "2024-04-30T07:39:00.173021Z",
     "start_time": "2024-04-30T07:39:00.072045Z"
    }
   },
   "cell_type": "code",
   "source": "policy_db.delete_entry('2024-04-30_09.24.10', delete_state_dict=True)",
   "id": "2e40f03dd974dd08",
   "outputs": [
    {
     "ename": "ValueError",
     "evalue": "Model id 2024-04-30_09.24.10 not found",
     "output_type": "error",
     "traceback": [
      "\u001B[1;31m---------------------------------------------------------------------------\u001B[0m",
      "\u001B[1;31mValueError\u001B[0m                                Traceback (most recent call last)",
      "Cell \u001B[1;32mIn[3], line 1\u001B[0m\n\u001B[1;32m----> 1\u001B[0m \u001B[43mpolicy_db\u001B[49m\u001B[38;5;241;43m.\u001B[39;49m\u001B[43mdelete_entry\u001B[49m\u001B[43m(\u001B[49m\u001B[38;5;124;43m'\u001B[39;49m\u001B[38;5;124;43m2024-04-30_09.24.10\u001B[39;49m\u001B[38;5;124;43m'\u001B[39;49m\u001B[43m,\u001B[49m\u001B[43m \u001B[49m\u001B[43mdelete_state_dict\u001B[49m\u001B[38;5;241;43m=\u001B[39;49m\u001B[38;5;28;43;01mTrue\u001B[39;49;00m\u001B[43m)\u001B[49m\n",
      "File \u001B[1;32m~\\Git\\pytorch-starter\\src\\model_db.py:143\u001B[0m, in \u001B[0;36mModelTinyDB.delete_entry\u001B[1;34m(self, model_id, delete_state_dict)\u001B[0m\n\u001B[0;32m    141\u001B[0m \u001B[38;5;28;01mdef\u001B[39;00m \u001B[38;5;21mdelete_entry\u001B[39m(\u001B[38;5;28mself\u001B[39m, model_id: \u001B[38;5;28mstr\u001B[39m, delete_state_dict: \u001B[38;5;28mbool\u001B[39m) \u001B[38;5;241m-\u001B[39m\u001B[38;5;241m>\u001B[39m \u001B[38;5;28;01mNone\u001B[39;00m:\n\u001B[0;32m    142\u001B[0m     \u001B[38;5;28;01mif\u001B[39;00m delete_state_dict:\n\u001B[1;32m--> 143\u001B[0m         entry \u001B[38;5;241m=\u001B[39m \u001B[38;5;28;43mself\u001B[39;49m\u001B[38;5;241;43m.\u001B[39;49m\u001B[43mfetch_entry\u001B[49m\u001B[43m(\u001B[49m\u001B[43mmodel_id\u001B[49m\u001B[43m)\u001B[49m\n\u001B[0;32m    144\u001B[0m         os\u001B[38;5;241m.\u001B[39mremove(entry[\u001B[38;5;124m'\u001B[39m\u001B[38;5;124mstate_dict_path\u001B[39m\u001B[38;5;124m'\u001B[39m])\n\u001B[0;32m    146\u001B[0m     \u001B[38;5;28mself\u001B[39m\u001B[38;5;241m.\u001B[39mdb\u001B[38;5;241m.\u001B[39mremove(cond\u001B[38;5;241m=\u001B[39m\u001B[38;5;28mself\u001B[39m\u001B[38;5;241m.\u001B[39mcreate_model_id_query(model_id))\n",
      "File \u001B[1;32m~\\Git\\pytorch-starter\\src\\model_db.py:137\u001B[0m, in \u001B[0;36mModelTinyDB.fetch_entry\u001B[1;34m(self, model_id)\u001B[0m\n\u001B[0;32m    134\u001B[0m search_result \u001B[38;5;241m=\u001B[39m \u001B[38;5;28mself\u001B[39m\u001B[38;5;241m.\u001B[39mdb\u001B[38;5;241m.\u001B[39msearch(\u001B[38;5;28mself\u001B[39m\u001B[38;5;241m.\u001B[39mcreate_model_id_query(model_id))\n\u001B[0;32m    136\u001B[0m \u001B[38;5;28;01mif\u001B[39;00m \u001B[38;5;28mlen\u001B[39m(search_result) \u001B[38;5;241m==\u001B[39m \u001B[38;5;241m0\u001B[39m:\n\u001B[1;32m--> 137\u001B[0m     \u001B[38;5;28;01mraise\u001B[39;00m \u001B[38;5;167;01mValueError\u001B[39;00m(\u001B[38;5;124mf\u001B[39m\u001B[38;5;124m'\u001B[39m\u001B[38;5;124mModel id \u001B[39m\u001B[38;5;132;01m{\u001B[39;00mmodel_id\u001B[38;5;132;01m}\u001B[39;00m\u001B[38;5;124m not found\u001B[39m\u001B[38;5;124m'\u001B[39m)\n\u001B[0;32m    139\u001B[0m \u001B[38;5;28;01mreturn\u001B[39;00m search_result[\u001B[38;5;241m0\u001B[39m]\n",
      "\u001B[1;31mValueError\u001B[0m: Model id 2024-04-30_09.24.10 not found"
     ]
    }
   ],
   "execution_count": 3
  },
  {
   "metadata": {},
   "cell_type": "code",
   "outputs": [],
   "execution_count": null,
   "source": "",
   "id": "42e5e3547522c041"
  }
 ],
 "metadata": {
  "kernelspec": {
   "display_name": "Python 3",
   "language": "python",
   "name": "python3"
  },
  "language_info": {
   "codemirror_mode": {
    "name": "ipython",
    "version": 2
   },
   "file_extension": ".py",
   "mimetype": "text/x-python",
   "name": "python",
   "nbconvert_exporter": "python",
   "pygments_lexer": "ipython2",
   "version": "2.7.6"
  }
 },
 "nbformat": 4,
 "nbformat_minor": 5
}
