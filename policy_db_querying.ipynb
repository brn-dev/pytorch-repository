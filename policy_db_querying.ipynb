{
 "cells": [
  {
   "cell_type": "code",
   "id": "initial_id",
   "metadata": {
    "collapsed": true,
    "ExecuteTime": {
     "end_time": "2024-05-17T23:47:10.776715Z",
     "start_time": "2024-05-17T23:47:04.067307Z"
    }
   },
   "source": [
    "from typing import Any\n",
    "\n",
    "from src.model_db.tiny_model_db import TinyModelDB\n",
    "\n",
    "import numpy as np\n",
    "import networkx as nx\n",
    "import matplotlib.pyplot as plt\n",
    "\n",
    "from src.reinforcement_learning.core.policy_info import PolicyInfo\n",
    "from src.model_db.model_db import ModelEntry\n",
    "\n"
   ],
   "execution_count": 1,
   "outputs": []
  },
  {
   "metadata": {
    "ExecuteTime": {
     "end_time": "2024-05-17T23:47:10.871946Z",
     "start_time": "2024-05-17T23:47:10.777707Z"
    }
   },
   "cell_type": "code",
   "source": [
    "with TinyModelDB(base_path=f'E:/saved_models/rl/Humanoid-v4/mitosis-2024-05-17_19.33.57') as policy_db:\n",
    "    policy_entries_sorted: list[ModelEntry[PolicyInfo]] = list(sorted(policy_db.all_entries(), key=lambda p: p['model_info']['score'], reverse=True))"
   ],
   "id": "ae6b4e5768389f1f",
   "execution_count": 2,
   "outputs": []
  },
  {
   "metadata": {
    "ExecuteTime": {
     "end_time": "2024-05-17T23:47:10.877627Z",
     "start_time": "2024-05-17T23:47:10.872943Z"
    }
   },
   "cell_type": "code",
   "source": [
    "for policy_entry in policy_entries_sorted:\n",
    "    print(f\"id = {policy_entry['model_id']}, score = {policy_entry['model_info']['score']:6.4f}, parent_id = {str(policy_entry['parent_model_id'])}\")"
   ],
   "id": "f33b204618f4c34b",
   "execution_count": 3,
   "outputs": [
    {
     "name": "stdout",
     "output_type": "stream",
     "text": [
      "id = 2024-05-17_21.11.14~6cLsqH, score = 105.1471, parent_id = 2024-05-17_20.54.29~yll2sB\n",
      "id = 2024-05-17_21.28.50~8jHPLD, score = 104.0487, parent_id = 2024-05-17_21.11.26~3cGRI6\n",
      "id = 2024-05-17_21.40.12~G5Ibfx, score = 103.5840, parent_id = 2024-05-17_21.28.50~8jHPLD\n",
      "id = 2024-05-17_21.28.35~DIgVb1, score = 102.8783, parent_id = 2024-05-17_20.48.45~NENbDM\n",
      "id = 2024-05-17_21.05.33~cGGFy8, score = 102.0389, parent_id = 2024-05-17_20.42.40~iOs1k9\n",
      "id = 2024-05-17_21.39.53~IvB2DN, score = 101.9633, parent_id = 2024-05-17_21.16.56~YCJZXU\n",
      "id = 2024-05-17_20.48.45~NENbDM, score = 101.1881, parent_id = 2024-05-17_20.31.11~058mhZ\n",
      "id = 2024-05-17_20.54.29~yll2sB, score = 101.0447, parent_id = 2024-05-17_20.42.40~iOs1k9\n",
      "id = 2024-05-17_20.36.54~Kr93Q8, score = 100.6187, parent_id = 2024-05-17_20.25.38~BfVdcQ\n",
      "id = 2024-05-17_21.05.40~q0NwNN, score = 100.5653, parent_id = 2024-05-17_20.54.06~51T7FD\n",
      "id = 2024-05-17_21.05.53~Rf0fyj, score = 100.0076, parent_id = 2024-05-17_20.54.09~gYiNkY\n",
      "id = 2024-05-17_21.16.56~YCJZXU, score = 99.7353, parent_id = 2024-05-17_20.48.45~NENbDM\n",
      "id = 2024-05-17_20.31.11~058mhZ, score = 99.2710, parent_id = 2024-05-17_20.19.46~gFvca8\n",
      "id = 2024-05-17_21.11.26~3cGRI6, score = 99.2504, parent_id = 2024-05-17_20.48.45~NENbDM\n",
      "id = 2024-05-17_21.34.28~jZ6KhU, score = 99.2142, parent_id = 2024-05-17_20.54.29~yll2sB\n",
      "id = 2024-05-17_21.17.25~mbTCLN, score = 98.3221, parent_id = 2024-05-17_20.59.54~jsHmfE\n",
      "id = 2024-05-17_21.22.51~hRW60a, score = 98.2024, parent_id = 2024-05-17_20.36.54~Kr93Q8\n",
      "id = 2024-05-17_21.28.22~ylAYqt, score = 97.8926, parent_id = 2024-05-17_20.36.54~Kr93Q8\n",
      "id = 2024-05-17_20.25.38~BfVdcQ, score = 97.7196, parent_id = 2024-05-17_20.19.46~gFvca8\n",
      "id = 2024-05-17_20.42.40~iOs1k9, score = 97.7133, parent_id = 2024-05-17_20.19.46~gFvca8\n",
      "id = 2024-05-17_20.48.22~dyjqw8, score = 97.6767, parent_id = 2024-05-17_20.31.11~058mhZ\n",
      "id = 2024-05-17_20.42.33~KkxeD7, score = 97.1202, parent_id = 2024-05-17_20.31.25~hCa8RU\n",
      "id = 2024-05-17_21.11.38~ocQ6Y3, score = 96.4190, parent_id = 2024-05-17_20.54.06~51T7FD\n",
      "id = 2024-05-17_20.59.50~aJRFlO, score = 96.4063, parent_id = 2024-05-17_20.19.46~gFvca8\n",
      "id = 2024-05-17_21.40.06~tjQir1, score = 96.1932, parent_id = 2024-05-17_20.48.21~21Aqka\n",
      "id = 2024-05-17_20.54.06~51T7FD, score = 96.1418, parent_id = 2024-05-17_20.31.11~058mhZ\n",
      "id = 2024-05-17_21.22.39~bjlIq9, score = 96.0253, parent_id = 2024-05-17_20.48.22~dyjqw8\n",
      "id = 2024-05-17_21.34.07~C3AoxQ, score = 96.0223, parent_id = 2024-05-17_20.54.06~51T7FD\n",
      "id = 2024-05-17_20.59.54~jsHmfE, score = 95.5482, parent_id = 2024-05-17_20.36.54~Kr93Q8\n",
      "id = 2024-05-17_21.17.05~BcXArU, score = 95.3188, parent_id = 2024-05-17_20.25.38~BfVdcQ\n",
      "id = 2024-05-17_20.42.59~uA78OJ, score = 94.8786, parent_id = 2024-05-17_20.36.54~Kr93Q8\n",
      "id = 2024-05-17_20.48.21~21Aqka, score = 94.3486, parent_id = 2024-05-17_20.42.33~KkxeD7\n",
      "id = 2024-05-17_20.54.09~gYiNkY, score = 94.3385, parent_id = 2024-05-17_20.36.54~Kr93Q8\n",
      "id = 2024-05-17_20.31.25~hCa8RU, score = 93.6768, parent_id = 2024-05-17_20.25.38~BfVdcQ\n",
      "id = 2024-05-17_20.19.46~gFvca8, score = 93.4789, parent_id = 2024-05-17_20.02.42~MD4syX\n",
      "id = 2024-05-17_21.00.10~hUJ08L, score = 92.8019, parent_id = 2024-05-17_20.31.11~058mhZ\n",
      "id = 2024-05-17_21.23.11~6ady6I, score = 90.6929, parent_id = 2024-05-17_20.54.29~yll2sB\n",
      "id = 2024-05-17_20.14.13~VlhvIe, score = 89.4791, parent_id = 2024-05-17_20.02.38~2PthbR\n",
      "id = 2024-05-17_20.25.30~9jchAh, score = 88.5118, parent_id = 2024-05-17_20.19.46~gFvca8\n",
      "id = 2024-05-17_20.02.42~MD4syX, score = 88.0766, parent_id = 2024-05-17_19.51.16~kjnJNU\n",
      "id = 2024-05-17_20.25.25~NwZaQO, score = 88.0662, parent_id = 2024-05-17_20.02.42~MD4syX\n",
      "id = 2024-05-17_20.08.23~X2ErTh, score = 84.9839, parent_id = 2024-05-17_19.51.11~0SrmlW\n",
      "id = 2024-05-17_19.51.16~kjnJNU, score = 84.5572, parent_id = 2024-05-17_19.33.58~0FHGB1\n",
      "id = 2024-05-17_20.36.53~9C3zQp, score = 82.9457, parent_id = 2024-05-17_20.02.38~2PthbR\n",
      "id = 2024-05-17_20.02.38~2PthbR, score = 82.5262, parent_id = 2024-05-17_19.51.16~kjnJNU\n",
      "id = 2024-05-17_19.51.11~0SrmlW, score = 81.1996, parent_id = 2024-05-17_19.33.58~0FHGB1\n",
      "id = 2024-05-17_19.51.05~MQ2dXR, score = 80.2579, parent_id = 2024-05-17_19.39.46~8CDohK\n",
      "id = 2024-05-17_19.33.58~0FHGB1, score = 80.0054, parent_id = None\n",
      "id = 2024-05-17_20.14.06~KliK2P, score = 79.9409, parent_id = None\n",
      "id = 2024-05-17_20.08.28~ieMudN, score = 79.4184, parent_id = 2024-05-17_19.51.16~kjnJNU\n",
      "id = 2024-05-17_20.08.20~aVzfnk, score = 78.9016, parent_id = 2024-05-17_19.51.16~kjnJNU\n",
      "id = 2024-05-17_19.56.50~YutIIp, score = 78.7609, parent_id = 2024-05-17_19.51.05~MQ2dXR\n",
      "id = 2024-05-17_20.37.11~BjDzB6, score = 78.7150, parent_id = 2024-05-17_19.45.31~AgRbb7\n",
      "id = 2024-05-17_19.56.57~CFrHxn, score = 78.1643, parent_id = 2024-05-17_19.33.58~0FHGB1\n",
      "id = 2024-05-17_20.31.16~A2f1Rt, score = 77.1409, parent_id = 2024-05-17_20.14.06~KliK2P\n",
      "id = 2024-05-17_21.34.16~xKGjAn, score = 76.9672, parent_id = 2024-05-17_19.45.31~AgRbb7\n",
      "id = 2024-05-17_19.39.46~8CDohK, score = 76.8249, parent_id = None\n",
      "id = 2024-05-17_20.14.04~2lkIB3, score = 76.7776, parent_id = 2024-05-17_19.56.57~CFrHxn\n",
      "id = 2024-05-17_19.57.02~srx8CP, score = 76.3517, parent_id = 2024-05-17_19.39.47~0htDYq\n",
      "id = 2024-05-17_20.19.55~rBBJl3, score = 75.5265, parent_id = None\n",
      "id = 2024-05-17_19.45.31~AgRbb7, score = 75.2760, parent_id = 2024-05-17_19.39.46~8CDohK\n",
      "id = 2024-05-17_20.02.36~hSYXsA, score = 74.8261, parent_id = 2024-05-17_19.56.50~YutIIp\n",
      "id = 2024-05-17_19.39.47~0htDYq, score = 74.8248, parent_id = None\n",
      "id = 2024-05-17_19.45.27~e4FAZe, score = 74.4048, parent_id = None\n",
      "id = 2024-05-17_19.33.58~NmSSSD, score = 74.2055, parent_id = None\n",
      "id = 2024-05-17_20.19.46~SFyPOd, score = 72.4422, parent_id = 2024-05-17_20.14.04~2lkIB3\n",
      "id = 2024-05-17_19.39.44~O8JCgN, score = 71.5838, parent_id = None\n",
      "id = 2024-05-17_19.33.58~rT8tlm, score = 71.5605, parent_id = None\n",
      "id = 2024-05-17_19.45.29~mJ8pek, score = 66.9865, parent_id = None\n"
     ]
    }
   ]
  },
  {
   "cell_type": "code",
   "source": [
    "G = nx.DiGraph()\n",
    "\n",
    "G.add_nodes_from(\n",
    "    (policy_entry['model_id'], {\n",
    "        'score': policy_entry['model_info']['score'], \n",
    "        'steps_trained': policy_entry['model_info']['steps_trained'],\n",
    "        'env_steps_trained': policy_entry['model_info'].get('env_steps_trained', None)\n",
    "    })\n",
    "     for policy_entry \n",
    "     in policy_entries_sorted\n",
    "     )\n",
    "\n",
    "pos: dict[str, tuple[int, float]] = {}\n",
    "for policy_entry in policy_entries_sorted:\n",
    "    model_id = policy_entry['model_id']\n",
    "    parent_id = policy_entry['parent_model_id']\n",
    "    if parent_id is not None:\n",
    "        G.add_edge(parent_id, model_id)\n",
    "    \n",
    "    model_info = policy_entry['model_info']\n",
    "    pos[model_id] = (model_info['steps_trained'], model_info['score'])\n",
    "\n",
    "\n",
    "def set_color_recursively(node_id: str, c: Any):\n",
    "    colors[node_id] = c\n",
    "    for neighbor_id in G.neighbors(node_id):\n",
    "        c = np.clip(c + (np.random.random(3) - 0.5) / 4, 0, 1)\n",
    "        set_color_recursively(neighbor_id, c)\n",
    "    \n",
    "\n",
    "colors: dict[str, np.ndarray] = {}\n",
    "for root_id in (node for node, in_degree in G.in_degree() if in_degree == 0):\n",
    "    color = list(np.random.random(3))\n",
    "    set_color_recursively(root_id, color)\n",
    "\n",
    "node_color = [colors[node_id] for node_id in G]\n",
    "\n",
    "scores = nx.get_node_attributes(G, 'score')\n",
    "steps_trained = nx.get_node_attributes(G, 'steps_trained')\n",
    "env_steps_trained = nx.get_node_attributes(G, 'env_steps_trained')\n",
    "labels: dict[str, str] = {}\n",
    "for node_id, score in scores.items():\n",
    "    labels[node_id] = f'{node_id}\\n{steps_trained[node_id]}\\n{env_steps_trained[node_id]}\\n{score:.2f}'\n",
    "\n",
    "fig, ax = plt.subplots(1, 1, figsize=(30, 15))\n",
    "nx.draw(G, pos, with_labels=True, labels=labels, node_color=node_color, ax=ax)\n"
   ],
   "metadata": {
    "collapsed": false,
    "ExecuteTime": {
     "end_time": "2024-05-17T20:04:33.663158Z",
     "start_time": "2024-05-17T20:04:33.517826Z"
    }
   },
   "id": "eac1c795fabc87ae",
   "execution_count": 13,
   "outputs": [
    {
     "data": {
      "text/plain": "<IPython.core.display.Javascript object>",
      "application/javascript": "/* Put everything inside the global mpl namespace */\n/* global mpl */\nwindow.mpl = {};\n\nmpl.get_websocket_type = function () {\n    if (typeof WebSocket !== 'undefined') {\n        return WebSocket;\n    } else if (typeof MozWebSocket !== 'undefined') {\n        return MozWebSocket;\n    } else {\n        alert(\n            'Your browser does not have WebSocket support. ' +\n                'Please try Chrome, Safari or Firefox ≥ 6. ' +\n                'Firefox 4 and 5 are also supported but you ' +\n                'have to enable WebSockets in about:config.'\n        );\n    }\n};\n\nmpl.figure = function (figure_id, websocket, ondownload, parent_element) {\n    this.id = figure_id;\n\n    this.ws = websocket;\n\n    this.supports_binary = this.ws.binaryType !== undefined;\n\n    if (!this.supports_binary) {\n        var warnings = document.getElementById('mpl-warnings');\n        if (warnings) {\n            warnings.style.display = 'block';\n            warnings.textContent =\n                'This browser does not support binary websocket messages. ' +\n                'Performance may be slow.';\n        }\n    }\n\n    this.imageObj = new Image();\n\n    this.context = undefined;\n    this.message = undefined;\n    this.canvas = undefined;\n    this.rubberband_canvas = undefined;\n    this.rubberband_context = undefined;\n    this.format_dropdown = undefined;\n\n    this.image_mode = 'full';\n\n    this.root = document.createElement('div');\n    this.root.setAttribute('style', 'display: inline-block');\n    this._root_extra_style(this.root);\n\n    parent_element.appendChild(this.root);\n\n    this._init_header(this);\n    this._init_canvas(this);\n    this._init_toolbar(this);\n\n    var fig = this;\n\n    this.waiting = false;\n\n    this.ws.onopen = function () {\n        fig.send_message('supports_binary', { value: fig.supports_binary });\n        fig.send_message('send_image_mode', {});\n        if (fig.ratio !== 1) {\n            fig.send_message('set_device_pixel_ratio', {\n                device_pixel_ratio: fig.ratio,\n            });\n        }\n        fig.send_message('refresh', {});\n    };\n\n    this.imageObj.onload = function () {\n        if (fig.image_mode === 'full') {\n            // Full images could contain transparency (where diff images\n            // almost always do), so we need to clear the canvas so that\n            // there is no ghosting.\n            fig.context.clearRect(0, 0, fig.canvas.width, fig.canvas.height);\n        }\n        fig.context.drawImage(fig.imageObj, 0, 0);\n    };\n\n    this.imageObj.onunload = function () {\n        fig.ws.close();\n    };\n\n    this.ws.onmessage = this._make_on_message_function(this);\n\n    this.ondownload = ondownload;\n};\n\nmpl.figure.prototype._init_header = function () {\n    var titlebar = document.createElement('div');\n    titlebar.classList =\n        'ui-dialog-titlebar ui-widget-header ui-corner-all ui-helper-clearfix';\n    var titletext = document.createElement('div');\n    titletext.classList = 'ui-dialog-title';\n    titletext.setAttribute(\n        'style',\n        'width: 100%; text-align: center; padding: 3px;'\n    );\n    titlebar.appendChild(titletext);\n    this.root.appendChild(titlebar);\n    this.header = titletext;\n};\n\nmpl.figure.prototype._canvas_extra_style = function (_canvas_div) {};\n\nmpl.figure.prototype._root_extra_style = function (_canvas_div) {};\n\nmpl.figure.prototype._init_canvas = function () {\n    var fig = this;\n\n    var canvas_div = (this.canvas_div = document.createElement('div'));\n    canvas_div.setAttribute(\n        'style',\n        'border: 1px solid #ddd;' +\n            'box-sizing: content-box;' +\n            'clear: both;' +\n            'min-height: 1px;' +\n            'min-width: 1px;' +\n            'outline: 0;' +\n            'overflow: hidden;' +\n            'position: relative;' +\n            'resize: both;'\n    );\n\n    function on_keyboard_event_closure(name) {\n        return function (event) {\n            return fig.key_event(event, name);\n        };\n    }\n\n    canvas_div.addEventListener(\n        'keydown',\n        on_keyboard_event_closure('key_press')\n    );\n    canvas_div.addEventListener(\n        'keyup',\n        on_keyboard_event_closure('key_release')\n    );\n\n    this._canvas_extra_style(canvas_div);\n    this.root.appendChild(canvas_div);\n\n    var canvas = (this.canvas = document.createElement('canvas'));\n    canvas.classList.add('mpl-canvas');\n    canvas.setAttribute('style', 'box-sizing: content-box;');\n\n    this.context = canvas.getContext('2d');\n\n    var backingStore =\n        this.context.backingStorePixelRatio ||\n        this.context.webkitBackingStorePixelRatio ||\n        this.context.mozBackingStorePixelRatio ||\n        this.context.msBackingStorePixelRatio ||\n        this.context.oBackingStorePixelRatio ||\n        this.context.backingStorePixelRatio ||\n        1;\n\n    this.ratio = (window.devicePixelRatio || 1) / backingStore;\n\n    var rubberband_canvas = (this.rubberband_canvas = document.createElement(\n        'canvas'\n    ));\n    rubberband_canvas.setAttribute(\n        'style',\n        'box-sizing: content-box; position: absolute; left: 0; top: 0; z-index: 1;'\n    );\n\n    // Apply a ponyfill if ResizeObserver is not implemented by browser.\n    if (this.ResizeObserver === undefined) {\n        if (window.ResizeObserver !== undefined) {\n            this.ResizeObserver = window.ResizeObserver;\n        } else {\n            var obs = _JSXTOOLS_RESIZE_OBSERVER({});\n            this.ResizeObserver = obs.ResizeObserver;\n        }\n    }\n\n    this.resizeObserverInstance = new this.ResizeObserver(function (entries) {\n        var nentries = entries.length;\n        for (var i = 0; i < nentries; i++) {\n            var entry = entries[i];\n            var width, height;\n            if (entry.contentBoxSize) {\n                if (entry.contentBoxSize instanceof Array) {\n                    // Chrome 84 implements new version of spec.\n                    width = entry.contentBoxSize[0].inlineSize;\n                    height = entry.contentBoxSize[0].blockSize;\n                } else {\n                    // Firefox implements old version of spec.\n                    width = entry.contentBoxSize.inlineSize;\n                    height = entry.contentBoxSize.blockSize;\n                }\n            } else {\n                // Chrome <84 implements even older version of spec.\n                width = entry.contentRect.width;\n                height = entry.contentRect.height;\n            }\n\n            // Keep the size of the canvas and rubber band canvas in sync with\n            // the canvas container.\n            if (entry.devicePixelContentBoxSize) {\n                // Chrome 84 implements new version of spec.\n                canvas.setAttribute(\n                    'width',\n                    entry.devicePixelContentBoxSize[0].inlineSize\n                );\n                canvas.setAttribute(\n                    'height',\n                    entry.devicePixelContentBoxSize[0].blockSize\n                );\n            } else {\n                canvas.setAttribute('width', width * fig.ratio);\n                canvas.setAttribute('height', height * fig.ratio);\n            }\n            canvas.setAttribute(\n                'style',\n                'width: ' + width + 'px; height: ' + height + 'px;'\n            );\n\n            rubberband_canvas.setAttribute('width', width);\n            rubberband_canvas.setAttribute('height', height);\n\n            // And update the size in Python. We ignore the initial 0/0 size\n            // that occurs as the element is placed into the DOM, which should\n            // otherwise not happen due to the minimum size styling.\n            if (fig.ws.readyState == 1 && width != 0 && height != 0) {\n                fig.request_resize(width, height);\n            }\n        }\n    });\n    this.resizeObserverInstance.observe(canvas_div);\n\n    function on_mouse_event_closure(name) {\n        return function (event) {\n            return fig.mouse_event(event, name);\n        };\n    }\n\n    rubberband_canvas.addEventListener(\n        'mousedown',\n        on_mouse_event_closure('button_press')\n    );\n    rubberband_canvas.addEventListener(\n        'mouseup',\n        on_mouse_event_closure('button_release')\n    );\n    rubberband_canvas.addEventListener(\n        'dblclick',\n        on_mouse_event_closure('dblclick')\n    );\n    // Throttle sequential mouse events to 1 every 20ms.\n    rubberband_canvas.addEventListener(\n        'mousemove',\n        on_mouse_event_closure('motion_notify')\n    );\n\n    rubberband_canvas.addEventListener(\n        'mouseenter',\n        on_mouse_event_closure('figure_enter')\n    );\n    rubberband_canvas.addEventListener(\n        'mouseleave',\n        on_mouse_event_closure('figure_leave')\n    );\n\n    canvas_div.addEventListener('wheel', function (event) {\n        if (event.deltaY < 0) {\n            event.step = 1;\n        } else {\n            event.step = -1;\n        }\n        on_mouse_event_closure('scroll')(event);\n    });\n\n    canvas_div.appendChild(canvas);\n    canvas_div.appendChild(rubberband_canvas);\n\n    this.rubberband_context = rubberband_canvas.getContext('2d');\n    this.rubberband_context.strokeStyle = '#000000';\n\n    this._resize_canvas = function (width, height, forward) {\n        if (forward) {\n            canvas_div.style.width = width + 'px';\n            canvas_div.style.height = height + 'px';\n        }\n    };\n\n    // Disable right mouse context menu.\n    this.rubberband_canvas.addEventListener('contextmenu', function (_e) {\n        event.preventDefault();\n        return false;\n    });\n\n    function set_focus() {\n        canvas.focus();\n        canvas_div.focus();\n    }\n\n    window.setTimeout(set_focus, 100);\n};\n\nmpl.figure.prototype._init_toolbar = function () {\n    var fig = this;\n\n    var toolbar = document.createElement('div');\n    toolbar.classList = 'mpl-toolbar';\n    this.root.appendChild(toolbar);\n\n    function on_click_closure(name) {\n        return function (_event) {\n            return fig.toolbar_button_onclick(name);\n        };\n    }\n\n    function on_mouseover_closure(tooltip) {\n        return function (event) {\n            if (!event.currentTarget.disabled) {\n                return fig.toolbar_button_onmouseover(tooltip);\n            }\n        };\n    }\n\n    fig.buttons = {};\n    var buttonGroup = document.createElement('div');\n    buttonGroup.classList = 'mpl-button-group';\n    for (var toolbar_ind in mpl.toolbar_items) {\n        var name = mpl.toolbar_items[toolbar_ind][0];\n        var tooltip = mpl.toolbar_items[toolbar_ind][1];\n        var image = mpl.toolbar_items[toolbar_ind][2];\n        var method_name = mpl.toolbar_items[toolbar_ind][3];\n\n        if (!name) {\n            /* Instead of a spacer, we start a new button group. */\n            if (buttonGroup.hasChildNodes()) {\n                toolbar.appendChild(buttonGroup);\n            }\n            buttonGroup = document.createElement('div');\n            buttonGroup.classList = 'mpl-button-group';\n            continue;\n        }\n\n        var button = (fig.buttons[name] = document.createElement('button'));\n        button.classList = 'mpl-widget';\n        button.setAttribute('role', 'button');\n        button.setAttribute('aria-disabled', 'false');\n        button.addEventListener('click', on_click_closure(method_name));\n        button.addEventListener('mouseover', on_mouseover_closure(tooltip));\n\n        var icon_img = document.createElement('img');\n        icon_img.src = '_images/' + image + '.png';\n        icon_img.srcset = '_images/' + image + '_large.png 2x';\n        icon_img.alt = tooltip;\n        button.appendChild(icon_img);\n\n        buttonGroup.appendChild(button);\n    }\n\n    if (buttonGroup.hasChildNodes()) {\n        toolbar.appendChild(buttonGroup);\n    }\n\n    var fmt_picker = document.createElement('select');\n    fmt_picker.classList = 'mpl-widget';\n    toolbar.appendChild(fmt_picker);\n    this.format_dropdown = fmt_picker;\n\n    for (var ind in mpl.extensions) {\n        var fmt = mpl.extensions[ind];\n        var option = document.createElement('option');\n        option.selected = fmt === mpl.default_extension;\n        option.innerHTML = fmt;\n        fmt_picker.appendChild(option);\n    }\n\n    var status_bar = document.createElement('span');\n    status_bar.classList = 'mpl-message';\n    toolbar.appendChild(status_bar);\n    this.message = status_bar;\n};\n\nmpl.figure.prototype.request_resize = function (x_pixels, y_pixels) {\n    // Request matplotlib to resize the figure. Matplotlib will then trigger a resize in the client,\n    // which will in turn request a refresh of the image.\n    this.send_message('resize', { width: x_pixels, height: y_pixels });\n};\n\nmpl.figure.prototype.send_message = function (type, properties) {\n    properties['type'] = type;\n    properties['figure_id'] = this.id;\n    this.ws.send(JSON.stringify(properties));\n};\n\nmpl.figure.prototype.send_draw_message = function () {\n    if (!this.waiting) {\n        this.waiting = true;\n        this.ws.send(JSON.stringify({ type: 'draw', figure_id: this.id }));\n    }\n};\n\nmpl.figure.prototype.handle_save = function (fig, _msg) {\n    var format_dropdown = fig.format_dropdown;\n    var format = format_dropdown.options[format_dropdown.selectedIndex].value;\n    fig.ondownload(fig, format);\n};\n\nmpl.figure.prototype.handle_resize = function (fig, msg) {\n    var size = msg['size'];\n    if (size[0] !== fig.canvas.width || size[1] !== fig.canvas.height) {\n        fig._resize_canvas(size[0], size[1], msg['forward']);\n        fig.send_message('refresh', {});\n    }\n};\n\nmpl.figure.prototype.handle_rubberband = function (fig, msg) {\n    var x0 = msg['x0'] / fig.ratio;\n    var y0 = (fig.canvas.height - msg['y0']) / fig.ratio;\n    var x1 = msg['x1'] / fig.ratio;\n    var y1 = (fig.canvas.height - msg['y1']) / fig.ratio;\n    x0 = Math.floor(x0) + 0.5;\n    y0 = Math.floor(y0) + 0.5;\n    x1 = Math.floor(x1) + 0.5;\n    y1 = Math.floor(y1) + 0.5;\n    var min_x = Math.min(x0, x1);\n    var min_y = Math.min(y0, y1);\n    var width = Math.abs(x1 - x0);\n    var height = Math.abs(y1 - y0);\n\n    fig.rubberband_context.clearRect(\n        0,\n        0,\n        fig.canvas.width / fig.ratio,\n        fig.canvas.height / fig.ratio\n    );\n\n    fig.rubberband_context.strokeRect(min_x, min_y, width, height);\n};\n\nmpl.figure.prototype.handle_figure_label = function (fig, msg) {\n    // Updates the figure title.\n    fig.header.textContent = msg['label'];\n};\n\nmpl.figure.prototype.handle_cursor = function (fig, msg) {\n    fig.rubberband_canvas.style.cursor = msg['cursor'];\n};\n\nmpl.figure.prototype.handle_message = function (fig, msg) {\n    fig.message.textContent = msg['message'];\n};\n\nmpl.figure.prototype.handle_draw = function (fig, _msg) {\n    // Request the server to send over a new figure.\n    fig.send_draw_message();\n};\n\nmpl.figure.prototype.handle_image_mode = function (fig, msg) {\n    fig.image_mode = msg['mode'];\n};\n\nmpl.figure.prototype.handle_history_buttons = function (fig, msg) {\n    for (var key in msg) {\n        if (!(key in fig.buttons)) {\n            continue;\n        }\n        fig.buttons[key].disabled = !msg[key];\n        fig.buttons[key].setAttribute('aria-disabled', !msg[key]);\n    }\n};\n\nmpl.figure.prototype.handle_navigate_mode = function (fig, msg) {\n    if (msg['mode'] === 'PAN') {\n        fig.buttons['Pan'].classList.add('active');\n        fig.buttons['Zoom'].classList.remove('active');\n    } else if (msg['mode'] === 'ZOOM') {\n        fig.buttons['Pan'].classList.remove('active');\n        fig.buttons['Zoom'].classList.add('active');\n    } else {\n        fig.buttons['Pan'].classList.remove('active');\n        fig.buttons['Zoom'].classList.remove('active');\n    }\n};\n\nmpl.figure.prototype.updated_canvas_event = function () {\n    // Called whenever the canvas gets updated.\n    this.send_message('ack', {});\n};\n\n// A function to construct a web socket function for onmessage handling.\n// Called in the figure constructor.\nmpl.figure.prototype._make_on_message_function = function (fig) {\n    return function socket_on_message(evt) {\n        if (evt.data instanceof Blob) {\n            var img = evt.data;\n            if (img.type !== 'image/png') {\n                /* FIXME: We get \"Resource interpreted as Image but\n                 * transferred with MIME type text/plain:\" errors on\n                 * Chrome.  But how to set the MIME type?  It doesn't seem\n                 * to be part of the websocket stream */\n                img.type = 'image/png';\n            }\n\n            /* Free the memory for the previous frames */\n            if (fig.imageObj.src) {\n                (window.URL || window.webkitURL).revokeObjectURL(\n                    fig.imageObj.src\n                );\n            }\n\n            fig.imageObj.src = (window.URL || window.webkitURL).createObjectURL(\n                img\n            );\n            fig.updated_canvas_event();\n            fig.waiting = false;\n            return;\n        } else if (\n            typeof evt.data === 'string' &&\n            evt.data.slice(0, 21) === 'data:image/png;base64'\n        ) {\n            fig.imageObj.src = evt.data;\n            fig.updated_canvas_event();\n            fig.waiting = false;\n            return;\n        }\n\n        var msg = JSON.parse(evt.data);\n        var msg_type = msg['type'];\n\n        // Call the  \"handle_{type}\" callback, which takes\n        // the figure and JSON message as its only arguments.\n        try {\n            var callback = fig['handle_' + msg_type];\n        } catch (e) {\n            console.log(\n                \"No handler for the '\" + msg_type + \"' message type: \",\n                msg\n            );\n            return;\n        }\n\n        if (callback) {\n            try {\n                // console.log(\"Handling '\" + msg_type + \"' message: \", msg);\n                callback(fig, msg);\n            } catch (e) {\n                console.log(\n                    \"Exception inside the 'handler_\" + msg_type + \"' callback:\",\n                    e,\n                    e.stack,\n                    msg\n                );\n            }\n        }\n    };\n};\n\n// from https://stackoverflow.com/questions/1114465/getting-mouse-location-in-canvas\nmpl.findpos = function (e) {\n    //this section is from http://www.quirksmode.org/js/events_properties.html\n    var targ;\n    if (!e) {\n        e = window.event;\n    }\n    if (e.target) {\n        targ = e.target;\n    } else if (e.srcElement) {\n        targ = e.srcElement;\n    }\n    if (targ.nodeType === 3) {\n        // defeat Safari bug\n        targ = targ.parentNode;\n    }\n\n    // pageX,Y are the mouse positions relative to the document\n    var boundingRect = targ.getBoundingClientRect();\n    var x = e.pageX - (boundingRect.left + document.body.scrollLeft);\n    var y = e.pageY - (boundingRect.top + document.body.scrollTop);\n\n    return { x: x, y: y };\n};\n\n/*\n * return a copy of an object with only non-object keys\n * we need this to avoid circular references\n * https://stackoverflow.com/a/24161582/3208463\n */\nfunction simpleKeys(original) {\n    return Object.keys(original).reduce(function (obj, key) {\n        if (typeof original[key] !== 'object') {\n            obj[key] = original[key];\n        }\n        return obj;\n    }, {});\n}\n\nmpl.figure.prototype.mouse_event = function (event, name) {\n    var canvas_pos = mpl.findpos(event);\n\n    if (name === 'button_press') {\n        this.canvas.focus();\n        this.canvas_div.focus();\n    }\n\n    var x = canvas_pos.x * this.ratio;\n    var y = canvas_pos.y * this.ratio;\n\n    this.send_message(name, {\n        x: x,\n        y: y,\n        button: event.button,\n        step: event.step,\n        guiEvent: simpleKeys(event),\n    });\n\n    /* This prevents the web browser from automatically changing to\n     * the text insertion cursor when the button is pressed.  We want\n     * to control all of the cursor setting manually through the\n     * 'cursor' event from matplotlib */\n    event.preventDefault();\n    return false;\n};\n\nmpl.figure.prototype._key_event_extra = function (_event, _name) {\n    // Handle any extra behaviour associated with a key event\n};\n\nmpl.figure.prototype.key_event = function (event, name) {\n    // Prevent repeat events\n    if (name === 'key_press') {\n        if (event.key === this._key) {\n            return;\n        } else {\n            this._key = event.key;\n        }\n    }\n    if (name === 'key_release') {\n        this._key = null;\n    }\n\n    var value = '';\n    if (event.ctrlKey && event.key !== 'Control') {\n        value += 'ctrl+';\n    }\n    else if (event.altKey && event.key !== 'Alt') {\n        value += 'alt+';\n    }\n    else if (event.shiftKey && event.key !== 'Shift') {\n        value += 'shift+';\n    }\n\n    value += 'k' + event.key;\n\n    this._key_event_extra(event, name);\n\n    this.send_message(name, { key: value, guiEvent: simpleKeys(event) });\n    return false;\n};\n\nmpl.figure.prototype.toolbar_button_onclick = function (name) {\n    if (name === 'download') {\n        this.handle_save(this, null);\n    } else {\n        this.send_message('toolbar_button', { name: name });\n    }\n};\n\nmpl.figure.prototype.toolbar_button_onmouseover = function (tooltip) {\n    this.message.textContent = tooltip;\n};\n\n///////////////// REMAINING CONTENT GENERATED BY embed_js.py /////////////////\n// prettier-ignore\nvar _JSXTOOLS_RESIZE_OBSERVER=function(A){var t,i=new WeakMap,n=new WeakMap,a=new WeakMap,r=new WeakMap,o=new Set;function s(e){if(!(this instanceof s))throw new TypeError(\"Constructor requires 'new' operator\");i.set(this,e)}function h(){throw new TypeError(\"Function is not a constructor\")}function c(e,t,i,n){e=0 in arguments?Number(arguments[0]):0,t=1 in arguments?Number(arguments[1]):0,i=2 in arguments?Number(arguments[2]):0,n=3 in arguments?Number(arguments[3]):0,this.right=(this.x=this.left=e)+(this.width=i),this.bottom=(this.y=this.top=t)+(this.height=n),Object.freeze(this)}function d(){t=requestAnimationFrame(d);var s=new WeakMap,p=new Set;o.forEach((function(t){r.get(t).forEach((function(i){var r=t instanceof window.SVGElement,o=a.get(t),d=r?0:parseFloat(o.paddingTop),f=r?0:parseFloat(o.paddingRight),l=r?0:parseFloat(o.paddingBottom),u=r?0:parseFloat(o.paddingLeft),g=r?0:parseFloat(o.borderTopWidth),m=r?0:parseFloat(o.borderRightWidth),w=r?0:parseFloat(o.borderBottomWidth),b=u+f,F=d+l,v=(r?0:parseFloat(o.borderLeftWidth))+m,W=g+w,y=r?0:t.offsetHeight-W-t.clientHeight,E=r?0:t.offsetWidth-v-t.clientWidth,R=b+v,z=F+W,M=r?t.width:parseFloat(o.width)-R-E,O=r?t.height:parseFloat(o.height)-z-y;if(n.has(t)){var k=n.get(t);if(k[0]===M&&k[1]===O)return}n.set(t,[M,O]);var S=Object.create(h.prototype);S.target=t,S.contentRect=new c(u,d,M,O),s.has(i)||(s.set(i,[]),p.add(i)),s.get(i).push(S)}))})),p.forEach((function(e){i.get(e).call(e,s.get(e),e)}))}return s.prototype.observe=function(i){if(i instanceof window.Element){r.has(i)||(r.set(i,new Set),o.add(i),a.set(i,window.getComputedStyle(i)));var n=r.get(i);n.has(this)||n.add(this),cancelAnimationFrame(t),t=requestAnimationFrame(d)}},s.prototype.unobserve=function(i){if(i instanceof window.Element&&r.has(i)){var n=r.get(i);n.has(this)&&(n.delete(this),n.size||(r.delete(i),o.delete(i))),n.size||r.delete(i),o.size||cancelAnimationFrame(t)}},A.DOMRectReadOnly=c,A.ResizeObserver=s,A.ResizeObserverEntry=h,A}; // eslint-disable-line\nmpl.toolbar_items = [[\"Home\", \"Reset original view\", \"fa fa-home\", \"home\"], [\"Back\", \"Back to previous view\", \"fa fa-arrow-left\", \"back\"], [\"Forward\", \"Forward to next view\", \"fa fa-arrow-right\", \"forward\"], [\"\", \"\", \"\", \"\"], [\"Pan\", \"Left button pans, Right button zooms\\nx/y fixes axis, CTRL fixes aspect\", \"fa fa-arrows\", \"pan\"], [\"Zoom\", \"Zoom to rectangle\\nx/y fixes axis\", \"fa fa-square-o\", \"zoom\"], [\"\", \"\", \"\", \"\"], [\"Download\", \"Download plot\", \"fa fa-floppy-o\", \"download\"]];\n\nmpl.extensions = [\"eps\", \"jpeg\", \"pgf\", \"pdf\", \"png\", \"ps\", \"raw\", \"svg\", \"tif\", \"webp\"];\n\nmpl.default_extension = \"png\";/* global mpl */\n\nvar comm_websocket_adapter = function (comm) {\n    // Create a \"websocket\"-like object which calls the given IPython comm\n    // object with the appropriate methods. Currently this is a non binary\n    // socket, so there is still some room for performance tuning.\n    var ws = {};\n\n    ws.binaryType = comm.kernel.ws.binaryType;\n    ws.readyState = comm.kernel.ws.readyState;\n    function updateReadyState(_event) {\n        if (comm.kernel.ws) {\n            ws.readyState = comm.kernel.ws.readyState;\n        } else {\n            ws.readyState = 3; // Closed state.\n        }\n    }\n    comm.kernel.ws.addEventListener('open', updateReadyState);\n    comm.kernel.ws.addEventListener('close', updateReadyState);\n    comm.kernel.ws.addEventListener('error', updateReadyState);\n\n    ws.close = function () {\n        comm.close();\n    };\n    ws.send = function (m) {\n        //console.log('sending', m);\n        comm.send(m);\n    };\n    // Register the callback with on_msg.\n    comm.on_msg(function (msg) {\n        //console.log('receiving', msg['content']['data'], msg);\n        var data = msg['content']['data'];\n        if (data['blob'] !== undefined) {\n            data = {\n                data: new Blob(msg['buffers'], { type: data['blob'] }),\n            };\n        }\n        // Pass the mpl event to the overridden (by mpl) onmessage function.\n        ws.onmessage(data);\n    });\n    return ws;\n};\n\nmpl.mpl_figure_comm = function (comm, msg) {\n    // This is the function which gets called when the mpl process\n    // starts-up an IPython Comm through the \"matplotlib\" channel.\n\n    var id = msg.content.data.id;\n    // Get hold of the div created by the display call when the Comm\n    // socket was opened in Python.\n    var element = document.getElementById(id);\n    var ws_proxy = comm_websocket_adapter(comm);\n\n    function ondownload(figure, _format) {\n        window.open(figure.canvas.toDataURL());\n    }\n\n    var fig = new mpl.figure(id, ws_proxy, ondownload, element);\n\n    // Call onopen now - mpl needs it, as it is assuming we've passed it a real\n    // web socket which is closed, not our websocket->open comm proxy.\n    ws_proxy.onopen();\n\n    fig.parent_element = element;\n    fig.cell_info = mpl.find_output_cell(\"<div id='\" + id + \"'></div>\");\n    if (!fig.cell_info) {\n        console.error('Failed to find cell for figure', id, fig);\n        return;\n    }\n    fig.cell_info[0].output_area.element.on(\n        'cleared',\n        { fig: fig },\n        fig._remove_fig_handler\n    );\n};\n\nmpl.figure.prototype.handle_close = function (fig, msg) {\n    var width = fig.canvas.width / fig.ratio;\n    fig.cell_info[0].output_area.element.off(\n        'cleared',\n        fig._remove_fig_handler\n    );\n    fig.resizeObserverInstance.unobserve(fig.canvas_div);\n\n    // Update the output cell to use the data from the current canvas.\n    fig.push_to_output();\n    var dataURL = fig.canvas.toDataURL();\n    // Re-enable the keyboard manager in IPython - without this line, in FF,\n    // the notebook keyboard shortcuts fail.\n    IPython.keyboard_manager.enable();\n    fig.parent_element.innerHTML =\n        '<img src=\"' + dataURL + '\" width=\"' + width + '\">';\n    fig.close_ws(fig, msg);\n};\n\nmpl.figure.prototype.close_ws = function (fig, msg) {\n    fig.send_message('closing', msg);\n    // fig.ws.close()\n};\n\nmpl.figure.prototype.push_to_output = function (_remove_interactive) {\n    // Turn the data on the canvas into data in the output cell.\n    var width = this.canvas.width / this.ratio;\n    var dataURL = this.canvas.toDataURL();\n    this.cell_info[1]['text/html'] =\n        '<img src=\"' + dataURL + '\" width=\"' + width + '\">';\n};\n\nmpl.figure.prototype.updated_canvas_event = function () {\n    // Tell IPython that the notebook contents must change.\n    IPython.notebook.set_dirty(true);\n    this.send_message('ack', {});\n    var fig = this;\n    // Wait a second, then push the new image to the DOM so\n    // that it is saved nicely (might be nice to debounce this).\n    setTimeout(function () {\n        fig.push_to_output();\n    }, 1000);\n};\n\nmpl.figure.prototype._init_toolbar = function () {\n    var fig = this;\n\n    var toolbar = document.createElement('div');\n    toolbar.classList = 'btn-toolbar';\n    this.root.appendChild(toolbar);\n\n    function on_click_closure(name) {\n        return function (_event) {\n            return fig.toolbar_button_onclick(name);\n        };\n    }\n\n    function on_mouseover_closure(tooltip) {\n        return function (event) {\n            if (!event.currentTarget.disabled) {\n                return fig.toolbar_button_onmouseover(tooltip);\n            }\n        };\n    }\n\n    fig.buttons = {};\n    var buttonGroup = document.createElement('div');\n    buttonGroup.classList = 'btn-group';\n    var button;\n    for (var toolbar_ind in mpl.toolbar_items) {\n        var name = mpl.toolbar_items[toolbar_ind][0];\n        var tooltip = mpl.toolbar_items[toolbar_ind][1];\n        var image = mpl.toolbar_items[toolbar_ind][2];\n        var method_name = mpl.toolbar_items[toolbar_ind][3];\n\n        if (!name) {\n            /* Instead of a spacer, we start a new button group. */\n            if (buttonGroup.hasChildNodes()) {\n                toolbar.appendChild(buttonGroup);\n            }\n            buttonGroup = document.createElement('div');\n            buttonGroup.classList = 'btn-group';\n            continue;\n        }\n\n        button = fig.buttons[name] = document.createElement('button');\n        button.classList = 'btn btn-default';\n        button.href = '#';\n        button.title = name;\n        button.innerHTML = '<i class=\"fa ' + image + ' fa-lg\"></i>';\n        button.addEventListener('click', on_click_closure(method_name));\n        button.addEventListener('mouseover', on_mouseover_closure(tooltip));\n        buttonGroup.appendChild(button);\n    }\n\n    if (buttonGroup.hasChildNodes()) {\n        toolbar.appendChild(buttonGroup);\n    }\n\n    // Add the status bar.\n    var status_bar = document.createElement('span');\n    status_bar.classList = 'mpl-message pull-right';\n    toolbar.appendChild(status_bar);\n    this.message = status_bar;\n\n    // Add the close button to the window.\n    var buttongrp = document.createElement('div');\n    buttongrp.classList = 'btn-group inline pull-right';\n    button = document.createElement('button');\n    button.classList = 'btn btn-mini btn-primary';\n    button.href = '#';\n    button.title = 'Stop Interaction';\n    button.innerHTML = '<i class=\"fa fa-power-off icon-remove icon-large\"></i>';\n    button.addEventListener('click', function (_evt) {\n        fig.handle_close(fig, {});\n    });\n    button.addEventListener(\n        'mouseover',\n        on_mouseover_closure('Stop Interaction')\n    );\n    buttongrp.appendChild(button);\n    var titlebar = this.root.querySelector('.ui-dialog-titlebar');\n    titlebar.insertBefore(buttongrp, titlebar.firstChild);\n};\n\nmpl.figure.prototype._remove_fig_handler = function (event) {\n    var fig = event.data.fig;\n    if (event.target !== this) {\n        // Ignore bubbled events from children.\n        return;\n    }\n    fig.close_ws(fig, {});\n};\n\nmpl.figure.prototype._root_extra_style = function (el) {\n    el.style.boxSizing = 'content-box'; // override notebook setting of border-box.\n};\n\nmpl.figure.prototype._canvas_extra_style = function (el) {\n    // this is important to make the div 'focusable\n    el.setAttribute('tabindex', 0);\n    // reach out to IPython and tell the keyboard manager to turn it's self\n    // off when our div gets focus\n\n    // location in version 3\n    if (IPython.notebook.keyboard_manager) {\n        IPython.notebook.keyboard_manager.register_events(el);\n    } else {\n        // location in version 2\n        IPython.keyboard_manager.register_events(el);\n    }\n};\n\nmpl.figure.prototype._key_event_extra = function (event, _name) {\n    // Check for shift+enter\n    if (event.shiftKey && event.which === 13) {\n        this.canvas_div.blur();\n        // select the cell after this one\n        var index = IPython.notebook.find_cell_index(this.cell_info[0]);\n        IPython.notebook.select(index + 1);\n    }\n};\n\nmpl.figure.prototype.handle_save = function (fig, _msg) {\n    fig.ondownload(fig, null);\n};\n\nmpl.find_output_cell = function (html_output) {\n    // Return the cell and output element which can be found *uniquely* in the notebook.\n    // Note - this is a bit hacky, but it is done because the \"notebook_saving.Notebook\"\n    // IPython event is triggered only after the cells have been serialised, which for\n    // our purposes (turning an active figure into a static one), is too late.\n    var cells = IPython.notebook.get_cells();\n    var ncells = cells.length;\n    for (var i = 0; i < ncells; i++) {\n        var cell = cells[i];\n        if (cell.cell_type === 'code') {\n            for (var j = 0; j < cell.output_area.outputs.length; j++) {\n                var data = cell.output_area.outputs[j];\n                if (data.data) {\n                    // IPython >= 3 moved mimebundle to data attribute of output\n                    data = data.data;\n                }\n                if (data['text/html'] === html_output) {\n                    return [cell, data, j];\n                }\n            }\n        }\n    }\n};\n\n// Register the function which deals with the matplotlib target/channel.\n// The kernel may be null if the page has been refreshed.\nif (IPython.notebook.kernel !== null) {\n    IPython.notebook.kernel.comm_manager.register_target(\n        'matplotlib',\n        mpl.mpl_figure_comm\n    );\n}\n"
     },
     "metadata": {},
     "output_type": "display_data"
    },
    {
     "data": {
      "text/plain": "<IPython.core.display.HTML object>",
      "text/html": "<div id='642ab174-5950-460a-a77d-c4aa7b219398'></div>"
     },
     "metadata": {},
     "output_type": "display_data"
    }
   ]
  },
  {
   "metadata": {
    "ExecuteTime": {
     "end_time": "2024-05-03T19:48:36.746485Z",
     "start_time": "2024-05-03T19:48:36.672192Z"
    }
   },
   "cell_type": "code",
   "source": [
    "model_id = '2024-04-30_22.08.06'\n",
    "\n",
    "def print_dict(d: dict):\n",
    "    for key, value in d.items():\n",
    "        if isinstance(value, dict):\n",
    "            print(f\"↓↓↓  {key:^15}  ↓↓↓\")\n",
    "            print_dict(value)\n",
    "            print(f\"↑↑↑  {key:^15}  ↑↑↑\\n\\n\")\n",
    "        else:\n",
    "            print(f\"======  {key:^15}  ======\\n{value}\\n\")\n",
    "\n",
    "print_dict(policy_db.fetch_entry(model_id))"
   ],
   "id": "2d08446d9a9c0756",
   "execution_count": 10,
   "outputs": []
  },
  {
   "metadata": {
    "ExecuteTime": {
     "end_time": "2024-04-30T20:17:38.247461Z",
     "start_time": "2024-04-30T20:17:38.245155Z"
    }
   },
   "cell_type": "code",
   "source": [],
   "id": "c801d61624b27bcf",
   "execution_count": 12,
   "outputs": []
  },
  {
   "metadata": {
    "ExecuteTime": {
     "end_time": "2024-04-30T07:39:00.173021Z",
     "start_time": "2024-04-30T07:39:00.072045Z"
    }
   },
   "cell_type": "code",
   "source": [
    "policy_db.delete_entry('2024-04-30_09.24.10', delete_state_dict=True)"
   ],
   "id": "2e40f03dd974dd08",
   "execution_count": 3,
   "outputs": []
  },
  {
   "metadata": {
    "ExecuteTime": {
     "end_time": "2024-05-17T23:55:02.473997Z",
     "start_time": "2024-05-17T23:55:02.469269Z"
    }
   },
   "cell_type": "code",
   "execution_count": 29,
   "source": [
    "from src.np_functions import softmax\n",
    "from typing import Iterable\n",
    "\n",
    "\n",
    "def select_policy_selection_probs(policy_infos: Iterable[PolicyInfo]) -> np.ndarray:\n",
    "    scores = np.array([policy_info['score'] for policy_info in policy_infos])\n",
    "    scores = scores / scores.mean()\n",
    "    scores = softmax(scores, temperature=0.9 / len(scores)**0.75)\n",
    "    return scores\n",
    "\n",
    "for a, b in zip([pe['model_info']['score'] for pe in policy_entries_sorted], select_policy_selection_probs([pe['model_info'] for pe in policy_entries_sorted])):\n",
    "    print(f'{a:10.6f} | {b:10.6f}')"
   ],
   "id": "42e5e3547522c041",
   "outputs": [
    {
     "name": "stdout",
     "output_type": "stream",
     "text": [
      "105.147080 |   0.137687\n",
      "104.048683 |   0.099191\n",
      "103.584046 |   0.086343\n",
      "102.878299 |   0.069939\n",
      "102.038949 |   0.054436\n",
      "101.963269 |   0.053220\n",
      "101.188135 |   0.042225\n",
      "101.044739 |   0.040455\n",
      "100.618744 |   0.035624\n",
      "100.565270 |   0.035059\n",
      "100.007646 |   0.029683\n",
      " 99.735331 |   0.027365\n",
      " 99.271013 |   0.023823\n",
      " 99.250450 |   0.023677\n",
      " 99.214204 |   0.023422\n",
      " 98.322112 |   0.017945\n",
      " 98.202376 |   0.017315\n",
      " 97.892620 |   0.015786\n",
      " 97.719628 |   0.014991\n",
      " 97.713329 |   0.014963\n",
      " 97.676681 |   0.014800\n",
      " 97.120153 |   0.012534\n",
      " 96.418970 |   0.010167\n",
      " 96.406279 |   0.010128\n",
      " 96.193215 |   0.009504\n",
      " 96.141827 |   0.009359\n",
      " 96.025261 |   0.009039\n",
      " 96.022344 |   0.009031\n",
      " 95.548201 |   0.007839\n",
      " 95.318829 |   0.007320\n",
      " 94.878648 |   0.006419\n",
      " 94.348620 |   0.005479\n",
      " 94.338467 |   0.005463\n",
      " 93.676783 |   0.004484\n",
      " 93.478932 |   0.004226\n",
      " 92.801878 |   0.003453\n",
      " 90.692926 |   0.001840\n",
      " 89.479125 |   0.001280\n",
      " 88.511817 |   0.000959\n",
      " 88.076631 |   0.000842\n",
      " 88.066244 |   0.000840\n",
      " 84.983942 |   0.000335\n",
      " 84.557233 |   0.000295\n",
      " 82.945697 |   0.000182\n",
      " 82.526216 |   0.000161\n",
      " 81.199611 |   0.000108\n",
      " 80.257930 |   0.000082\n",
      " 80.005404 |   0.000076\n",
      " 79.940944 |   0.000074\n",
      " 79.418390 |   0.000064\n",
      " 78.901605 |   0.000054\n",
      " 78.760888 |   0.000052\n",
      " 78.714985 |   0.000051\n",
      " 78.164253 |   0.000044\n",
      " 77.140857 |   0.000032\n",
      " 76.967174 |   0.000031\n",
      " 76.824892 |   0.000029\n",
      " 76.777585 |   0.000029\n",
      " 76.351736 |   0.000025\n",
      " 75.526529 |   0.000020\n",
      " 75.276015 |   0.000018\n",
      " 74.826148 |   0.000016\n",
      " 74.824845 |   0.000016\n",
      " 74.404805 |   0.000014\n",
      " 74.205507 |   0.000013\n",
      " 72.442200 |   0.000008\n",
      " 71.583843 |   0.000006\n",
      " 71.560496 |   0.000006\n",
      " 66.986523 |   0.000002\n"
     ]
    }
   ]
  },
  {
   "cell_type": "code",
   "source": [],
   "metadata": {
    "collapsed": false
   },
   "id": "51c8e6a0355241b0",
   "execution_count": null,
   "outputs": []
  }
 ],
 "metadata": {
  "kernelspec": {
   "display_name": "Python 3",
   "language": "python",
   "name": "python3"
  },
  "language_info": {
   "codemirror_mode": {
    "name": "ipython",
    "version": 2
   },
   "file_extension": ".py",
   "mimetype": "text/x-python",
   "name": "python",
   "nbconvert_exporter": "python",
   "pygments_lexer": "ipython2",
   "version": "2.7.6"
  }
 },
 "nbformat": 4,
 "nbformat_minor": 5
}
