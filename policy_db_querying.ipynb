{
 "cells": [
  {
   "cell_type": "code",
   "id": "initial_id",
   "metadata": {
    "collapsed": true,
    "ExecuteTime": {
     "end_time": "2024-05-04T17:38:21.259390Z",
     "start_time": "2024-05-04T17:38:18.633763Z"
    }
   },
   "source": [
    "from typing import Any\n",
    "\n",
    "from src.model_db.tiny_model_db import TinyModelDB\n",
    "\n",
    "import numpy as np\n",
    "import networkx as nx\n",
    "import matplotlib.pyplot as plt\n",
    "\n",
    "from src.reinforcement_learning.core.policy_info import PolicyInfo\n",
    "from src.model_db.model_db import ModelEntry\n"
   ],
   "execution_count": 1,
   "outputs": []
  },
  {
   "metadata": {
    "ExecuteTime": {
     "end_time": "2024-05-04T17:38:21.277200Z",
     "start_time": "2024-05-04T17:38:21.260391Z"
    }
   },
   "cell_type": "code",
   "source": [
    "env_name = 'Humanoid-v4'    \n",
    "with TinyModelDB(base_path=f'E:/saved_models/rl/Humanoid-v4/mitosis-2024-05-03_19.31.53') as policy_db:\n",
    "    policy_entries_sorted: list[ModelEntry[PolicyInfo]] = list(sorted(policy_db.all_entries(), key=lambda p: p['model_info']['score'], reverse=True))"
   ],
   "id": "ae6b4e5768389f1f",
   "execution_count": 2,
   "outputs": []
  },
  {
   "metadata": {
    "ExecuteTime": {
     "end_time": "2024-05-04T17:38:21.282304Z",
     "start_time": "2024-05-04T17:38:21.277200Z"
    }
   },
   "cell_type": "code",
   "source": [
    "for policy_entry in policy_entries_sorted:\n",
    "    print(f\"id = {policy_entry['model_id']}, score = {policy_entry['model_info']['score']:6.4f}, parent_id = {str(policy_entry['parent_model_id'])}\")"
   ],
   "id": "f33b204618f4c34b",
   "execution_count": 3,
   "outputs": []
  },
  {
   "cell_type": "code",
   "source": [
    "G = nx.DiGraph()\n",
    "\n",
    "G.add_nodes_from(\n",
    "    (policy_entry['model_id'], {\n",
    "        'score': policy_entry['model_info']['score'], \n",
    "        'steps_trained': policy_entry['model_info']['steps_trained']\n",
    "    })\n",
    "     for policy_entry \n",
    "     in policy_entries_sorted\n",
    "     )\n",
    "\n",
    "pos: dict[str, tuple[int, float]] = {}\n",
    "for policy_entry in policy_entries_sorted:\n",
    "    model_id = policy_entry['model_id']\n",
    "    parent_id = policy_entry['parent_model_id']\n",
    "    if parent_id is not None:\n",
    "        G.add_edge(parent_id, model_id)\n",
    "    \n",
    "    model_info = policy_entry['model_info']\n",
    "    pos[model_id] = (model_info['steps_trained'], model_info['score'])\n",
    "\n",
    "\n",
    "def set_color_recursively(node_id: str, c: Any):\n",
    "    colors[node_id] = c\n",
    "    for neighbor_id in G.neighbors(node_id):\n",
    "        c = np.clip(c + (np.random.random(3) - 0.5) / 4, 0, 1)\n",
    "        set_color_recursively(neighbor_id, c)\n",
    "    \n",
    "\n",
    "colors: dict[str, np.ndarray] = {}\n",
    "for root_id in (node for node, in_degree in G.in_degree() if in_degree == 0):\n",
    "    color = list(np.random.random(3))\n",
    "    set_color_recursively(root_id, color)\n",
    "\n",
    "node_color = [colors[node_id] for node_id in G]\n",
    "\n",
    "scores = nx.get_node_attributes(G, 'score')\n",
    "steps_trained = nx.get_node_attributes(G, 'steps_trained')\n",
    "labels: dict[str, str] = {}\n",
    "for node_id, score in scores.items():\n",
    "    labels[node_id] = f'{node_id}\\n{steps_trained[node_id]}\\n{score:.2f}'\n",
    "\n",
    "fig, ax = plt.subplots(1, 1, figsize=(30, 15))\n",
    "nx.draw(G, pos, with_labels=True, labels=labels, node_color=node_color, ax=ax)\n"
   ],
   "metadata": {
    "collapsed": false,
    "ExecuteTime": {
     "end_time": "2024-05-04T17:39:17.129703Z",
     "start_time": "2024-05-04T17:39:16.641750Z"
    }
   },
   "id": "eac1c795fabc87ae",
   "execution_count": 7,
   "outputs": []
  },
  {
   "metadata": {
    "ExecuteTime": {
     "end_time": "2024-05-03T19:48:36.746485Z",
     "start_time": "2024-05-03T19:48:36.672192Z"
    }
   },
   "cell_type": "code",
   "source": [
    "model_id = '2024-04-30_22.08.06'\n",
    "\n",
    "def print_dict(d: dict):\n",
    "    for key, value in d.items():\n",
    "        if isinstance(value, dict):\n",
    "            print(f\"↓↓↓  {key:^15}  ↓↓↓\")\n",
    "            print_dict(value)\n",
    "            print(f\"↑↑↑  {key:^15}  ↑↑↑\\n\\n\")\n",
    "        else:\n",
    "            print(f\"======  {key:^15}  ======\\n{value}\\n\")\n",
    "\n",
    "print_dict(policy_db.fetch_entry(model_id))"
   ],
   "id": "2d08446d9a9c0756",
   "execution_count": 10,
   "outputs": []
  },
  {
   "metadata": {
    "ExecuteTime": {
     "end_time": "2024-04-30T20:17:38.247461Z",
     "start_time": "2024-04-30T20:17:38.245155Z"
    }
   },
   "cell_type": "code",
   "source": [],
   "id": "c801d61624b27bcf",
   "execution_count": 12,
   "outputs": []
  },
  {
   "metadata": {
    "ExecuteTime": {
     "end_time": "2024-04-30T07:39:00.173021Z",
     "start_time": "2024-04-30T07:39:00.072045Z"
    }
   },
   "cell_type": "code",
   "source": [
    "policy_db.delete_entry('2024-04-30_09.24.10', delete_state_dict=True)"
   ],
   "id": "2e40f03dd974dd08",
   "execution_count": 3,
   "outputs": []
  },
  {
   "metadata": {
    "ExecuteTime": {
     "end_time": "2024-05-03T17:38:27.255202Z",
     "start_time": "2024-05-03T17:38:26.991362Z"
    }
   },
   "cell_type": "code",
   "execution_count": 1,
   "source": [],
   "id": "42e5e3547522c041",
   "outputs": []
  },
  {
   "cell_type": "code",
   "source": [],
   "metadata": {
    "collapsed": false
   },
   "id": "51c8e6a0355241b0",
   "execution_count": null,
   "outputs": []
  }
 ],
 "metadata": {
  "kernelspec": {
   "display_name": "Python 3",
   "language": "python",
   "name": "python3"
  },
  "language_info": {
   "codemirror_mode": {
    "name": "ipython",
    "version": 2
   },
   "file_extension": ".py",
   "mimetype": "text/x-python",
   "name": "python",
   "nbconvert_exporter": "python",
   "pygments_lexer": "ipython2",
   "version": "2.7.6"
  }
 },
 "nbformat": 4,
 "nbformat_minor": 5
}
