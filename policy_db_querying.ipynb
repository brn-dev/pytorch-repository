{
 "cells": [
  {
   "cell_type": "code",
   "id": "initial_id",
   "metadata": {
    "collapsed": true,
    "ExecuteTime": {
     "end_time": "2024-04-29T14:53:01.032363Z",
     "start_time": "2024-04-29T14:52:59.072072Z"
    }
   },
   "source": "from src.model_db import ModelDB",
   "outputs": [],
   "execution_count": 1
  },
  {
   "metadata": {
    "ExecuteTime": {
     "end_time": "2024-04-29T14:53:01.038134Z",
     "start_time": "2024-04-29T14:53:01.034152Z"
    }
   },
   "cell_type": "code",
   "source": [
    "env_name = 'Humanoid-v4'    \n",
    "policy_db = ModelDB(base_path=f'saved_models/rl/{env_name}')"
   ],
   "id": "ae6b4e5768389f1f",
   "outputs": [],
   "execution_count": 2
  },
  {
   "metadata": {
    "ExecuteTime": {
     "end_time": "2024-04-29T14:53:01.050514Z",
     "start_time": "2024-04-29T14:53:01.039323Z"
    }
   },
   "cell_type": "code",
   "source": [
    "for policy_entry in sorted(policy_db.all(), key=lambda p: p['model_info']['score']):\n",
    "    print(f\"id = {policy_entry['model_id']}, score = {policy_entry['model_info']['score']}\")"
   ],
   "id": "f33b204618f4c34b",
   "outputs": [
    {
     "name": "stdout",
     "output_type": "stream",
     "text": [
      "id = 2024-04-28_20.57.23, score = 118.0304555482092\n"
     ]
    }
   ],
   "execution_count": 3
  },
  {
   "metadata": {
    "ExecuteTime": {
     "end_time": "2024-04-29T15:00:25.392027Z",
     "start_time": "2024-04-29T15:00:25.387511Z"
    }
   },
   "cell_type": "code",
   "source": [
    "model_id = '2024-04-28_20.57.23'\n",
    "\n",
    "for key, value in policy_db.fetch_entry(model_id).items():\n",
    "    print(f\"======  {key:^15}  ======\\n{value}\\n\")"
   ],
   "id": "2d08446d9a9c0756",
   "outputs": [
    {
     "name": "stdout",
     "output_type": "stream",
     "text": [
      "======     model_id      ======\n",
      "2024-04-28_20.57.23\n",
      "\n",
      "======  parent_model_id  ======\n",
      "None\n",
      "\n",
      "======  state_dict_path  ======\n",
      "saved_models/rl/Humanoid-v4\\2024-04-28_20.57.23--state_dict.pth\n",
      "\n",
      "======    model_info     ======\n",
      "{'score': 118.0304555482092}\n",
      "\n",
      "======   init_function   ======\n",
      "def init_policy():\n",
      "    class A2CNetwork(nn.Module):\n",
      "\n",
      "        def __init__(self):\n",
      "            super().__init__()\n",
      "            \n",
      "            in_size = 376\n",
      "            shared_out_sizes = []\n",
      "            actor_out_sizes = [512, 512, 256, 256, 256, 256, 256, 256, 17]\n",
      "            critic_out_sizes = [512, 512, 256, 256, 256, 1]\n",
      "            \n",
      "            hidden_activation_function = nn.ELU()\n",
      "            actor_out_activation_function = nn.Tanh()\n",
      "            critic_out_activation_function = nn.Identity()\n",
      "            \n",
      "            self.has_shared = len(shared_out_sizes) > 0\n",
      "            \n",
      "            if self.has_shared:\n",
      "                self.shared = SeqNet.from_layer_provider(\n",
      "                    layer_provider=lambda layer_nr, is_last_layer, in_features, out_features: nn.Sequential(\n",
      "                        nn.Linear(in_features, out_features),\n",
      "                        hidden_activation_function\n",
      "                    ),\n",
      "                    in_size=in_size,\n",
      "                    out_sizes=shared_out_sizes\n",
      "                )\n",
      "            else:\n",
      "                self.shared = TorchNet(nn.Identity(), in_shape=TensorShape(features=in_size), out_shape=TensorShape(features=in_size))\n",
      "\n",
      "            self.actor = SeqNet.from_layer_provider(\n",
      "                layer_provider=lambda layer_nr, is_last_layer, in_features, out_features: nn.Sequential(\n",
      "                    nn.Linear(in_features, out_features),\n",
      "                    actor_out_activation_function if is_last_layer else hidden_activation_function\n",
      "                ),\n",
      "                in_size=self.shared.out_shape.get_definite_features(),\n",
      "                out_sizes=actor_out_sizes\n",
      "            )\n",
      "\n",
      "            self.critic = SeqNet.from_layer_provider(\n",
      "                layer_provider=lambda layer_nr, is_last_layer, in_features, out_features: nn.Sequential(\n",
      "                    nn.Linear(in_features, out_features),\n",
      "                    critic_out_activation_function if is_last_layer else hidden_activation_function\n",
      "                ),\n",
      "                in_size=self.shared.out_shape.get_definite_features(),\n",
      "                out_sizes=critic_out_sizes\n",
      "            )\n",
      "\n",
      "        def forward(self, x: torch.Tensor):\n",
      "            if self.has_shared:\n",
      "                shared_out = self.shared(x)\n",
      "            else:\n",
      "                shared_out = x\n",
      "\n",
      "            return self.actor(shared_out), self.critic(shared_out)\n",
      "\n",
      "    return ActorCriticPolicy(A2CNetwork(), lambda action_logits: dist.Normal(loc=action_logits, scale=policy_action_std))\n",
      "\n",
      "\n"
     ]
    }
   ],
   "execution_count": 11
  },
  {
   "metadata": {},
   "cell_type": "code",
   "outputs": [],
   "execution_count": null,
   "source": "",
   "id": "c801d61624b27bcf"
  }
 ],
 "metadata": {
  "kernelspec": {
   "display_name": "Python 3",
   "language": "python",
   "name": "python3"
  },
  "language_info": {
   "codemirror_mode": {
    "name": "ipython",
    "version": 2
   },
   "file_extension": ".py",
   "mimetype": "text/x-python",
   "name": "python",
   "nbconvert_exporter": "python",
   "pygments_lexer": "ipython2",
   "version": "2.7.6"
  }
 },
 "nbformat": 4,
 "nbformat_minor": 5
}
