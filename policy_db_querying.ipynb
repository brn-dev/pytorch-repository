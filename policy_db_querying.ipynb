{
 "cells": [
  {
   "cell_type": "code",
   "id": "initial_id",
   "metadata": {
    "collapsed": true,
    "ExecuteTime": {
     "end_time": "2024-04-30T20:09:43.797235Z",
     "start_time": "2024-04-30T20:09:42.266665Z"
    }
   },
   "source": "from src.model_db.tiny_model_db import TinyModelDB",
   "execution_count": 1,
   "outputs": []
  },
  {
   "metadata": {
    "ExecuteTime": {
     "end_time": "2024-04-30T20:09:49.598699Z",
     "start_time": "2024-04-30T20:09:49.594729Z"
    }
   },
   "cell_type": "code",
   "source": [
    "env_name = 'Humanoid-v4'    \n",
    "policy_db = TinyModelDB(base_path=f'saved_models/rl/{env_name}')"
   ],
   "id": "ae6b4e5768389f1f",
   "execution_count": 2,
   "outputs": []
  },
  {
   "metadata": {
    "ExecuteTime": {
     "end_time": "2024-04-30T21:05:31.016923Z",
     "start_time": "2024-04-30T21:05:31.013045Z"
    }
   },
   "cell_type": "code",
   "source": [
    "for policy_entry in sorted(policy_db.all_entries(), key=lambda p: p['model_info']['score'], reverse=True):\n",
    "    print(f\"id = {policy_entry['model_id']}, score = {policy_entry['model_info']['score']:6.4f}, parent_id = {str(policy_entry['parent_model_id'])}\")"
   ],
   "id": "f33b204618f4c34b",
   "execution_count": 19,
   "outputs": []
  },
  {
   "metadata": {
    "ExecuteTime": {
     "end_time": "2024-04-30T20:18:43.176094Z",
     "start_time": "2024-04-30T20:18:43.171125Z"
    }
   },
   "cell_type": "code",
   "source": [
    "model_id = '2024-04-30_22.08.06'\n",
    "\n",
    "def print_dict(d: dict):\n",
    "    for key, value in d.items():\n",
    "        if isinstance(value, dict):\n",
    "            print(f\"↓↓↓  {key:^15}  ↓↓↓\")\n",
    "            print_dict(value)\n",
    "            print(f\"↑↑↑  {key:^15}  ↑↑↑\\n\\n\")\n",
    "        else:\n",
    "            print(f\"======  {key:^15}  ======\\n{value}\\n\")\n",
    "\n",
    "print_dict(policy_db.fetch_entry(model_id))"
   ],
   "id": "2d08446d9a9c0756",
   "execution_count": 14,
   "outputs": []
  },
  {
   "metadata": {
    "ExecuteTime": {
     "end_time": "2024-04-30T20:17:38.247461Z",
     "start_time": "2024-04-30T20:17:38.245155Z"
    }
   },
   "cell_type": "code",
   "source": "",
   "id": "c801d61624b27bcf",
   "execution_count": 12,
   "outputs": []
  },
  {
   "metadata": {
    "ExecuteTime": {
     "end_time": "2024-04-30T07:39:00.173021Z",
     "start_time": "2024-04-30T07:39:00.072045Z"
    }
   },
   "cell_type": "code",
   "source": "policy_db.delete_entry('2024-04-30_09.24.10', delete_state_dict=True)",
   "id": "2e40f03dd974dd08",
   "execution_count": 3,
   "outputs": []
  },
  {
   "metadata": {},
   "cell_type": "code",
   "execution_count": null,
   "source": "",
   "id": "42e5e3547522c041",
   "outputs": []
  }
 ],
 "metadata": {
  "kernelspec": {
   "display_name": "Python 3",
   "language": "python",
   "name": "python3"
  },
  "language_info": {
   "codemirror_mode": {
    "name": "ipython",
    "version": 2
   },
   "file_extension": ".py",
   "mimetype": "text/x-python",
   "name": "python",
   "nbconvert_exporter": "python",
   "pygments_lexer": "ipython2",
   "version": "2.7.6"
  }
 },
 "nbformat": 4,
 "nbformat_minor": 5
}
