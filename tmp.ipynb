{
 "cells": [
  {
   "cell_type": "code",
   "execution_count": 1,
   "id": "initial_id",
   "metadata": {
    "collapsed": true,
    "ExecuteTime": {
     "end_time": "2024-05-17T16:16:59.862463Z",
     "start_time": "2024-05-17T16:16:59.846803Z"
    }
   },
   "outputs": [],
   "source": [
    "from tmp_mp import main"
   ]
  },
  {
   "cell_type": "code",
   "outputs": [
    {
     "name": "stdout",
     "output_type": "stream",
     "text": [
      "0.08201789855957031: 3\n",
      "0.08501863479614258: 5\n",
      "0.08701920509338379: 7\n",
      "3.0842227935791016: 3\n",
      "5.086192607879639: 5\n",
      "6.08526086807251: 3\n",
      "7.087646961212158: 7\n",
      "9.086596965789795: 3\n",
      "10.08682370185852: 5\n",
      "12.08789610862732: 3\n",
      "14.088351011276245: 7\n"
     ]
    }
   ],
   "source": [
    "main()"
   ],
   "metadata": {
    "collapsed": false,
    "ExecuteTime": {
     "end_time": "2024-05-17T16:17:15.230794Z",
     "start_time": "2024-05-17T16:17:01.129793Z"
    }
   },
   "id": "83a784f8b65b74f8",
   "execution_count": 2
  },
  {
   "cell_type": "code",
   "outputs": [],
   "source": [],
   "metadata": {
    "collapsed": false
   },
   "id": "6d26ca5d3fba5ab7"
  }
 ],
 "metadata": {
  "kernelspec": {
   "display_name": "Python 3",
   "language": "python",
   "name": "python3"
  },
  "language_info": {
   "codemirror_mode": {
    "name": "ipython",
    "version": 2
   },
   "file_extension": ".py",
   "mimetype": "text/x-python",
   "name": "python",
   "nbconvert_exporter": "python",
   "pygments_lexer": "ipython2",
   "version": "2.7.6"
  }
 },
 "nbformat": 4,
 "nbformat_minor": 5
}
