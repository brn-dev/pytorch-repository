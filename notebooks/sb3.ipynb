{
 "cells": [
  {
   "cell_type": "code",
   "execution_count": 1,
   "id": "initial_id",
   "metadata": {
    "collapsed": true,
    "ExecuteTime": {
     "end_time": "2024-10-05T14:54:03.549472Z",
     "start_time": "2024-10-05T14:53:08.410032Z"
    }
   },
   "source": [
    "import gymnasium as gym\n",
    "from stable_baselines3.sac.sac import SAC\n",
    "\n",
    "env = gym.make(\"HalfCheetah-v4\")\n",
    "\n",
    "model = SAC(\"MlpPolicy\", env, verbose=10, learning_starts=0)\n",
    "model.learn(total_timesteps=50_000, log_interval=1)\n"
   ],
   "outputs": []
  },
  {
   "cell_type": "code",
   "source": [],
   "metadata": {
    "collapsed": false
   },
   "id": "2a775d0a763278a7",
   "execution_count": null,
   "outputs": []
  }
 ],
 "metadata": {
  "kernelspec": {
   "display_name": "Python 3",
   "language": "python",
   "name": "python3"
  },
  "language_info": {
   "codemirror_mode": {
    "name": "ipython",
    "version": 2
   },
   "file_extension": ".py",
   "mimetype": "text/x-python",
   "name": "python",
   "nbconvert_exporter": "python",
   "pygments_lexer": "ipython2",
   "version": "2.7.6"
  }
 },
 "nbformat": 4,
 "nbformat_minor": 5
}
