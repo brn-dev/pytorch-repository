{
 "cells": [
  {
   "cell_type": "code",
   "source": [
    "from gymnasium.wrappers import TransformReward\n",
    "import gymnasium as gym\n",
    "\n",
    "from stable_baselines3.sac.sac import SAC\n",
    "\n",
    "env = gym.make(\"HalfCheetah-v4\")\n",
    "# env = TransformReward(env, lambda r: 5 * r)\n",
    "\n",
    "model = SAC(\"MlpPolicy\", env, verbose=10, learning_starts=10000) # , seed=594371)\n",
    "model.learn(total_timesteps=1_500_000, log_interval=1)\n"
   ],
   "metadata": {
    "collapsed": false,
    "ExecuteTime": {
     "end_time": "2024-10-05T02:23:43.103191Z",
     "start_time": "2024-10-04T20:16:08.730623Z"
    }
   },
   "id": "27ae4b4f45e36c7a",
   "execution_count": 2,
   "outputs": []
  },
  {
   "cell_type": "code",
   "source": [],
   "metadata": {
    "collapsed": false
   },
   "id": "ec928aa1271cf7e4",
   "execution_count": null,
   "outputs": []
  }
 ],
 "metadata": {
  "kernelspec": {
   "display_name": "Python 3",
   "language": "python",
   "name": "python3"
  },
  "language_info": {
   "codemirror_mode": {
    "name": "ipython",
    "version": 2
   },
   "file_extension": ".py",
   "mimetype": "text/x-python",
   "name": "python",
   "nbconvert_exporter": "python",
   "pygments_lexer": "ipython2",
   "version": "2.7.6"
  }
 },
 "nbformat": 4,
 "nbformat_minor": 5
}
