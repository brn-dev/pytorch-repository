{
 "cells": [
  {
   "cell_type": "code",
   "execution_count": 1,
   "id": "initial_id",
   "metadata": {
    "collapsed": true,
    "ExecuteTime": {
     "end_time": "2024-05-17T16:16:59.862463Z",
     "start_time": "2024-05-17T16:16:59.846803Z"
    }
   },
   "source": [
    "from typing import SupportsFloat, Any\n",
    "\n",
    "from gymnasium.core import ActType, ObsType\n",
    "\n",
    "from src.reinforcement_learning.core.infos import InfoDict\n",
    "from tmp_mp import main"
   ],
   "outputs": []
  },
  {
   "cell_type": "code",
   "source": [
    "main()"
   ],
   "metadata": {
    "collapsed": false,
    "ExecuteTime": {
     "end_time": "2024-07-23T20:07:27.012896Z",
     "start_time": "2024-07-23T20:07:26.784305Z"
    }
   },
   "id": "83a784f8b65b74f8",
   "execution_count": 1,
   "outputs": []
  },
  {
   "cell_type": "code",
   "source": [
    "from stable_baselines3 import PPO\n",
    "from stable_baselines3.common.env_util import make_vec_env\n",
    "\n",
    "# Parallel environments\n",
    "vec_env = make_vec_env(\"HalfCheetah-v4\", n_envs=4)\n",
    "\n",
    "model = PPO(\"MlpPolicy\", vec_env, use_sde=True, sde_sample_freq=100, verbose=2)\n",
    "model.learn(total_timesteps=250000)\n",
    "model.save(\"ppo_cartpole\")\n",
    "\n",
    "del model  # remove to demonstrate saving and loading\n",
    "\n",
    "model = PPO.load(\"ppo_cartpole\")\n",
    "\n",
    "obs = vec_env.reset()\n",
    "# while True:\n",
    "#     action, _states = model.predict(obs)\n",
    "#     obs, rewards, dones, info = vec_env.step(action)\n",
    "#     vec_env.render(\"human\")"
   ],
   "metadata": {
    "collapsed": false,
    "ExecuteTime": {
     "end_time": "2024-05-23T22:15:54.226301Z",
     "start_time": "2024-05-23T22:14:18.948367Z"
    }
   },
   "id": "6d26ca5d3fba5ab7",
   "execution_count": 5,
   "outputs": []
  },
  {
   "cell_type": "code",
   "source": [
    "import torch\n",
    "import numpy as np\n",
    "\n",
    "rollout_data = np.random.random((2500, 32, 17))"
   ],
   "metadata": {
    "collapsed": false,
    "ExecuteTime": {
     "end_time": "2024-05-23T22:42:33.450537Z",
     "start_time": "2024-05-23T22:42:33.437024Z"
    }
   },
   "id": "8f542b5b7a30c20d",
   "execution_count": 14,
   "outputs": []
  },
  {
   "cell_type": "code",
   "source": [
    "%%timeit\n",
    "for i in range(len(rollout_data)):\n",
    "    tensor = torch.tensor(rollout_data[i], device='cuda')"
   ],
   "metadata": {
    "collapsed": false,
    "ExecuteTime": {
     "end_time": "2024-05-23T22:42:46.607754Z",
     "start_time": "2024-05-23T22:42:33.589059Z"
    }
   },
   "id": "7e926ae1d8feae57",
   "execution_count": 15,
   "outputs": []
  },
  {
   "cell_type": "code",
   "source": [
    "import types\n",
    "import numpy as np\n",
    "import torch\n",
    "from torch import nn\n",
    "\n",
    "\n",
    "class A(nn.Module):\n",
    "\n",
    "    def __init__(self):\n",
    "        super().__init__()\n",
    "        self.linear = nn.Linear(17, 17)\n",
    "\n",
    "        self.forward = self.linear.forward\n",
    "\n",
    "    # def forward(self, x):\n",
    "    #     return self.linear(x)\n",
    "\n",
    "\n",
    "test_data = torch.tensor(np.random.random((2500, 1024, 17))).float()\n",
    "\n",
    "a = A()"
   ],
   "metadata": {
    "collapsed": false,
    "ExecuteTime": {
     "end_time": "2024-05-28T17:25:49.731860Z",
     "start_time": "2024-05-28T17:25:49.343973Z"
    }
   },
   "id": "18b462eb301c3290",
   "execution_count": 6,
   "outputs": []
  },
  {
   "cell_type": "code",
   "source": [
    "%%timeit\n",
    "\n",
    "for i in range(len(test_data)):\n",
    "    a(test_data[i])"
   ],
   "metadata": {
    "collapsed": false,
    "ExecuteTime": {
     "end_time": "2024-05-28T17:26:00.167853Z",
     "start_time": "2024-05-28T17:25:49.732855Z"
    }
   },
   "id": "25fc61df57f13567",
   "execution_count": 7,
   "outputs": []
  },
  {
   "cell_type": "code",
   "source": [
    "%%timeit\n",
    "\n",
    "for i in range(len(test_data)):\n",
    "    a(test_data[i]).detach()"
   ],
   "metadata": {
    "collapsed": false,
    "ExecuteTime": {
     "end_time": "2024-05-28T17:26:11.629808Z",
     "start_time": "2024-05-28T17:26:00.168853Z"
    }
   },
   "id": "3e64a75ffcb3f542",
   "execution_count": 8,
   "outputs": []
  },
  {
   "cell_type": "code",
   "source": [
    "from src.torch_device import get_torch_device\n",
    "\n",
    "get_torch_device()"
   ],
   "metadata": {
    "collapsed": false,
    "ExecuteTime": {
     "end_time": "2024-05-29T19:20:16.958767Z",
     "start_time": "2024-05-29T19:20:11.568280Z"
    }
   },
   "id": "c22c1a2827faef5",
   "execution_count": 1,
   "outputs": []
  },
  {
   "cell_type": "code",
   "source": [
    "import gymnasium\n",
    "\n",
    "gymnasium.make('Ant-v4', )"
   ],
   "metadata": {
    "collapsed": false
   },
   "id": "11fe74cc94873a0b",
   "execution_count": null,
   "outputs": []
  },
  {
   "cell_type": "code",
   "source": [
    "%load_ext autoreload\n",
    "%autoreload 2\n",
    "\n",
    "def record_video():\n",
    "    import torch\n",
    "    from tqdm import tqdm\n",
    "    from src.reinforcement_learning.gym.singleton_vector_env import as_vec_env\n",
    "    import gymnasium\n",
    "    from gymnasium.wrappers import AutoResetWrapper, RecordVideo\n",
    "    from src.model_db.tiny_model_db import TinyModelDB\n",
    "    from src.reinforcement_learning.algorithms.policy_mitosis.mitosis_policy_info import MitosisPolicyInfo\n",
    "    from src.reinforcement_learning.core.policy_construction import PolicyConstruction\n",
    "    from src.datetime import get_current_timestamp\n",
    "\n",
    "    record_env, _ = as_vec_env(gymnasium.make('Ant-v4', render_mode='rgb_array'))\n",
    "\n",
    "    policy_db = TinyModelDB[MitosisPolicyInfo](base_path=f'E:/saved_models/rl/Ant-v4/mitosis-2024-06-10_19.43.13')\n",
    "    print(policy_db)\n",
    "\n",
    "    policy_entry = list(sorted(policy_db.all_entries(), key=lambda entry: entry['model_info']['score']))[-2]\n",
    "    # policy_entry = policy_db.fetch_entry('2024-06-10_22.13.57~PJHPLG')\n",
    "    policy_info: MitosisPolicyInfo = policy_entry['model_info']\n",
    "    print(policy_entry)\n",
    "\n",
    "    policy, _, record_env = PolicyConstruction.init_from_info(policy_info['initialization_info'], record_env)\n",
    "\n",
    "    policy_db.load_model_state_dict(policy_entry['model_id'], policy)\n",
    "\n",
    "    try:\n",
    "        record_env.metadata['render_fps'] = 30\n",
    "        record_env = AutoResetWrapper(\n",
    "            RecordVideo(record_env, video_folder=rf'C:\\Users\\domin\\Videos\\rl\\{get_current_timestamp()}',\n",
    "                        episode_trigger=lambda ep_nr: True)\n",
    "        )\n",
    "\n",
    "        def record(max_steps: int):\n",
    "            with torch.no_grad():\n",
    "                obs, info = record_env.reset()\n",
    "                for step in tqdm(range(max_steps)):\n",
    "                    actions_dist, _ = policy.process_obs(torch.tensor(obs, device='cpu'))\n",
    "                    actions = actions_dist.get_actions(deterministic=True).cpu().numpy()\n",
    "                    obs, reward, terminated, truncated, info = record_env.step(actions)\n",
    "\n",
    "        record(50_000)\n",
    "    except KeyboardInterrupt:\n",
    "        print('keyboard interrupt')\n",
    "    finally:\n",
    "        print('closing record_env')\n",
    "        record_env.close()\n",
    "        print('record_env closed')\n",
    "\n",
    "\n",
    "record_video()"
   ],
   "metadata": {
    "collapsed": false,
    "ExecuteTime": {
     "start_time": "2024-06-10T21:30:42.251803Z"
    }
   },
   "id": "9413fb35d2e62be7",
   "execution_count": null,
   "outputs": []
  },
  {
   "cell_type": "code",
   "source": [],
   "metadata": {
    "collapsed": false
   },
   "id": "232fbbf514e29e1d",
   "execution_count": null,
   "outputs": []
  },
  {
   "cell_type": "code",
   "source": [
    "from torch import nn\n",
    "\n",
    "from src.networks.core.net import Net\n",
    "from src.networks.multihead_self_attention import MultiheadSelfAttention\n",
    "from src.networks.core.seq_net import SeqNet\n",
    "from src.networks.skip_nets.additive_skip_connection import AdditiveSkipConnection\n",
    "\n",
    "device = 'cuda:0'\n",
    "\n",
    "transformer_encoder_net = SeqNet.from_layer_provider(\n",
    "    layer_provider=lambda layer_nr, is_last_layer, in_features, out_features:\n",
    "    nn.Sequential(\n",
    "        AdditiveSkipConnection(MultiheadSelfAttention(\n",
    "            embed_dim=in_features,\n",
    "            num_heads=8,\n",
    "        )),\n",
    "        nn.LayerNorm(in_features),\n",
    "        AdditiveSkipConnection(Net.seq_as_net(\n",
    "            nn.Linear(in_features, 2048),\n",
    "            nn.ReLU(),\n",
    "            nn.Linear(2048, out_features),\n",
    "            nn.ReLU(),\n",
    "        )),\n",
    "        nn.LayerNorm(out_features),\n",
    "    ),\n",
    "    num_layers=6,\n",
    "    num_features=512,\n",
    ").to(device)\n",
    "\n",
    "transformer_encoder_net.out_shape\n",
    "transformer_encoder_net(torch.tensor(np.random.random((7, 5, 512))).to(device).float()).shape"
   ],
   "metadata": {
    "collapsed": false,
    "ExecuteTime": {
     "end_time": "2024-07-15T15:33:07.121293Z",
     "start_time": "2024-07-15T15:33:06.915581Z"
    }
   },
   "id": "ca1327e49698c9da",
   "execution_count": 14,
   "outputs": []
  },
  {
   "cell_type": "code",
   "source": [
    "transformer_encoder = nn.TransformerEncoder(\n",
    "    nn.TransformerEncoderLayer(\n",
    "        d_model=512,\n",
    "        nhead=8,\n",
    "        dropout=0,\n",
    "    ),\n",
    "    num_layers=6\n",
    ").to(device)"
   ],
   "metadata": {
    "collapsed": false,
    "ExecuteTime": {
     "end_time": "2024-07-05T23:53:19.747323Z",
     "start_time": "2024-07-05T23:53:19.693332Z"
    }
   },
   "id": "a6a3505b70768b0e",
   "execution_count": 2,
   "outputs": []
  },
  {
   "cell_type": "code",
   "source": [
    "import numpy as np\n",
    "import torch\n",
    "data1 = torch.Tensor(np.random.random((100, 4, 512))).to(device)"
   ],
   "metadata": {
    "collapsed": false,
    "ExecuteTime": {
     "end_time": "2024-07-05T23:53:19.753832Z",
     "start_time": "2024-07-05T23:53:19.748319Z"
    }
   },
   "id": "d74db2b4169c9712",
   "execution_count": 3,
   "outputs": []
  },
  {
   "cell_type": "code",
   "source": [
    "%%timeit -r 15 -n 500\n",
    "transformer_encoder_net(data1)"
   ],
   "metadata": {
    "collapsed": false,
    "ExecuteTime": {
     "end_time": "2024-07-05T23:34:06.647640Z",
     "start_time": "2024-07-05T23:33:41.810146Z"
    }
   },
   "id": "6801cd3030143976",
   "execution_count": 6,
   "outputs": []
  },
  {
   "cell_type": "code",
   "source": [
    "%%timeit -r 15 -n 500\n",
    "transformer_encoder(data1)"
   ],
   "metadata": {
    "collapsed": false,
    "ExecuteTime": {
     "end_time": "2024-07-05T23:34:31.399154Z",
     "start_time": "2024-07-05T23:34:06.648632Z"
    }
   },
   "id": "59acf00355898753",
   "execution_count": 7,
   "outputs": []
  },
  {
   "cell_type": "code",
   "source": [],
   "metadata": {
    "collapsed": false
   },
   "id": "6b0e27af3eb4c76d",
   "execution_count": null,
   "outputs": []
  },
  {
   "cell_type": "code",
   "source": [
    "data2 = torch.Tensor(np.random.random((100, 64, 512))).to(device)"
   ],
   "metadata": {
    "collapsed": false,
    "ExecuteTime": {
     "end_time": "2024-07-05T23:35:49.613591Z",
     "start_time": "2024-07-05T23:35:49.577024Z"
    }
   },
   "id": "958cbae4fc1ed2dd",
   "execution_count": 4,
   "outputs": []
  },
  {
   "cell_type": "code",
   "source": [
    "%%timeit -r 15 -n 200\n",
    "transformer_encoder_net(data2)"
   ],
   "metadata": {
    "collapsed": false,
    "ExecuteTime": {
     "end_time": "2024-07-05T23:37:24.849456Z",
     "start_time": "2024-07-05T23:35:49.737039Z"
    }
   },
   "id": "ba5c753fd48bb3e2",
   "execution_count": 5,
   "outputs": []
  },
  {
   "cell_type": "code",
   "source": [
    "%%timeit -r 15 -n 200\n",
    "transformer_encoder(data2)"
   ],
   "metadata": {
    "collapsed": false,
    "ExecuteTime": {
     "end_time": "2024-07-05T23:38:59.007342Z",
     "start_time": "2024-07-05T23:37:24.850450Z"
    }
   },
   "id": "eccc331c444d129b",
   "execution_count": 6,
   "outputs": []
  },
  {
   "cell_type": "code",
   "source": [],
   "metadata": {
    "collapsed": false,
    "ExecuteTime": {
     "end_time": "2024-07-05T23:38:59.009667Z",
     "start_time": "2024-07-05T23:38:59.007342Z"
    }
   },
   "id": "87ab683d0b8ca53f",
   "execution_count": 6,
   "outputs": []
  },
  {
   "cell_type": "code",
   "source": [
    "data3 = torch.Tensor(np.random.random((100, 512, 512))).to(device)"
   ],
   "metadata": {
    "collapsed": false,
    "ExecuteTime": {
     "end_time": "2024-07-05T23:53:25.852521Z",
     "start_time": "2024-07-05T23:53:25.608954Z"
    }
   },
   "id": "2fcee7ab143e2a70",
   "execution_count": 4,
   "outputs": []
  },
  {
   "cell_type": "code",
   "source": [
    "%%timeit -r 5 -n 50\n",
    "transformer_encoder_net(data3)"
   ],
   "metadata": {
    "collapsed": false,
    "ExecuteTime": {
     "start_time": "2024-07-05T23:53:28.924077Z"
    }
   },
   "id": "395828e5ae3ee6c0",
   "execution_count": null,
   "outputs": []
  },
  {
   "cell_type": "code",
   "source": [
    "%%timeit -r 5 -n 50\n",
    "transformer_encoder(data3)"
   ],
   "metadata": {
    "collapsed": false
   },
   "id": "a753c9f1c37aee40",
   "execution_count": null,
   "outputs": []
  },
  {
   "cell_type": "code",
   "source": [
    "import itertools\n",
    "import numpy as np\n",
    "\n",
    "def relu(x):\n",
    "    return x * (x > 0)\n",
    "\n",
    "def elu(x, alpha=1.0):\n",
    "    return np.where(x > 0, x, alpha * (np.exp(x) - 1))\n",
    "\n",
    "def leaky_relu(x, alpha=0.1):\n",
    "    return np.where(x > 0, x, alpha * x)\n",
    "\n",
    "factors = np.array([1, 2, 5])\n",
    "num_iterations = 10000\n",
    "for d in np.concatenate((factors, factors * 10, factors * 100, factors * 1000, np.array([10_000]))):\n",
    "    sum_ = 0\n",
    "    for _ in range(num_iterations):\n",
    "        v1 = (np.random.rand(d) - 0.5) * 2\n",
    "        v2 = (np.random.rand(d) - 0.5) * 2\n",
    "        \n",
    "        v1 /= np.linalg.norm(v1)\n",
    "        v2 /= np.linalg.norm(v2)\n",
    "        \n",
    "        v1 = leaky_relu(v1)\n",
    "        v2 = leaky_relu(v2)\n",
    "        \n",
    "        sum_ += np.abs(np.inner(v1, v2))\n",
    "    \n",
    "    print(f'd={d:>5}: {sum_ / num_iterations}')"
   ],
   "metadata": {
    "collapsed": false,
    "ExecuteTime": {
     "end_time": "2024-07-11T14:37:27.132969Z",
     "start_time": "2024-07-11T14:37:20.469439Z"
    }
   },
   "id": "fee8afbe385584e4",
   "execution_count": 20,
   "outputs": []
  },
  {
   "cell_type": "code",
   "source": [
    "from src.networks.global_pooling import GlobalAveragePooling\n",
    "from src.networks.core.tensor_shape import TensorShape\n",
    "%load_ext autoreload\n",
    "%autoreload 2\n",
    "\n",
    "from src.networks.core.net import Net\n",
    "from src.networks.skip_nets.dense_skip_net import DenseSkipNet\n",
    "from torch import nn\n",
    "import torch\n",
    "import numpy as np\n",
    "\n",
    "\n",
    "    \n",
    "def make_dense_block(in_features: int, num_layers: int, growth_rate: int = 32):\n",
    "    return DenseSkipNet.from_layer_provider(\n",
    "        lambda layer_nr, is_last_layer, in_channels, out_channels:\n",
    "            Net.seq_as_net(\n",
    "                nn.BatchNorm2d(in_channels),\n",
    "                nn.ReLU(),\n",
    "                nn.Conv2d(in_channels, 4 * growth_rate, 1),\n",
    "                nn.BatchNorm2d(4 * growth_rate),\n",
    "                nn.ReLU(),\n",
    "                nn.Conv2d(4 * growth_rate, growth_rate, 3, padding='same')\n",
    "            ),\n",
    "        in_size=in_features,\n",
    "        out_sizes=[growth_rate] * num_layers,\n",
    "        feature_dim_index=1,\n",
    "    )\n",
    "\n",
    "def make_transition_layer(in_features: int):\n",
    "    return nn.Sequential(\n",
    "        nn.Conv2d(in_features, int(in_features / 2), 1),\n",
    "        nn.AvgPool2d(2, 2),\n",
    "    )\n",
    "\n",
    "dense_net_121 = Net.provider_seq_as_net(\n",
    "    3,\n",
    "    lambda in_f: nn.Conv2d(in_f, 64, 7, 2),\n",
    "    lambda in_f: nn.MaxPool2d(3, 2),\n",
    "    lambda in_f: make_dense_block(in_f, 6),\n",
    "    lambda in_f: make_transition_layer(in_f),\n",
    "    lambda in_f: make_dense_block(in_f, 12),\n",
    "    lambda in_f: make_transition_layer(in_f),\n",
    "    lambda in_f: make_dense_block(in_f, 24),\n",
    "    lambda in_f: make_transition_layer(in_f),\n",
    "    lambda in_f: make_dense_block(in_f, 16),\n",
    "    lambda in_f: GlobalAveragePooling((2, 3)),\n",
    "    lambda in_f: nn.Linear(in_f, 1000)\n",
    ")\n"
   ],
   "metadata": {
    "collapsed": false,
    "ExecuteTime": {
     "end_time": "2024-07-15T15:31:16.453011Z",
     "start_time": "2024-07-15T15:31:16.068139Z"
    }
   },
   "id": "610b336aab8028a7",
   "execution_count": 3,
   "outputs": []
  },
  {
   "cell_type": "markdown",
   "source": [],
   "metadata": {
    "collapsed": false
   },
   "id": "e9e4d76c618f7594"
  },
  {
   "cell_type": "code",
   "source": [
    "import sympy as sp\n",
    "expr = sp.Symbol('features') + 1\n",
    "\n"
   ],
   "metadata": {
    "collapsed": false,
    "ExecuteTime": {
     "end_time": "2024-07-14T21:36:28.769379Z",
     "start_time": "2024-07-14T21:36:28.710794Z"
    }
   },
   "id": "6d302bfb3f5f6b25",
   "execution_count": 30,
   "outputs": []
  },
  {
   "cell_type": "code",
   "source": [
    "tuple((1, 2))"
   ],
   "metadata": {
    "collapsed": false,
    "ExecuteTime": {
     "end_time": "2024-07-15T14:58:25.471858Z",
     "start_time": "2024-07-15T14:58:25.464276Z"
    }
   },
   "id": "a489cb0ab6ba2f5a",
   "execution_count": 1,
   "outputs": []
  },
  {
   "cell_type": "code",
   "source": [
    "import torch\n",
    "import numpy as np"
   ],
   "metadata": {
    "collapsed": false,
    "ExecuteTime": {
     "end_time": "2024-08-23T20:59:46.085099Z",
     "start_time": "2024-08-23T20:59:43.857177Z"
    }
   },
   "id": "a0f3b42a906982f0",
   "execution_count": 1,
   "outputs": []
  },
  {
   "cell_type": "code",
   "source": [
    "data = np.random.random((5000, 128, 255))"
   ],
   "metadata": {
    "collapsed": false,
    "ExecuteTime": {
     "end_time": "2024-08-23T20:59:47.112720Z",
     "start_time": "2024-08-23T20:59:46.086097Z"
    }
   },
   "id": "fd6b92e1c52e4cfe",
   "execution_count": 2,
   "outputs": []
  },
  {
   "cell_type": "code",
   "source": [
    "%%timeit\n",
    "\n",
    "torch_data = torch.tensor(data)\n",
    "results = []\n",
    "\n",
    "for i in range(0, 5000, 500):\n",
    "    result = torch_data[i:i+500].mean()\n",
    "    results.append(result)"
   ],
   "metadata": {
    "collapsed": false,
    "ExecuteTime": {
     "end_time": "2024-08-23T21:01:22.364063Z",
     "start_time": "2024-08-23T21:01:01.099721Z"
    }
   },
   "id": "3910fea46a825f63",
   "execution_count": 6,
   "outputs": []
  },
  {
   "cell_type": "code",
   "source": [
    "%%timeit\n",
    "\n",
    "torch_data = torch.tensor(data)\n",
    "results = []\n",
    "\n",
    "for i in range(0, 5000, 500):\n",
    "    result = torch.as_tensor(torch_data[i:i+500])\n",
    "    results.append(result)"
   ],
   "metadata": {
    "collapsed": false,
    "ExecuteTime": {
     "end_time": "2024-08-23T21:01:24.432411Z",
     "start_time": "2024-08-23T21:01:22.365060Z"
    }
   },
   "id": "e35fda398ab06e6a",
   "execution_count": 7,
   "outputs": []
  },
  {
   "cell_type": "code",
   "source": [
    "%%timeit\n",
    "\n",
    "results = []\n",
    "\n",
    "for i in range(0, 5000, 500):\n",
    "    result = torch.tensor(data[i:i+500], device='cuda')\n",
    "    results.append(result)"
   ],
   "metadata": {
    "collapsed": false,
    "ExecuteTime": {
     "end_time": "2024-08-23T21:14:20.942675Z",
     "start_time": "2024-08-23T21:14:19.417696Z"
    }
   },
   "id": "bcedfc01858213f8",
   "execution_count": 17,
   "outputs": []
  },
  {
   "cell_type": "code",
   "source": [
    "\n",
    "torch_data = torch.tensor(data)\n",
    "\n"
   ],
   "metadata": {
    "collapsed": false,
    "ExecuteTime": {
     "end_time": "2024-08-23T21:09:07.168595Z",
     "start_time": "2024-08-23T21:09:07.006031Z"
    }
   },
   "id": "65b739364a9db817",
   "execution_count": 8,
   "outputs": []
  },
  {
   "cell_type": "code",
   "source": [
    "%%timeit\n",
    "\n",
    "results = []\n",
    "\n",
    "for i in range(0, 5000, 500):\n",
    "    result = torch_data[i:i+500].to('cuda').mean()\n",
    "    results.append(result)"
   ],
   "metadata": {
    "collapsed": false,
    "ExecuteTime": {
     "end_time": "2024-08-23T21:10:02.616972Z",
     "start_time": "2024-08-23T21:10:00.937085Z"
    }
   },
   "id": "1bab2d2703ac5a59",
   "execution_count": 10,
   "outputs": []
  },
  {
   "cell_type": "code",
   "source": [
    "from stable_baselines3.common.vec_env import SubprocVecEnv\n",
    "import gymnasium as gym\n",
    "\n",
    "from stable_baselines3 import PPO\n",
    "\n",
    "env = SubprocVecEnv([lambda: gym.make(\"HalfCheetah-v4\", render_mode=None, **{'forward_reward_weight': 1.25, 'ctrl_cost_weight': 0.001 })] * 16)\n",
    "\n",
    "model = PPO(\"MlpPolicy\", env, verbose=10, target_kl=0.025, batch_size=500, n_steps=2500)\n",
    "\n",
    "import cProfile\n",
    "\n",
    "pr = cProfile.Profile()\n",
    "pr.enable()\n",
    "model.learn(total_timesteps=10_000 * 16)\n",
    "pr.disable()\n",
    "pr.dump_stats('profile_stats_sb3.pstat')"
   ],
   "metadata": {
    "collapsed": false,
    "ExecuteTime": {
     "end_time": "2024-08-26T15:53:53.547753Z",
     "start_time": "2024-08-26T15:53:03.100735Z"
    }
   },
   "id": "cafc1b1cfd538e72",
   "execution_count": 8,
   "outputs": []
  },
  {
   "cell_type": "code",
   "source": [
    "from src.module_analysis import count_parameters\n",
    "\n",
    "count_parameters(model.policy)"
   ],
   "metadata": {
    "collapsed": false,
    "ExecuteTime": {
     "end_time": "2024-08-26T15:48:38.639918Z",
     "start_time": "2024-08-26T15:48:38.636159Z"
    }
   },
   "id": "ff6d13d96bb2339a",
   "execution_count": 6,
   "outputs": []
  },
  {
   "cell_type": "code",
   "source": [
    "from gymnasium.vector import AsyncVectorEnv, SyncVectorEnv\n",
    "%load_ext autoreload\n",
    "%autoreload 2\n",
    "\n",
    "import numpy as np\n",
    "from src.reinforcement_learning.gym.envs.test_env import TestEnv\n",
    "\n",
    "\n",
    "env_fns = [\n",
    "    lambda: TestEnv(4, False, 2),\n",
    "    lambda: TestEnv(4, False, 3),\n",
    "    lambda: TestEnv(4, False, 5),\n",
    "    lambda: TestEnv(4, False, 7),\n",
    "]\n",
    "env = SyncVectorEnv(env_fns)\n",
    "\n",
    "# print(env.env_fns[0]().env.episode_length)\n",
    "\n",
    "env.reset()\n",
    "for _ in range(31):\n",
    "    obs, reward, term, trunc, info = env.step([0] * 4)\n",
    "    print(obs)\n",
    "    print(np.logical_or(term, trunc))\n",
    "    print(info)\n",
    "    print()\n"
   ],
   "metadata": {
    "collapsed": false,
    "ExecuteTime": {
     "end_time": "2024-09-09T15:31:56.982357Z",
     "start_time": "2024-09-09T15:31:56.882861Z"
    }
   },
   "id": "9953628e12413f3d",
   "execution_count": 2,
   "outputs": [
    {
     "name": "stdout",
     "output_type": "stream",
     "text": [
      "[[1. 1. 1. 1.]\n",
      " [1. 1. 1. 1.]\n",
      " [1. 1. 1. 1.]\n",
      " [1. 1. 1. 1.]]\n",
      "[False False False False]\n",
      "{}\n",
      "\n",
      "[[0. 0. 0. 0.]\n",
      " [2. 2. 2. 2.]\n",
      " [2. 2. 2. 2.]\n",
      " [2. 2. 2. 2.]]\n",
      "[ True False False False]\n",
      "{'final_observation': array([array([2., 2., 2., 2.]), None, None, None], dtype=object), '_final_observation': array([ True, False, False, False]), 'final_info': array([{}, None, None, None], dtype=object), '_final_info': array([ True, False, False, False])}\n",
      "\n",
      "[[1. 1. 1. 1.]\n",
      " [0. 0. 0. 0.]\n",
      " [3. 3. 3. 3.]\n",
      " [3. 3. 3. 3.]]\n",
      "[False  True False False]\n",
      "{'final_observation': array([None, array([3., 3., 3., 3.]), None, None], dtype=object), '_final_observation': array([False,  True, False, False]), 'final_info': array([None, {}, None, None], dtype=object), '_final_info': array([False,  True, False, False])}\n",
      "\n",
      "[[0. 0. 0. 0.]\n",
      " [1. 1. 1. 1.]\n",
      " [4. 4. 4. 4.]\n",
      " [4. 4. 4. 4.]]\n",
      "[ True False False False]\n",
      "{'final_observation': array([array([2., 2., 2., 2.]), None, None, None], dtype=object), '_final_observation': array([ True, False, False, False]), 'final_info': array([{}, None, None, None], dtype=object), '_final_info': array([ True, False, False, False])}\n",
      "\n",
      "[[1. 1. 1. 1.]\n",
      " [2. 2. 2. 2.]\n",
      " [0. 0. 0. 0.]\n",
      " [5. 5. 5. 5.]]\n",
      "[False False  True False]\n",
      "{'final_observation': array([None, None, array([5., 5., 5., 5.]), None], dtype=object), '_final_observation': array([False, False,  True, False]), 'final_info': array([None, None, {}, None], dtype=object), '_final_info': array([False, False,  True, False])}\n",
      "\n",
      "[[0. 0. 0. 0.]\n",
      " [0. 0. 0. 0.]\n",
      " [1. 1. 1. 1.]\n",
      " [6. 6. 6. 6.]]\n",
      "[ True  True False False]\n",
      "{'final_observation': array([array([2., 2., 2., 2.]), array([3., 3., 3., 3.]), None, None],\n",
      "      dtype=object), '_final_observation': array([ True,  True, False, False]), 'final_info': array([{}, {}, None, None], dtype=object), '_final_info': array([ True,  True, False, False])}\n",
      "\n",
      "[[1. 1. 1. 1.]\n",
      " [1. 1. 1. 1.]\n",
      " [2. 2. 2. 2.]\n",
      " [0. 0. 0. 0.]]\n",
      "[False False False  True]\n",
      "{'final_observation': array([None, None, None, array([7., 7., 7., 7.])], dtype=object), '_final_observation': array([False, False, False,  True]), 'final_info': array([None, None, None, {}], dtype=object), '_final_info': array([False, False, False,  True])}\n",
      "\n",
      "[[0. 0. 0. 0.]\n",
      " [2. 2. 2. 2.]\n",
      " [3. 3. 3. 3.]\n",
      " [1. 1. 1. 1.]]\n",
      "[ True False False False]\n",
      "{'final_observation': array([array([2., 2., 2., 2.]), None, None, None], dtype=object), '_final_observation': array([ True, False, False, False]), 'final_info': array([{}, None, None, None], dtype=object), '_final_info': array([ True, False, False, False])}\n",
      "\n",
      "[[1. 1. 1. 1.]\n",
      " [0. 0. 0. 0.]\n",
      " [4. 4. 4. 4.]\n",
      " [2. 2. 2. 2.]]\n",
      "[False  True False False]\n",
      "{'final_observation': array([None, array([3., 3., 3., 3.]), None, None], dtype=object), '_final_observation': array([False,  True, False, False]), 'final_info': array([None, {}, None, None], dtype=object), '_final_info': array([False,  True, False, False])}\n",
      "\n",
      "[[0. 0. 0. 0.]\n",
      " [1. 1. 1. 1.]\n",
      " [0. 0. 0. 0.]\n",
      " [3. 3. 3. 3.]]\n",
      "[ True False  True False]\n",
      "{'final_observation': array([array([2., 2., 2., 2.]), None, array([5., 5., 5., 5.]), None],\n",
      "      dtype=object), '_final_observation': array([ True, False,  True, False]), 'final_info': array([{}, None, {}, None], dtype=object), '_final_info': array([ True, False,  True, False])}\n",
      "\n",
      "[[1. 1. 1. 1.]\n",
      " [2. 2. 2. 2.]\n",
      " [1. 1. 1. 1.]\n",
      " [4. 4. 4. 4.]]\n",
      "[False False False False]\n",
      "{}\n",
      "\n",
      "[[0. 0. 0. 0.]\n",
      " [0. 0. 0. 0.]\n",
      " [2. 2. 2. 2.]\n",
      " [5. 5. 5. 5.]]\n",
      "[ True  True False False]\n",
      "{'final_observation': array([array([2., 2., 2., 2.]), array([3., 3., 3., 3.]), None, None],\n",
      "      dtype=object), '_final_observation': array([ True,  True, False, False]), 'final_info': array([{}, {}, None, None], dtype=object), '_final_info': array([ True,  True, False, False])}\n",
      "\n",
      "[[1. 1. 1. 1.]\n",
      " [1. 1. 1. 1.]\n",
      " [3. 3. 3. 3.]\n",
      " [6. 6. 6. 6.]]\n",
      "[False False False False]\n",
      "{}\n",
      "\n",
      "[[0. 0. 0. 0.]\n",
      " [2. 2. 2. 2.]\n",
      " [4. 4. 4. 4.]\n",
      " [0. 0. 0. 0.]]\n",
      "[ True False False  True]\n",
      "{'final_observation': array([array([2., 2., 2., 2.]), None, None, array([7., 7., 7., 7.])],\n",
      "      dtype=object), '_final_observation': array([ True, False, False,  True]), 'final_info': array([{}, None, None, {}], dtype=object), '_final_info': array([ True, False, False,  True])}\n",
      "\n",
      "[[1. 1. 1. 1.]\n",
      " [0. 0. 0. 0.]\n",
      " [0. 0. 0. 0.]\n",
      " [1. 1. 1. 1.]]\n",
      "[False  True  True False]\n",
      "{'final_observation': array([None, array([3., 3., 3., 3.]), array([5., 5., 5., 5.]), None],\n",
      "      dtype=object), '_final_observation': array([False,  True,  True, False]), 'final_info': array([None, {}, {}, None], dtype=object), '_final_info': array([False,  True,  True, False])}\n",
      "\n",
      "[[0. 0. 0. 0.]\n",
      " [1. 1. 1. 1.]\n",
      " [1. 1. 1. 1.]\n",
      " [2. 2. 2. 2.]]\n",
      "[ True False False False]\n",
      "{'final_observation': array([array([2., 2., 2., 2.]), None, None, None], dtype=object), '_final_observation': array([ True, False, False, False]), 'final_info': array([{}, None, None, None], dtype=object), '_final_info': array([ True, False, False, False])}\n",
      "\n",
      "[[1. 1. 1. 1.]\n",
      " [2. 2. 2. 2.]\n",
      " [2. 2. 2. 2.]\n",
      " [3. 3. 3. 3.]]\n",
      "[False False False False]\n",
      "{}\n",
      "\n",
      "[[0. 0. 0. 0.]\n",
      " [0. 0. 0. 0.]\n",
      " [3. 3. 3. 3.]\n",
      " [4. 4. 4. 4.]]\n",
      "[ True  True False False]\n",
      "{'final_observation': array([array([2., 2., 2., 2.]), array([3., 3., 3., 3.]), None, None],\n",
      "      dtype=object), '_final_observation': array([ True,  True, False, False]), 'final_info': array([{}, {}, None, None], dtype=object), '_final_info': array([ True,  True, False, False])}\n",
      "\n",
      "[[1. 1. 1. 1.]\n",
      " [1. 1. 1. 1.]\n",
      " [4. 4. 4. 4.]\n",
      " [5. 5. 5. 5.]]\n",
      "[False False False False]\n",
      "{}\n",
      "\n",
      "[[0. 0. 0. 0.]\n",
      " [2. 2. 2. 2.]\n",
      " [0. 0. 0. 0.]\n",
      " [6. 6. 6. 6.]]\n",
      "[ True False  True False]\n",
      "{'final_observation': array([array([2., 2., 2., 2.]), None, array([5., 5., 5., 5.]), None],\n",
      "      dtype=object), '_final_observation': array([ True, False,  True, False]), 'final_info': array([{}, None, {}, None], dtype=object), '_final_info': array([ True, False,  True, False])}\n",
      "\n",
      "[[1. 1. 1. 1.]\n",
      " [0. 0. 0. 0.]\n",
      " [1. 1. 1. 1.]\n",
      " [0. 0. 0. 0.]]\n",
      "[False  True False  True]\n",
      "{'final_observation': array([None, array([3., 3., 3., 3.]), None, array([7., 7., 7., 7.])],\n",
      "      dtype=object), '_final_observation': array([False,  True, False,  True]), 'final_info': array([None, {}, None, {}], dtype=object), '_final_info': array([False,  True, False,  True])}\n",
      "\n",
      "[[0. 0. 0. 0.]\n",
      " [1. 1. 1. 1.]\n",
      " [2. 2. 2. 2.]\n",
      " [1. 1. 1. 1.]]\n",
      "[ True False False False]\n",
      "{'final_observation': array([array([2., 2., 2., 2.]), None, None, None], dtype=object), '_final_observation': array([ True, False, False, False]), 'final_info': array([{}, None, None, None], dtype=object), '_final_info': array([ True, False, False, False])}\n",
      "\n",
      "[[1. 1. 1. 1.]\n",
      " [2. 2. 2. 2.]\n",
      " [3. 3. 3. 3.]\n",
      " [2. 2. 2. 2.]]\n",
      "[False False False False]\n",
      "{}\n",
      "\n",
      "[[0. 0. 0. 0.]\n",
      " [0. 0. 0. 0.]\n",
      " [4. 4. 4. 4.]\n",
      " [3. 3. 3. 3.]]\n",
      "[ True  True False False]\n",
      "{'final_observation': array([array([2., 2., 2., 2.]), array([3., 3., 3., 3.]), None, None],\n",
      "      dtype=object), '_final_observation': array([ True,  True, False, False]), 'final_info': array([{}, {}, None, None], dtype=object), '_final_info': array([ True,  True, False, False])}\n",
      "\n",
      "[[1. 1. 1. 1.]\n",
      " [1. 1. 1. 1.]\n",
      " [0. 0. 0. 0.]\n",
      " [4. 4. 4. 4.]]\n",
      "[False False  True False]\n",
      "{'final_observation': array([None, None, array([5., 5., 5., 5.]), None], dtype=object), '_final_observation': array([False, False,  True, False]), 'final_info': array([None, None, {}, None], dtype=object), '_final_info': array([False, False,  True, False])}\n",
      "\n",
      "[[0. 0. 0. 0.]\n",
      " [2. 2. 2. 2.]\n",
      " [1. 1. 1. 1.]\n",
      " [5. 5. 5. 5.]]\n",
      "[ True False False False]\n",
      "{'final_observation': array([array([2., 2., 2., 2.]), None, None, None], dtype=object), '_final_observation': array([ True, False, False, False]), 'final_info': array([{}, None, None, None], dtype=object), '_final_info': array([ True, False, False, False])}\n",
      "\n",
      "[[1. 1. 1. 1.]\n",
      " [0. 0. 0. 0.]\n",
      " [2. 2. 2. 2.]\n",
      " [6. 6. 6. 6.]]\n",
      "[False  True False False]\n",
      "{'final_observation': array([None, array([3., 3., 3., 3.]), None, None], dtype=object), '_final_observation': array([False,  True, False, False]), 'final_info': array([None, {}, None, None], dtype=object), '_final_info': array([False,  True, False, False])}\n",
      "\n",
      "[[0. 0. 0. 0.]\n",
      " [1. 1. 1. 1.]\n",
      " [3. 3. 3. 3.]\n",
      " [0. 0. 0. 0.]]\n",
      "[ True False False  True]\n",
      "{'final_observation': array([array([2., 2., 2., 2.]), None, None, array([7., 7., 7., 7.])],\n",
      "      dtype=object), '_final_observation': array([ True, False, False,  True]), 'final_info': array([{}, None, None, {}], dtype=object), '_final_info': array([ True, False, False,  True])}\n",
      "\n",
      "[[1. 1. 1. 1.]\n",
      " [2. 2. 2. 2.]\n",
      " [4. 4. 4. 4.]\n",
      " [1. 1. 1. 1.]]\n",
      "[False False False False]\n",
      "{}\n",
      "\n",
      "[[0. 0. 0. 0.]\n",
      " [0. 0. 0. 0.]\n",
      " [0. 0. 0. 0.]\n",
      " [2. 2. 2. 2.]]\n",
      "[ True  True  True False]\n",
      "{'final_observation': array([array([2., 2., 2., 2.]), array([3., 3., 3., 3.]),\n",
      "       array([5., 5., 5., 5.]), None], dtype=object), '_final_observation': array([ True,  True,  True, False]), 'final_info': array([{}, {}, {}, None], dtype=object), '_final_info': array([ True,  True,  True, False])}\n",
      "\n",
      "[[1. 1. 1. 1.]\n",
      " [1. 1. 1. 1.]\n",
      " [1. 1. 1. 1.]\n",
      " [3. 3. 3. 3.]]\n",
      "[False False False False]\n",
      "{}\n"
     ]
    }
   ]
  },
  {
   "cell_type": "code",
   "outputs": [
    {
     "name": "stdout",
     "output_type": "stream",
     "text": [
      "[[-0.8693282   0.58624583]\n",
      " [-0.31176484 -0.94757736]\n",
      " [ 0.0834689   0.60659134]\n",
      " [ 0.77021277 -0.831201  ]]\n",
      "[[ 0.52057505  0.41270298]\n",
      " [ 0.6694224   0.80718195]\n",
      " [-0.6913605  -0.5399516 ]\n",
      " [ 0.42518348  0.3773016 ]]\n",
      "[[-0.39520526  0.49182367]\n",
      " [-0.78358936 -0.68001443]\n",
      " [-0.06645925  0.6082146 ]\n",
      " [-0.93713784 -0.903293  ]]\n",
      "[[-0.6898142   0.7617745 ]\n",
      " [-0.56910473  0.25737107]\n",
      " [-0.08667714  0.9532684 ]\n",
      " [-0.7785256   0.4517108 ]]\n",
      "[[ 0.6491212   0.8006077 ]\n",
      " [ 0.34740534 -0.25895944]\n",
      " [ 0.5966549   0.6526357 ]\n",
      " [-0.4833214  -0.7437691 ]]\n",
      "[[-0.05704025 -0.26883358]\n",
      " [-0.21535401  0.04536812]\n",
      " [ 0.28586397  0.80168205]\n",
      " [-0.8133532   0.39490643]]\n",
      "[[-0.85029477 -0.9289888 ]\n",
      " [-0.98563105  0.2966846 ]\n",
      " [ 0.19664985 -0.11767972]\n",
      " [ 0.36577854 -0.03406118]]\n",
      "[[ 0.04866572  0.4727367 ]\n",
      " [-0.9000028   0.9328065 ]\n",
      " [ 0.08475711  0.04237787]\n",
      " [-0.08803723  0.36322376]]\n",
      "[[-0.8188476  -0.09751792]\n",
      " [ 0.8404389   0.0824685 ]\n",
      " [ 0.9587921  -0.16711509]\n",
      " [ 0.1557264  -0.52093506]]\n",
      "[[-0.8788543   0.93811125]\n",
      " [-0.11923987  0.0275394 ]\n",
      " [-0.9222934   0.12367591]\n",
      " [-0.39969832  0.57656866]]\n",
      "[[-0.19629945  0.38446015]\n",
      " [-0.9100362   0.39020863]\n",
      " [ 0.8857712  -0.78331655]\n",
      " [-0.7478354  -0.31472388]]\n",
      "[[-0.823979    0.09598929]\n",
      " [ 0.63414675 -0.7083962 ]\n",
      " [ 0.30397576  0.39996228]\n",
      " [ 0.16949508 -0.520441  ]]\n",
      "[[ 0.37400383 -0.18665846]\n",
      " [ 0.59952843 -0.77063847]\n",
      " [ 0.40942204 -0.52449644]\n",
      " [-0.62320614  0.21385536]]\n",
      "[[-0.14035687  0.63706064]\n",
      " [ 0.01323833 -0.5691009 ]\n",
      " [ 0.838653    0.3519024 ]\n",
      " [ 0.24557269 -0.13944203]]\n",
      "[[-0.9711995  -0.75066227]\n",
      " [ 0.96249896  0.85684866]\n",
      " [-0.22077255 -0.5207543 ]\n",
      " [-0.00710245 -0.63115156]]\n",
      "[[-0.90602833  0.8005787 ]\n",
      " [ 0.16935553  0.02507757]\n",
      " [-0.00758597 -0.3789154 ]\n",
      " [ 0.86557794  0.3002054 ]]\n",
      "[[-0.7812977   0.39651904]\n",
      " [ 0.34704527 -0.6598099 ]\n",
      " [ 0.13742311  0.24865156]\n",
      " [-0.52647316  0.5048545 ]]\n",
      "[[ 0.4805058  -0.89464253]\n",
      " [-0.5780149  -0.8209061 ]\n",
      " [ 0.87870306 -0.06313069]\n",
      " [-0.7130088   0.53018695]]\n",
      "[[ 0.00291315  0.82128555]\n",
      " [-0.28520072 -0.91432846]\n",
      " [ 0.5027456  -0.87554145]\n",
      " [-0.5227828  -0.3310652 ]]\n",
      "[[-0.12473223  0.5991197 ]\n",
      " [-0.5047694   0.45268768]\n",
      " [ 0.16837369 -0.5509076 ]\n",
      " [-0.46026963 -0.643827  ]]\n",
      "[[-0.2503697  -0.4733993 ]\n",
      " [-0.15702793 -0.16864508]\n",
      " [ 0.9166899   0.22268297]\n",
      " [ 0.20432156  0.65244   ]]\n",
      "[[ 0.51102835  0.5038376 ]\n",
      " [ 0.41117707  0.97136015]\n",
      " [ 0.65307915  0.62843907]\n",
      " [-0.48065257 -0.6624777 ]]\n",
      "[[-0.71328825 -0.0177417 ]\n",
      " [-0.5533728   0.59144336]\n",
      " [ 0.6232112  -0.08775467]\n",
      " [-0.30193222 -0.74165404]]\n",
      "[[-0.60964084  0.84664935]\n",
      " [-0.6308327  -0.6968491 ]\n",
      " [ 0.01220081 -0.56118464]\n",
      " [ 0.5285925  -0.28129348]]\n",
      "[[ 0.93931764  0.90676445]\n",
      " [-0.85456777 -0.18651079]\n",
      " [ 0.4298899  -0.87709194]\n",
      " [ 0.9486001  -0.16366257]]\n",
      "[[ 0.6099054   0.20890534]\n",
      " [-0.94076234 -0.81672406]\n",
      " [-0.40782592 -0.8237186 ]\n",
      " [-0.7317713  -0.34234172]]\n",
      "[[-0.26634306 -0.8263204 ]\n",
      " [ 0.01200955 -0.5693572 ]\n",
      " [-0.907146   -0.15618451]\n",
      " [-0.08442766  0.1682868 ]]\n",
      "[[-0.3162578  -0.4629066 ]\n",
      " [-0.6967599   0.19926192]\n",
      " [-0.07483531 -0.05609995]\n",
      " [ 0.7917082  -0.6343139 ]]\n",
      "[[ 0.7079553  -0.9353639 ]\n",
      " [ 0.24948603 -0.7024256 ]\n",
      " [-0.14211464 -0.8666886 ]\n",
      " [-0.54951197  0.9846722 ]]\n",
      "[[ 0.63167036  0.560312  ]\n",
      " [-0.18417235 -0.80615854]\n",
      " [ 0.5567558   0.21362977]\n",
      " [-0.99863636  0.06593166]]\n",
      "[[ 0.25541505  0.3457441 ]\n",
      " [-0.9804562  -0.6888403 ]\n",
      " [-0.9777925   0.65281785]\n",
      " [ 0.67499423  0.9178456 ]]\n",
      "[[ 0.14221948 -0.9707936 ]\n",
      " [ 0.8140162   0.4055426 ]\n",
      " [ 0.17993122  0.9066444 ]\n",
      " [ 0.01555264 -0.16558348]]\n",
      "[[-0.38411424  0.43722162]\n",
      " [-0.23433144 -0.9025632 ]\n",
      " [ 0.10241789 -0.04471843]\n",
      " [ 0.85976285 -0.8897802 ]]\n",
      "[[ 0.31300187  0.75183773]\n",
      " [-0.75108886 -0.8056573 ]\n",
      " [ 0.5682139  -0.17264357]\n",
      " [-0.918088   -0.3917217 ]]\n",
      "[[ 0.71998256  0.98322904]\n",
      " [ 0.6893586  -0.06882507]\n",
      " [ 0.47138792  0.22285101]\n",
      " [-0.95971674  0.28452787]]\n",
      "[[-0.24101388  0.9291245 ]\n",
      " [ 0.60848325  0.32962692]\n",
      " [-0.020797   -0.7697825 ]\n",
      " [ 0.10118356 -0.92757756]]\n",
      "[[-0.50991654  0.7499578 ]\n",
      " [ 0.46898228 -0.8236325 ]\n",
      " [ 0.9477865   0.26567188]\n",
      " [-0.96770376 -0.5494747 ]]\n",
      "[[ 0.8454608  -0.20368086]\n",
      " [ 0.06642944 -0.7176552 ]\n",
      " [ 0.5942217  -0.53871197]\n",
      " [ 0.09766456 -0.50127643]]\n",
      "[[ 0.9247096  -0.74241275]\n",
      " [ 0.00365922  0.7630584 ]\n",
      " [-0.26006043 -0.34170875]\n",
      " [-0.96566695 -0.82719445]]\n",
      "[[ 0.10240158 -0.03115942]\n",
      " [-0.5769432   0.8886689 ]\n",
      " [-0.37755275  0.634349  ]\n",
      " [ 0.00765724  0.6727493 ]]\n",
      "[[ 0.74384606 -0.49964553]\n",
      " [ 0.36373731 -0.02511414]\n",
      " [ 0.995113    0.10504245]\n",
      " [ 0.08717666 -0.3911242 ]]\n",
      "[[-0.13010247 -0.99096835]\n",
      " [-0.4171971   0.3433377 ]\n",
      " [ 0.09438457 -0.7692578 ]\n",
      " [ 0.99651647  0.8692045 ]]\n",
      "[[ 0.44405022 -0.30689263]\n",
      " [ 0.34105077 -0.52251244]\n",
      " [ 0.35526368 -0.29099345]\n",
      " [-0.21094853  0.15526071]]\n",
      "[[-0.7992575   0.29184726]\n",
      " [ 0.8601205  -0.8201079 ]\n",
      " [-0.9493639   0.07847439]\n",
      " [-0.1615463   0.6919263 ]]\n",
      "[[ 0.00876938 -0.796494  ]\n",
      " [-0.56650233  0.2438426 ]\n",
      " [ 0.6188443  -0.16346975]\n",
      " [ 0.60648876 -0.59111047]]\n",
      "[[-0.64463407 -0.23732765]\n",
      " [ 0.26526093  0.5813675 ]\n",
      " [-0.6919191  -0.21085227]\n",
      " [ 0.4763115   0.74776095]]\n",
      "[[-0.7465249  -0.94157314]\n",
      " [-0.11904964 -0.55800116]\n",
      " [ 0.86149955 -0.5077112 ]\n",
      " [ 0.34662142  0.9851551 ]]\n",
      "[[-0.13753004 -0.10020206]\n",
      " [ 0.59649545 -0.5164834 ]\n",
      " [ 0.348585   -0.593186  ]\n",
      " [-0.42593813  0.06073918]]\n",
      "[[-0.39845535  0.34430978]\n",
      " [ 0.5158977   0.20305562]\n",
      " [-0.94746095 -0.93080586]\n",
      " [-0.24635372  0.21742734]]\n",
      "[[ 0.5279823  -0.95137405]\n",
      " [-0.65160686 -0.1068078 ]\n",
      " [ 0.06511774  0.6016874 ]\n",
      " [ 0.9712853  -0.74357325]]\n",
      "[[[0. 0. 0. 0.]\n",
      "  [0. 0. 0. 0.]\n",
      "  [0. 0. 0. 0.]\n",
      "  [0. 0. 0. 0.]]\n",
      "\n",
      " [[1. 1. 1. 1.]\n",
      "  [1. 1. 1. 1.]\n",
      "  [1. 1. 1. 1.]\n",
      "  [1. 1. 1. 1.]]\n",
      "\n",
      " [[2. 2. 2. 2.]\n",
      "  [2. 2. 2. 2.]\n",
      "  [2. 2. 2. 2.]\n",
      "  [2. 2. 2. 2.]]\n",
      "\n",
      " ...\n",
      "\n",
      " [[0. 0. 0. 0.]\n",
      "  [0. 0. 0. 0.]\n",
      "  [0. 0. 0. 0.]\n",
      "  [0. 0. 0. 0.]]\n",
      "\n",
      " [[0. 0. 0. 0.]\n",
      "  [0. 0. 0. 0.]\n",
      "  [0. 0. 0. 0.]\n",
      "  [0. 0. 0. 0.]]\n",
      "\n",
      " [[0. 0. 0. 0.]\n",
      "  [0. 0. 0. 0.]\n",
      "  [0. 0. 0. 0.]\n",
      "  [0. 0. 0. 0.]]]\n",
      "[[[0. 0. 0. 0.]\n",
      "  [0. 0. 0. 0.]\n",
      "  [0. 0. 0. 0.]\n",
      "  [0. 0. 0. 0.]]\n",
      "\n",
      " [[1. 1. 1. 1.]\n",
      "  [1. 1. 1. 1.]\n",
      "  [1. 1. 1. 1.]\n",
      "  [1. 1. 1. 1.]]\n",
      "\n",
      " [[2. 2. 2. 2.]\n",
      "  [2. 2. 2. 2.]\n",
      "  [2. 2. 2. 2.]\n",
      "  [2. 2. 2. 2.]]\n",
      "\n",
      " ...\n",
      "\n",
      " [[0. 0. 0. 0.]\n",
      "  [0. 0. 0. 0.]\n",
      "  [0. 0. 0. 0.]\n",
      "  [0. 0. 0. 0.]]\n",
      "\n",
      " [[0. 0. 0. 0.]\n",
      "  [0. 0. 0. 0.]\n",
      "  [0. 0. 0. 0.]\n",
      "  [0. 0. 0. 0.]]\n",
      "\n",
      " [[0. 0. 0. 0.]\n",
      "  [0. 0. 0. 0.]\n",
      "  [0. 0. 0. 0.]\n",
      "  [0. 0. 0. 0.]]]\n"
     ]
    },
    {
     "data": {
      "text/plain": "<__main__.TestOffPolicyAlgo at 0x260f5e2b1d0>"
     },
     "execution_count": 11,
     "metadata": {},
     "output_type": "execute_result"
    }
   ],
   "source": [
    "from src.reinforcement_learning.algorithms.base.logging_config import LoggingConfig\n",
    "from src.reinforcement_learning.core.callback import Callback\n",
    "from src.reinforcement_learning.core.buffers.replay.replay_buffer import ReplayBuffer\n",
    "from src.reinforcement_learning.core.action_selectors.diag_gaussian_action_selector import DiagGaussianActionSelector\n",
    "from src.reinforcement_learning.core.policies.components.actor import Actor\n",
    "from src.reinforcement_learning.core.policies.base_policy import BasePolicy\n",
    "from src.reinforcement_learning.algorithms.base.off_policy_algorithm import OffPolicyAlgorithm\n",
    "from torch import nn\n",
    "import torch\n",
    "\n",
    "\n",
    "class TestOffPolicyAlgo(OffPolicyAlgorithm):\n",
    "    def optimize(self, last_obs: np.ndarray, last_episode_starts: np.ndarray, info: dict) -> None:\n",
    "        print(self.buffer.observations)\n",
    "\n",
    "\n",
    "algo = TestOffPolicyAlgo(\n",
    "    env=env,\n",
    "    policy=BasePolicy(Actor(nn.Linear(4, 8), DiagGaussianActionSelector(8, 2, 0.0001, False))),\n",
    "    buffer=ReplayBuffer.for_env(env, 1000, 'cuda'),\n",
    "    gamma=0.99,\n",
    "    tau=0.1,\n",
    "    rollout_steps=100,\n",
    "    gradient_steps=1,\n",
    "    action_noise=None,\n",
    "    warmup_steps=50,\n",
    "    sde_noise_sample_freq=None,\n",
    "    callback=Callback(),\n",
    "    logging_config=LoggingConfig(),\n",
    "    torch_device='cuda',\n",
    "    torch_dtype=torch.float32,\n",
    ")\n",
    "algo.learn(200)"
   ],
   "metadata": {
    "collapsed": false,
    "ExecuteTime": {
     "end_time": "2024-09-09T15:34:35.442597Z",
     "start_time": "2024-09-09T15:34:35.187270Z"
    }
   },
   "id": "99abea17d47a8539",
   "execution_count": 11
  },
  {
   "cell_type": "code",
   "outputs": [
    {
     "data": {
      "text/plain": "array([[[-0.8388518 ,  0.6058575 ],\n        [-0.48365894, -0.41857854],\n        [ 0.25024652,  0.6455046 ],\n        [ 0.28540504, -0.17151779]],\n\n       [[ 0.1705378 , -0.6679885 ],\n        [-0.5365215 ,  0.5805764 ],\n        [-0.9393634 ,  0.2365116 ],\n        [-0.9840996 ,  0.21031807]],\n\n       [[ 0.706734  ,  0.79460365],\n        [-0.45994848, -0.31456307],\n        [ 0.4815851 ,  0.3064709 ],\n        [ 0.7127489 ,  0.68381625]],\n\n       ...,\n\n       [[ 0.        ,  0.        ],\n        [ 0.        ,  0.        ],\n        [ 0.        ,  0.        ],\n        [ 0.        ,  0.        ]],\n\n       [[ 0.        ,  0.        ],\n        [ 0.        ,  0.        ],\n        [ 0.        ,  0.        ],\n        [ 0.        ,  0.        ]],\n\n       [[ 0.        ,  0.        ],\n        [ 0.        ,  0.        ],\n        [ 0.        ,  0.        ],\n        [ 0.        ,  0.        ]]], dtype=float32)"
     },
     "execution_count": 10,
     "metadata": {},
     "output_type": "execute_result"
    }
   ],
   "source": [
    "algo.buffer.actions"
   ],
   "metadata": {
    "collapsed": false,
    "ExecuteTime": {
     "end_time": "2024-09-09T15:34:07.325712Z",
     "start_time": "2024-09-09T15:34:07.245727Z"
    }
   },
   "id": "1af12b6ce205d8a7",
   "execution_count": 10
  },
  {
   "cell_type": "code",
   "outputs": [],
   "source": [],
   "metadata": {
    "collapsed": false
   },
   "id": "3fbce7251c73ea82"
  }
 ],
 "metadata": {
  "kernelspec": {
   "display_name": "Python 3",
   "language": "python",
   "name": "python3"
  },
  "language_info": {
   "codemirror_mode": {
    "name": "ipython",
    "version": 2
   },
   "file_extension": ".py",
   "mimetype": "text/x-python",
   "name": "python",
   "nbconvert_exporter": "python",
   "pygments_lexer": "ipython2",
   "version": "2.7.6"
  }
 },
 "nbformat": 4,
 "nbformat_minor": 5
}
