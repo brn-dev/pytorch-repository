{
 "cells": [
  {
   "cell_type": "code",
   "execution_count": 1,
   "id": "initial_id",
   "metadata": {
    "collapsed": true,
    "ExecuteTime": {
     "end_time": "2024-05-17T16:16:59.862463Z",
     "start_time": "2024-05-17T16:16:59.846803Z"
    }
   },
   "source": [
    "from typing import SupportsFloat, Any\n",
    "\n",
    "from gymnasium.core import ActType, ObsType\n",
    "\n",
    "from src.reinforcement_learning.core.infos import InfoDict\n",
    "from tmp_mp import main"
   ],
   "outputs": []
  },
  {
   "cell_type": "code",
   "source": [
    "main()"
   ],
   "metadata": {
    "collapsed": false,
    "ExecuteTime": {
     "end_time": "2024-07-23T20:07:27.012896Z",
     "start_time": "2024-07-23T20:07:26.784305Z"
    }
   },
   "id": "83a784f8b65b74f8",
   "execution_count": 1,
   "outputs": []
  },
  {
   "cell_type": "code",
   "source": [
    "from stable_baselines3 import PPO\n",
    "from stable_baselines3.common.env_util import make_vec_env\n",
    "\n",
    "# Parallel environments\n",
    "vec_env = make_vec_env(\"HalfCheetah-v4\", n_envs=4)\n",
    "\n",
    "model = PPO(\"MlpPolicy\", vec_env, use_sde=True, sde_sample_freq=100, verbose=2)\n",
    "model.learn(total_timesteps=250000)\n",
    "model.save(\"ppo_cartpole\")\n",
    "\n",
    "del model  # remove to demonstrate saving and loading\n",
    "\n",
    "model = PPO.load(\"ppo_cartpole\")\n",
    "\n",
    "obs = vec_env.reset()\n",
    "# while True:\n",
    "#     action, _states = model.predict(obs)\n",
    "#     obs, rewards, dones, info = vec_env.step(action)\n",
    "#     vec_env.render(\"human\")"
   ],
   "metadata": {
    "collapsed": false,
    "ExecuteTime": {
     "end_time": "2024-05-23T22:15:54.226301Z",
     "start_time": "2024-05-23T22:14:18.948367Z"
    }
   },
   "id": "6d26ca5d3fba5ab7",
   "execution_count": 5,
   "outputs": []
  },
  {
   "cell_type": "code",
   "source": [
    "import torch\n",
    "import numpy as np\n",
    "\n",
    "rollout_data = np.random.random((2500, 32, 17))"
   ],
   "metadata": {
    "collapsed": false,
    "ExecuteTime": {
     "end_time": "2024-05-23T22:42:33.450537Z",
     "start_time": "2024-05-23T22:42:33.437024Z"
    }
   },
   "id": "8f542b5b7a30c20d",
   "execution_count": 14,
   "outputs": []
  },
  {
   "cell_type": "code",
   "source": [
    "%%timeit\n",
    "for i in range(len(rollout_data)):\n",
    "    tensor = torch.tensor(rollout_data[i], device='cuda')"
   ],
   "metadata": {
    "collapsed": false,
    "ExecuteTime": {
     "end_time": "2024-05-23T22:42:46.607754Z",
     "start_time": "2024-05-23T22:42:33.589059Z"
    }
   },
   "id": "7e926ae1d8feae57",
   "execution_count": 15,
   "outputs": []
  },
  {
   "cell_type": "code",
   "source": [
    "import types\n",
    "import numpy as np\n",
    "import torch\n",
    "from torch import nn\n",
    "\n",
    "\n",
    "class A(nn.Module):\n",
    "\n",
    "    def __init__(self):\n",
    "        super().__init__()\n",
    "        self.linear = nn.Linear(17, 17)\n",
    "\n",
    "        self.forward = self.linear.forward\n",
    "\n",
    "    # def forward(self, x):\n",
    "    #     return self.linear(x)\n",
    "\n",
    "\n",
    "test_data = torch.tensor(np.random.random((2500, 1024, 17))).float()\n",
    "\n",
    "a = A()"
   ],
   "metadata": {
    "collapsed": false,
    "ExecuteTime": {
     "end_time": "2024-05-28T17:25:49.731860Z",
     "start_time": "2024-05-28T17:25:49.343973Z"
    }
   },
   "id": "18b462eb301c3290",
   "execution_count": 6,
   "outputs": []
  },
  {
   "cell_type": "code",
   "source": [
    "%%timeit\n",
    "\n",
    "for i in range(len(test_data)):\n",
    "    a(test_data[i])"
   ],
   "metadata": {
    "collapsed": false,
    "ExecuteTime": {
     "end_time": "2024-05-28T17:26:00.167853Z",
     "start_time": "2024-05-28T17:25:49.732855Z"
    }
   },
   "id": "25fc61df57f13567",
   "execution_count": 7,
   "outputs": []
  },
  {
   "cell_type": "code",
   "source": [
    "%%timeit\n",
    "\n",
    "for i in range(len(test_data)):\n",
    "    a(test_data[i]).detach()"
   ],
   "metadata": {
    "collapsed": false,
    "ExecuteTime": {
     "end_time": "2024-05-28T17:26:11.629808Z",
     "start_time": "2024-05-28T17:26:00.168853Z"
    }
   },
   "id": "3e64a75ffcb3f542",
   "execution_count": 8,
   "outputs": []
  },
  {
   "cell_type": "code",
   "source": [
    "from src.torch_device import get_torch_device\n",
    "\n",
    "get_torch_device()"
   ],
   "metadata": {
    "collapsed": false,
    "ExecuteTime": {
     "end_time": "2024-05-29T19:20:16.958767Z",
     "start_time": "2024-05-29T19:20:11.568280Z"
    }
   },
   "id": "c22c1a2827faef5",
   "execution_count": 1,
   "outputs": []
  },
  {
   "cell_type": "code",
   "source": [
    "import gymnasium\n",
    "\n",
    "gymnasium.make('Ant-v4', )"
   ],
   "metadata": {
    "collapsed": false
   },
   "id": "11fe74cc94873a0b",
   "execution_count": null,
   "outputs": []
  },
  {
   "cell_type": "code",
   "source": [
    "%load_ext autoreload\n",
    "%autoreload 2\n",
    "\n",
    "def record_video():\n",
    "    import torch\n",
    "    from tqdm import tqdm\n",
    "    from src.reinforcement_learning.gym.singleton_vector_env import as_vec_env\n",
    "    import gymnasium\n",
    "    from gymnasium.wrappers import AutoResetWrapper, RecordVideo\n",
    "    from src.model_db.tiny_model_db import TinyModelDB\n",
    "    from src.reinforcement_learning.algorithms.policy_mitosis.mitosis_policy_info import MitosisPolicyInfo\n",
    "    from src.reinforcement_learning.core.policy_construction import PolicyConstruction\n",
    "    from src.datetime import get_current_timestamp\n",
    "\n",
    "    record_env, _ = as_vec_env(gymnasium.make('Ant-v4', render_mode='rgb_array'))\n",
    "\n",
    "    policy_db = TinyModelDB[MitosisPolicyInfo](base_path=f'E:/saved_models/rl/Ant-v4/mitosis-2024-06-10_19.43.13')\n",
    "    print(policy_db)\n",
    "\n",
    "    policy_entry = list(sorted(policy_db.all_entries(), key=lambda entry: entry['model_info']['score']))[-2]\n",
    "    # policy_entry = policy_db.fetch_entry('2024-06-10_22.13.57~PJHPLG')\n",
    "    policy_info: MitosisPolicyInfo = policy_entry['model_info']\n",
    "    print(policy_entry)\n",
    "\n",
    "    policy, _, record_env = PolicyConstruction.init_from_info(policy_info['initialization_info'], record_env)\n",
    "\n",
    "    policy_db.load_model_state_dict(policy_entry['model_id'], policy)\n",
    "\n",
    "    try:\n",
    "        record_env.metadata['render_fps'] = 30\n",
    "        record_env = AutoResetWrapper(\n",
    "            RecordVideo(record_env, video_folder=rf'C:\\Users\\domin\\Videos\\rl\\{get_current_timestamp()}',\n",
    "                        episode_trigger=lambda ep_nr: True)\n",
    "        )\n",
    "\n",
    "        def record(max_steps: int):\n",
    "            with torch.no_grad():\n",
    "                obs, info = record_env.reset()\n",
    "                for step in tqdm(range(max_steps)):\n",
    "                    actions_dist, _ = policy.process_obs(torch.tensor(obs, device='cpu'))\n",
    "                    actions = actions_dist.get_actions(deterministic=True).cpu().numpy()\n",
    "                    obs, reward, terminated, truncated, info = record_env.step(actions)\n",
    "\n",
    "        record(50_000)\n",
    "    except KeyboardInterrupt:\n",
    "        print('keyboard interrupt')\n",
    "    finally:\n",
    "        print('closing record_env')\n",
    "        record_env.close()\n",
    "        print('record_env closed')\n",
    "\n",
    "\n",
    "record_video()"
   ],
   "metadata": {
    "collapsed": false,
    "ExecuteTime": {
     "start_time": "2024-06-10T21:30:42.251803Z"
    }
   },
   "id": "9413fb35d2e62be7",
   "execution_count": null,
   "outputs": []
  },
  {
   "cell_type": "code",
   "source": [],
   "metadata": {
    "collapsed": false
   },
   "id": "232fbbf514e29e1d",
   "execution_count": null,
   "outputs": []
  },
  {
   "cell_type": "code",
   "source": [
    "from torch import nn\n",
    "\n",
    "from src.networks.core.net import Net\n",
    "from src.networks.multihead_self_attention import MultiheadSelfAttention\n",
    "from src.networks.core.seq_net import SeqNet\n",
    "from src.networks.skip_nets.additive_skip_connection import AdditiveSkipConnection\n",
    "\n",
    "device = 'cuda:0'\n",
    "\n",
    "transformer_encoder_net = SeqNet.from_layer_provider(\n",
    "    layer_provider=lambda layer_nr, is_last_layer, in_features, out_features:\n",
    "    nn.Sequential(\n",
    "        AdditiveSkipConnection(MultiheadSelfAttention(\n",
    "            embed_dim=in_features,\n",
    "            num_heads=8,\n",
    "        )),\n",
    "        nn.LayerNorm(in_features),\n",
    "        AdditiveSkipConnection(Net.seq_as_net(\n",
    "            nn.Linear(in_features, 2048),\n",
    "            nn.ReLU(),\n",
    "            nn.Linear(2048, out_features),\n",
    "            nn.ReLU(),\n",
    "        )),\n",
    "        nn.LayerNorm(out_features),\n",
    "    ),\n",
    "    num_layers=6,\n",
    "    num_features=512,\n",
    ").to(device)\n",
    "\n",
    "transformer_encoder_net.out_shape\n",
    "transformer_encoder_net(torch.tensor(np.random.random((7, 5, 512))).to(device).float()).shape"
   ],
   "metadata": {
    "collapsed": false,
    "ExecuteTime": {
     "end_time": "2024-07-15T15:33:07.121293Z",
     "start_time": "2024-07-15T15:33:06.915581Z"
    }
   },
   "id": "ca1327e49698c9da",
   "execution_count": 14,
   "outputs": []
  },
  {
   "cell_type": "code",
   "source": [
    "transformer_encoder = nn.TransformerEncoder(\n",
    "    nn.TransformerEncoderLayer(\n",
    "        d_model=512,\n",
    "        nhead=8,\n",
    "        dropout=0,\n",
    "    ),\n",
    "    num_layers=6\n",
    ").to(device)"
   ],
   "metadata": {
    "collapsed": false,
    "ExecuteTime": {
     "end_time": "2024-07-05T23:53:19.747323Z",
     "start_time": "2024-07-05T23:53:19.693332Z"
    }
   },
   "id": "a6a3505b70768b0e",
   "execution_count": 2,
   "outputs": []
  },
  {
   "cell_type": "code",
   "source": [
    "import numpy as np\n",
    "import torch\n",
    "data1 = torch.Tensor(np.random.random((100, 4, 512))).to(device)"
   ],
   "metadata": {
    "collapsed": false,
    "ExecuteTime": {
     "end_time": "2024-07-05T23:53:19.753832Z",
     "start_time": "2024-07-05T23:53:19.748319Z"
    }
   },
   "id": "d74db2b4169c9712",
   "execution_count": 3,
   "outputs": []
  },
  {
   "cell_type": "code",
   "source": [
    "%%timeit -r 15 -n 500\n",
    "transformer_encoder_net(data1)"
   ],
   "metadata": {
    "collapsed": false,
    "ExecuteTime": {
     "end_time": "2024-07-05T23:34:06.647640Z",
     "start_time": "2024-07-05T23:33:41.810146Z"
    }
   },
   "id": "6801cd3030143976",
   "execution_count": 6,
   "outputs": []
  },
  {
   "cell_type": "code",
   "source": [
    "%%timeit -r 15 -n 500\n",
    "transformer_encoder(data1)"
   ],
   "metadata": {
    "collapsed": false,
    "ExecuteTime": {
     "end_time": "2024-07-05T23:34:31.399154Z",
     "start_time": "2024-07-05T23:34:06.648632Z"
    }
   },
   "id": "59acf00355898753",
   "execution_count": 7,
   "outputs": []
  },
  {
   "cell_type": "code",
   "source": [],
   "metadata": {
    "collapsed": false
   },
   "id": "6b0e27af3eb4c76d",
   "execution_count": null,
   "outputs": []
  },
  {
   "cell_type": "code",
   "source": [
    "data2 = torch.Tensor(np.random.random((100, 64, 512))).to(device)"
   ],
   "metadata": {
    "collapsed": false,
    "ExecuteTime": {
     "end_time": "2024-07-05T23:35:49.613591Z",
     "start_time": "2024-07-05T23:35:49.577024Z"
    }
   },
   "id": "958cbae4fc1ed2dd",
   "execution_count": 4,
   "outputs": []
  },
  {
   "cell_type": "code",
   "source": [
    "%%timeit -r 15 -n 200\n",
    "transformer_encoder_net(data2)"
   ],
   "metadata": {
    "collapsed": false,
    "ExecuteTime": {
     "end_time": "2024-07-05T23:37:24.849456Z",
     "start_time": "2024-07-05T23:35:49.737039Z"
    }
   },
   "id": "ba5c753fd48bb3e2",
   "execution_count": 5,
   "outputs": []
  },
  {
   "cell_type": "code",
   "source": [
    "%%timeit -r 15 -n 200\n",
    "transformer_encoder(data2)"
   ],
   "metadata": {
    "collapsed": false,
    "ExecuteTime": {
     "end_time": "2024-07-05T23:38:59.007342Z",
     "start_time": "2024-07-05T23:37:24.850450Z"
    }
   },
   "id": "eccc331c444d129b",
   "execution_count": 6,
   "outputs": []
  },
  {
   "cell_type": "code",
   "source": [],
   "metadata": {
    "collapsed": false,
    "ExecuteTime": {
     "end_time": "2024-07-05T23:38:59.009667Z",
     "start_time": "2024-07-05T23:38:59.007342Z"
    }
   },
   "id": "87ab683d0b8ca53f",
   "execution_count": 6,
   "outputs": []
  },
  {
   "cell_type": "code",
   "source": [
    "data3 = torch.Tensor(np.random.random((100, 512, 512))).to(device)"
   ],
   "metadata": {
    "collapsed": false,
    "ExecuteTime": {
     "end_time": "2024-07-05T23:53:25.852521Z",
     "start_time": "2024-07-05T23:53:25.608954Z"
    }
   },
   "id": "2fcee7ab143e2a70",
   "execution_count": 4,
   "outputs": []
  },
  {
   "cell_type": "code",
   "source": [
    "%%timeit -r 5 -n 50\n",
    "transformer_encoder_net(data3)"
   ],
   "metadata": {
    "collapsed": false,
    "ExecuteTime": {
     "start_time": "2024-07-05T23:53:28.924077Z"
    }
   },
   "id": "395828e5ae3ee6c0",
   "execution_count": null,
   "outputs": []
  },
  {
   "cell_type": "code",
   "source": [
    "%%timeit -r 5 -n 50\n",
    "transformer_encoder(data3)"
   ],
   "metadata": {
    "collapsed": false
   },
   "id": "a753c9f1c37aee40",
   "execution_count": null,
   "outputs": []
  },
  {
   "cell_type": "code",
   "source": [
    "import itertools\n",
    "import numpy as np\n",
    "\n",
    "def relu(x):\n",
    "    return x * (x > 0)\n",
    "\n",
    "def elu(x, alpha=1.0):\n",
    "    return np.where(x > 0, x, alpha * (np.exp(x) - 1))\n",
    "\n",
    "def leaky_relu(x, alpha=0.1):\n",
    "    return np.where(x > 0, x, alpha * x)\n",
    "\n",
    "factors = np.array([1, 2, 5])\n",
    "num_iterations = 10000\n",
    "for d in np.concatenate((factors, factors * 10, factors * 100, factors * 1000, np.array([10_000]))):\n",
    "    sum_ = 0\n",
    "    for _ in range(num_iterations):\n",
    "        v1 = (np.random.rand(d) - 0.5) * 2\n",
    "        v2 = (np.random.rand(d) - 0.5) * 2\n",
    "        \n",
    "        v1 /= np.linalg.norm(v1)\n",
    "        v2 /= np.linalg.norm(v2)\n",
    "        \n",
    "        v1 = leaky_relu(v1)\n",
    "        v2 = leaky_relu(v2)\n",
    "        \n",
    "        sum_ += np.abs(np.inner(v1, v2))\n",
    "    \n",
    "    print(f'd={d:>5}: {sum_ / num_iterations}')"
   ],
   "metadata": {
    "collapsed": false,
    "ExecuteTime": {
     "end_time": "2024-07-11T14:37:27.132969Z",
     "start_time": "2024-07-11T14:37:20.469439Z"
    }
   },
   "id": "fee8afbe385584e4",
   "execution_count": 20,
   "outputs": []
  },
  {
   "cell_type": "code",
   "source": [
    "from src.networks.global_pooling import GlobalAveragePooling\n",
    "from src.networks.core.tensor_shape import TensorShape\n",
    "%load_ext autoreload\n",
    "%autoreload 2\n",
    "\n",
    "from src.networks.core.net import Net\n",
    "from src.networks.skip_nets.dense_skip_net import DenseSkipNet\n",
    "from torch import nn\n",
    "import torch\n",
    "import numpy as np\n",
    "\n",
    "\n",
    "    \n",
    "def make_dense_block(in_features: int, num_layers: int, growth_rate: int = 32):\n",
    "    return DenseSkipNet.from_layer_provider(\n",
    "        lambda layer_nr, is_last_layer, in_channels, out_channels:\n",
    "            Net.seq_as_net(\n",
    "                nn.BatchNorm2d(in_channels),\n",
    "                nn.ReLU(),\n",
    "                nn.Conv2d(in_channels, 4 * growth_rate, 1),\n",
    "                nn.BatchNorm2d(4 * growth_rate),\n",
    "                nn.ReLU(),\n",
    "                nn.Conv2d(4 * growth_rate, growth_rate, 3, padding='same')\n",
    "            ),\n",
    "        in_size=in_features,\n",
    "        out_sizes=[growth_rate] * num_layers,\n",
    "        feature_dim_index=1,\n",
    "    )\n",
    "\n",
    "def make_transition_layer(in_features: int):\n",
    "    return nn.Sequential(\n",
    "        nn.Conv2d(in_features, int(in_features / 2), 1),\n",
    "        nn.AvgPool2d(2, 2),\n",
    "    )\n",
    "\n",
    "dense_net_121 = Net.provider_seq_as_net(\n",
    "    3,\n",
    "    lambda in_f: nn.Conv2d(in_f, 64, 7, 2),\n",
    "    lambda in_f: nn.MaxPool2d(3, 2),\n",
    "    lambda in_f: make_dense_block(in_f, 6),\n",
    "    lambda in_f: make_transition_layer(in_f),\n",
    "    lambda in_f: make_dense_block(in_f, 12),\n",
    "    lambda in_f: make_transition_layer(in_f),\n",
    "    lambda in_f: make_dense_block(in_f, 24),\n",
    "    lambda in_f: make_transition_layer(in_f),\n",
    "    lambda in_f: make_dense_block(in_f, 16),\n",
    "    lambda in_f: GlobalAveragePooling((2, 3)),\n",
    "    lambda in_f: nn.Linear(in_f, 1000)\n",
    ")\n"
   ],
   "metadata": {
    "collapsed": false,
    "ExecuteTime": {
     "end_time": "2024-07-15T15:31:16.453011Z",
     "start_time": "2024-07-15T15:31:16.068139Z"
    }
   },
   "id": "610b336aab8028a7",
   "execution_count": 3,
   "outputs": []
  },
  {
   "cell_type": "markdown",
   "source": [],
   "metadata": {
    "collapsed": false
   },
   "id": "e9e4d76c618f7594"
  },
  {
   "cell_type": "code",
   "source": [
    "import sympy as sp\n",
    "expr = sp.Symbol('features') + 1\n",
    "\n"
   ],
   "metadata": {
    "collapsed": false,
    "ExecuteTime": {
     "end_time": "2024-07-14T21:36:28.769379Z",
     "start_time": "2024-07-14T21:36:28.710794Z"
    }
   },
   "id": "6d302bfb3f5f6b25",
   "execution_count": 30,
   "outputs": []
  },
  {
   "cell_type": "code",
   "source": [
    "tuple((1, 2))"
   ],
   "metadata": {
    "collapsed": false,
    "ExecuteTime": {
     "end_time": "2024-07-15T14:58:25.471858Z",
     "start_time": "2024-07-15T14:58:25.464276Z"
    }
   },
   "id": "a489cb0ab6ba2f5a",
   "execution_count": 1,
   "outputs": []
  },
  {
   "cell_type": "code",
   "source": [
    "import torch\n",
    "import numpy as np"
   ],
   "metadata": {
    "collapsed": false,
    "ExecuteTime": {
     "end_time": "2024-08-23T20:59:46.085099Z",
     "start_time": "2024-08-23T20:59:43.857177Z"
    }
   },
   "id": "a0f3b42a906982f0",
   "execution_count": 1,
   "outputs": []
  },
  {
   "cell_type": "code",
   "source": [
    "data = np.random.random((5000, 128, 255))"
   ],
   "metadata": {
    "collapsed": false,
    "ExecuteTime": {
     "end_time": "2024-08-23T20:59:47.112720Z",
     "start_time": "2024-08-23T20:59:46.086097Z"
    }
   },
   "id": "fd6b92e1c52e4cfe",
   "execution_count": 2,
   "outputs": []
  },
  {
   "cell_type": "code",
   "source": [
    "%%timeit\n",
    "\n",
    "torch_data = torch.tensor(data)\n",
    "results = []\n",
    "\n",
    "for i in range(0, 5000, 500):\n",
    "    result = torch_data[i:i+500].mean()\n",
    "    results.append(result)"
   ],
   "metadata": {
    "collapsed": false,
    "ExecuteTime": {
     "end_time": "2024-08-23T21:01:22.364063Z",
     "start_time": "2024-08-23T21:01:01.099721Z"
    }
   },
   "id": "3910fea46a825f63",
   "execution_count": 6,
   "outputs": []
  },
  {
   "cell_type": "code",
   "source": [
    "%%timeit\n",
    "\n",
    "torch_data = torch.tensor(data)\n",
    "results = []\n",
    "\n",
    "for i in range(0, 5000, 500):\n",
    "    result = torch.as_tensor(torch_data[i:i+500])\n",
    "    results.append(result)"
   ],
   "metadata": {
    "collapsed": false,
    "ExecuteTime": {
     "end_time": "2024-08-23T21:01:24.432411Z",
     "start_time": "2024-08-23T21:01:22.365060Z"
    }
   },
   "id": "e35fda398ab06e6a",
   "execution_count": 7,
   "outputs": []
  },
  {
   "cell_type": "code",
   "source": [
    "%%timeit\n",
    "\n",
    "results = []\n",
    "\n",
    "for i in range(0, 5000, 500):\n",
    "    result = torch.tensor(data[i:i+500], device='cuda')\n",
    "    results.append(result)"
   ],
   "metadata": {
    "collapsed": false,
    "ExecuteTime": {
     "end_time": "2024-08-23T21:14:20.942675Z",
     "start_time": "2024-08-23T21:14:19.417696Z"
    }
   },
   "id": "bcedfc01858213f8",
   "execution_count": 17,
   "outputs": []
  },
  {
   "cell_type": "code",
   "source": [
    "\n",
    "torch_data = torch.tensor(data)\n",
    "\n"
   ],
   "metadata": {
    "collapsed": false,
    "ExecuteTime": {
     "end_time": "2024-08-23T21:09:07.168595Z",
     "start_time": "2024-08-23T21:09:07.006031Z"
    }
   },
   "id": "65b739364a9db817",
   "execution_count": 8,
   "outputs": []
  },
  {
   "cell_type": "code",
   "source": [
    "%%timeit\n",
    "\n",
    "results = []\n",
    "\n",
    "for i in range(0, 5000, 500):\n",
    "    result = torch_data[i:i+500].to('cuda').mean()\n",
    "    results.append(result)"
   ],
   "metadata": {
    "collapsed": false,
    "ExecuteTime": {
     "end_time": "2024-08-23T21:10:02.616972Z",
     "start_time": "2024-08-23T21:10:00.937085Z"
    }
   },
   "id": "1bab2d2703ac5a59",
   "execution_count": 10,
   "outputs": []
  },
  {
   "cell_type": "code",
   "source": [
    "from stable_baselines3.common.vec_env import SubprocVecEnv\n",
    "import gymnasium as gym\n",
    "\n",
    "from stable_baselines3 import PPO\n",
    "\n",
    "env = SubprocVecEnv([lambda: gym.make(\"HalfCheetah-v4\", render_mode=None, **{'forward_reward_weight': 1.25, 'ctrl_cost_weight': 0.001 })] * 16)\n",
    "\n",
    "model = PPO(\"MlpPolicy\", env, verbose=10, target_kl=0.025, batch_size=500, n_steps=2500)\n",
    "\n",
    "import cProfile\n",
    "\n",
    "pr = cProfile.Profile()\n",
    "pr.enable()\n",
    "model.learn(total_timesteps=10_000 * 16)\n",
    "pr.disable()\n",
    "pr.dump_stats('profile_stats_sb3.pstat')"
   ],
   "metadata": {
    "collapsed": false,
    "ExecuteTime": {
     "end_time": "2024-08-26T15:53:53.547753Z",
     "start_time": "2024-08-26T15:53:03.100735Z"
    }
   },
   "id": "cafc1b1cfd538e72",
   "execution_count": 8,
   "outputs": []
  },
  {
   "cell_type": "code",
   "source": [
    "from src.module_analysis import count_parameters\n",
    "\n",
    "count_parameters(model.policy)"
   ],
   "metadata": {
    "collapsed": false,
    "ExecuteTime": {
     "end_time": "2024-08-26T15:48:38.639918Z",
     "start_time": "2024-08-26T15:48:38.636159Z"
    }
   },
   "id": "ff6d13d96bb2339a",
   "execution_count": 6,
   "outputs": []
  },
  {
   "cell_type": "code",
   "source": [
    "from gymnasium.vector import AsyncVectorEnv, SyncVectorEnv\n",
    "%load_ext autoreload\n",
    "%autoreload 2\n",
    "\n",
    "import numpy as np\n",
    "from src.reinforcement_learning.gym.envs.test_env import TestEnv\n",
    "\n",
    "\n",
    "env_fns = [\n",
    "    lambda: TestEnv(1, False, False, 2),\n",
    "    lambda: TestEnv(1, False, False, 3),\n",
    "    lambda: TestEnv(1, False, False, 5),\n",
    "    lambda: TestEnv(1, False, False, 7),\n",
    "    # lambda: TestEnv(1, False, True, 3),\n",
    "    # lambda: TestEnv(1, False, True, 3),\n",
    "    # lambda: TestEnv(1, False, True, 3),\n",
    "    # lambda: TestEnv(1, False, True, 3),\n",
    "]\n",
    "env = SyncVectorEnv(env_fns)\n",
    "\n",
    "# print(env.env_fns[0]().env.episode_length)\n",
    "\n",
    "env.reset()\n",
    "for _ in range(31):\n",
    "    obs, reward, term, trunc, info = env.step(np.zeros((len(env_fns), 2)))\n",
    "    print(obs)\n",
    "    print(np.logical_or(term, trunc))\n",
    "    print(info)\n",
    "    print()\n"
   ],
   "metadata": {
    "collapsed": false,
    "ExecuteTime": {
     "end_time": "2024-09-19T13:58:01.726046Z",
     "start_time": "2024-09-19T13:58:00.540687Z"
    }
   },
   "id": "9953628e12413f3d",
   "execution_count": 1,
   "outputs": [
    {
     "name": "stdout",
     "output_type": "stream",
     "text": [
      "pygame 2.5.2 (SDL 2.28.3, Python 3.11.7)\n",
      "Hello from the pygame community. https://www.pygame.org/contribute.html\n",
      "[[1.]\n",
      " [1.]\n",
      " [1.]\n",
      " [1.]]\n",
      "[False False False False]\n",
      "{}\n",
      "\n",
      "[[0.]\n",
      " [2.]\n",
      " [2.]\n",
      " [2.]]\n",
      "[ True False False False]\n",
      "{'final_observation': array([array([2.]), None, None, None], dtype=object), '_final_observation': array([ True, False, False, False]), 'final_info': array([{}, None, None, None], dtype=object), '_final_info': array([ True, False, False, False])}\n",
      "\n",
      "[[1.]\n",
      " [0.]\n",
      " [3.]\n",
      " [3.]]\n",
      "[False  True False False]\n",
      "{'final_observation': array([None, array([3.]), None, None], dtype=object), '_final_observation': array([False,  True, False, False]), 'final_info': array([None, {}, None, None], dtype=object), '_final_info': array([False,  True, False, False])}\n",
      "\n",
      "[[0.]\n",
      " [1.]\n",
      " [4.]\n",
      " [4.]]\n",
      "[ True False False False]\n",
      "{'final_observation': array([array([2.]), None, None, None], dtype=object), '_final_observation': array([ True, False, False, False]), 'final_info': array([{}, None, None, None], dtype=object), '_final_info': array([ True, False, False, False])}\n",
      "\n",
      "[[1.]\n",
      " [2.]\n",
      " [0.]\n",
      " [5.]]\n",
      "[False False  True False]\n",
      "{'final_observation': array([None, None, array([5.]), None], dtype=object), '_final_observation': array([False, False,  True, False]), 'final_info': array([None, None, {}, None], dtype=object), '_final_info': array([False, False,  True, False])}\n",
      "\n",
      "[[0.]\n",
      " [0.]\n",
      " [1.]\n",
      " [6.]]\n",
      "[ True  True False False]\n",
      "{'final_observation': array([array([2.]), array([3.]), None, None], dtype=object), '_final_observation': array([ True,  True, False, False]), 'final_info': array([{}, {}, None, None], dtype=object), '_final_info': array([ True,  True, False, False])}\n",
      "\n",
      "[[1.]\n",
      " [1.]\n",
      " [2.]\n",
      " [0.]]\n",
      "[False False False  True]\n",
      "{'final_observation': array([None, None, None, array([7.])], dtype=object), '_final_observation': array([False, False, False,  True]), 'final_info': array([None, None, None, {}], dtype=object), '_final_info': array([False, False, False,  True])}\n",
      "\n",
      "[[0.]\n",
      " [2.]\n",
      " [3.]\n",
      " [1.]]\n",
      "[ True False False False]\n",
      "{'final_observation': array([array([2.]), None, None, None], dtype=object), '_final_observation': array([ True, False, False, False]), 'final_info': array([{}, None, None, None], dtype=object), '_final_info': array([ True, False, False, False])}\n",
      "\n",
      "[[1.]\n",
      " [0.]\n",
      " [4.]\n",
      " [2.]]\n",
      "[False  True False False]\n",
      "{'final_observation': array([None, array([3.]), None, None], dtype=object), '_final_observation': array([False,  True, False, False]), 'final_info': array([None, {}, None, None], dtype=object), '_final_info': array([False,  True, False, False])}\n",
      "\n",
      "[[0.]\n",
      " [1.]\n",
      " [0.]\n",
      " [3.]]\n",
      "[ True False  True False]\n",
      "{'final_observation': array([array([2.]), None, array([5.]), None], dtype=object), '_final_observation': array([ True, False,  True, False]), 'final_info': array([{}, None, {}, None], dtype=object), '_final_info': array([ True, False,  True, False])}\n",
      "\n",
      "[[1.]\n",
      " [2.]\n",
      " [1.]\n",
      " [4.]]\n",
      "[False False False False]\n",
      "{}\n",
      "\n",
      "[[0.]\n",
      " [0.]\n",
      " [2.]\n",
      " [5.]]\n",
      "[ True  True False False]\n",
      "{'final_observation': array([array([2.]), array([3.]), None, None], dtype=object), '_final_observation': array([ True,  True, False, False]), 'final_info': array([{}, {}, None, None], dtype=object), '_final_info': array([ True,  True, False, False])}\n",
      "\n",
      "[[1.]\n",
      " [1.]\n",
      " [3.]\n",
      " [6.]]\n",
      "[False False False False]\n",
      "{}\n",
      "\n",
      "[[0.]\n",
      " [2.]\n",
      " [4.]\n",
      " [0.]]\n",
      "[ True False False  True]\n",
      "{'final_observation': array([array([2.]), None, None, array([7.])], dtype=object), '_final_observation': array([ True, False, False,  True]), 'final_info': array([{}, None, None, {}], dtype=object), '_final_info': array([ True, False, False,  True])}\n",
      "\n",
      "[[1.]\n",
      " [0.]\n",
      " [0.]\n",
      " [1.]]\n",
      "[False  True  True False]\n",
      "{'final_observation': array([None, array([3.]), array([5.]), None], dtype=object), '_final_observation': array([False,  True,  True, False]), 'final_info': array([None, {}, {}, None], dtype=object), '_final_info': array([False,  True,  True, False])}\n",
      "\n",
      "[[0.]\n",
      " [1.]\n",
      " [1.]\n",
      " [2.]]\n",
      "[ True False False False]\n",
      "{'final_observation': array([array([2.]), None, None, None], dtype=object), '_final_observation': array([ True, False, False, False]), 'final_info': array([{}, None, None, None], dtype=object), '_final_info': array([ True, False, False, False])}\n",
      "\n",
      "[[1.]\n",
      " [2.]\n",
      " [2.]\n",
      " [3.]]\n",
      "[False False False False]\n",
      "{}\n",
      "\n",
      "[[0.]\n",
      " [0.]\n",
      " [3.]\n",
      " [4.]]\n",
      "[ True  True False False]\n",
      "{'final_observation': array([array([2.]), array([3.]), None, None], dtype=object), '_final_observation': array([ True,  True, False, False]), 'final_info': array([{}, {}, None, None], dtype=object), '_final_info': array([ True,  True, False, False])}\n",
      "\n",
      "[[1.]\n",
      " [1.]\n",
      " [4.]\n",
      " [5.]]\n",
      "[False False False False]\n",
      "{}\n",
      "\n",
      "[[0.]\n",
      " [2.]\n",
      " [0.]\n",
      " [6.]]\n",
      "[ True False  True False]\n",
      "{'final_observation': array([array([2.]), None, array([5.]), None], dtype=object), '_final_observation': array([ True, False,  True, False]), 'final_info': array([{}, None, {}, None], dtype=object), '_final_info': array([ True, False,  True, False])}\n",
      "\n",
      "[[1.]\n",
      " [0.]\n",
      " [1.]\n",
      " [0.]]\n",
      "[False  True False  True]\n",
      "{'final_observation': array([None, array([3.]), None, array([7.])], dtype=object), '_final_observation': array([False,  True, False,  True]), 'final_info': array([None, {}, None, {}], dtype=object), '_final_info': array([False,  True, False,  True])}\n",
      "\n",
      "[[0.]\n",
      " [1.]\n",
      " [2.]\n",
      " [1.]]\n",
      "[ True False False False]\n",
      "{'final_observation': array([array([2.]), None, None, None], dtype=object), '_final_observation': array([ True, False, False, False]), 'final_info': array([{}, None, None, None], dtype=object), '_final_info': array([ True, False, False, False])}\n",
      "\n",
      "[[1.]\n",
      " [2.]\n",
      " [3.]\n",
      " [2.]]\n",
      "[False False False False]\n",
      "{}\n",
      "\n",
      "[[0.]\n",
      " [0.]\n",
      " [4.]\n",
      " [3.]]\n",
      "[ True  True False False]\n",
      "{'final_observation': array([array([2.]), array([3.]), None, None], dtype=object), '_final_observation': array([ True,  True, False, False]), 'final_info': array([{}, {}, None, None], dtype=object), '_final_info': array([ True,  True, False, False])}\n",
      "\n",
      "[[1.]\n",
      " [1.]\n",
      " [0.]\n",
      " [4.]]\n",
      "[False False  True False]\n",
      "{'final_observation': array([None, None, array([5.]), None], dtype=object), '_final_observation': array([False, False,  True, False]), 'final_info': array([None, None, {}, None], dtype=object), '_final_info': array([False, False,  True, False])}\n",
      "\n",
      "[[0.]\n",
      " [2.]\n",
      " [1.]\n",
      " [5.]]\n",
      "[ True False False False]\n",
      "{'final_observation': array([array([2.]), None, None, None], dtype=object), '_final_observation': array([ True, False, False, False]), 'final_info': array([{}, None, None, None], dtype=object), '_final_info': array([ True, False, False, False])}\n",
      "\n",
      "[[1.]\n",
      " [0.]\n",
      " [2.]\n",
      " [6.]]\n",
      "[False  True False False]\n",
      "{'final_observation': array([None, array([3.]), None, None], dtype=object), '_final_observation': array([False,  True, False, False]), 'final_info': array([None, {}, None, None], dtype=object), '_final_info': array([False,  True, False, False])}\n",
      "\n",
      "[[0.]\n",
      " [1.]\n",
      " [3.]\n",
      " [0.]]\n",
      "[ True False False  True]\n",
      "{'final_observation': array([array([2.]), None, None, array([7.])], dtype=object), '_final_observation': array([ True, False, False,  True]), 'final_info': array([{}, None, None, {}], dtype=object), '_final_info': array([ True, False, False,  True])}\n",
      "\n",
      "[[1.]\n",
      " [2.]\n",
      " [4.]\n",
      " [1.]]\n",
      "[False False False False]\n",
      "{}\n",
      "\n",
      "[[0.]\n",
      " [0.]\n",
      " [0.]\n",
      " [2.]]\n",
      "[ True  True  True False]\n",
      "{'final_observation': array([array([2.]), array([3.]), array([5.]), None], dtype=object), '_final_observation': array([ True,  True,  True, False]), 'final_info': array([{}, {}, {}, None], dtype=object), '_final_info': array([ True,  True,  True, False])}\n",
      "\n",
      "[[1.]\n",
      " [1.]\n",
      " [1.]\n",
      " [3.]]\n",
      "[False False False False]\n",
      "{}\n"
     ]
    }
   ]
  },
  {
   "cell_type": "code",
   "outputs": [
    {
     "name": "stdout",
     "output_type": "stream",
     "text": [
      "[[[0.]\n",
      "  [0.]\n",
      "  [0.]\n",
      "  [0.]]\n",
      "\n",
      " [[1.]\n",
      "  [1.]\n",
      "  [1.]\n",
      "  [1.]]\n",
      "\n",
      " [[0.]\n",
      "  [2.]\n",
      "  [2.]\n",
      "  [2.]]\n",
      "\n",
      " [[1.]\n",
      "  [0.]\n",
      "  [3.]\n",
      "  [3.]]\n",
      "\n",
      " [[0.]\n",
      "  [1.]\n",
      "  [4.]\n",
      "  [4.]]\n",
      "\n",
      " [[1.]\n",
      "  [2.]\n",
      "  [0.]\n",
      "  [5.]]\n",
      "\n",
      " [[0.]\n",
      "  [0.]\n",
      "  [1.]\n",
      "  [6.]]\n",
      "\n",
      " [[1.]\n",
      "  [1.]\n",
      "  [2.]\n",
      "  [0.]]\n",
      "\n",
      " [[0.]\n",
      "  [2.]\n",
      "  [3.]\n",
      "  [1.]]\n",
      "\n",
      " [[1.]\n",
      "  [0.]\n",
      "  [4.]\n",
      "  [2.]]]\n"
     ]
    },
    {
     "data": {
      "text/plain": "<__main__.TestOffPolicyAlgo at 0x1bc07d817d0>"
     },
     "execution_count": 3,
     "metadata": {},
     "output_type": "execute_result"
    }
   ],
   "source": [
    "from src.reinforcement_learning.core.policies.actor_policy import ActorPolicy\n",
    "from src.reinforcement_learning.core.action_noise import NormalActionNoise\n",
    "from src.reinforcement_learning.algorithms.base.logging_config import LoggingConfig\n",
    "from src.reinforcement_learning.core.callback import Callback\n",
    "from src.reinforcement_learning.core.buffers.replay.replay_buffer import ReplayBuffer\n",
    "from src.reinforcement_learning.core.action_selectors.diag_gaussian_action_selector import DiagGaussianActionSelector\n",
    "from src.reinforcement_learning.core.policies.components.actor import Actor\n",
    "from src.reinforcement_learning.core.policies.base_policy import BasePolicy\n",
    "from src.reinforcement_learning.algorithms.base.off_policy_algorithm import OffPolicyAlgorithm\n",
    "from torch import nn\n",
    "import torch\n",
    "\n",
    "\n",
    "class TestOffPolicyAlgo(OffPolicyAlgorithm):\n",
    "    def optimize(self, last_obs: np.ndarray, last_episode_starts: np.ndarray, info: dict) -> None:\n",
    "        print(self.buffer.observations)\n",
    "\n",
    "\n",
    "algo = TestOffPolicyAlgo(\n",
    "    env=env,\n",
    "    policy=ActorPolicy(Actor(nn.Linear(1, 8), DiagGaussianActionSelector(8, 2, 0.0001, False))),\n",
    "    buffer=ReplayBuffer.for_env(env, 10, 'cuda', optimize_memory_usage=False),\n",
    "    gamma=0.99,\n",
    "    tau=0.1,\n",
    "    rollout_steps=10,\n",
    "    gradient_steps=1,\n",
    "    optimization_batch_size=256,\n",
    "    action_noise=NormalActionNoise(np.array([[-5, 5], [5, -5], [0, 0], [-0.5, 0.5]]), np.array([0.1])),\n",
    "    warmup_steps=5,\n",
    "    learning_starts=0,\n",
    "    sde_noise_sample_freq=None,\n",
    "    callback=Callback(),\n",
    "    logging_config=LoggingConfig(),\n",
    "    torch_device='cuda',\n",
    "    torch_dtype=torch.float32,\n",
    ")\n",
    "algo.learn(10)"
   ],
   "metadata": {
    "collapsed": false,
    "ExecuteTime": {
     "end_time": "2024-09-19T13:59:11.920346Z",
     "start_time": "2024-09-19T13:59:11.705212Z"
    }
   },
   "id": "99abea17d47a8539",
   "execution_count": 3
  },
  {
   "cell_type": "code",
   "outputs": [
    {
     "data": {
      "text/plain": "array([[0., 1., 0., 1.],\n       [1., 2., 0., 1.],\n       [2., 3., 1., 5.],\n       [0., 1., 0., 1.],\n       [1., 2., 0., 1.],\n       [2., 3., 1., 5.],\n       [0., 1., 0., 1.],\n       [1., 2., 0., 1.],\n       [2., 3., 1., 5.],\n       [0., 1., 0., 1.]], dtype=float32)"
     },
     "execution_count": 10,
     "metadata": {},
     "output_type": "execute_result"
    }
   ],
   "source": [
    "np.concatenate((\n",
    "    algo.buffer.observations, \n",
    "    algo.buffer.next_observations, \n",
    "    algo.buffer.dones[:, :, np.newaxis],\n",
    "    algo.buffer.rewards[:, :, np.newaxis]\n",
    "), axis=-1)[:, 1, :]"
   ],
   "metadata": {
    "collapsed": false,
    "ExecuteTime": {
     "end_time": "2024-09-19T14:06:27.580942Z",
     "start_time": "2024-09-19T14:06:27.489992Z"
    }
   },
   "id": "1af12b6ce205d8a7",
   "execution_count": 10
  },
  {
   "cell_type": "code",
   "outputs": [
    {
     "data": {
      "text/plain": "(40, 4)"
     },
     "execution_count": 7,
     "metadata": {},
     "output_type": "execute_result"
    }
   ],
   "source": [
    "samples = algo.buffer.sample(40)\n",
    "\n",
    "np.concatenate((\n",
    "    samples.observations.cpu().numpy(), \n",
    "    # samples.actions.cpu().numpy(),\n",
    "    samples.next_observations.cpu().numpy(), \n",
    "    samples.dones.cpu().numpy(),\n",
    "    samples.rewards.cpu().numpy()\n",
    "), axis=-1)"
   ],
   "metadata": {
    "collapsed": false,
    "ExecuteTime": {
     "end_time": "2024-09-19T14:00:10.459137Z",
     "start_time": "2024-09-19T14:00:10.367940Z"
    }
   },
   "id": "3fbce7251c73ea82",
   "execution_count": 7
  },
  {
   "cell_type": "code",
   "outputs": [
    {
     "name": "stdout",
     "output_type": "stream",
     "text": [
      "[2. 0. 0. 0.]\n",
      "[[1. 1. 1. 1.]\n",
      " [0. 3. 0. 0.]\n",
      " [1. 1. 1. 1.]]\n"
     ]
    }
   ],
   "source": [
    "a = np.zeros((4,))\n",
    "b = np.ones((3, 4))\n",
    "\n",
    "b[1] = a\n",
    "\n",
    "a[0] = 2\n",
    "b[1, 1] = 3 \n",
    "\n",
    "print(a)\n",
    "print(b)"
   ],
   "metadata": {
    "collapsed": false,
    "ExecuteTime": {
     "end_time": "2024-09-09T22:11:32.839799Z",
     "start_time": "2024-09-09T22:11:32.748825Z"
    }
   },
   "id": "9da07e03064c2712",
   "execution_count": 48
  },
  {
   "cell_type": "code",
   "outputs": [
    {
     "name": "stdout",
     "output_type": "stream",
     "text": [
      "(32,)\n"
     ]
    }
   ],
   "source": [
    "\n",
    "import numpy as np\n",
    "\n",
    "bool_arr = np.array([1, 0, 0, 1] + [0] * (32 - 5) + [1], dtype=bool)\n",
    "print(bool_arr.shape)"
   ],
   "metadata": {
    "collapsed": false,
    "ExecuteTime": {
     "end_time": "2024-09-13T15:57:01.439292Z",
     "start_time": "2024-09-13T15:57:01.435701Z"
    }
   },
   "id": "763335df698d7a0",
   "execution_count": 35
  },
  {
   "cell_type": "code",
   "outputs": [
    {
     "name": "stdout",
     "output_type": "stream",
     "text": [
      "1.81 µs ± 4.63 ns per loop (mean ± std. dev. of 7 runs, 1,000,000 loops each)\n"
     ]
    }
   ],
   "source": [
    "%%timeit\n",
    "s = 0\n",
    "\n",
    "for i, b in enumerate(bool_arr):\n",
    "    if b:\n",
    "        s += i"
   ],
   "metadata": {
    "collapsed": false,
    "ExecuteTime": {
     "end_time": "2024-09-13T15:57:16.360641Z",
     "start_time": "2024-09-13T15:57:01.555043Z"
    }
   },
   "id": "3fcb32dddf37da80",
   "execution_count": 36
  },
  {
   "cell_type": "code",
   "outputs": [
    {
     "name": "stdout",
     "output_type": "stream",
     "text": [
      "1.8 µs ± 9.28 ns per loop (mean ± std. dev. of 7 runs, 1,000,000 loops each)\n"
     ]
    }
   ],
   "source": [
    "%%timeit\n",
    "\n",
    "s = 0\n",
    "\n",
    "for i in np.where(bool_arr)[0]:\n",
    "    s += i"
   ],
   "metadata": {
    "collapsed": false,
    "ExecuteTime": {
     "end_time": "2024-09-13T15:57:30.947812Z",
     "start_time": "2024-09-13T15:57:16.361642Z"
    }
   },
   "id": "44acc9dfe6e31be0",
   "execution_count": 37
  },
  {
   "cell_type": "code",
   "outputs": [
    {
     "data": {
      "text/plain": "(array([], dtype=int64),)"
     },
     "execution_count": 41,
     "metadata": {},
     "output_type": "execute_result"
    }
   ],
   "source": [
    "np.where(bool_arr[10:20])"
   ],
   "metadata": {
    "collapsed": false,
    "ExecuteTime": {
     "end_time": "2024-09-13T15:59:57.335073Z",
     "start_time": "2024-09-13T15:59:57.331352Z"
    }
   },
   "id": "ae89dfceceac491e",
   "execution_count": 41
  },
  {
   "cell_type": "code",
   "outputs": [],
   "source": [],
   "metadata": {
    "collapsed": false,
    "ExecuteTime": {
     "end_time": "2024-09-19T20:48:21.984423Z",
     "start_time": "2024-09-19T20:48:21.981668Z"
    }
   },
   "id": "361d9f4836d8ea3d",
   "execution_count": 10
  },
  {
   "cell_type": "code",
   "outputs": [
    {
     "name": "stdout",
     "output_type": "stream",
     "text": [
      "Using cuda device\n",
      "---------------------------------\n",
      "| rollout/           |          |\n",
      "|    ep_len_mean     | 1e+03    |\n",
      "|    ep_rew_mean     | -283     |\n",
      "| time/              |          |\n",
      "|    episodes        | 16       |\n",
      "|    fps             | 1275     |\n",
      "|    time_elapsed    | 12       |\n",
      "|    total_timesteps | 16000    |\n",
      "| train/             |          |\n",
      "|    actor_loss      | -17.6    |\n",
      "|    critic_loss     | 0.915    |\n",
      "|    ent_coef        | 0.742    |\n",
      "|    ent_coef_loss   | -3.01    |\n",
      "|    learning_rate   | 0.0003   |\n",
      "|    n_updates       | 993      |\n",
      "---------------------------------\n",
      "---------------------------------\n",
      "| rollout/           |          |\n",
      "|    ep_len_mean     | 1e+03    |\n",
      "|    ep_rew_mean     | -262     |\n",
      "| time/              |          |\n",
      "|    episodes        | 32       |\n",
      "|    fps             | 1272     |\n",
      "|    time_elapsed    | 25       |\n",
      "|    total_timesteps | 32000    |\n",
      "| train/             |          |\n",
      "|    actor_loss      | -26      |\n",
      "|    critic_loss     | 1.81     |\n",
      "|    ent_coef        | 0.551    |\n",
      "|    ent_coef_loss   | -5.86    |\n",
      "|    learning_rate   | 0.0003   |\n",
      "|    n_updates       | 1993     |\n",
      "---------------------------------\n",
      "---------------------------------\n",
      "| rollout/           |          |\n",
      "|    ep_len_mean     | 1e+03    |\n",
      "|    ep_rew_mean     | -245     |\n",
      "| time/              |          |\n",
      "|    episodes        | 48       |\n",
      "|    fps             | 1281     |\n",
      "|    time_elapsed    | 37       |\n",
      "|    total_timesteps | 48000    |\n",
      "| train/             |          |\n",
      "|    actor_loss      | -30.7    |\n",
      "|    critic_loss     | 2.02     |\n",
      "|    ent_coef        | 0.408    |\n",
      "|    ent_coef_loss   | -8.88    |\n",
      "|    learning_rate   | 0.0003   |\n",
      "|    n_updates       | 2993     |\n",
      "---------------------------------\n",
      "---------------------------------\n",
      "| rollout/           |          |\n",
      "|    ep_len_mean     | 1e+03    |\n",
      "|    ep_rew_mean     | -235     |\n",
      "| time/              |          |\n",
      "|    episodes        | 64       |\n",
      "|    fps             | 1282     |\n",
      "|    time_elapsed    | 49       |\n",
      "|    total_timesteps | 64000    |\n",
      "| train/             |          |\n",
      "|    actor_loss      | -33.2    |\n",
      "|    critic_loss     | 1.77     |\n",
      "|    ent_coef        | 0.303    |\n",
      "|    ent_coef_loss   | -11.8    |\n",
      "|    learning_rate   | 0.0003   |\n",
      "|    n_updates       | 3993     |\n",
      "---------------------------------\n",
      "---------------------------------\n",
      "| rollout/           |          |\n",
      "|    ep_len_mean     | 1e+03    |\n",
      "|    ep_rew_mean     | -233     |\n",
      "| time/              |          |\n",
      "|    episodes        | 80       |\n",
      "|    fps             | 1293     |\n",
      "|    time_elapsed    | 61       |\n",
      "|    total_timesteps | 80000    |\n",
      "| train/             |          |\n",
      "|    actor_loss      | -34.6    |\n",
      "|    critic_loss     | 1.37     |\n",
      "|    ent_coef        | 0.225    |\n",
      "|    ent_coef_loss   | -14.2    |\n",
      "|    learning_rate   | 0.0003   |\n",
      "|    n_updates       | 4993     |\n",
      "---------------------------------\n",
      "---------------------------------\n",
      "| rollout/           |          |\n",
      "|    ep_len_mean     | 1e+03    |\n",
      "|    ep_rew_mean     | -231     |\n",
      "| time/              |          |\n",
      "|    episodes        | 96       |\n",
      "|    fps             | 1293     |\n",
      "|    time_elapsed    | 74       |\n",
      "|    total_timesteps | 96000    |\n",
      "| train/             |          |\n",
      "|    actor_loss      | -34.3    |\n",
      "|    critic_loss     | 1.27     |\n",
      "|    ent_coef        | 0.168    |\n",
      "|    ent_coef_loss   | -16.5    |\n",
      "|    learning_rate   | 0.0003   |\n",
      "|    n_updates       | 5993     |\n",
      "---------------------------------\n",
      "---------------------------------\n",
      "| rollout/           |          |\n",
      "|    ep_len_mean     | 1e+03    |\n",
      "|    ep_rew_mean     | -215     |\n",
      "| time/              |          |\n",
      "|    episodes        | 112      |\n",
      "|    fps             | 1292     |\n",
      "|    time_elapsed    | 86       |\n",
      "|    total_timesteps | 112000   |\n",
      "| train/             |          |\n",
      "|    actor_loss      | -33.5    |\n",
      "|    critic_loss     | 1.17     |\n",
      "|    ent_coef        | 0.126    |\n",
      "|    ent_coef_loss   | -18.1    |\n",
      "|    learning_rate   | 0.0003   |\n",
      "|    n_updates       | 6993     |\n",
      "---------------------------------\n",
      "---------------------------------\n",
      "| rollout/           |          |\n",
      "|    ep_len_mean     | 1e+03    |\n",
      "|    ep_rew_mean     | -193     |\n",
      "| time/              |          |\n",
      "|    episodes        | 128      |\n",
      "|    fps             | 1296     |\n",
      "|    time_elapsed    | 98       |\n",
      "|    total_timesteps | 128000   |\n",
      "| train/             |          |\n",
      "|    actor_loss      | -32.6    |\n",
      "|    critic_loss     | 1.28     |\n",
      "|    ent_coef        | 0.0946   |\n",
      "|    ent_coef_loss   | -18.9    |\n",
      "|    learning_rate   | 0.0003   |\n",
      "|    n_updates       | 7993     |\n",
      "---------------------------------\n",
      "---------------------------------\n",
      "| rollout/           |          |\n",
      "|    ep_len_mean     | 1e+03    |\n",
      "|    ep_rew_mean     | -173     |\n",
      "| time/              |          |\n",
      "|    episodes        | 144      |\n",
      "|    fps             | 1298     |\n",
      "|    time_elapsed    | 110      |\n",
      "|    total_timesteps | 144000   |\n",
      "| train/             |          |\n",
      "|    actor_loss      | -31.6    |\n",
      "|    critic_loss     | 1.03     |\n",
      "|    ent_coef        | 0.0712   |\n",
      "|    ent_coef_loss   | -22.2    |\n",
      "|    learning_rate   | 0.0003   |\n",
      "|    n_updates       | 8993     |\n",
      "---------------------------------\n",
      "---------------------------------\n",
      "| rollout/           |          |\n",
      "|    ep_len_mean     | 1e+03    |\n",
      "|    ep_rew_mean     | -147     |\n",
      "| time/              |          |\n",
      "|    episodes        | 160      |\n",
      "|    fps             | 1300     |\n",
      "|    time_elapsed    | 122      |\n",
      "|    total_timesteps | 160000   |\n",
      "| train/             |          |\n",
      "|    actor_loss      | -30.4    |\n",
      "|    critic_loss     | 0.976    |\n",
      "|    ent_coef        | 0.0538   |\n",
      "|    ent_coef_loss   | -20.7    |\n",
      "|    learning_rate   | 0.0003   |\n",
      "|    n_updates       | 9993     |\n",
      "---------------------------------\n",
      "---------------------------------\n",
      "| rollout/           |          |\n",
      "|    ep_len_mean     | 1e+03    |\n",
      "|    ep_rew_mean     | -99.5    |\n",
      "| time/              |          |\n",
      "|    episodes        | 176      |\n",
      "|    fps             | 1301     |\n",
      "|    time_elapsed    | 135      |\n",
      "|    total_timesteps | 176000   |\n",
      "| train/             |          |\n",
      "|    actor_loss      | -28.4    |\n",
      "|    critic_loss     | 1.18     |\n",
      "|    ent_coef        | 0.0407   |\n",
      "|    ent_coef_loss   | -21.6    |\n",
      "|    learning_rate   | 0.0003   |\n",
      "|    n_updates       | 10993    |\n",
      "---------------------------------\n"
     ]
    },
    {
     "ename": "KeyboardInterrupt",
     "evalue": "",
     "output_type": "error",
     "traceback": [
      "\u001B[1;31m---------------------------------------------------------------------------\u001B[0m",
      "\u001B[1;31mKeyboardInterrupt\u001B[0m                         Traceback (most recent call last)",
      "Cell \u001B[1;32mIn[5], line 9\u001B[0m\n\u001B[0;32m      6\u001B[0m env \u001B[38;5;241m=\u001B[39m make_vec_env(\u001B[38;5;124m\"\u001B[39m\u001B[38;5;124mHalfCheetah-v4\u001B[39m\u001B[38;5;124m\"\u001B[39m, n_envs\u001B[38;5;241m=\u001B[39m\u001B[38;5;241m16\u001B[39m)\n\u001B[0;32m      8\u001B[0m model \u001B[38;5;241m=\u001B[39m SAC(\u001B[38;5;124m\"\u001B[39m\u001B[38;5;124mMlpPolicy\u001B[39m\u001B[38;5;124m\"\u001B[39m, env, verbose\u001B[38;5;241m=\u001B[39m\u001B[38;5;241m1\u001B[39m)\n\u001B[1;32m----> 9\u001B[0m \u001B[43mmodel\u001B[49m\u001B[38;5;241;43m.\u001B[39;49m\u001B[43mlearn\u001B[49m\u001B[43m(\u001B[49m\u001B[43mtotal_timesteps\u001B[49m\u001B[38;5;241;43m=\u001B[39;49m\u001B[38;5;241;43m1_000_000\u001B[39;49m\u001B[43m,\u001B[49m\u001B[43m \u001B[49m\u001B[43mlog_interval\u001B[49m\u001B[38;5;241;43m=\u001B[39;49m\u001B[38;5;241;43m16\u001B[39;49m\u001B[43m)\u001B[49m\n",
      "File \u001B[1;32mC:\\Program Files\\Python311\\Lib\\site-packages\\stable_baselines3\\sac\\sac.py:307\u001B[0m, in \u001B[0;36mSAC.learn\u001B[1;34m(self, total_timesteps, callback, log_interval, tb_log_name, reset_num_timesteps, progress_bar)\u001B[0m\n\u001B[0;32m    298\u001B[0m \u001B[38;5;28;01mdef\u001B[39;00m \u001B[38;5;21mlearn\u001B[39m(\n\u001B[0;32m    299\u001B[0m     \u001B[38;5;28mself\u001B[39m: SelfSAC,\n\u001B[0;32m    300\u001B[0m     total_timesteps: \u001B[38;5;28mint\u001B[39m,\n\u001B[1;32m   (...)\u001B[0m\n\u001B[0;32m    305\u001B[0m     progress_bar: \u001B[38;5;28mbool\u001B[39m \u001B[38;5;241m=\u001B[39m \u001B[38;5;28;01mFalse\u001B[39;00m,\n\u001B[0;32m    306\u001B[0m ) \u001B[38;5;241m-\u001B[39m\u001B[38;5;241m>\u001B[39m SelfSAC:\n\u001B[1;32m--> 307\u001B[0m     \u001B[38;5;28;01mreturn\u001B[39;00m \u001B[38;5;28;43msuper\u001B[39;49m\u001B[43m(\u001B[49m\u001B[43m)\u001B[49m\u001B[38;5;241;43m.\u001B[39;49m\u001B[43mlearn\u001B[49m\u001B[43m(\u001B[49m\n\u001B[0;32m    308\u001B[0m \u001B[43m        \u001B[49m\u001B[43mtotal_timesteps\u001B[49m\u001B[38;5;241;43m=\u001B[39;49m\u001B[43mtotal_timesteps\u001B[49m\u001B[43m,\u001B[49m\n\u001B[0;32m    309\u001B[0m \u001B[43m        \u001B[49m\u001B[43mcallback\u001B[49m\u001B[38;5;241;43m=\u001B[39;49m\u001B[43mcallback\u001B[49m\u001B[43m,\u001B[49m\n\u001B[0;32m    310\u001B[0m \u001B[43m        \u001B[49m\u001B[43mlog_interval\u001B[49m\u001B[38;5;241;43m=\u001B[39;49m\u001B[43mlog_interval\u001B[49m\u001B[43m,\u001B[49m\n\u001B[0;32m    311\u001B[0m \u001B[43m        \u001B[49m\u001B[43mtb_log_name\u001B[49m\u001B[38;5;241;43m=\u001B[39;49m\u001B[43mtb_log_name\u001B[49m\u001B[43m,\u001B[49m\n\u001B[0;32m    312\u001B[0m \u001B[43m        \u001B[49m\u001B[43mreset_num_timesteps\u001B[49m\u001B[38;5;241;43m=\u001B[39;49m\u001B[43mreset_num_timesteps\u001B[49m\u001B[43m,\u001B[49m\n\u001B[0;32m    313\u001B[0m \u001B[43m        \u001B[49m\u001B[43mprogress_bar\u001B[49m\u001B[38;5;241;43m=\u001B[39;49m\u001B[43mprogress_bar\u001B[49m\u001B[43m,\u001B[49m\n\u001B[0;32m    314\u001B[0m \u001B[43m    \u001B[49m\u001B[43m)\u001B[49m\n",
      "File \u001B[1;32mC:\\Program Files\\Python311\\Lib\\site-packages\\stable_baselines3\\common\\off_policy_algorithm.py:347\u001B[0m, in \u001B[0;36mOffPolicyAlgorithm.learn\u001B[1;34m(self, total_timesteps, callback, log_interval, tb_log_name, reset_num_timesteps, progress_bar)\u001B[0m\n\u001B[0;32m    345\u001B[0m         \u001B[38;5;66;03m# Special case when the user passes `gradient_steps=0`\u001B[39;00m\n\u001B[0;32m    346\u001B[0m         \u001B[38;5;28;01mif\u001B[39;00m gradient_steps \u001B[38;5;241m>\u001B[39m \u001B[38;5;241m0\u001B[39m:\n\u001B[1;32m--> 347\u001B[0m             \u001B[38;5;28;43mself\u001B[39;49m\u001B[38;5;241;43m.\u001B[39;49m\u001B[43mtrain\u001B[49m\u001B[43m(\u001B[49m\u001B[43mbatch_size\u001B[49m\u001B[38;5;241;43m=\u001B[39;49m\u001B[38;5;28;43mself\u001B[39;49m\u001B[38;5;241;43m.\u001B[39;49m\u001B[43mbatch_size\u001B[49m\u001B[43m,\u001B[49m\u001B[43m \u001B[49m\u001B[43mgradient_steps\u001B[49m\u001B[38;5;241;43m=\u001B[39;49m\u001B[43mgradient_steps\u001B[49m\u001B[43m)\u001B[49m\n\u001B[0;32m    349\u001B[0m callback\u001B[38;5;241m.\u001B[39mon_training_end()\n\u001B[0;32m    351\u001B[0m \u001B[38;5;28;01mreturn\u001B[39;00m \u001B[38;5;28mself\u001B[39m\n",
      "File \u001B[1;32mC:\\Program Files\\Python311\\Lib\\site-packages\\stable_baselines3\\sac\\sac.py:215\u001B[0m, in \u001B[0;36mSAC.train\u001B[1;34m(self, gradient_steps, batch_size)\u001B[0m\n\u001B[0;32m    211\u001B[0m actor_losses, critic_losses \u001B[38;5;241m=\u001B[39m [], []\n\u001B[0;32m    213\u001B[0m \u001B[38;5;28;01mfor\u001B[39;00m gradient_step \u001B[38;5;129;01min\u001B[39;00m \u001B[38;5;28mrange\u001B[39m(gradient_steps):\n\u001B[0;32m    214\u001B[0m     \u001B[38;5;66;03m# Sample replay buffer\u001B[39;00m\n\u001B[1;32m--> 215\u001B[0m     replay_data \u001B[38;5;241m=\u001B[39m \u001B[38;5;28;43mself\u001B[39;49m\u001B[38;5;241;43m.\u001B[39;49m\u001B[43mreplay_buffer\u001B[49m\u001B[38;5;241;43m.\u001B[39;49m\u001B[43msample\u001B[49m\u001B[43m(\u001B[49m\u001B[43mbatch_size\u001B[49m\u001B[43m,\u001B[49m\u001B[43m \u001B[49m\u001B[43menv\u001B[49m\u001B[38;5;241;43m=\u001B[39;49m\u001B[38;5;28;43mself\u001B[39;49m\u001B[38;5;241;43m.\u001B[39;49m\u001B[43m_vec_normalize_env\u001B[49m\u001B[43m)\u001B[49m  \u001B[38;5;66;03m# type: ignore[union-attr]\u001B[39;00m\n\u001B[0;32m    217\u001B[0m     \u001B[38;5;66;03m# We need to sample because `log_std` may have changed between two gradient steps\u001B[39;00m\n\u001B[0;32m    218\u001B[0m     \u001B[38;5;28;01mif\u001B[39;00m \u001B[38;5;28mself\u001B[39m\u001B[38;5;241m.\u001B[39muse_sde:\n",
      "File \u001B[1;32mC:\\Program Files\\Python311\\Lib\\site-packages\\stable_baselines3\\common\\buffers.py:297\u001B[0m, in \u001B[0;36mReplayBuffer.sample\u001B[1;34m(self, batch_size, env)\u001B[0m\n\u001B[0;32m    285\u001B[0m \u001B[38;5;250m\u001B[39m\u001B[38;5;124;03m\"\"\"\u001B[39;00m\n\u001B[0;32m    286\u001B[0m \u001B[38;5;124;03mSample elements from the replay buffer.\u001B[39;00m\n\u001B[0;32m    287\u001B[0m \u001B[38;5;124;03mCustom sampling when using memory efficient variant,\u001B[39;00m\n\u001B[1;32m   (...)\u001B[0m\n\u001B[0;32m    294\u001B[0m \u001B[38;5;124;03m:return:\u001B[39;00m\n\u001B[0;32m    295\u001B[0m \u001B[38;5;124;03m\"\"\"\u001B[39;00m\n\u001B[0;32m    296\u001B[0m \u001B[38;5;28;01mif\u001B[39;00m \u001B[38;5;129;01mnot\u001B[39;00m \u001B[38;5;28mself\u001B[39m\u001B[38;5;241m.\u001B[39moptimize_memory_usage:\n\u001B[1;32m--> 297\u001B[0m     \u001B[38;5;28;01mreturn\u001B[39;00m \u001B[38;5;28;43msuper\u001B[39;49m\u001B[43m(\u001B[49m\u001B[43m)\u001B[49m\u001B[38;5;241;43m.\u001B[39;49m\u001B[43msample\u001B[49m\u001B[43m(\u001B[49m\u001B[43mbatch_size\u001B[49m\u001B[38;5;241;43m=\u001B[39;49m\u001B[43mbatch_size\u001B[49m\u001B[43m,\u001B[49m\u001B[43m \u001B[49m\u001B[43menv\u001B[49m\u001B[38;5;241;43m=\u001B[39;49m\u001B[43menv\u001B[49m\u001B[43m)\u001B[49m\n\u001B[0;32m    298\u001B[0m \u001B[38;5;66;03m# Do not sample the element with index `self.pos` as the transitions is invalid\u001B[39;00m\n\u001B[0;32m    299\u001B[0m \u001B[38;5;66;03m# (we use only one array to store `obs` and `next_obs`)\u001B[39;00m\n\u001B[0;32m    300\u001B[0m \u001B[38;5;28;01mif\u001B[39;00m \u001B[38;5;28mself\u001B[39m\u001B[38;5;241m.\u001B[39mfull:\n",
      "File \u001B[1;32mC:\\Program Files\\Python311\\Lib\\site-packages\\stable_baselines3\\common\\buffers.py:114\u001B[0m, in \u001B[0;36mBaseBuffer.sample\u001B[1;34m(self, batch_size, env)\u001B[0m\n\u001B[0;32m    112\u001B[0m upper_bound \u001B[38;5;241m=\u001B[39m \u001B[38;5;28mself\u001B[39m\u001B[38;5;241m.\u001B[39mbuffer_size \u001B[38;5;28;01mif\u001B[39;00m \u001B[38;5;28mself\u001B[39m\u001B[38;5;241m.\u001B[39mfull \u001B[38;5;28;01melse\u001B[39;00m \u001B[38;5;28mself\u001B[39m\u001B[38;5;241m.\u001B[39mpos\n\u001B[0;32m    113\u001B[0m batch_inds \u001B[38;5;241m=\u001B[39m np\u001B[38;5;241m.\u001B[39mrandom\u001B[38;5;241m.\u001B[39mrandint(\u001B[38;5;241m0\u001B[39m, upper_bound, size\u001B[38;5;241m=\u001B[39mbatch_size)\n\u001B[1;32m--> 114\u001B[0m \u001B[38;5;28;01mreturn\u001B[39;00m \u001B[38;5;28;43mself\u001B[39;49m\u001B[38;5;241;43m.\u001B[39;49m\u001B[43m_get_samples\u001B[49m\u001B[43m(\u001B[49m\u001B[43mbatch_inds\u001B[49m\u001B[43m,\u001B[49m\u001B[43m \u001B[49m\u001B[43menv\u001B[49m\u001B[38;5;241;43m=\u001B[39;49m\u001B[43menv\u001B[49m\u001B[43m)\u001B[49m\n",
      "File \u001B[1;32mC:\\Program Files\\Python311\\Lib\\site-packages\\stable_baselines3\\common\\buffers.py:324\u001B[0m, in \u001B[0;36mReplayBuffer._get_samples\u001B[1;34m(self, batch_inds, env)\u001B[0m\n\u001B[0;32m    313\u001B[0m     next_obs \u001B[38;5;241m=\u001B[39m \u001B[38;5;28mself\u001B[39m\u001B[38;5;241m.\u001B[39m_normalize_obs(\u001B[38;5;28mself\u001B[39m\u001B[38;5;241m.\u001B[39mnext_observations[batch_inds, env_indices, :], env)\n\u001B[0;32m    315\u001B[0m data \u001B[38;5;241m=\u001B[39m (\n\u001B[0;32m    316\u001B[0m     \u001B[38;5;28mself\u001B[39m\u001B[38;5;241m.\u001B[39m_normalize_obs(\u001B[38;5;28mself\u001B[39m\u001B[38;5;241m.\u001B[39mobservations[batch_inds, env_indices, :], env),\n\u001B[0;32m    317\u001B[0m     \u001B[38;5;28mself\u001B[39m\u001B[38;5;241m.\u001B[39mactions[batch_inds, env_indices, :],\n\u001B[1;32m   (...)\u001B[0m\n\u001B[0;32m    322\u001B[0m     \u001B[38;5;28mself\u001B[39m\u001B[38;5;241m.\u001B[39m_normalize_reward(\u001B[38;5;28mself\u001B[39m\u001B[38;5;241m.\u001B[39mrewards[batch_inds, env_indices]\u001B[38;5;241m.\u001B[39mreshape(\u001B[38;5;241m-\u001B[39m\u001B[38;5;241m1\u001B[39m, \u001B[38;5;241m1\u001B[39m), env),\n\u001B[0;32m    323\u001B[0m )\n\u001B[1;32m--> 324\u001B[0m \u001B[38;5;28;01mreturn\u001B[39;00m ReplayBufferSamples(\u001B[38;5;241m*\u001B[39m\u001B[38;5;28mtuple\u001B[39m(\u001B[38;5;28mmap\u001B[39m(\u001B[38;5;28mself\u001B[39m\u001B[38;5;241m.\u001B[39mto_torch, data)))\n",
      "File \u001B[1;32mC:\\Program Files\\Python311\\Lib\\site-packages\\stable_baselines3\\common\\buffers.py:138\u001B[0m, in \u001B[0;36mBaseBuffer.to_torch\u001B[1;34m(self, array, copy)\u001B[0m\n\u001B[0;32m    128\u001B[0m \u001B[38;5;250m\u001B[39m\u001B[38;5;124;03m\"\"\"\u001B[39;00m\n\u001B[0;32m    129\u001B[0m \u001B[38;5;124;03mConvert a numpy array to a PyTorch tensor.\u001B[39;00m\n\u001B[0;32m    130\u001B[0m \u001B[38;5;124;03mNote: it copies the data by default\u001B[39;00m\n\u001B[1;32m   (...)\u001B[0m\n\u001B[0;32m    135\u001B[0m \u001B[38;5;124;03m:return:\u001B[39;00m\n\u001B[0;32m    136\u001B[0m \u001B[38;5;124;03m\"\"\"\u001B[39;00m\n\u001B[0;32m    137\u001B[0m \u001B[38;5;28;01mif\u001B[39;00m copy:\n\u001B[1;32m--> 138\u001B[0m     \u001B[38;5;28;01mreturn\u001B[39;00m \u001B[43mth\u001B[49m\u001B[38;5;241;43m.\u001B[39;49m\u001B[43mtensor\u001B[49m\u001B[43m(\u001B[49m\u001B[43marray\u001B[49m\u001B[43m,\u001B[49m\u001B[43m \u001B[49m\u001B[43mdevice\u001B[49m\u001B[38;5;241;43m=\u001B[39;49m\u001B[38;5;28;43mself\u001B[39;49m\u001B[38;5;241;43m.\u001B[39;49m\u001B[43mdevice\u001B[49m\u001B[43m)\u001B[49m\n\u001B[0;32m    139\u001B[0m \u001B[38;5;28;01mreturn\u001B[39;00m th\u001B[38;5;241m.\u001B[39mas_tensor(array, device\u001B[38;5;241m=\u001B[39m\u001B[38;5;28mself\u001B[39m\u001B[38;5;241m.\u001B[39mdevice)\n",
      "\u001B[1;31mKeyboardInterrupt\u001B[0m: "
     ]
    }
   ],
   "source": [
    "import gymnasium as gym\n",
    "\n",
    "from stable_baselines3 import SAC\n",
    "from stable_baselines3.common.env_util import make_vec_env\n",
    "\n",
    "env = make_vec_env(\"HalfCheetah-v4\", n_envs=16)\n",
    "\n",
    "model = SAC(\"MlpPolicy\", env, verbose=1)\n",
    "model.learn(total_timesteps=1_000_000, log_interval=16)\n"
   ],
   "metadata": {
    "collapsed": false,
    "ExecuteTime": {
     "end_time": "2024-09-19T20:58:27.453938Z",
     "start_time": "2024-09-19T20:56:02.241170Z"
    }
   },
   "id": "27ae4b4f45e36c7a",
   "execution_count": 5
  },
  {
   "cell_type": "code",
   "outputs": [],
   "source": [],
   "metadata": {
    "collapsed": false,
    "ExecuteTime": {
     "end_time": "2024-09-19T20:48:22.222918Z",
     "start_time": "2024-09-19T20:48:22.220574Z"
    }
   },
   "id": "1a7bb0665ce56856",
   "execution_count": 10
  },
  {
   "cell_type": "code",
   "outputs": [],
   "source": [],
   "metadata": {
    "collapsed": false,
    "ExecuteTime": {
     "end_time": "2024-09-19T20:48:22.362410Z",
     "start_time": "2024-09-19T20:48:22.359479Z"
    }
   },
   "id": "2ff8fb4d21c41efb",
   "execution_count": 10
  },
  {
   "cell_type": "code",
   "outputs": [],
   "source": [],
   "metadata": {
    "collapsed": false,
    "ExecuteTime": {
     "end_time": "2024-09-19T20:48:22.505564Z",
     "start_time": "2024-09-19T20:48:22.503298Z"
    }
   },
   "id": "dfaaa46edea2080",
   "execution_count": 10
  },
  {
   "cell_type": "code",
   "outputs": [],
   "source": [],
   "metadata": {
    "collapsed": false
   },
   "id": "470d58512eefc938"
  }
 ],
 "metadata": {
  "kernelspec": {
   "display_name": "Python 3",
   "language": "python",
   "name": "python3"
  },
  "language_info": {
   "codemirror_mode": {
    "name": "ipython",
    "version": 2
   },
   "file_extension": ".py",
   "mimetype": "text/x-python",
   "name": "python",
   "nbconvert_exporter": "python",
   "pygments_lexer": "ipython2",
   "version": "2.7.6"
  }
 },
 "nbformat": 4,
 "nbformat_minor": 5
}
