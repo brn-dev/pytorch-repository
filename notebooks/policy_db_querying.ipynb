{
 "cells": [
  {
   "cell_type": "code",
   "id": "initial_id",
   "metadata": {
    "collapsed": true,
    "ExecuteTime": {
     "end_time": "2024-06-02T01:51:14.260292Z",
     "start_time": "2024-06-02T01:51:14.256760Z"
    }
   },
   "source": [
    "from typing import Any\n",
    "\n",
    "from src.model_db.tiny_model_db import TinyModelDB\n",
    "\n",
    "import numpy as np\n",
    "import networkx as nx\n",
    "import matplotlib.pyplot as plt\n",
    "\n",
    "from src.reinforcement_learning.algorithms.policy_mitosis.mitosis_policy_info import MitosisPolicyInfo\n",
    "from src.model_db.model_db import ModelEntry\n",
    "from src.trees import Forest\n"
   ],
   "execution_count": 9,
   "outputs": []
  },
  {
   "metadata": {
    "ExecuteTime": {
     "end_time": "2024-06-02T01:51:14.346582Z",
     "start_time": "2024-06-02T01:51:14.310305Z"
    }
   },
   "cell_type": "code",
   "source": [
    "with TinyModelDB(base_path=f'E:/saved_models/rl/MultiAgentCartPole/6/mitosis-2024-05-28_20.00.00', readonly=True) as policy_db:\n",
    "    policy_entries_sorted: list[ModelEntry[MitosisPolicyInfo]] = list(sorted(policy_db.all_entries(), key=lambda p: p['model_info']['score'], reverse=True))"
   ],
   "id": "ae6b4e5768389f1f",
   "execution_count": 10,
   "outputs": []
  },
  {
   "metadata": {
    "ExecuteTime": {
     "end_time": "2024-06-02T01:51:14.352362Z",
     "start_time": "2024-06-02T01:51:14.347583Z"
    }
   },
   "cell_type": "code",
   "source": [
    "\n",
    "\n",
    "policy_info_forest = Forest(\n",
    "    [pe[\"model_info\"] for pe in policy_entries_sorted], \n",
    "    get_id=lambda pi: pi['policy_id'], \n",
    "    get_parent_id=lambda pi: pi['parent_policy_id']\n",
    ")\n",
    "\n",
    "for policy_entry in policy_entries_sorted:\n",
    "    print(f\"id = {policy_entry['model_id']}, \"\n",
    "          f\"score = {policy_entry['model_info']['score']:6.4f}, \"\n",
    "          f\"parent_id = {str(policy_entry['parent_model_id'])}, \"\n",
    "          f\"disc_num_desc = {policy_info_forest.compute_num_descendants(policy_entry['model_id'], discount_factor=0.5)}\"\n",
    "    )"
   ],
   "id": "f33b204618f4c34b",
   "execution_count": 11,
   "outputs": []
  },
  {
   "cell_type": "code",
   "source": [
    "from src.np_functions import softmax\n",
    "steps_trained = np.array([policy_entry['model_info']['steps_trained'] for policy_entry in policy_entries_sorted])\n",
    "steps_trained = steps_trained / steps_trained.mean()\n",
    "softmax(-steps_trained, temperature=1.0)"
   ],
   "metadata": {
    "collapsed": false,
    "ExecuteTime": {
     "end_time": "2024-06-02T01:51:14.367225Z",
     "start_time": "2024-06-02T01:51:14.362366Z"
    }
   },
   "id": "296e371dcd3e82b0",
   "execution_count": 12,
   "outputs": []
  },
  {
   "cell_type": "code",
   "source": [
    "G = nx.DiGraph()\n",
    "\n",
    "G.add_nodes_from(\n",
    "    (policy_entry['model_id'], {\n",
    "        'score': policy_entry['model_info']['score'], \n",
    "        'steps_trained': policy_entry['model_info']['steps_trained'],\n",
    "        'env_steps_trained': policy_entry['model_info'].get('env_steps_trained', None)\n",
    "    })\n",
    "     for policy_entry \n",
    "     in policy_entries_sorted\n",
    "     )\n",
    "\n",
    "pos: dict[str, tuple[int, float]] = {}\n",
    "for policy_entry in policy_entries_sorted:\n",
    "    model_id = policy_entry['model_id']\n",
    "    parent_id = policy_entry['parent_model_id']\n",
    "    if parent_id is not None:\n",
    "        G.add_edge(parent_id, model_id)\n",
    "    \n",
    "    model_info = policy_entry['model_info']\n",
    "    pos[model_id] = (model_info['steps_trained'], model_info['score'])\n",
    "\n",
    "\n",
    "def set_color_recursively(node_id: str, c: Any):\n",
    "    colors[node_id] = c\n",
    "    for neighbor_id in G.neighbors(node_id):\n",
    "        c = np.clip(c + np.random.normal(loc=0, scale=0.1, size=3), 0, 1)\n",
    "        set_color_recursively(neighbor_id, c)\n",
    "    \n",
    "\n",
    "colors: dict[str, np.ndarray] = {}\n",
    "for root_id in (node for node, in_degree in G.in_degree() if in_degree == 0):\n",
    "    color = list(np.random.random(3))\n",
    "    set_color_recursively(root_id, color)\n",
    "\n",
    "node_color = [colors[node_id] for node_id in G]\n",
    "\n",
    "scores = nx.get_node_attributes(G, 'score')\n",
    "steps_trained = nx.get_node_attributes(G, 'steps_trained')\n",
    "env_steps_trained = nx.get_node_attributes(G, 'env_steps_trained')\n",
    "labels: dict[str, str] = {}\n",
    "for node_id, score in scores.items():\n",
    "    labels[node_id] = f'{node_id}\\n{steps_trained[node_id]}\\n{env_steps_trained[node_id]}\\n{score:.2f}'\n",
    "\n",
    "fig, ax = plt.subplots(1, 1, figsize=(30, 15))\n",
    "nx.draw(G, pos, with_labels=True, labels=labels, node_color=node_color, ax=ax)\n"
   ],
   "metadata": {
    "collapsed": false,
    "ExecuteTime": {
     "end_time": "2024-06-02T01:51:15.284483Z",
     "start_time": "2024-06-02T01:51:14.401235Z"
    }
   },
   "id": "eac1c795fabc87ae",
   "execution_count": 13,
   "outputs": []
  },
  {
   "cell_type": "code",
   "source": [
    "\n",
    "\n",
    "\n"
   ],
   "metadata": {
    "collapsed": false,
    "ExecuteTime": {
     "end_time": "2024-06-01T20:25:26.458948Z",
     "start_time": "2024-06-01T20:25:26.446545Z"
    }
   },
   "id": "49a7fe3b9c8a3133",
   "execution_count": 56,
   "outputs": []
  },
  {
   "cell_type": "code",
   "source": [],
   "metadata": {
    "collapsed": false
   },
   "id": "e70f17a7040efb7",
   "execution_count": null,
   "outputs": []
  },
  {
   "cell_type": "code",
   "source": [],
   "metadata": {
    "collapsed": false
   },
   "id": "caf0b5b3f482aabb",
   "execution_count": null,
   "outputs": []
  },
  {
   "cell_type": "code",
   "source": [],
   "metadata": {
    "collapsed": false
   },
   "id": "d9d5fa8139a7889",
   "execution_count": null,
   "outputs": []
  },
  {
   "metadata": {
    "ExecuteTime": {
     "end_time": "2024-05-30T16:28:00.838969Z",
     "start_time": "2024-05-30T16:28:00.693335Z"
    }
   },
   "cell_type": "code",
   "source": [
    "model_id = '2024-04-30_22.08.06'\n",
    "\n",
    "def print_dict(d: dict):\n",
    "    for key, value in d.items():\n",
    "        if isinstance(value, dict):\n",
    "            print(f\"↓↓↓  {key:^15}  ↓↓↓\")\n",
    "            print_dict(value)\n",
    "            print(f\"↑↑↑  {key:^15}  ↑↑↑\\n\\n\")\n",
    "        else:\n",
    "            print(f\"======  {key:^15}  ======\\n{value}\\n\")\n",
    "\n",
    "print_dict(policy_db.fetch_entry(model_id))"
   ],
   "id": "2d08446d9a9c0756",
   "execution_count": 24,
   "outputs": []
  },
  {
   "metadata": {
    "ExecuteTime": {
     "end_time": "2024-04-30T20:17:38.247461Z",
     "start_time": "2024-04-30T20:17:38.245155Z"
    }
   },
   "cell_type": "code",
   "source": [],
   "id": "c801d61624b27bcf",
   "execution_count": 12,
   "outputs": []
  },
  {
   "metadata": {
    "ExecuteTime": {
     "end_time": "2024-04-30T07:39:00.173021Z",
     "start_time": "2024-04-30T07:39:00.072045Z"
    }
   },
   "cell_type": "code",
   "source": [
    "policy_db.delete_entry('2024-04-30_09.24.10', delete_state_dict=True)"
   ],
   "id": "2e40f03dd974dd08",
   "execution_count": 3,
   "outputs": []
  },
  {
   "metadata": {
    "ExecuteTime": {
     "end_time": "2024-05-17T23:55:02.473997Z",
     "start_time": "2024-05-17T23:55:02.469269Z"
    }
   },
   "cell_type": "code",
   "execution_count": 29,
   "source": [
    "from src.np_functions import softmax\n",
    "from typing import Iterable\n",
    "\n",
    "\n",
    "def select_policy_selection_probs(policy_infos: Iterable[MitosisPolicyInfo]) -> np.ndarray:\n",
    "    scores = np.array([policy_info['score'] for policy_info in policy_infos])\n",
    "    scores = scores / scores.mean()\n",
    "    scores = softmax(scores, temperature=0.9 / len(scores)**0.75)\n",
    "    return scores\n",
    "\n",
    "for a, b in zip([pe['model_info']['score'] for pe in policy_entries_sorted], select_policy_selection_probs([pe['model_info'] for pe in policy_entries_sorted])):\n",
    "    print(f'{a:10.6f} | {b:10.6f}')"
   ],
   "id": "42e5e3547522c041",
   "outputs": []
  },
  {
   "cell_type": "code",
   "source": [
    "\n",
    "from tinydb import Query\n",
    "\n",
    "# with TinyModelDB[MitosisPolicyInfo](base_path=f'E:/saved_models/rl/MultiAgentCartPole/6/mitosis-2024-05-28_20.00.00') as policy_db:\n",
    "#     with TinyModelDB[MitosisPolicyInfo](base_path=f'E:/saved_models/rl/MultiAgentCartPole/6/mitosis-2024-05-28_20.00.00.backup_2024-06-01') as other_policy_db:\n",
    "#         policy_db.copy_from(other_policy_db, entry_filter=lambda entry: entry['model_info']['score'] < 0.1)"
   ],
   "metadata": {
    "collapsed": false,
    "ExecuteTime": {
     "end_time": "2024-06-01T17:31:05.039129Z",
     "start_time": "2024-06-01T17:31:04.372588Z"
    }
   },
   "id": "51c8e6a0355241b0",
   "execution_count": 46,
   "outputs": []
  },
  {
   "cell_type": "code",
   "source": [
    "from tinydb import Query\n",
    "\n",
    "# with TinyModelDB[MitosisPolicyInfo](base_path=f'E:/saved_models/rl/MultiAgentCartPole/6/mitosis-2024-05-28_20.00.00') as policy_db:\n",
    "#     policy_db.delete_entries(entry_filter=lambda entry: entry['model_info']['steps_trained'] < 300_000, delete_state_dict=True)"
   ],
   "metadata": {
    "collapsed": false,
    "ExecuteTime": {
     "end_time": "2024-06-01T23:08:47.356456Z",
     "start_time": "2024-06-01T23:08:47.087616Z"
    }
   },
   "id": "946dcf8528209d19",
   "execution_count": 3,
   "outputs": []
  },
  {
   "cell_type": "code",
   "source": [],
   "metadata": {
    "collapsed": false
   },
   "id": "c81b9b5f97316204",
   "execution_count": null,
   "outputs": []
  }
 ],
 "metadata": {
  "kernelspec": {
   "display_name": "Python 3",
   "language": "python",
   "name": "python3"
  },
  "language_info": {
   "codemirror_mode": {
    "name": "ipython",
    "version": 2
   },
   "file_extension": ".py",
   "mimetype": "text/x-python",
   "name": "python",
   "nbconvert_exporter": "python",
   "pygments_lexer": "ipython2",
   "version": "2.7.6"
  }
 },
 "nbformat": 4,
 "nbformat_minor": 5
}
